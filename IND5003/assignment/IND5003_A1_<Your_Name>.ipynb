{
 "cells": [
  {
   "cell_type": "markdown",
   "metadata": {
    "tags": []
   },
   "source": [
    "# Instructions\n",
    "\n",
    "1. This assignment is worth 5% of the final grade.\n",
    "2. Insert cells (code or markdown, as appropriate) below each question and fill in your answers there.\n",
    "2. You are required to work on this individually. Any form of plagiarism will result in 0.\n",
    "3. Please submit your notebook file (name it ``IND5003_A1_<Your_Name>.ipynb``) through Canvas before **17th Sep 2023 23:59hrs**."
   ]
  },
  {
   "cell_type": "markdown",
   "metadata": {},
   "source": [
    "Contents:  \n",
    "[Question 1 preprocessing](#Question-1)    \n",
    "&emsp;&emsp;[Question 1 part 1 EDA](#Question-1-part-1-EDA)  \n",
    "&emsp;&emsp;[Question 1 part 1 Ans](#Question-1-part-1-Ans)   \n",
    "&emsp;&emsp;[Question 1 part 2 preprocess](#Question-1-part-2-preprocess)   \n",
    "&emsp;&emsp;[Question 1 part 2 Ans](#Question-1-part-2-Ans)   \n",
    "[Question 2](#Question-2)    "
   ]
  },
  {
   "cell_type": "markdown",
   "metadata": {},
   "source": [
    "# Question 1\n",
    "\n",
    "The file `resale_flat_prices.csv` contains resale flat prices in Singapore from January 2017 onwards. The file `town_type_region.xlsx` contains the classification of each town as *mature* or *non-mature* and each town's geographical region (*north*, *north-east*, *east*, *west*, or *central*). Use these two files to answer the following questions:\n",
    "\n",
    "1. In the period January 2022 to June 2022, was the mean resale price **per square metre per year of remaining lease** of 4 ROOM flats the same for all geographical regions?\n",
    "2. In the period July 2022 to December 2022, was there any difference in the distribution of geographical regions for each resale flat type? (Please **omit** 1 ROOM and MULTI-GENERATION flats from this analysis.)\n",
    "\n",
    "It is up to you to choose the appropriate hypothesis test, and to perform the five steps for each question."
   ]
  },
  {
   "cell_type": "code",
   "execution_count": 35,
   "metadata": {
    "tags": []
   },
   "outputs": [],
   "source": [
    "# Import the necessary libraries\n",
    "import pandas as pd\n",
    "import numpy as np\n",
    "import matplotlib.pyplot as plt\n",
    "import seaborn as sns\n",
    "from myscripts import inference\n",
    "from sklearn import preprocessing\n",
    "from scipy import stats"
   ]
  },
  {
   "cell_type": "code",
   "execution_count": 2,
   "metadata": {
    "tags": []
   },
   "outputs": [],
   "source": [
    "# Import the data required\n",
    "resale_prices_df = pd.read_csv('../data/resale_flat_prices.csv')\n",
    "town_type_df = pd.read_excel('../data/town_type_region.xlsx')"
   ]
  },
  {
   "cell_type": "code",
   "execution_count": 3,
   "metadata": {},
   "outputs": [
    {
     "data": {
      "text/html": [
       "<div>\n",
       "<style scoped>\n",
       "    .dataframe tbody tr th:only-of-type {\n",
       "        vertical-align: middle;\n",
       "    }\n",
       "\n",
       "    .dataframe tbody tr th {\n",
       "        vertical-align: top;\n",
       "    }\n",
       "\n",
       "    .dataframe thead th {\n",
       "        text-align: right;\n",
       "    }\n",
       "</style>\n",
       "<table border=\"1\" class=\"dataframe\">\n",
       "  <thead>\n",
       "    <tr style=\"text-align: right;\">\n",
       "      <th></th>\n",
       "      <th>month</th>\n",
       "      <th>town</th>\n",
       "      <th>flat_type</th>\n",
       "      <th>block</th>\n",
       "      <th>street_name</th>\n",
       "      <th>storey_range</th>\n",
       "      <th>floor_area_sqm</th>\n",
       "      <th>flat_model</th>\n",
       "      <th>lease_commence_date</th>\n",
       "      <th>remaining_lease</th>\n",
       "      <th>resale_price</th>\n",
       "    </tr>\n",
       "  </thead>\n",
       "  <tbody>\n",
       "    <tr>\n",
       "      <th>0</th>\n",
       "      <td>2017-01</td>\n",
       "      <td>ANG MO KIO</td>\n",
       "      <td>2 ROOM</td>\n",
       "      <td>406</td>\n",
       "      <td>ANG MO KIO AVE 10</td>\n",
       "      <td>10 TO 12</td>\n",
       "      <td>44.0</td>\n",
       "      <td>Improved</td>\n",
       "      <td>1979</td>\n",
       "      <td>61 years 04 months</td>\n",
       "      <td>232000.0</td>\n",
       "    </tr>\n",
       "    <tr>\n",
       "      <th>1</th>\n",
       "      <td>2017-01</td>\n",
       "      <td>ANG MO KIO</td>\n",
       "      <td>3 ROOM</td>\n",
       "      <td>108</td>\n",
       "      <td>ANG MO KIO AVE 4</td>\n",
       "      <td>01 TO 03</td>\n",
       "      <td>67.0</td>\n",
       "      <td>New Generation</td>\n",
       "      <td>1978</td>\n",
       "      <td>60 years 07 months</td>\n",
       "      <td>250000.0</td>\n",
       "    </tr>\n",
       "    <tr>\n",
       "      <th>2</th>\n",
       "      <td>2017-01</td>\n",
       "      <td>ANG MO KIO</td>\n",
       "      <td>3 ROOM</td>\n",
       "      <td>602</td>\n",
       "      <td>ANG MO KIO AVE 5</td>\n",
       "      <td>01 TO 03</td>\n",
       "      <td>67.0</td>\n",
       "      <td>New Generation</td>\n",
       "      <td>1980</td>\n",
       "      <td>62 years 05 months</td>\n",
       "      <td>262000.0</td>\n",
       "    </tr>\n",
       "    <tr>\n",
       "      <th>3</th>\n",
       "      <td>2017-01</td>\n",
       "      <td>ANG MO KIO</td>\n",
       "      <td>3 ROOM</td>\n",
       "      <td>465</td>\n",
       "      <td>ANG MO KIO AVE 10</td>\n",
       "      <td>04 TO 06</td>\n",
       "      <td>68.0</td>\n",
       "      <td>New Generation</td>\n",
       "      <td>1980</td>\n",
       "      <td>62 years 01 month</td>\n",
       "      <td>265000.0</td>\n",
       "    </tr>\n",
       "    <tr>\n",
       "      <th>4</th>\n",
       "      <td>2017-01</td>\n",
       "      <td>ANG MO KIO</td>\n",
       "      <td>3 ROOM</td>\n",
       "      <td>601</td>\n",
       "      <td>ANG MO KIO AVE 5</td>\n",
       "      <td>01 TO 03</td>\n",
       "      <td>67.0</td>\n",
       "      <td>New Generation</td>\n",
       "      <td>1980</td>\n",
       "      <td>62 years 05 months</td>\n",
       "      <td>265000.0</td>\n",
       "    </tr>\n",
       "  </tbody>\n",
       "</table>\n",
       "</div>"
      ],
      "text/plain": [
       "     month        town flat_type block        street_name storey_range  \\\n",
       "0  2017-01  ANG MO KIO    2 ROOM   406  ANG MO KIO AVE 10     10 TO 12   \n",
       "1  2017-01  ANG MO KIO    3 ROOM   108   ANG MO KIO AVE 4     01 TO 03   \n",
       "2  2017-01  ANG MO KIO    3 ROOM   602   ANG MO KIO AVE 5     01 TO 03   \n",
       "3  2017-01  ANG MO KIO    3 ROOM   465  ANG MO KIO AVE 10     04 TO 06   \n",
       "4  2017-01  ANG MO KIO    3 ROOM   601   ANG MO KIO AVE 5     01 TO 03   \n",
       "\n",
       "   floor_area_sqm      flat_model  lease_commence_date     remaining_lease  \\\n",
       "0            44.0        Improved                 1979  61 years 04 months   \n",
       "1            67.0  New Generation                 1978  60 years 07 months   \n",
       "2            67.0  New Generation                 1980  62 years 05 months   \n",
       "3            68.0  New Generation                 1980   62 years 01 month   \n",
       "4            67.0  New Generation                 1980  62 years 05 months   \n",
       "\n",
       "   resale_price  \n",
       "0      232000.0  \n",
       "1      250000.0  \n",
       "2      262000.0  \n",
       "3      265000.0  \n",
       "4      265000.0  "
      ]
     },
     "metadata": {},
     "output_type": "display_data"
    },
    {
     "data": {
      "text/html": [
       "<div>\n",
       "<style scoped>\n",
       "    .dataframe tbody tr th:only-of-type {\n",
       "        vertical-align: middle;\n",
       "    }\n",
       "\n",
       "    .dataframe tbody tr th {\n",
       "        vertical-align: top;\n",
       "    }\n",
       "\n",
       "    .dataframe thead th {\n",
       "        text-align: right;\n",
       "    }\n",
       "</style>\n",
       "<table border=\"1\" class=\"dataframe\">\n",
       "  <thead>\n",
       "    <tr style=\"text-align: right;\">\n",
       "      <th></th>\n",
       "      <th>town</th>\n",
       "      <th>type</th>\n",
       "      <th>region</th>\n",
       "    </tr>\n",
       "  </thead>\n",
       "  <tbody>\n",
       "    <tr>\n",
       "      <th>0</th>\n",
       "      <td>BUKIT BATOK</td>\n",
       "      <td>non-mature</td>\n",
       "      <td>west</td>\n",
       "    </tr>\n",
       "    <tr>\n",
       "      <th>1</th>\n",
       "      <td>BUKIT PANJANG</td>\n",
       "      <td>non-mature</td>\n",
       "      <td>west</td>\n",
       "    </tr>\n",
       "    <tr>\n",
       "      <th>2</th>\n",
       "      <td>CHOA CHU KANG</td>\n",
       "      <td>non-mature</td>\n",
       "      <td>west</td>\n",
       "    </tr>\n",
       "    <tr>\n",
       "      <th>3</th>\n",
       "      <td>HOUGANG</td>\n",
       "      <td>non-mature</td>\n",
       "      <td>north-east</td>\n",
       "    </tr>\n",
       "    <tr>\n",
       "      <th>4</th>\n",
       "      <td>JURONG EAST</td>\n",
       "      <td>non-mature</td>\n",
       "      <td>west</td>\n",
       "    </tr>\n",
       "  </tbody>\n",
       "</table>\n",
       "</div>"
      ],
      "text/plain": [
       "            town        type      region\n",
       "0    BUKIT BATOK  non-mature        west\n",
       "1  BUKIT PANJANG  non-mature        west\n",
       "2  CHOA CHU KANG  non-mature        west\n",
       "3        HOUGANG  non-mature  north-east\n",
       "4    JURONG EAST  non-mature        west"
      ]
     },
     "metadata": {},
     "output_type": "display_data"
    }
   ],
   "source": [
    "# Print the first few lines of the data to take a look at it\n",
    "display(resale_prices_df.head())\n",
    "display(town_type_df.head())"
   ]
  },
  {
   "cell_type": "code",
   "execution_count": 4,
   "metadata": {},
   "outputs": [
    {
     "name": "stdout",
     "output_type": "stream",
     "text": [
      "<class 'pandas.core.frame.DataFrame'>\n",
      "RangeIndex: 27 entries, 0 to 26\n",
      "Data columns (total 3 columns):\n",
      " #   Column  Non-Null Count  Dtype \n",
      "---  ------  --------------  ----- \n",
      " 0   town    27 non-null     object\n",
      " 1   type    27 non-null     object\n",
      " 2   region  27 non-null     object\n",
      "dtypes: object(3)\n",
      "memory usage: 780.0+ bytes\n"
     ]
    },
    {
     "data": {
      "text/plain": [
       "None"
      ]
     },
     "metadata": {},
     "output_type": "display_data"
    },
    {
     "name": "stdout",
     "output_type": "stream",
     "text": [
      "<class 'pandas.core.frame.DataFrame'>\n",
      "RangeIndex: 160564 entries, 0 to 160563\n",
      "Data columns (total 11 columns):\n",
      " #   Column               Non-Null Count   Dtype  \n",
      "---  ------               --------------   -----  \n",
      " 0   month                160564 non-null  object \n",
      " 1   town                 160564 non-null  object \n",
      " 2   flat_type            160564 non-null  object \n",
      " 3   block                160564 non-null  object \n",
      " 4   street_name          160564 non-null  object \n",
      " 5   storey_range         160564 non-null  object \n",
      " 6   floor_area_sqm       160564 non-null  float64\n",
      " 7   flat_model           160564 non-null  object \n",
      " 8   lease_commence_date  160564 non-null  int64  \n",
      " 9   remaining_lease      160564 non-null  object \n",
      " 10  resale_price         160564 non-null  float64\n",
      "dtypes: float64(2), int64(1), object(8)\n",
      "memory usage: 13.5+ MB\n"
     ]
    },
    {
     "data": {
      "text/plain": [
       "None"
      ]
     },
     "metadata": {},
     "output_type": "display_data"
    }
   ],
   "source": [
    "# Check what is the size of the data\n",
    "display(town_type_df.info())\n",
    "display(resale_prices_df.info())"
   ]
  },
  {
   "cell_type": "markdown",
   "metadata": {},
   "source": [
    "The 2 datasets are different in size.  \n",
    "The resale price dataset have town.  \n",
    "The town type can be used to map the town type in resale price dataset.     "
   ]
  },
  {
   "cell_type": "code",
   "execution_count": 5,
   "metadata": {
    "tags": []
   },
   "outputs": [
    {
     "data": {
      "text/plain": [
       "{'BUKIT BATOK': ['non-mature', 'west'],\n",
       " 'BUKIT PANJANG': ['non-mature', 'west'],\n",
       " 'CHOA CHU KANG': ['non-mature', 'west'],\n",
       " 'HOUGANG': ['non-mature', 'north-east'],\n",
       " 'JURONG EAST': ['non-mature', 'west'],\n",
       " 'JURONG WEST': ['non-mature', 'west'],\n",
       " 'PUNGGOL': ['non-mature', 'north-east'],\n",
       " 'SEMBAWANG': ['non-mature', 'north'],\n",
       " 'SENGKANG': ['non-mature', 'north-east'],\n",
       " 'TENGAH': ['non-mature', 'west'],\n",
       " 'WOODLANDS': ['non-mature', 'north'],\n",
       " 'YISHUN': ['non-mature', 'north'],\n",
       " 'ANG MO KIO': ['mature', 'north-east'],\n",
       " 'BEDOK': ['mature', 'east'],\n",
       " 'BISHAN': ['mature', 'central'],\n",
       " 'BUKIT MERAH': ['mature', 'central'],\n",
       " 'BUKIT TIMAH': ['mature', 'central'],\n",
       " 'CENTRAL AREA': ['mature', 'central'],\n",
       " 'CLEMENTI': ['mature', 'west'],\n",
       " 'GEYLANG': ['mature', 'central'],\n",
       " 'KALLANG/WHAMPOA': ['mature', 'central'],\n",
       " 'MARINE PARADE': ['mature', 'central'],\n",
       " 'PASIR RIS': ['mature', 'east'],\n",
       " 'QUEENSTOWN': ['mature', 'central'],\n",
       " 'SERANGOON': ['mature', 'north-east'],\n",
       " 'TAMPINES': ['mature', 'east'],\n",
       " 'TOA PAYOH': ['mature', 'central']}"
      ]
     },
     "execution_count": 5,
     "metadata": {},
     "output_type": "execute_result"
    }
   ],
   "source": [
    "# Create town mapper dictionary\n",
    "town_type_mapper_dict={}\n",
    "for idx, town in enumerate(town_type_df[\"town\"]):\n",
    "    town_type_mapper_dict[town] = [str(town_type_df.iloc[idx, 1]), str(town_type_df.iloc[idx, 2])]\n",
    "town_type_mapper_dict"
   ]
  },
  {
   "cell_type": "code",
   "execution_count": 6,
   "metadata": {
    "tags": []
   },
   "outputs": [
    {
     "data": {
      "text/plain": [
       "array(['ANG MO KIO', 'BEDOK', 'BISHAN', 'BUKIT BATOK', 'BUKIT MERAH',\n",
       "       'BUKIT PANJANG', 'BUKIT TIMAH', 'CENTRAL AREA', 'CHOA CHU KANG',\n",
       "       'CLEMENTI', 'GEYLANG', 'HOUGANG', 'JURONG EAST', 'JURONG WEST',\n",
       "       'KALLANG/WHAMPOA', 'MARINE PARADE', 'PASIR RIS', 'PUNGGOL',\n",
       "       'QUEENSTOWN', 'SEMBAWANG', 'SENGKANG', 'SERANGOON', 'TAMPINES',\n",
       "       'TOA PAYOH', 'WOODLANDS', 'YISHUN'], dtype=object)"
      ]
     },
     "metadata": {},
     "output_type": "display_data"
    },
    {
     "data": {
      "text/plain": [
       "26"
      ]
     },
     "metadata": {},
     "output_type": "display_data"
    }
   ],
   "source": [
    "# Check what is the resale flat dataset\n",
    "display(resale_prices_df[\"town\"].unique())\n",
    "display(len(resale_prices_df[\"town\"].unique()))"
   ]
  },
  {
   "cell_type": "markdown",
   "metadata": {},
   "source": [
    "It can be seen that the entry of town is matched.  \n",
    "A mapper can be used to add column to the resale price df based on the \"town\" column.  "
   ]
  },
  {
   "cell_type": "code",
   "execution_count": 7,
   "metadata": {
    "tags": []
   },
   "outputs": [
    {
     "data": {
      "text/html": [
       "<div>\n",
       "<style scoped>\n",
       "    .dataframe tbody tr th:only-of-type {\n",
       "        vertical-align: middle;\n",
       "    }\n",
       "\n",
       "    .dataframe tbody tr th {\n",
       "        vertical-align: top;\n",
       "    }\n",
       "\n",
       "    .dataframe thead th {\n",
       "        text-align: right;\n",
       "    }\n",
       "</style>\n",
       "<table border=\"1\" class=\"dataframe\">\n",
       "  <thead>\n",
       "    <tr style=\"text-align: right;\">\n",
       "      <th></th>\n",
       "      <th>month</th>\n",
       "      <th>town</th>\n",
       "      <th>flat_type</th>\n",
       "      <th>block</th>\n",
       "      <th>street_name</th>\n",
       "      <th>storey_range</th>\n",
       "      <th>floor_area_sqm</th>\n",
       "      <th>flat_model</th>\n",
       "      <th>lease_commence_date</th>\n",
       "      <th>remaining_lease</th>\n",
       "      <th>resale_price</th>\n",
       "      <th>type</th>\n",
       "      <th>region</th>\n",
       "    </tr>\n",
       "  </thead>\n",
       "  <tbody>\n",
       "    <tr>\n",
       "      <th>0</th>\n",
       "      <td>2017-01</td>\n",
       "      <td>ANG MO KIO</td>\n",
       "      <td>2 ROOM</td>\n",
       "      <td>406</td>\n",
       "      <td>ANG MO KIO AVE 10</td>\n",
       "      <td>10 TO 12</td>\n",
       "      <td>44.0</td>\n",
       "      <td>Improved</td>\n",
       "      <td>1979</td>\n",
       "      <td>61 years 04 months</td>\n",
       "      <td>232000.0</td>\n",
       "      <td>mature</td>\n",
       "      <td>north-east</td>\n",
       "    </tr>\n",
       "    <tr>\n",
       "      <th>1</th>\n",
       "      <td>2017-01</td>\n",
       "      <td>ANG MO KIO</td>\n",
       "      <td>3 ROOM</td>\n",
       "      <td>108</td>\n",
       "      <td>ANG MO KIO AVE 4</td>\n",
       "      <td>01 TO 03</td>\n",
       "      <td>67.0</td>\n",
       "      <td>New Generation</td>\n",
       "      <td>1978</td>\n",
       "      <td>60 years 07 months</td>\n",
       "      <td>250000.0</td>\n",
       "      <td>mature</td>\n",
       "      <td>north-east</td>\n",
       "    </tr>\n",
       "    <tr>\n",
       "      <th>2</th>\n",
       "      <td>2017-01</td>\n",
       "      <td>ANG MO KIO</td>\n",
       "      <td>3 ROOM</td>\n",
       "      <td>602</td>\n",
       "      <td>ANG MO KIO AVE 5</td>\n",
       "      <td>01 TO 03</td>\n",
       "      <td>67.0</td>\n",
       "      <td>New Generation</td>\n",
       "      <td>1980</td>\n",
       "      <td>62 years 05 months</td>\n",
       "      <td>262000.0</td>\n",
       "      <td>mature</td>\n",
       "      <td>north-east</td>\n",
       "    </tr>\n",
       "    <tr>\n",
       "      <th>3</th>\n",
       "      <td>2017-01</td>\n",
       "      <td>ANG MO KIO</td>\n",
       "      <td>3 ROOM</td>\n",
       "      <td>465</td>\n",
       "      <td>ANG MO KIO AVE 10</td>\n",
       "      <td>04 TO 06</td>\n",
       "      <td>68.0</td>\n",
       "      <td>New Generation</td>\n",
       "      <td>1980</td>\n",
       "      <td>62 years 01 month</td>\n",
       "      <td>265000.0</td>\n",
       "      <td>mature</td>\n",
       "      <td>north-east</td>\n",
       "    </tr>\n",
       "    <tr>\n",
       "      <th>4</th>\n",
       "      <td>2017-01</td>\n",
       "      <td>ANG MO KIO</td>\n",
       "      <td>3 ROOM</td>\n",
       "      <td>601</td>\n",
       "      <td>ANG MO KIO AVE 5</td>\n",
       "      <td>01 TO 03</td>\n",
       "      <td>67.0</td>\n",
       "      <td>New Generation</td>\n",
       "      <td>1980</td>\n",
       "      <td>62 years 05 months</td>\n",
       "      <td>265000.0</td>\n",
       "      <td>mature</td>\n",
       "      <td>north-east</td>\n",
       "    </tr>\n",
       "  </tbody>\n",
       "</table>\n",
       "</div>"
      ],
      "text/plain": [
       "     month        town flat_type block        street_name storey_range  \\\n",
       "0  2017-01  ANG MO KIO    2 ROOM   406  ANG MO KIO AVE 10     10 TO 12   \n",
       "1  2017-01  ANG MO KIO    3 ROOM   108   ANG MO KIO AVE 4     01 TO 03   \n",
       "2  2017-01  ANG MO KIO    3 ROOM   602   ANG MO KIO AVE 5     01 TO 03   \n",
       "3  2017-01  ANG MO KIO    3 ROOM   465  ANG MO KIO AVE 10     04 TO 06   \n",
       "4  2017-01  ANG MO KIO    3 ROOM   601   ANG MO KIO AVE 5     01 TO 03   \n",
       "\n",
       "   floor_area_sqm      flat_model  lease_commence_date     remaining_lease  \\\n",
       "0            44.0        Improved                 1979  61 years 04 months   \n",
       "1            67.0  New Generation                 1978  60 years 07 months   \n",
       "2            67.0  New Generation                 1980  62 years 05 months   \n",
       "3            68.0  New Generation                 1980   62 years 01 month   \n",
       "4            67.0  New Generation                 1980  62 years 05 months   \n",
       "\n",
       "   resale_price    type      region  \n",
       "0      232000.0  mature  north-east  \n",
       "1      250000.0  mature  north-east  \n",
       "2      262000.0  mature  north-east  \n",
       "3      265000.0  mature  north-east  \n",
       "4      265000.0  mature  north-east  "
      ]
     },
     "execution_count": 7,
     "metadata": {},
     "output_type": "execute_result"
    }
   ],
   "source": [
    "# Function to map town to type and region\n",
    "def map_town(row):\n",
    "    '''This function add type and region to the original df row-wise\n",
    "    '''\n",
    "    town = row[\"town\"]\n",
    "    if town in town_type_mapper_dict:\n",
    "        row[\"type\"], row[\"region\"] = town_type_mapper_dict[town]\n",
    "    return row\n",
    "\n",
    "# Apply the mapping function to the DataFrame\n",
    "resale_prices_df = resale_prices_df.apply(map_town, axis=1)\n",
    "\n",
    "resale_prices_df.head()"
   ]
  },
  {
   "cell_type": "code",
   "execution_count": 8,
   "metadata": {
    "tags": []
   },
   "outputs": [
    {
     "data": {
      "text/html": [
       "<div>\n",
       "<style scoped>\n",
       "    .dataframe tbody tr th:only-of-type {\n",
       "        vertical-align: middle;\n",
       "    }\n",
       "\n",
       "    .dataframe tbody tr th {\n",
       "        vertical-align: top;\n",
       "    }\n",
       "\n",
       "    .dataframe thead th {\n",
       "        text-align: right;\n",
       "    }\n",
       "</style>\n",
       "<table border=\"1\" class=\"dataframe\">\n",
       "  <thead>\n",
       "    <tr style=\"text-align: right;\">\n",
       "      <th></th>\n",
       "      <th>month</th>\n",
       "      <th>town</th>\n",
       "      <th>flat_type</th>\n",
       "      <th>block</th>\n",
       "      <th>street_name</th>\n",
       "      <th>storey_range</th>\n",
       "      <th>floor_area_sqm</th>\n",
       "      <th>flat_model</th>\n",
       "      <th>lease_commence_date</th>\n",
       "      <th>remaining_lease</th>\n",
       "      <th>resale_price</th>\n",
       "      <th>type</th>\n",
       "      <th>region</th>\n",
       "    </tr>\n",
       "  </thead>\n",
       "  <tbody>\n",
       "    <tr>\n",
       "      <th>116724</th>\n",
       "      <td>2022-01</td>\n",
       "      <td>ANG MO KIO</td>\n",
       "      <td>4 ROOM</td>\n",
       "      <td>438</td>\n",
       "      <td>ANG MO KIO AVE 10</td>\n",
       "      <td>10 TO 12</td>\n",
       "      <td>92.0</td>\n",
       "      <td>New Generation</td>\n",
       "      <td>1979</td>\n",
       "      <td>56 years 01 month</td>\n",
       "      <td>488000.0</td>\n",
       "      <td>mature</td>\n",
       "      <td>north-east</td>\n",
       "    </tr>\n",
       "    <tr>\n",
       "      <th>116725</th>\n",
       "      <td>2022-01</td>\n",
       "      <td>ANG MO KIO</td>\n",
       "      <td>4 ROOM</td>\n",
       "      <td>556</td>\n",
       "      <td>ANG MO KIO AVE 10</td>\n",
       "      <td>13 TO 15</td>\n",
       "      <td>92.0</td>\n",
       "      <td>New Generation</td>\n",
       "      <td>1980</td>\n",
       "      <td>57 years 01 month</td>\n",
       "      <td>452888.0</td>\n",
       "      <td>mature</td>\n",
       "      <td>north-east</td>\n",
       "    </tr>\n",
       "    <tr>\n",
       "      <th>116726</th>\n",
       "      <td>2022-01</td>\n",
       "      <td>ANG MO KIO</td>\n",
       "      <td>4 ROOM</td>\n",
       "      <td>419</td>\n",
       "      <td>ANG MO KIO AVE 10</td>\n",
       "      <td>07 TO 09</td>\n",
       "      <td>99.0</td>\n",
       "      <td>New Generation</td>\n",
       "      <td>1979</td>\n",
       "      <td>56 years 08 months</td>\n",
       "      <td>460000.0</td>\n",
       "      <td>mature</td>\n",
       "      <td>north-east</td>\n",
       "    </tr>\n",
       "    <tr>\n",
       "      <th>116727</th>\n",
       "      <td>2022-01</td>\n",
       "      <td>ANG MO KIO</td>\n",
       "      <td>4 ROOM</td>\n",
       "      <td>466</td>\n",
       "      <td>ANG MO KIO AVE 10</td>\n",
       "      <td>04 TO 06</td>\n",
       "      <td>93.0</td>\n",
       "      <td>New Generation</td>\n",
       "      <td>1984</td>\n",
       "      <td>61 years 09 months</td>\n",
       "      <td>448000.0</td>\n",
       "      <td>mature</td>\n",
       "      <td>north-east</td>\n",
       "    </tr>\n",
       "    <tr>\n",
       "      <th>116728</th>\n",
       "      <td>2022-01</td>\n",
       "      <td>ANG MO KIO</td>\n",
       "      <td>4 ROOM</td>\n",
       "      <td>472</td>\n",
       "      <td>ANG MO KIO AVE 10</td>\n",
       "      <td>01 TO 03</td>\n",
       "      <td>92.0</td>\n",
       "      <td>New Generation</td>\n",
       "      <td>1979</td>\n",
       "      <td>56 years 07 months</td>\n",
       "      <td>419000.0</td>\n",
       "      <td>mature</td>\n",
       "      <td>north-east</td>\n",
       "    </tr>\n",
       "  </tbody>\n",
       "</table>\n",
       "</div>"
      ],
      "text/plain": [
       "          month        town flat_type block        street_name storey_range  \\\n",
       "116724  2022-01  ANG MO KIO    4 ROOM   438  ANG MO KIO AVE 10     10 TO 12   \n",
       "116725  2022-01  ANG MO KIO    4 ROOM   556  ANG MO KIO AVE 10     13 TO 15   \n",
       "116726  2022-01  ANG MO KIO    4 ROOM   419  ANG MO KIO AVE 10     07 TO 09   \n",
       "116727  2022-01  ANG MO KIO    4 ROOM   466  ANG MO KIO AVE 10     04 TO 06   \n",
       "116728  2022-01  ANG MO KIO    4 ROOM   472  ANG MO KIO AVE 10     01 TO 03   \n",
       "\n",
       "        floor_area_sqm      flat_model  lease_commence_date  \\\n",
       "116724            92.0  New Generation                 1979   \n",
       "116725            92.0  New Generation                 1980   \n",
       "116726            99.0  New Generation                 1979   \n",
       "116727            93.0  New Generation                 1984   \n",
       "116728            92.0  New Generation                 1979   \n",
       "\n",
       "           remaining_lease  resale_price    type      region  \n",
       "116724   56 years 01 month      488000.0  mature  north-east  \n",
       "116725   57 years 01 month      452888.0  mature  north-east  \n",
       "116726  56 years 08 months      460000.0  mature  north-east  \n",
       "116727  61 years 09 months      448000.0  mature  north-east  \n",
       "116728  56 years 07 months      419000.0  mature  north-east  "
      ]
     },
     "execution_count": 8,
     "metadata": {},
     "output_type": "execute_result"
    }
   ],
   "source": [
    "# Filter the dates to make a smaller subset\n",
    "# Create a boolean mask to filter the date range\n",
    "\n",
    "# Convert filter to datetime format\n",
    "start_date = pd.to_datetime(\"2022-01\")\n",
    "end_date = pd.to_datetime(\"2022-06\")\n",
    "# Conditions\n",
    "later_than_start = (pd.to_datetime(resale_prices_df['month']) >= start_date)\n",
    "ealier_than_end = (pd.to_datetime(resale_prices_df['month']) <= end_date)\n",
    "is_4_rm = (resale_prices_df['flat_type']=='4 ROOM')\n",
    "# Create mask\n",
    "mask = (later_than_start & ealier_than_end & is_4_rm)\n",
    "\n",
    "# Apply the mask to filter the DataFrame\n",
    "resale_june_df = resale_prices_df[mask].copy(deep=True)\n",
    "resale_june_df.head()"
   ]
  },
  {
   "cell_type": "code",
   "execution_count": 9,
   "metadata": {
    "tags": []
   },
   "outputs": [
    {
     "data": {
      "text/plain": [
       "(5587, 13)"
      ]
     },
     "execution_count": 9,
     "metadata": {},
     "output_type": "execute_result"
    }
   ],
   "source": [
    "# Look at how large the remaining dataset is\n",
    "resale_june_df.shape"
   ]
  },
  {
   "cell_type": "markdown",
   "metadata": {},
   "source": [
    "### Question 1 part 1 EDA"
   ]
  },
  {
   "cell_type": "markdown",
   "metadata": {},
   "source": [
    "The dataset is now complete and ready for analysis.  \n",
    "Time to proceed onto part 1.\n",
    "* Q1.1. In the period January 2022 to June 2022, was the mean resale price per square metre per year of remaining lease of 4 ROOM flats the same for all geographical regions?   \n",
    "------\n",
    "Steps before answeering the question:  \n",
    "*Step 1*: Find the resale price per square meter per year for the 5587 flats  \n",
    "*Step 2*: Group these flats by geographical locations  \n",
    "*Step 3*: Compare the mean of these locations and provide graphical displays   "
   ]
  },
  {
   "cell_type": "markdown",
   "metadata": {},
   "source": [
    "Step 1.1: Find the remaining lease in years  \n",
    "There are 3 types of formats in the column.  \n",
    "xx years xx month  \n",
    "xx years xx months  \n",
    "xx years   \n",
    "Extract the full years, if month or months are available, extract them too.   \n",
    "Use .split() method on string and then convert the numerical value to float."
   ]
  },
  {
   "cell_type": "code",
   "execution_count": 10,
   "metadata": {
    "tags": []
   },
   "outputs": [
    {
     "data": {
      "text/html": [
       "<div>\n",
       "<style scoped>\n",
       "    .dataframe tbody tr th:only-of-type {\n",
       "        vertical-align: middle;\n",
       "    }\n",
       "\n",
       "    .dataframe tbody tr th {\n",
       "        vertical-align: top;\n",
       "    }\n",
       "\n",
       "    .dataframe thead th {\n",
       "        text-align: right;\n",
       "    }\n",
       "</style>\n",
       "<table border=\"1\" class=\"dataframe\">\n",
       "  <thead>\n",
       "    <tr style=\"text-align: right;\">\n",
       "      <th></th>\n",
       "      <th>month</th>\n",
       "      <th>town</th>\n",
       "      <th>flat_type</th>\n",
       "      <th>block</th>\n",
       "      <th>street_name</th>\n",
       "      <th>storey_range</th>\n",
       "      <th>floor_area_sqm</th>\n",
       "      <th>flat_model</th>\n",
       "      <th>lease_commence_date</th>\n",
       "      <th>remaining_lease</th>\n",
       "      <th>resale_price</th>\n",
       "      <th>type</th>\n",
       "      <th>region</th>\n",
       "      <th>years_left</th>\n",
       "    </tr>\n",
       "  </thead>\n",
       "  <tbody>\n",
       "    <tr>\n",
       "      <th>116724</th>\n",
       "      <td>2022-01</td>\n",
       "      <td>ANG MO KIO</td>\n",
       "      <td>4 ROOM</td>\n",
       "      <td>438</td>\n",
       "      <td>ANG MO KIO AVE 10</td>\n",
       "      <td>10 TO 12</td>\n",
       "      <td>92.0</td>\n",
       "      <td>New Generation</td>\n",
       "      <td>1979</td>\n",
       "      <td>56 years 01 month</td>\n",
       "      <td>488000.0</td>\n",
       "      <td>mature</td>\n",
       "      <td>north-east</td>\n",
       "      <td>56.083333</td>\n",
       "    </tr>\n",
       "    <tr>\n",
       "      <th>116725</th>\n",
       "      <td>2022-01</td>\n",
       "      <td>ANG MO KIO</td>\n",
       "      <td>4 ROOM</td>\n",
       "      <td>556</td>\n",
       "      <td>ANG MO KIO AVE 10</td>\n",
       "      <td>13 TO 15</td>\n",
       "      <td>92.0</td>\n",
       "      <td>New Generation</td>\n",
       "      <td>1980</td>\n",
       "      <td>57 years 01 month</td>\n",
       "      <td>452888.0</td>\n",
       "      <td>mature</td>\n",
       "      <td>north-east</td>\n",
       "      <td>57.083333</td>\n",
       "    </tr>\n",
       "    <tr>\n",
       "      <th>116726</th>\n",
       "      <td>2022-01</td>\n",
       "      <td>ANG MO KIO</td>\n",
       "      <td>4 ROOM</td>\n",
       "      <td>419</td>\n",
       "      <td>ANG MO KIO AVE 10</td>\n",
       "      <td>07 TO 09</td>\n",
       "      <td>99.0</td>\n",
       "      <td>New Generation</td>\n",
       "      <td>1979</td>\n",
       "      <td>56 years 08 months</td>\n",
       "      <td>460000.0</td>\n",
       "      <td>mature</td>\n",
       "      <td>north-east</td>\n",
       "      <td>56.666667</td>\n",
       "    </tr>\n",
       "    <tr>\n",
       "      <th>116727</th>\n",
       "      <td>2022-01</td>\n",
       "      <td>ANG MO KIO</td>\n",
       "      <td>4 ROOM</td>\n",
       "      <td>466</td>\n",
       "      <td>ANG MO KIO AVE 10</td>\n",
       "      <td>04 TO 06</td>\n",
       "      <td>93.0</td>\n",
       "      <td>New Generation</td>\n",
       "      <td>1984</td>\n",
       "      <td>61 years 09 months</td>\n",
       "      <td>448000.0</td>\n",
       "      <td>mature</td>\n",
       "      <td>north-east</td>\n",
       "      <td>61.750000</td>\n",
       "    </tr>\n",
       "    <tr>\n",
       "      <th>116728</th>\n",
       "      <td>2022-01</td>\n",
       "      <td>ANG MO KIO</td>\n",
       "      <td>4 ROOM</td>\n",
       "      <td>472</td>\n",
       "      <td>ANG MO KIO AVE 10</td>\n",
       "      <td>01 TO 03</td>\n",
       "      <td>92.0</td>\n",
       "      <td>New Generation</td>\n",
       "      <td>1979</td>\n",
       "      <td>56 years 07 months</td>\n",
       "      <td>419000.0</td>\n",
       "      <td>mature</td>\n",
       "      <td>north-east</td>\n",
       "      <td>56.583333</td>\n",
       "    </tr>\n",
       "  </tbody>\n",
       "</table>\n",
       "</div>"
      ],
      "text/plain": [
       "          month        town flat_type block        street_name storey_range  \\\n",
       "116724  2022-01  ANG MO KIO    4 ROOM   438  ANG MO KIO AVE 10     10 TO 12   \n",
       "116725  2022-01  ANG MO KIO    4 ROOM   556  ANG MO KIO AVE 10     13 TO 15   \n",
       "116726  2022-01  ANG MO KIO    4 ROOM   419  ANG MO KIO AVE 10     07 TO 09   \n",
       "116727  2022-01  ANG MO KIO    4 ROOM   466  ANG MO KIO AVE 10     04 TO 06   \n",
       "116728  2022-01  ANG MO KIO    4 ROOM   472  ANG MO KIO AVE 10     01 TO 03   \n",
       "\n",
       "        floor_area_sqm      flat_model  lease_commence_date  \\\n",
       "116724            92.0  New Generation                 1979   \n",
       "116725            92.0  New Generation                 1980   \n",
       "116726            99.0  New Generation                 1979   \n",
       "116727            93.0  New Generation                 1984   \n",
       "116728            92.0  New Generation                 1979   \n",
       "\n",
       "           remaining_lease  resale_price    type      region  years_left  \n",
       "116724   56 years 01 month      488000.0  mature  north-east   56.083333  \n",
       "116725   57 years 01 month      452888.0  mature  north-east   57.083333  \n",
       "116726  56 years 08 months      460000.0  mature  north-east   56.666667  \n",
       "116727  61 years 09 months      448000.0  mature  north-east   61.750000  \n",
       "116728  56 years 07 months      419000.0  mature  north-east   56.583333  "
      ]
     },
     "execution_count": 10,
     "metadata": {},
     "output_type": "execute_result"
    }
   ],
   "source": [
    "# Function to extract years as a float\n",
    "def extract_years(years_str):\n",
    "    '''This function extract out the year from years\n",
    "    and extract out month from month and months if available\n",
    "    '''\n",
    "    # Split the string by whitespace\n",
    "    parts = years_str.split()\n",
    "    \n",
    "    # Initialize years and months\n",
    "    years = 0.0\n",
    "    months = 0.0\n",
    "    \n",
    "    # Convert the first part to years\n",
    "    if len(parts) >= 2:\n",
    "        years = float(parts[0])\n",
    "    \n",
    "    # Convert the second part to months if it exists\n",
    "    if len(parts) >= 4:\n",
    "        months = float(parts[2])\n",
    "    \n",
    "    # Calculate the total years including fractional years for months\n",
    "    total_years = years + (months / 12.0)\n",
    "    \n",
    "    return total_years\n",
    "\n",
    "# Apply the function to the \"years_left\" column\n",
    "resale_june_df[\"years_left\"] = resale_june_df[\"remaining_lease\"].apply(extract_years)\n",
    "\n",
    "# Display the DataFrame with the calculated \"years_left_numeric\" column\n",
    "resale_june_df.head()\n"
   ]
  },
  {
   "cell_type": "code",
   "execution_count": 11,
   "metadata": {
    "tags": []
   },
   "outputs": [],
   "source": [
    "# Define a function\n",
    "def price_per_sqm_per_yr_left(row):\n",
    "    '''This function calculte the resale price \n",
    "    per square meter per year of lease left for a row\n",
    "    '''\n",
    "    row[\"price_p_sqm_p_yr\"] = row[\"resale_price\"] / row[\"floor_area_sqm\"] / row[\"years_left\"]\n",
    "    return row\n",
    "# Apply the mapping function to the DataFrame\n",
    "resale_june_df = resale_june_df.apply(price_per_sqm_per_yr_left, axis=1)"
   ]
  },
  {
   "cell_type": "code",
   "execution_count": 12,
   "metadata": {
    "tags": []
   },
   "outputs": [
    {
     "data": {
      "text/html": [
       "<div>\n",
       "<style scoped>\n",
       "    .dataframe tbody tr th:only-of-type {\n",
       "        vertical-align: middle;\n",
       "    }\n",
       "\n",
       "    .dataframe tbody tr th {\n",
       "        vertical-align: top;\n",
       "    }\n",
       "\n",
       "    .dataframe thead th {\n",
       "        text-align: right;\n",
       "    }\n",
       "</style>\n",
       "<table border=\"1\" class=\"dataframe\">\n",
       "  <thead>\n",
       "    <tr style=\"text-align: right;\">\n",
       "      <th></th>\n",
       "      <th>month</th>\n",
       "      <th>town</th>\n",
       "      <th>flat_type</th>\n",
       "      <th>block</th>\n",
       "      <th>street_name</th>\n",
       "      <th>storey_range</th>\n",
       "      <th>floor_area_sqm</th>\n",
       "      <th>flat_model</th>\n",
       "      <th>lease_commence_date</th>\n",
       "      <th>remaining_lease</th>\n",
       "      <th>resale_price</th>\n",
       "      <th>type</th>\n",
       "      <th>region</th>\n",
       "      <th>years_left</th>\n",
       "      <th>price_p_sqm_p_yr</th>\n",
       "    </tr>\n",
       "  </thead>\n",
       "  <tbody>\n",
       "    <tr>\n",
       "      <th>116724</th>\n",
       "      <td>2022-01</td>\n",
       "      <td>ANG MO KIO</td>\n",
       "      <td>4 ROOM</td>\n",
       "      <td>438</td>\n",
       "      <td>ANG MO KIO AVE 10</td>\n",
       "      <td>10 TO 12</td>\n",
       "      <td>92.0</td>\n",
       "      <td>New Generation</td>\n",
       "      <td>1979</td>\n",
       "      <td>56 years 01 month</td>\n",
       "      <td>488000.0</td>\n",
       "      <td>mature</td>\n",
       "      <td>north-east</td>\n",
       "      <td>56.083333</td>\n",
       "      <td>94.579753</td>\n",
       "    </tr>\n",
       "    <tr>\n",
       "      <th>116725</th>\n",
       "      <td>2022-01</td>\n",
       "      <td>ANG MO KIO</td>\n",
       "      <td>4 ROOM</td>\n",
       "      <td>556</td>\n",
       "      <td>ANG MO KIO AVE 10</td>\n",
       "      <td>13 TO 15</td>\n",
       "      <td>92.0</td>\n",
       "      <td>New Generation</td>\n",
       "      <td>1980</td>\n",
       "      <td>57 years 01 month</td>\n",
       "      <td>452888.0</td>\n",
       "      <td>mature</td>\n",
       "      <td>north-east</td>\n",
       "      <td>57.083333</td>\n",
       "      <td>86.237004</td>\n",
       "    </tr>\n",
       "    <tr>\n",
       "      <th>116726</th>\n",
       "      <td>2022-01</td>\n",
       "      <td>ANG MO KIO</td>\n",
       "      <td>4 ROOM</td>\n",
       "      <td>419</td>\n",
       "      <td>ANG MO KIO AVE 10</td>\n",
       "      <td>07 TO 09</td>\n",
       "      <td>99.0</td>\n",
       "      <td>New Generation</td>\n",
       "      <td>1979</td>\n",
       "      <td>56 years 08 months</td>\n",
       "      <td>460000.0</td>\n",
       "      <td>mature</td>\n",
       "      <td>north-east</td>\n",
       "      <td>56.666667</td>\n",
       "      <td>81.996435</td>\n",
       "    </tr>\n",
       "    <tr>\n",
       "      <th>116727</th>\n",
       "      <td>2022-01</td>\n",
       "      <td>ANG MO KIO</td>\n",
       "      <td>4 ROOM</td>\n",
       "      <td>466</td>\n",
       "      <td>ANG MO KIO AVE 10</td>\n",
       "      <td>04 TO 06</td>\n",
       "      <td>93.0</td>\n",
       "      <td>New Generation</td>\n",
       "      <td>1984</td>\n",
       "      <td>61 years 09 months</td>\n",
       "      <td>448000.0</td>\n",
       "      <td>mature</td>\n",
       "      <td>north-east</td>\n",
       "      <td>61.750000</td>\n",
       "      <td>78.011406</td>\n",
       "    </tr>\n",
       "    <tr>\n",
       "      <th>116728</th>\n",
       "      <td>2022-01</td>\n",
       "      <td>ANG MO KIO</td>\n",
       "      <td>4 ROOM</td>\n",
       "      <td>472</td>\n",
       "      <td>ANG MO KIO AVE 10</td>\n",
       "      <td>01 TO 03</td>\n",
       "      <td>92.0</td>\n",
       "      <td>New Generation</td>\n",
       "      <td>1979</td>\n",
       "      <td>56 years 07 months</td>\n",
       "      <td>419000.0</td>\n",
       "      <td>mature</td>\n",
       "      <td>north-east</td>\n",
       "      <td>56.583333</td>\n",
       "      <td>80.489210</td>\n",
       "    </tr>\n",
       "  </tbody>\n",
       "</table>\n",
       "</div>"
      ],
      "text/plain": [
       "          month        town flat_type block        street_name storey_range  \\\n",
       "116724  2022-01  ANG MO KIO    4 ROOM   438  ANG MO KIO AVE 10     10 TO 12   \n",
       "116725  2022-01  ANG MO KIO    4 ROOM   556  ANG MO KIO AVE 10     13 TO 15   \n",
       "116726  2022-01  ANG MO KIO    4 ROOM   419  ANG MO KIO AVE 10     07 TO 09   \n",
       "116727  2022-01  ANG MO KIO    4 ROOM   466  ANG MO KIO AVE 10     04 TO 06   \n",
       "116728  2022-01  ANG MO KIO    4 ROOM   472  ANG MO KIO AVE 10     01 TO 03   \n",
       "\n",
       "        floor_area_sqm      flat_model  lease_commence_date  \\\n",
       "116724            92.0  New Generation                 1979   \n",
       "116725            92.0  New Generation                 1980   \n",
       "116726            99.0  New Generation                 1979   \n",
       "116727            93.0  New Generation                 1984   \n",
       "116728            92.0  New Generation                 1979   \n",
       "\n",
       "           remaining_lease  resale_price    type      region  years_left  \\\n",
       "116724   56 years 01 month      488000.0  mature  north-east   56.083333   \n",
       "116725   57 years 01 month      452888.0  mature  north-east   57.083333   \n",
       "116726  56 years 08 months      460000.0  mature  north-east   56.666667   \n",
       "116727  61 years 09 months      448000.0  mature  north-east   61.750000   \n",
       "116728  56 years 07 months      419000.0  mature  north-east   56.583333   \n",
       "\n",
       "        price_p_sqm_p_yr  \n",
       "116724         94.579753  \n",
       "116725         86.237004  \n",
       "116726         81.996435  \n",
       "116727         78.011406  \n",
       "116728         80.489210  "
      ]
     },
     "execution_count": 12,
     "metadata": {},
     "output_type": "execute_result"
    }
   ],
   "source": [
    "# Examine the result\n",
    "resale_june_df.head()"
   ]
  },
  {
   "cell_type": "code",
   "execution_count": 13,
   "metadata": {
    "tags": []
   },
   "outputs": [
    {
     "data": {
      "text/html": [
       "<div>\n",
       "<style scoped>\n",
       "    .dataframe tbody tr th:only-of-type {\n",
       "        vertical-align: middle;\n",
       "    }\n",
       "\n",
       "    .dataframe tbody tr th {\n",
       "        vertical-align: top;\n",
       "    }\n",
       "\n",
       "    .dataframe thead th {\n",
       "        text-align: right;\n",
       "    }\n",
       "</style>\n",
       "<table border=\"1\" class=\"dataframe\">\n",
       "  <thead>\n",
       "    <tr style=\"text-align: right;\">\n",
       "      <th></th>\n",
       "      <th>floor_area_sqm</th>\n",
       "      <th>lease_commence_date</th>\n",
       "      <th>resale_price</th>\n",
       "      <th>years_left</th>\n",
       "      <th>price_p_sqm_p_yr</th>\n",
       "    </tr>\n",
       "    <tr>\n",
       "      <th>region</th>\n",
       "      <th></th>\n",
       "      <th></th>\n",
       "      <th></th>\n",
       "      <th></th>\n",
       "      <th></th>\n",
       "    </tr>\n",
       "  </thead>\n",
       "  <tbody>\n",
       "    <tr>\n",
       "      <th>central</th>\n",
       "      <td>92.835616</td>\n",
       "      <td>1998.524462</td>\n",
       "      <td>697475.331585</td>\n",
       "      <td>75.827870</td>\n",
       "      <td>99.374415</td>\n",
       "    </tr>\n",
       "    <tr>\n",
       "      <th>east</th>\n",
       "      <td>97.951253</td>\n",
       "      <td>1992.440111</td>\n",
       "      <td>512002.892758</td>\n",
       "      <td>69.791783</td>\n",
       "      <td>75.905445</td>\n",
       "    </tr>\n",
       "    <tr>\n",
       "      <th>north</th>\n",
       "      <td>94.680214</td>\n",
       "      <td>2000.610695</td>\n",
       "      <td>460684.142118</td>\n",
       "      <td>77.902228</td>\n",
       "      <td>63.376665</td>\n",
       "    </tr>\n",
       "    <tr>\n",
       "      <th>north-east</th>\n",
       "      <td>93.463863</td>\n",
       "      <td>2005.951422</td>\n",
       "      <td>527832.780806</td>\n",
       "      <td>83.261898</td>\n",
       "      <td>68.809559</td>\n",
       "    </tr>\n",
       "    <tr>\n",
       "      <th>west</th>\n",
       "      <td>96.255719</td>\n",
       "      <td>2000.812092</td>\n",
       "      <td>499709.852778</td>\n",
       "      <td>78.141408</td>\n",
       "      <td>67.380671</td>\n",
       "    </tr>\n",
       "  </tbody>\n",
       "</table>\n",
       "</div>"
      ],
      "text/plain": [
       "            floor_area_sqm  lease_commence_date   resale_price  years_left  \\\n",
       "region                                                                       \n",
       "central          92.835616          1998.524462  697475.331585   75.827870   \n",
       "east             97.951253          1992.440111  512002.892758   69.791783   \n",
       "north            94.680214          2000.610695  460684.142118   77.902228   \n",
       "north-east       93.463863          2005.951422  527832.780806   83.261898   \n",
       "west             96.255719          2000.812092  499709.852778   78.141408   \n",
       "\n",
       "            price_p_sqm_p_yr  \n",
       "region                        \n",
       "central            99.374415  \n",
       "east               75.905445  \n",
       "north              63.376665  \n",
       "north-east         68.809559  \n",
       "west               67.380671  "
      ]
     },
     "execution_count": 13,
     "metadata": {},
     "output_type": "execute_result"
    }
   ],
   "source": [
    "region_mean = resale_june_df.groupby(\"region\").mean(numeric_only=True)\n",
    "region_mean"
   ]
  },
  {
   "cell_type": "code",
   "execution_count": 14,
   "metadata": {},
   "outputs": [
    {
     "data": {
      "image/png": "[encoded data removed]",
      "text/plain": [
       "<Figure size 640x480 with 1 Axes>"
      ]
     },
     "metadata": {},
     "output_type": "display_data"
    }
   ],
   "source": [
    "plt.bar(x=region_mean.index, height=region_mean['price_p_sqm_p_yr'])\n",
    "plt.title(\"Mean price per sqaure meter per years of lease remaining for 5 regions\")\n",
    "plt.xlabel(\"Regions\")\n",
    "plt.ylabel(\"<price/ sqm/ yrs>\")\n",
    "plt.show()"
   ]
  },
  {
   "cell_type": "markdown",
   "metadata": {
    "jp-MarkdownHeadingCollapsed": true,
    "tags": []
   },
   "source": [
    "From the above table, we can clearly see that the price per sqm per year remaining is different for different regions.  \n",
    "The central region is the most expensive, and the price difference is large, having a $25 gap with the next expensive region, east.  \n",
    "The north region is the least expensive, but is similar in price as compared to three other regions, west and north-west.  "
   ]
  },
  {
   "cell_type": "markdown",
   "metadata": {},
   "source": [
    "### Question 1 part 1 Ans"
   ]
  },
  {
   "cell_type": "markdown",
   "metadata": {},
   "source": [
    "*Step 1*: Check assumptions.   \n",
    "The assumptions of ANOVA test are:\n",
    "  * The observations from each group are from a Normal distribution.\n",
    "  * The variance within each group is the same.\n",
    "  * The data are independent (within each group and between the groups).  \n"
   ]
  },
  {
   "cell_type": "code",
   "execution_count": 15,
   "metadata": {
    "tags": []
   },
   "outputs": [
    {
     "data": {
      "text/html": [
       "<div>\n",
       "<style scoped>\n",
       "    .dataframe tbody tr th:only-of-type {\n",
       "        vertical-align: middle;\n",
       "    }\n",
       "\n",
       "    .dataframe tbody tr th {\n",
       "        vertical-align: top;\n",
       "    }\n",
       "\n",
       "    .dataframe thead th {\n",
       "        text-align: right;\n",
       "    }\n",
       "</style>\n",
       "<table border=\"1\" class=\"dataframe\">\n",
       "  <thead>\n",
       "    <tr style=\"text-align: right;\">\n",
       "      <th></th>\n",
       "      <th>count</th>\n",
       "      <th>mean</th>\n",
       "      <th>std</th>\n",
       "      <th>min</th>\n",
       "      <th>25%</th>\n",
       "      <th>50%</th>\n",
       "      <th>75%</th>\n",
       "      <th>max</th>\n",
       "    </tr>\n",
       "    <tr>\n",
       "      <th>region</th>\n",
       "      <th></th>\n",
       "      <th></th>\n",
       "      <th></th>\n",
       "      <th></th>\n",
       "      <th></th>\n",
       "      <th></th>\n",
       "      <th></th>\n",
       "      <th></th>\n",
       "    </tr>\n",
       "  </thead>\n",
       "  <tbody>\n",
       "    <tr>\n",
       "      <th>central</th>\n",
       "      <td>1022.0</td>\n",
       "      <td>99.374415</td>\n",
       "      <td>13.420201</td>\n",
       "      <td>62.385464</td>\n",
       "      <td>90.631526</td>\n",
       "      <td>99.488348</td>\n",
       "      <td>107.086370</td>\n",
       "      <td>183.912069</td>\n",
       "    </tr>\n",
       "    <tr>\n",
       "      <th>east</th>\n",
       "      <td>718.0</td>\n",
       "      <td>75.905445</td>\n",
       "      <td>9.357089</td>\n",
       "      <td>51.822465</td>\n",
       "      <td>68.294110</td>\n",
       "      <td>75.556600</td>\n",
       "      <td>82.518468</td>\n",
       "      <td>99.856836</td>\n",
       "    </tr>\n",
       "    <tr>\n",
       "      <th>north</th>\n",
       "      <td>935.0</td>\n",
       "      <td>63.376665</td>\n",
       "      <td>7.083446</td>\n",
       "      <td>45.970488</td>\n",
       "      <td>58.365059</td>\n",
       "      <td>61.678299</td>\n",
       "      <td>67.574205</td>\n",
       "      <td>94.311644</td>\n",
       "    </tr>\n",
       "    <tr>\n",
       "      <th>north-east</th>\n",
       "      <td>1688.0</td>\n",
       "      <td>68.809559</td>\n",
       "      <td>11.443648</td>\n",
       "      <td>49.220861</td>\n",
       "      <td>61.114442</td>\n",
       "      <td>64.937410</td>\n",
       "      <td>73.640070</td>\n",
       "      <td>123.575811</td>\n",
       "    </tr>\n",
       "    <tr>\n",
       "      <th>west</th>\n",
       "      <td>1224.0</td>\n",
       "      <td>67.380671</td>\n",
       "      <td>11.923527</td>\n",
       "      <td>48.427425</td>\n",
       "      <td>59.175366</td>\n",
       "      <td>64.128898</td>\n",
       "      <td>71.770518</td>\n",
       "      <td>127.877238</td>\n",
       "    </tr>\n",
       "  </tbody>\n",
       "</table>\n",
       "</div>"
      ],
      "text/plain": [
       "             count       mean        std        min        25%        50%  \\\n",
       "region                                                                      \n",
       "central     1022.0  99.374415  13.420201  62.385464  90.631526  99.488348   \n",
       "east         718.0  75.905445   9.357089  51.822465  68.294110  75.556600   \n",
       "north        935.0  63.376665   7.083446  45.970488  58.365059  61.678299   \n",
       "north-east  1688.0  68.809559  11.443648  49.220861  61.114442  64.937410   \n",
       "west        1224.0  67.380671  11.923527  48.427425  59.175366  64.128898   \n",
       "\n",
       "                   75%         max  \n",
       "region                              \n",
       "central     107.086370  183.912069  \n",
       "east         82.518468   99.856836  \n",
       "north        67.574205   94.311644  \n",
       "north-east   73.640070  123.575811  \n",
       "west         71.770518  127.877238  "
      ]
     },
     "execution_count": 15,
     "metadata": {},
     "output_type": "execute_result"
    }
   ],
   "source": [
    "resale_june_df.groupby('region')['price_p_sqm_p_yr'].describe()"
   ]
  },
  {
   "cell_type": "code",
   "execution_count": 16,
   "metadata": {
    "tags": []
   },
   "outputs": [
    {
     "data": {
      "text/plain": [
       "<Axes: xlabel='region', ylabel='price_p_sqm_p_yr'>"
      ]
     },
     "execution_count": 16,
     "metadata": {},
     "output_type": "execute_result"
    },
    {
     "data": {
      "image/png": "[encoded data removed]",
      "text/plain": [
       "<Figure size 640x480 with 1 Axes>"
      ]
     },
     "metadata": {},
     "output_type": "display_data"
    }
   ],
   "source": [
    "sns.boxplot(data=resale_june_df, x='region', y='price_p_sqm_p_yr')"
   ]
  },
  {
   "cell_type": "code",
   "execution_count": 17,
   "metadata": {
    "tags": []
   },
   "outputs": [
    {
     "data": {
      "image/png": "[encoded data removed]",
      "text/plain": [
       "<Figure size 1500x400 with 3 Axes>"
      ]
     },
     "metadata": {},
     "output_type": "display_data"
    }
   ],
   "source": [
    "# See the data set to see if they are of the same group\n",
    "inference.check_normality(resale_june_df['price_p_sqm_p_yr'])"
   ]
  },
  {
   "cell_type": "code",
   "execution_count": 18,
   "metadata": {
    "tags": []
   },
   "outputs": [
    {
     "data": {
      "image/png": "[encoded data removed]",
      "text/plain": [
       "<Figure size 1500x400 with 3 Axes>"
      ]
     },
     "metadata": {},
     "output_type": "display_data"
    }
   ],
   "source": [
    "# Check the north-east region\n",
    "inference.check_normality(resale_june_df.loc[resale_june_df['region']=='north-east', 'price_p_sqm_p_yr'])"
   ]
  },
  {
   "cell_type": "code",
   "execution_count": 19,
   "metadata": {
    "tags": []
   },
   "outputs": [
    {
     "data": {
      "image/png": "[encoded data removed]",
      "text/plain": [
       "<Figure size 1500x400 with 3 Axes>"
      ]
     },
     "metadata": {},
     "output_type": "display_data"
    }
   ],
   "source": [
    "# Check the east region\n",
    "inference.check_normality(resale_june_df.loc[resale_june_df['region']=='east', 'price_p_sqm_p_yr'])"
   ]
  },
  {
   "cell_type": "code",
   "execution_count": 20,
   "metadata": {
    "tags": []
   },
   "outputs": [
    {
     "data": {
      "image/png": "[encoded data removed]",
      "text/plain": [
       "<Figure size 1500x400 with 3 Axes>"
      ]
     },
     "metadata": {},
     "output_type": "display_data"
    }
   ],
   "source": [
    "# Check the central region\n",
    "inference.check_normality(resale_june_df.loc[resale_june_df['region']=='central', 'price_p_sqm_p_yr'])"
   ]
  },
  {
   "cell_type": "code",
   "execution_count": 21,
   "metadata": {
    "tags": []
   },
   "outputs": [
    {
     "data": {
      "image/png": "[encoded data removed]",
      "text/plain": [
       "<Figure size 1500x400 with 3 Axes>"
      ]
     },
     "metadata": {},
     "output_type": "display_data"
    }
   ],
   "source": [
    "# Check the westregion\n",
    "inference.check_normality(resale_june_df.loc[resale_june_df['region']=='west', 'price_p_sqm_p_yr'])"
   ]
  },
  {
   "cell_type": "code",
   "execution_count": 22,
   "metadata": {
    "tags": []
   },
   "outputs": [
    {
     "data": {
      "image/png": "[encoded data removed]",
      "text/plain": [
       "<Figure size 1500x400 with 3 Axes>"
      ]
     },
     "metadata": {},
     "output_type": "display_data"
    }
   ],
   "source": [
    "# Check the north region\n",
    "inference.check_normality(resale_june_df.loc[resale_june_df['region']=='north', 'price_p_sqm_p_yr'])"
   ]
  },
  {
   "cell_type": "markdown",
   "metadata": {},
   "source": [
    "The source which the 5 samples come from does not have a normal distribution.   \n",
    "The 5 samples here does not have a normal distribution.  \n",
    "This means that ANOVA test can not be used.  \n",
    "This mean there is a need to use a statistics test that doesn't assume noramlity.  \n",
    "In this case, use *Kruskal-Wallis* test.  \n",
    "The following are the assumptions on *Kruskal-Wallis* test:\n",
    "* Samples are random samples. `Checked`\n",
    "* The samples are independent. `Checked`\n",
    "* The measurement scale is ordinal, and the variable is continuous. `Checked`\n",
    "* There are no distributional assumptions. `Checked`"
   ]
  },
  {
   "cell_type": "markdown",
   "metadata": {},
   "source": [
    "*Step2*: Write the hypotyhesis   \n",
    "* H0: All regions have the same `mean resale price per sqm per lease remaining`   \n",
    "* H1: At least 1 region's `mean resale price per sqm per lease remaining` is different from the other regions  \n",
    "\n",
    "This is a 2 tailed test.  \n",
    "The null hypothesis will be rejected at a significance level (alpha) of 0.05."
   ]
  },
  {
   "cell_type": "markdown",
   "metadata": {},
   "source": [
    "*Step 3 & 4*: Compute test statistics and the p value of Kruskal-Wallis test  "
   ]
  },
  {
   "cell_type": "code",
   "execution_count": 23,
   "metadata": {
    "tags": []
   },
   "outputs": [],
   "source": [
    "# Use scipy.stat\n",
    "kw_res = stats.kruskal(resale_june_df.loc[resale_june_df['region']=='north-east', 'price_p_sqm_p_yr'],\n",
    "                       resale_june_df.loc[resale_june_df['region']=='east', 'price_p_sqm_p_yr'],\n",
    "                       resale_june_df.loc[resale_june_df['region']=='central', 'price_p_sqm_p_yr'],\n",
    "                       resale_june_df.loc[resale_june_df['region']=='west', 'price_p_sqm_p_yr'],\n",
    "                       resale_june_df.loc[resale_june_df['region']=='north', 'price_p_sqm_p_yr'])"
   ]
  },
  {
   "cell_type": "code",
   "execution_count": 24,
   "metadata": {
    "tags": []
   },
   "outputs": [
    {
     "name": "stdout",
     "output_type": "stream",
     "text": [
      "The test statistic value is 2582.618.\n",
      "The corresponding p-value is 0.000.\n"
     ]
    }
   ],
   "source": [
    "print(f'The test statistic value is {kw_res[0]:.3f}.')\n",
    "print(f'The corresponding p-value is {kw_res[1]:.3f}.')"
   ]
  },
  {
   "cell_type": "markdown",
   "metadata": {},
   "source": [
    "*Step 5*: Draw conclusion from p value.  \n",
    "We would conclude that we have strong evidence against the null hypothesis and that the `mean resale price per sqm per lease remaining` for all regions are the same.  \n",
    "This is becasue the p value is an extremely small number, much lesser than the treshold alpha of p = 0.005 for the inherently 2 tailed *Kruskal-Wallis* test.\n",
    "\n",
    "-------"
   ]
  },
  {
   "cell_type": "markdown",
   "metadata": {},
   "source": [
    "#### Question 1 part 2 preprocess"
   ]
  },
  {
   "cell_type": "markdown",
   "metadata": {},
   "source": [
    "Time to proceed on to part 2  \n",
    "* Q1.2 In the period July 2022 to December 2022, was there any difference in the distribution of geographical regions for each resale flat type? (Please omit 1 ROOM and MULTI-GENERATION flats from this analysis.)\n",
    "----\n",
    "Steps before answering the question:  \n",
    "*step1*: Find the dataset containing data from jul 2022 to dec 2022.    \n",
    "*step2*: Omit `1 ROOM` and `MULTI-GENERATION` flats from the dataset.  \n",
    "*step3*: Find the frequency of each flate type by geographical regions.  "
   ]
  },
  {
   "cell_type": "code",
   "execution_count": 25,
   "metadata": {
    "tags": []
   },
   "outputs": [
    {
     "data": {
      "text/plain": [
       "array(['2 ROOM', '3 ROOM', '4 ROOM', '5 ROOM', 'EXECUTIVE', '1 ROOM',\n",
       "       'MULTI-GENERATION'], dtype=object)"
      ]
     },
     "execution_count": 25,
     "metadata": {},
     "output_type": "execute_result"
    }
   ],
   "source": [
    "resale_prices_df['flat_type'].unique()"
   ]
  },
  {
   "cell_type": "code",
   "execution_count": 26,
   "metadata": {},
   "outputs": [
    {
     "data": {
      "text/html": [
       "<div>\n",
       "<style scoped>\n",
       "    .dataframe tbody tr th:only-of-type {\n",
       "        vertical-align: middle;\n",
       "    }\n",
       "\n",
       "    .dataframe tbody tr th {\n",
       "        vertical-align: top;\n",
       "    }\n",
       "\n",
       "    .dataframe thead th {\n",
       "        text-align: right;\n",
       "    }\n",
       "</style>\n",
       "<table border=\"1\" class=\"dataframe\">\n",
       "  <thead>\n",
       "    <tr style=\"text-align: right;\">\n",
       "      <th></th>\n",
       "      <th>month</th>\n",
       "      <th>town</th>\n",
       "      <th>flat_type</th>\n",
       "      <th>block</th>\n",
       "      <th>street_name</th>\n",
       "      <th>storey_range</th>\n",
       "      <th>floor_area_sqm</th>\n",
       "      <th>flat_model</th>\n",
       "      <th>lease_commence_date</th>\n",
       "      <th>remaining_lease</th>\n",
       "      <th>resale_price</th>\n",
       "      <th>type</th>\n",
       "      <th>region</th>\n",
       "    </tr>\n",
       "  </thead>\n",
       "  <tbody>\n",
       "    <tr>\n",
       "      <th>129826</th>\n",
       "      <td>2022-07</td>\n",
       "      <td>ANG MO KIO</td>\n",
       "      <td>2 ROOM</td>\n",
       "      <td>314</td>\n",
       "      <td>ANG MO KIO AVE 3</td>\n",
       "      <td>07 TO 09</td>\n",
       "      <td>44.0</td>\n",
       "      <td>Improved</td>\n",
       "      <td>1978</td>\n",
       "      <td>54 years 07 months</td>\n",
       "      <td>243000.0</td>\n",
       "      <td>mature</td>\n",
       "      <td>north-east</td>\n",
       "    </tr>\n",
       "    <tr>\n",
       "      <th>129827</th>\n",
       "      <td>2022-07</td>\n",
       "      <td>ANG MO KIO</td>\n",
       "      <td>3 ROOM</td>\n",
       "      <td>331</td>\n",
       "      <td>ANG MO KIO AVE 1</td>\n",
       "      <td>10 TO 12</td>\n",
       "      <td>68.0</td>\n",
       "      <td>New Generation</td>\n",
       "      <td>1981</td>\n",
       "      <td>57 years 07 months</td>\n",
       "      <td>368000.0</td>\n",
       "      <td>mature</td>\n",
       "      <td>north-east</td>\n",
       "    </tr>\n",
       "    <tr>\n",
       "      <th>129828</th>\n",
       "      <td>2022-07</td>\n",
       "      <td>ANG MO KIO</td>\n",
       "      <td>3 ROOM</td>\n",
       "      <td>208</td>\n",
       "      <td>ANG MO KIO AVE 1</td>\n",
       "      <td>04 TO 06</td>\n",
       "      <td>73.0</td>\n",
       "      <td>New Generation</td>\n",
       "      <td>1976</td>\n",
       "      <td>53 years 02 months</td>\n",
       "      <td>358000.0</td>\n",
       "      <td>mature</td>\n",
       "      <td>north-east</td>\n",
       "    </tr>\n",
       "    <tr>\n",
       "      <th>129829</th>\n",
       "      <td>2022-07</td>\n",
       "      <td>ANG MO KIO</td>\n",
       "      <td>3 ROOM</td>\n",
       "      <td>330</td>\n",
       "      <td>ANG MO KIO AVE 1</td>\n",
       "      <td>07 TO 09</td>\n",
       "      <td>82.0</td>\n",
       "      <td>New Generation</td>\n",
       "      <td>1981</td>\n",
       "      <td>57 years 07 months</td>\n",
       "      <td>423888.0</td>\n",
       "      <td>mature</td>\n",
       "      <td>north-east</td>\n",
       "    </tr>\n",
       "    <tr>\n",
       "      <th>129830</th>\n",
       "      <td>2022-07</td>\n",
       "      <td>ANG MO KIO</td>\n",
       "      <td>3 ROOM</td>\n",
       "      <td>225</td>\n",
       "      <td>ANG MO KIO AVE 1</td>\n",
       "      <td>01 TO 03</td>\n",
       "      <td>67.0</td>\n",
       "      <td>New Generation</td>\n",
       "      <td>1978</td>\n",
       "      <td>54 years 07 months</td>\n",
       "      <td>310000.0</td>\n",
       "      <td>mature</td>\n",
       "      <td>north-east</td>\n",
       "    </tr>\n",
       "  </tbody>\n",
       "</table>\n",
       "</div>"
      ],
      "text/plain": [
       "          month        town flat_type block       street_name storey_range  \\\n",
       "129826  2022-07  ANG MO KIO    2 ROOM   314  ANG MO KIO AVE 3     07 TO 09   \n",
       "129827  2022-07  ANG MO KIO    3 ROOM   331  ANG MO KIO AVE 1     10 TO 12   \n",
       "129828  2022-07  ANG MO KIO    3 ROOM   208  ANG MO KIO AVE 1     04 TO 06   \n",
       "129829  2022-07  ANG MO KIO    3 ROOM   330  ANG MO KIO AVE 1     07 TO 09   \n",
       "129830  2022-07  ANG MO KIO    3 ROOM   225  ANG MO KIO AVE 1     01 TO 03   \n",
       "\n",
       "        floor_area_sqm      flat_model  lease_commence_date  \\\n",
       "129826            44.0        Improved                 1978   \n",
       "129827            68.0  New Generation                 1981   \n",
       "129828            73.0  New Generation                 1976   \n",
       "129829            82.0  New Generation                 1981   \n",
       "129830            67.0  New Generation                 1978   \n",
       "\n",
       "           remaining_lease  resale_price    type      region  \n",
       "129826  54 years 07 months      243000.0  mature  north-east  \n",
       "129827  57 years 07 months      368000.0  mature  north-east  \n",
       "129828  53 years 02 months      358000.0  mature  north-east  \n",
       "129829  57 years 07 months      423888.0  mature  north-east  \n",
       "129830  54 years 07 months      310000.0  mature  north-east  "
      ]
     },
     "execution_count": 26,
     "metadata": {},
     "output_type": "execute_result"
    }
   ],
   "source": [
    "# Filter the dates to make a smaller subset\n",
    "# Create a boolean mask to filter the date range\n",
    "\n",
    "# Convert filter to datetime format\n",
    "start_date = pd.to_datetime(\"2022-07\")\n",
    "end_date = pd.to_datetime(\"2022-12\")\n",
    "# Conditions\n",
    "later_than_start = (pd.to_datetime(resale_prices_df['month']) >= start_date)\n",
    "ealier_than_end = (pd.to_datetime(resale_prices_df['month']) <= end_date)\n",
    "not_1_rm = (resale_prices_df['flat_type']!='1 ROOM')\n",
    "not_multi_gen = (resale_prices_df['flat_type']!='MULTI-GENERATION')\n",
    "# Create mask\n",
    "mask = (later_than_start & ealier_than_end & not_1_rm & not_multi_gen)\n",
    "\n",
    "# Apply the mask to filter the DataFrame\n",
    "resale_dec_df = resale_prices_df[mask].copy(deep=True)\n",
    "resale_dec_df.head()"
   ]
  },
  {
   "cell_type": "code",
   "execution_count": 27,
   "metadata": {},
   "outputs": [
    {
     "data": {
      "text/plain": [
       "(13560, 13)"
      ]
     },
     "execution_count": 27,
     "metadata": {},
     "output_type": "execute_result"
    }
   ],
   "source": [
    "resale_dec_df.shape"
   ]
  },
  {
   "cell_type": "code",
   "execution_count": 32,
   "metadata": {},
   "outputs": [
    {
     "data": {
      "text/html": [
       "<div>\n",
       "<style scoped>\n",
       "    .dataframe tbody tr th:only-of-type {\n",
       "        vertical-align: middle;\n",
       "    }\n",
       "\n",
       "    .dataframe tbody tr th {\n",
       "        vertical-align: top;\n",
       "    }\n",
       "\n",
       "    .dataframe thead th {\n",
       "        text-align: right;\n",
       "    }\n",
       "</style>\n",
       "<table border=\"1\" class=\"dataframe\">\n",
       "  <thead>\n",
       "    <tr style=\"text-align: right;\">\n",
       "      <th>flat_type</th>\n",
       "      <th>2 ROOM</th>\n",
       "      <th>3 ROOM</th>\n",
       "      <th>4 ROOM</th>\n",
       "      <th>5 ROOM</th>\n",
       "      <th>EXECUTIVE</th>\n",
       "    </tr>\n",
       "    <tr>\n",
       "      <th>region</th>\n",
       "      <th></th>\n",
       "      <th></th>\n",
       "      <th></th>\n",
       "      <th></th>\n",
       "      <th></th>\n",
       "    </tr>\n",
       "  </thead>\n",
       "  <tbody>\n",
       "    <tr>\n",
       "      <th>central</th>\n",
       "      <td>48</td>\n",
       "      <td>1036</td>\n",
       "      <td>948</td>\n",
       "      <td>450</td>\n",
       "      <td>74</td>\n",
       "    </tr>\n",
       "    <tr>\n",
       "      <th>east</th>\n",
       "      <td>19</td>\n",
       "      <td>483</td>\n",
       "      <td>711</td>\n",
       "      <td>491</td>\n",
       "      <td>251</td>\n",
       "    </tr>\n",
       "    <tr>\n",
       "      <th>north</th>\n",
       "      <td>84</td>\n",
       "      <td>484</td>\n",
       "      <td>1199</td>\n",
       "      <td>624</td>\n",
       "      <td>179</td>\n",
       "    </tr>\n",
       "    <tr>\n",
       "      <th>north-east</th>\n",
       "      <td>67</td>\n",
       "      <td>666</td>\n",
       "      <td>1635</td>\n",
       "      <td>977</td>\n",
       "      <td>180</td>\n",
       "    </tr>\n",
       "    <tr>\n",
       "      <th>west</th>\n",
       "      <td>38</td>\n",
       "      <td>611</td>\n",
       "      <td>1229</td>\n",
       "      <td>806</td>\n",
       "      <td>270</td>\n",
       "    </tr>\n",
       "  </tbody>\n",
       "</table>\n",
       "</div>"
      ],
      "text/plain": [
       "flat_type   2 ROOM  3 ROOM  4 ROOM  5 ROOM  EXECUTIVE\n",
       "region                                               \n",
       "central         48    1036     948     450         74\n",
       "east            19     483     711     491        251\n",
       "north           84     484    1199     624        179\n",
       "north-east      67     666    1635     977        180\n",
       "west            38     611    1229     806        270"
      ]
     },
     "execution_count": 32,
     "metadata": {},
     "output_type": "execute_result"
    }
   ],
   "source": [
    "# Create a contigenncy table to display the contigency table needed.\n",
    "region_vs_type_tab = pd.crosstab(resale_dec_df['region'], resale_dec_df['flat_type'])\n",
    "region_vs_type_arr = region_vs_type_tab.to_numpy()\n",
    "region_vs_type_tab"
   ]
  },
  {
   "cell_type": "markdown",
   "metadata": {},
   "source": [
    "The above table is a contigency table of region vs flat types.  \n",
    "It is saved into np array format in the `region_vs_type_arr` variable.  \n",
    "With this, I can start conducting the steps to answer question proper.  "
   ]
  },
  {
   "cell_type": "markdown",
   "metadata": {},
   "source": [
    "#### Question 1 part 2 Ans"
   ]
  },
  {
   "cell_type": "markdown",
   "metadata": {},
   "source": [
    "-----\n",
    "* Q1.2 In the period July 2022 to December 2022, was there any difference in the distribution of geographical regions for each resale flat type? (Please omit 1 ROOM and MULTI-GENERATION flats from this analysis.)\n",
    "----\n",
    "*step1*: State and verify the assumptions  \n",
    "*step2*: Write hypothesis  \n",
    "*step3*: Compute test statistics   \n",
    "*step4*: Compute the p value of $\\chi^2$-test of independence  "
   ]
  },
  {
   "cell_type": "markdown",
   "metadata": {},
   "source": [
    "#### Step 1\n",
    "Assumptions:  \n",
    "1. The observations in the contingency table should be independent of each other. `Checked`  \n",
    "2. The data is categorical in nature. `Checked`   \n",
    "3. Frequency in each cell is sufficiently high. (min 19, >5) `checked`  \n",
    "4. Sample size is sufficnetly large. (size=13560) `Checked`\n",
    "5. No perfect linear relationship between the two categorical variables. `Checked`"
   ]
  },
  {
   "cell_type": "markdown",
   "metadata": {},
   "source": [
    "#### Step 2  \n",
    "Hypothesis:   \n",
    "H0: The 2 variables, flat type and region are independent (No association).    \n",
    "H1: The 2 variables, flat type and region are dependent (Associated).   \n",
    "This is a 2 tailed test, the p value to reject the null hypothesis is 0.05.  "
   ]
  },
  {
   "cell_type": "markdown",
   "metadata": {},
   "source": [
    "#### Step 3 & 4\n",
    "Compute the test statistics and the p value for this $\\chi^2$-test of idependence."
   ]
  },
  {
   "cell_type": "code",
   "execution_count": 37,
   "metadata": {
    "tags": []
   },
   "outputs": [],
   "source": [
    "# Use stats lib\n",
    "chi_sq, p, dof, exp = stats.chi2_contingency(region_vs_type_arr, correction = True)"
   ]
  },
  {
   "cell_type": "code",
   "execution_count": 38,
   "metadata": {
    "tags": []
   },
   "outputs": [
    {
     "name": "stdout",
     "output_type": "stream",
     "text": [
      "Chi-square statistic: 734.1655738392807\n",
      "P-value: 6.874279549042278e-146\n",
      "Degrees of freedom: 16\n",
      "Expected frequencies:\n",
      "[[  48.25486726  618.26548673 1078.57168142  631.08318584  179.82477876]\n",
      " [  36.90855457  472.89085546  824.96386431  482.69469027  137.5420354 ]\n",
      " [  48.51917404  621.6519174  1084.47935103  634.53982301  180.80973451]\n",
      " [  66.54867257  852.65486726 1487.46681416  870.33185841  247.99778761]\n",
      " [  55.76873156  714.53687316 1246.51828909  729.35044248  207.82566372]]\n"
     ]
    }
   ],
   "source": [
    "# print the results\n",
    "print(\"Chi-square statistic:\", chi_sq)\n",
    "print(\"P-value:\", p)\n",
    "print(\"Degrees of freedom:\", dof)\n",
    "print(\"Expected frequencies:\")\n",
    "print(exp)"
   ]
  },
  {
   "cell_type": "markdown",
   "metadata": {},
   "source": [
    "#### Step 5\n",
    "Draw conclusion from the test"
   ]
  },
  {
   "cell_type": "code",
   "execution_count": 42,
   "metadata": {
    "tags": []
   },
   "outputs": [
    {
     "name": "stdout",
     "output_type": "stream",
     "text": [
      "We reject the null hypothesis and conclude that there is an association between flat type and region.\n"
     ]
    }
   ],
   "source": [
    "# compare the p-value with alpha level\n",
    "alpha = 0.05\n",
    "if p < alpha:\n",
    "    print(\"We reject the null hypothesis and conclude that there is an association between flat type and region.\")\n",
    "else:\n",
    "    print(\"We fail to reject the null hypothesis and conclude that there is no association between flat type and region.\")"
   ]
  },
  {
   "cell_type": "markdown",
   "metadata": {},
   "source": [
    "# Question 2\n",
    "\n",
    "The secretary problem *in its simplest form* has the following features.\n",
    "\n",
    "1. There is one secretarial position available.\n",
    "2. The number $n$ of applicants is known.\n",
    "3. The applicants are interviewed sequentially in random order, each order being equally likely.\n",
    "4. It is assumed that you can rank all the applicants from best to worst without ties. The decision to accept or reject an applicant must be based only on the relative ranks of those applicants interviewed so far.\n",
    "5. An applicant once rejected cannot later be recalled.\n",
    "6. You are very particular and will be satisfied with nothing but the very best.\n",
    "\n",
    "This basic problem has a remarkably simple solution. First, one shows that attention can be restricted to the class of rules that for some integer $r \\ge 1$ rejects the first $r - 1$ applicants, and then chooses the next applicant who is best in the relative ranking of the observed applicants. For such a rule, the probability, $p_n(r)$, of selecting the best applicant is $1/n$ for $r = 1$, and for $r > 1$,\n",
    "\\begin{equation}\n",
    "  p_n(r) = \\frac{r - 1}{n} \\sum_{i=r}^n \\frac{1}{i - 1}.\n",
    "\\end{equation}\n",
    "The optimal $r$ is the one that maximises this probability. For small values of $n$, the optimal $r$ can easily be computed. For example, when $n = 11$, the function $p_n(r)$ takes on its maximum value when $r = 5$.\n",
    "\n",
    "When $n = 11$ and using the optimal solution outlined above, use **simulation** to answer the following questions:\n",
    "\n",
    "1. What is the probability that you **could not find an acceptable applicant?**\n",
    "2. How many applicants do you expect to interview **by the time you accept an applicant?**"
   ]
  },
  {
   "cell_type": "markdown",
   "metadata": {},
   "source": [
    "*step1*: Create many scenarios where there are 11 candiates to be interviewed.   \n",
    "Create a N by 11 matrix of random values, the highest value in the row represents the best candidate.   \n",
    "N is a large number.     \n",
    "*step2*: Find out the position of the best candidate, and record it in a N by 1 matrix, name this best_pos.  \n",
    "*step3*: For each row, conduct the experiment of search for the best candiate using r=5, and record down the position of the candidate selected.  \n",
    "This should generate a list of length N.  \n",
    "Each element in the list represent the position of accepted candidate.  \n",
    "Name this list selected_pos.   \n",
    "*step4*: Transpose the selected_pos and compare it against best_pos.     \n",
    "*step5*: Find the number of mismatch between best_pos and selected_pos.  \n",
    "This will answer question 2 part 1.   \n",
    "*step6*: Find the mean of selected_pos.  \n",
    "This will answer question 2 part 2.  "
   ]
  },
  {
   "cell_type": "code",
   "execution_count": null,
   "metadata": {},
   "outputs": [],
   "source": [
    "# Define N\n",
    "N = [100, 1000, 10000]\n",
    "# Geneerate the array using numpy.  "
   ]
  },
  {
   "cell_type": "code",
   "execution_count": null,
   "metadata": {},
   "outputs": [],
   "source": [
    "# Conduct the experiment. \n",
    "\n",
    "# Find the best in r-1\n",
    "\n",
    "# Filter from r onwards"
   ]
  },
  {
   "cell_type": "code",
   "execution_count": null,
   "metadata": {},
   "outputs": [],
   "source": []
  },
  {
   "cell_type": "code",
   "execution_count": null,
   "metadata": {},
   "outputs": [],
   "source": [
    "import random\n",
    "\n",
    "def secretary_problem_simulation(n):\n",
    "    applicants = list(range(1, n + 1))\n",
    "    random.shuffle(applicants)\n",
    "    \n",
    "    best_so_far = float('-inf')\n",
    "    accepted_applicant = None\n",
    "    \n",
    "    for i, applicant in enumerate(applicants):\n",
    "        if applicant > best_so_far:\n",
    "            best_so_far = applicant\n",
    "            accepted_applicant = applicant\n",
    "        if i == 4:  # Optimal stopping point for n=11\n",
    "            break\n",
    "    \n",
    "    could_not_find_acceptable = 1 if accepted_applicant is None else 0\n",
    "    return could_not_find_acceptable, i + 1\n",
    "\n",
    "# Number of simulations\n",
    "num_simulations = 10000\n",
    "n = 11\n",
    "\n",
    "could_not_find_acceptable_count = 0\n",
    "total_interviews = 0\n",
    "\n",
    "for _ in range(num_simulations):\n",
    "    could_not_find_acceptable, interviews = secretary_problem_simulation(n)\n",
    "    could_not_find_acceptable_count += could_not_find_acceptable\n",
    "    total_interviews += interviews\n",
    "\n",
    "# Probability of not finding an acceptable applicant\n",
    "probability_could_not_find = could_not_find_acceptable_count / num_simulations\n",
    "\n",
    "# Expected number of interviews before accepting an applicant\n",
    "expected_interviews = total_interviews / num_simulations\n",
    "\n",
    "print(f\"Probability of not finding an acceptable applicant: {probability_could_not_find:.4f}\")\n",
    "print(f\"Expected number of interviews before accepting an applicant: {expected_interviews:.2f}\")\n"
   ]
  },
  {
   "cell_type": "code",
   "execution_count": null,
   "metadata": {},
   "outputs": [],
   "source": []
  },
  {
   "cell_type": "code",
   "execution_count": null,
   "metadata": {},
   "outputs": [],
   "source": []
  },
  {
   "cell_type": "code",
   "execution_count": null,
   "metadata": {},
   "outputs": [],
   "source": []
  },
  {
   "cell_type": "code",
   "execution_count": null,
   "metadata": {},
   "outputs": [],
   "source": []
  },
  {
   "cell_type": "code",
   "execution_count": null,
   "metadata": {},
   "outputs": [],
   "source": []
  },
  {
   "cell_type": "code",
   "execution_count": null,
   "metadata": {},
   "outputs": [],
   "source": []
  },
  {
   "cell_type": "code",
   "execution_count": null,
   "metadata": {},
   "outputs": [],
   "source": []
  },
  {
   "cell_type": "code",
   "execution_count": null,
   "metadata": {},
   "outputs": [],
   "source": []
  },
  {
   "cell_type": "code",
   "execution_count": null,
   "metadata": {},
   "outputs": [],
   "source": []
  },
  {
   "cell_type": "code",
   "execution_count": null,
   "metadata": {},
   "outputs": [],
   "source": []
  },
  {
   "cell_type": "code",
   "execution_count": null,
   "metadata": {},
   "outputs": [],
   "source": []
  }
 ],
 "metadata": {
  "kernelspec": {
   "display_name": "Python [conda env:nus_i4_gen]",
   "language": "python",
   "name": "conda-env-nus_i4_gen-py"
  },
  "language_info": {
   "codemirror_mode": {
    "name": "ipython",
    "version": 3
   },
   "file_extension": ".py",
   "mimetype": "text/x-python",
   "name": "python",
   "nbconvert_exporter": "python",
   "pygments_lexer": "ipython3",
   "version": "3.11.4"
  }
 },
 "nbformat": 4,
 "nbformat_minor": 4
}
