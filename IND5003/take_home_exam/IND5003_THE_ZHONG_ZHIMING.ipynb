{
 "cells": [
  {
   "cell_type": "markdown",
   "metadata": {},
   "source": [
    "# Instructions\n",
    "\n",
    "1. This exam is worth 20% of the final grade.\n",
    "2. In the questions below, insert a cell (code or markdown, as appropriate), and fill in your answers there.\n",
    "2. It is a take-home EXAMINATION to assess your understanding of the material, and extend the ideas by learning on your own. \n",
    "2. You are required to work on it individually. Any form of plagiarism will result in 0.\n",
    "2. Good, efficient Python code will get more marks than code that is not neat, difficult to understand and least importantly, slow.\n",
    "3. Please submit your notebook file (name it `IND5003_THE_<Your_Name>.ipynb`) through Canvas before **15th Oct 2023 23:59hrs**."
   ]
  },
  {
   "cell_type": "markdown",
   "metadata": {},
   "source": [
    "# Data\n",
    "\n",
    "The files `MRCI_clus_2310.csv` and `MRCI_regr_2310.csv` contain information on institutional characteristics, enrollment, costs, and student outcomes for 856 and 851 four-year colleges, respectively, in the United States of America. The column headings are\n",
    "* `ADM_RATE`: admission rate\n",
    "* `SAT_AVG`: average SAT equivalent score of students admitted\n",
    "* `UGDS`: enrollment of undergraduate degree-seeking students\n",
    "* `COSTT4_A`: average cost of attendance\n",
    "* `C150_4`: completion rate for first-time, full-time students (150% of expected time to completion)\n",
    "* `UGDS_WOMEN`: total share of enrollment of undergraduate degree-seeking students who are women\n",
    "* `STUFACR`: undergraduate student to instructional faculty ratio\n",
    "* `MD_EARN_WNE_1YR`: median earnings of graduates working and not enrolled 1 year after completing\n",
    "* `STATE`: Alabama, Alaska, ..., Wisconsin (the files do not contain colleges in Wyoming)"
   ]
  },
  {
   "cell_type": "code",
   "execution_count": 1,
   "metadata": {
    "tags": []
   },
   "outputs": [],
   "source": [
    "# Import the necessary libraries\n",
    "import pandas as pd\n",
    "import numpy as np\n",
    "import seaborn as sns\n",
    "import matplotlib.pyplot as plt\n",
    "%matplotlib inline\n",
    "\n",
    "from sklearn.preprocessing import StandardScaler\n",
    "from sklearn.cluster import *"
   ]
  },
  {
   "cell_type": "markdown",
   "metadata": {},
   "source": [
    "# Question 1: Clustering\n",
    "\n",
    "**Use the data in the file `MRCI_clus_2310.csv`.**\n",
    "\n",
    "Cluster the colleges on the five variables `ADM_RATE`, `SAT_AVG`, `C150_4`, `UGDS_WOMEN`, and `STUFACR` **after standardisation** using an **appropriately chosen** linkage method for **each of**\n",
    "1. Euclidean distance\n",
    "2. Manhattan distance\n",
    "\n",
    "*You can choose an appropriate linkage method using what is known as the cophenetic correlation coefficient, but include a small paragraph or two on what is the cophenetic correlation coefficient and how you used it to choose your linkage mathod.*\n",
    "\n",
    "In **each** case, use the silhouette scores to find the optimal or near-optimal number of clusters, and outline the properties/differences of the clusters you identified."
   ]
  },
  {
   "cell_type": "code",
   "execution_count": 2,
   "metadata": {
    "tags": []
   },
   "outputs": [
    {
     "data": {
      "text/html": [
       "<div>\n",
       "<style scoped>\n",
       "    .dataframe tbody tr th:only-of-type {\n",
       "        vertical-align: middle;\n",
       "    }\n",
       "\n",
       "    .dataframe tbody tr th {\n",
       "        vertical-align: top;\n",
       "    }\n",
       "\n",
       "    .dataframe thead th {\n",
       "        text-align: right;\n",
       "    }\n",
       "</style>\n",
       "<table border=\"1\" class=\"dataframe\">\n",
       "  <thead>\n",
       "    <tr style=\"text-align: right;\">\n",
       "      <th></th>\n",
       "      <th>ADM_RATE</th>\n",
       "      <th>SAT_AVG</th>\n",
       "      <th>C150_4</th>\n",
       "      <th>UGDS_WOMEN</th>\n",
       "      <th>STUFACR</th>\n",
       "    </tr>\n",
       "  </thead>\n",
       "  <tbody>\n",
       "    <tr>\n",
       "      <th>0</th>\n",
       "      <td>0.7160</td>\n",
       "      <td>954.0</td>\n",
       "      <td>0.2807</td>\n",
       "      <td>0.5940</td>\n",
       "      <td>18.0</td>\n",
       "    </tr>\n",
       "    <tr>\n",
       "      <th>1</th>\n",
       "      <td>0.8854</td>\n",
       "      <td>1266.0</td>\n",
       "      <td>0.6245</td>\n",
       "      <td>0.6210</td>\n",
       "      <td>19.0</td>\n",
       "    </tr>\n",
       "    <tr>\n",
       "      <th>2</th>\n",
       "      <td>0.7367</td>\n",
       "      <td>1300.0</td>\n",
       "      <td>0.6072</td>\n",
       "      <td>0.4047</td>\n",
       "      <td>19.0</td>\n",
       "    </tr>\n",
       "    <tr>\n",
       "      <th>3</th>\n",
       "      <td>0.9799</td>\n",
       "      <td>955.0</td>\n",
       "      <td>0.2843</td>\n",
       "      <td>0.6495</td>\n",
       "      <td>13.0</td>\n",
       "    </tr>\n",
       "    <tr>\n",
       "      <th>4</th>\n",
       "      <td>0.7890</td>\n",
       "      <td>1244.0</td>\n",
       "      <td>0.7223</td>\n",
       "      <td>0.5615</td>\n",
       "      <td>19.0</td>\n",
       "    </tr>\n",
       "  </tbody>\n",
       "</table>\n",
       "</div>"
      ],
      "text/plain": [
       "   ADM_RATE  SAT_AVG  C150_4  UGDS_WOMEN  STUFACR\n",
       "0    0.7160    954.0  0.2807      0.5940     18.0\n",
       "1    0.8854   1266.0  0.6245      0.6210     19.0\n",
       "2    0.7367   1300.0  0.6072      0.4047     19.0\n",
       "3    0.9799    955.0  0.2843      0.6495     13.0\n",
       "4    0.7890   1244.0  0.7223      0.5615     19.0"
      ]
     },
     "execution_count": 2,
     "metadata": {},
     "output_type": "execute_result"
    }
   ],
   "source": [
    "# Impor the data and examine it\n",
    "clus_df = pd.read_csv(\"./data/MRCI_clus_2310.csv\")\n",
    "clus_df.head()"
   ]
  },
  {
   "cell_type": "code",
   "execution_count": 4,
   "metadata": {
    "tags": []
   },
   "outputs": [
    {
     "data": {
      "text/plain": [
       "(856, 5)"
      ]
     },
     "execution_count": 4,
     "metadata": {},
     "output_type": "execute_result"
    }
   ],
   "source": [
    "clus_df.shape"
   ]
  },
  {
   "cell_type": "code",
   "execution_count": 7,
   "metadata": {
    "tags": []
   },
   "outputs": [
    {
     "data": {
      "text/html": [
       "<div>\n",
       "<style scoped>\n",
       "    .dataframe tbody tr th:only-of-type {\n",
       "        vertical-align: middle;\n",
       "    }\n",
       "\n",
       "    .dataframe tbody tr th {\n",
       "        vertical-align: top;\n",
       "    }\n",
       "\n",
       "    .dataframe thead th {\n",
       "        text-align: right;\n",
       "    }\n",
       "</style>\n",
       "<table border=\"1\" class=\"dataframe\">\n",
       "  <thead>\n",
       "    <tr style=\"text-align: right;\">\n",
       "      <th></th>\n",
       "      <th>ADM_RATE</th>\n",
       "      <th>SAT_AVG</th>\n",
       "      <th>C150_4</th>\n",
       "      <th>UGDS_WOMEN</th>\n",
       "      <th>STUFACR</th>\n",
       "    </tr>\n",
       "  </thead>\n",
       "  <tbody>\n",
       "    <tr>\n",
       "      <th>count</th>\n",
       "      <td>856.000000</td>\n",
       "      <td>856.000000</td>\n",
       "      <td>856.000000</td>\n",
       "      <td>856.000000</td>\n",
       "      <td>856.000000</td>\n",
       "    </tr>\n",
       "    <tr>\n",
       "      <th>mean</th>\n",
       "      <td>0.736254</td>\n",
       "      <td>1163.453271</td>\n",
       "      <td>0.600595</td>\n",
       "      <td>0.575898</td>\n",
       "      <td>13.759346</td>\n",
       "    </tr>\n",
       "    <tr>\n",
       "      <th>std</th>\n",
       "      <td>0.202226</td>\n",
       "      <td>128.004176</td>\n",
       "      <td>0.162513</td>\n",
       "      <td>0.115135</td>\n",
       "      <td>3.737971</td>\n",
       "    </tr>\n",
       "    <tr>\n",
       "      <th>min</th>\n",
       "      <td>0.039500</td>\n",
       "      <td>840.000000</td>\n",
       "      <td>0.157600</td>\n",
       "      <td>0.000000</td>\n",
       "      <td>5.000000</td>\n",
       "    </tr>\n",
       "    <tr>\n",
       "      <th>25%</th>\n",
       "      <td>0.646900</td>\n",
       "      <td>1075.750000</td>\n",
       "      <td>0.482050</td>\n",
       "      <td>0.516100</td>\n",
       "      <td>11.000000</td>\n",
       "    </tr>\n",
       "    <tr>\n",
       "      <th>50%</th>\n",
       "      <td>0.781300</td>\n",
       "      <td>1139.000000</td>\n",
       "      <td>0.600050</td>\n",
       "      <td>0.576650</td>\n",
       "      <td>13.000000</td>\n",
       "    </tr>\n",
       "    <tr>\n",
       "      <th>75%</th>\n",
       "      <td>0.881525</td>\n",
       "      <td>1232.000000</td>\n",
       "      <td>0.708600</td>\n",
       "      <td>0.631125</td>\n",
       "      <td>16.000000</td>\n",
       "    </tr>\n",
       "    <tr>\n",
       "      <th>max</th>\n",
       "      <td>1.000000</td>\n",
       "      <td>1535.000000</td>\n",
       "      <td>0.975700</td>\n",
       "      <td>1.000000</td>\n",
       "      <td>30.000000</td>\n",
       "    </tr>\n",
       "  </tbody>\n",
       "</table>\n",
       "</div>"
      ],
      "text/plain": [
       "         ADM_RATE      SAT_AVG      C150_4  UGDS_WOMEN     STUFACR\n",
       "count  856.000000   856.000000  856.000000  856.000000  856.000000\n",
       "mean     0.736254  1163.453271    0.600595    0.575898   13.759346\n",
       "std      0.202226   128.004176    0.162513    0.115135    3.737971\n",
       "min      0.039500   840.000000    0.157600    0.000000    5.000000\n",
       "25%      0.646900  1075.750000    0.482050    0.516100   11.000000\n",
       "50%      0.781300  1139.000000    0.600050    0.576650   13.000000\n",
       "75%      0.881525  1232.000000    0.708600    0.631125   16.000000\n",
       "max      1.000000  1535.000000    0.975700    1.000000   30.000000"
      ]
     },
     "execution_count": 7,
     "metadata": {},
     "output_type": "execute_result"
    }
   ],
   "source": [
    "clus_df.describe()"
   ]
  },
  {
   "cell_type": "code",
   "execution_count": 9,
   "metadata": {
    "tags": []
   },
   "outputs": [
    {
     "data": {
      "text/plain": [
       "<Axes: xlabel='ADM_RATE'>"
      ]
     },
     "execution_count": 9,
     "metadata": {},
     "output_type": "execute_result"
    },
    {
     "data": {
      "image/png": "[encoded data removed]",
      "text/plain": [
       "<Figure size 640x480 with 1 Axes>"
      ]
     },
     "metadata": {},
     "output_type": "display_data"
    }
   ],
   "source": [
    "sns.boxplot(x=clus_df[\"ADM_RATE\"])"
   ]
  },
  {
   "cell_type": "code",
   "execution_count": 10,
   "metadata": {
    "tags": []
   },
   "outputs": [
    {
     "data": {
      "text/plain": [
       "<Axes: xlabel='SAT_AVG'>"
      ]
     },
     "execution_count": 10,
     "metadata": {},
     "output_type": "execute_result"
    },
    {
     "data": {
      "image/png": "[encoded data removed]",
      "text/plain": [
       "<Figure size 640x480 with 1 Axes>"
      ]
     },
     "metadata": {},
     "output_type": "display_data"
    }
   ],
   "source": [
    "sns.boxplot(x=clus_df[\"SAT_AVG\"])"
   ]
  },
  {
   "cell_type": "code",
   "execution_count": 11,
   "metadata": {
    "tags": []
   },
   "outputs": [
    {
     "data": {
      "text/plain": [
       "<Axes: xlabel='C150_4'>"
      ]
     },
     "execution_count": 11,
     "metadata": {},
     "output_type": "execute_result"
    },
    {
     "data": {
      "image/png": "[encoded data removed]",
      "text/plain": [
       "<Figure size 640x480 with 1 Axes>"
      ]
     },
     "metadata": {},
     "output_type": "display_data"
    }
   ],
   "source": [
    "sns.boxplot(x=clus_df[\"C150_4\"])"
   ]
  },
  {
   "cell_type": "code",
   "execution_count": 6,
   "metadata": {
    "tags": []
   },
   "outputs": [
    {
     "data": {
      "text/plain": [
       "<Axes: xlabel='SAT_AVG', ylabel='ADM_RATE'>"
      ]
     },
     "execution_count": 6,
     "metadata": {},
     "output_type": "execute_result"
    },
    {
     "data": {
      "image/png": "[encoded data removed]",
      "text/plain": [
       "<Figure size 640x480 with 1 Axes>"
      ]
     },
     "metadata": {},
     "output_type": "display_data"
    }
   ],
   "source": [
    "sns.scatterplot(data=clus_df, x=\"SAT_AVG\", y=\"ADM_RATE\")"
   ]
  },
  {
   "cell_type": "code",
   "execution_count": null,
   "metadata": {},
   "outputs": [],
   "source": []
  },
  {
   "cell_type": "code",
   "execution_count": null,
   "metadata": {},
   "outputs": [],
   "source": []
  },
  {
   "cell_type": "code",
   "execution_count": null,
   "metadata": {},
   "outputs": [],
   "source": []
  },
  {
   "cell_type": "code",
   "execution_count": null,
   "metadata": {},
   "outputs": [],
   "source": []
  },
  {
   "cell_type": "code",
   "execution_count": null,
   "metadata": {},
   "outputs": [],
   "source": []
  },
  {
   "cell_type": "markdown",
   "metadata": {},
   "source": [
    "# Question 2: Regression\n",
    "\n",
    "**Use the data in the file `MRCI_regr_2310.csv`.**\n",
    "\n",
    "Use the `statsmodels` package. After you fit a regression model in **each** part, be sure to\n",
    "* assess its fit,\n",
    "* study the residuals,\n",
    "* check for influential points, and\n",
    "* check for multicollinearity.\n",
    "\n",
    "*For multicollinearity, you can report what is known as the Variance Inflation Factor (VIF) of the model, but include a small paragraph or two on what is multicollinearity and how it can affect your model.*\n",
    "\n",
    "1. Fit a regression model of `MD_EARN_WNE_1YR` on all of `ADM_RATE`, `SAT_AVG`, `UGDS`, `COSTT4_A`, `UGDS_WOMEN` and `STUFACR`. *Do not standardise these variables.* Outline your findings and suggest *a few* other regression models you might consider fitting. *There is no need at this point to fit the regression models you suggested.*\n",
    "\n",
    "Here are a couple of comments from your boss when you show him/her the analysis:\n",
    "* \"Have you tried standardising the variables `ADM_RATE`, `SAT_AVG`, `UGDS`, `COSTT4_A`, `UGDS_WOMEN` and `STUFACR`?\"\n",
    "* \"Have you tried adding `STATE` to your explanatory variables?\"\n",
    "\n",
    "2. Address his/her questions and other concerns you may have from part 1. You may remove the *most influential* point if it exists. Recommend a final regression model."
   ]
  },
  {
   "cell_type": "code",
   "execution_count": null,
   "metadata": {},
   "outputs": [],
   "source": []
  },
  {
   "cell_type": "code",
   "execution_count": null,
   "metadata": {},
   "outputs": [],
   "source": []
  },
  {
   "cell_type": "code",
   "execution_count": null,
   "metadata": {},
   "outputs": [],
   "source": []
  },
  {
   "cell_type": "code",
   "execution_count": null,
   "metadata": {},
   "outputs": [],
   "source": []
  },
  {
   "cell_type": "code",
   "execution_count": null,
   "metadata": {},
   "outputs": [],
   "source": []
  },
  {
   "cell_type": "code",
   "execution_count": null,
   "metadata": {},
   "outputs": [],
   "source": []
  }
 ],
 "metadata": {
  "kernelspec": {
   "display_name": "Python [conda env:nus_i4_gen]",
   "language": "python",
   "name": "conda-env-nus_i4_gen-py"
  },
  "language_info": {
   "codemirror_mode": {
    "name": "ipython",
    "version": 3
   },
   "file_extension": ".py",
   "mimetype": "text/x-python",
   "name": "python",
   "nbconvert_exporter": "python",
   "pygments_lexer": "ipython3",
   "version": "3.11.4"
  }
 },
 "nbformat": 4,
 "nbformat_minor": 4
}
