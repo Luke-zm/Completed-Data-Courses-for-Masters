{
 "cells": [
  {
   "cell_type": "markdown",
   "metadata": {},
   "source": [
    "# Instructions\n",
    "\n",
    "1. This exam is worth 20% of the final grade.\n",
    "2. In the questions below, insert a cell (code or markdown, as appropriate), and fill in your answers there.\n",
    "2. It is a take-home EXAMINATION to assess your understanding of the material, and extend the ideas by learning on your own. \n",
    "2. You are required to work on it individually. Any form of plagiarism will result in 0.\n",
    "2. Good, efficient Python code will get more marks than code that is not neat, difficult to understand and least importantly, slow.\n",
    "3. Please submit your notebook file (name it `IND5003_THE_<Your_Name>.ipynb`) through Canvas before **15th Oct 2023 23:59hrs**."
   ]
  },
  {
   "attachments": {},
   "cell_type": "markdown",
   "metadata": {},
   "source": [
    "# Data\n",
    "\n",
    "The files `MRCI_clus_2310.csv` and `MRCI_regr_2310.csv` contain information on institutional characteristics, enrollment, costs, and student outcomes for 856 and 851 four-year colleges, respectively, in the United States of America. The column headings are\n",
    "* `ADM_RATE`: admission rate\n",
    "* `SAT_AVG`: average SAT equivalent score of students admitted\n",
    "* `UGDS`: enrollment of undergraduate degree-seeking students\n",
    "* `COSTT4_A`: average cost of attendance\n",
    "* `C150_4`: completion rate for first-time, full-time students (150% of expected time to completion)\n",
    "* `UGDS_WOMEN`: total share of enrollment of undergraduate degree-seeking students who are women\n",
    "* `STUFACR`: undergraduate student to instructional faculty ratio\n",
    "* `MD_EARN_WNE_1YR`: median earnings of graduates working and not enrolled 1 year after completing\n",
    "* `STATE`: Alabama, Alaska, ..., Wisconsin (the files do not contain colleges in Wyoming)"
   ]
  },
  {
   "cell_type": "markdown",
   "metadata": {},
   "source": [
    "# Question 1: Clustering\n",
    "\n",
    "**Use the data in the file `MRCI_clus_2310.csv`.**\n",
    "\n",
    "Cluster the colleges on the five variables `ADM_RATE`, `SAT_AVG`, `C150_4`, `UGDS_WOMEN`, and `STUFACR` **after standardisation** using an **appropriately chosen** linkage method for **each of**\n",
    "1. Euclidean distance\n",
    "2. Manhattan distance\n",
    "\n",
    "*You can choose an appropriate linkage method using what is known as the cophenetic correlation coefficient, but include a small paragraph or two on what is the cophenetic correlation coefficient and how you used it to choose your linkage mathod.*\n",
    "\n",
    "In **each** case, use the silhouette scores to find the optimal or near-optimal number of clusters, and outline the properties/differences of the clusters you identified."
   ]
  },
  {
   "cell_type": "markdown",
   "metadata": {},
   "source": [
    "# Question 2: Regression\n",
    "\n",
    "**Use the data in the file `MRCI_regr_2310.csv`.**\n",
    "\n",
    "Use the `statsmodels` package. After you fit a regression model in **each** part, be sure to\n",
    "* assess its fit,\n",
    "* study the residuals,\n",
    "* check for influential points, and\n",
    "* check for multicollinearity.\n",
    "\n",
    "*For multicollinearity, you can report what is known as the Variance Inflation Factor (VIF) of the model, but include a small paragraph or two on what is multicollinearity and how it can affect your model.*\n",
    "\n",
    "1. Fit a regression model of `MD_EARN_WNE_1YR` on all of `ADM_RATE`, `SAT_AVG`, `UGDS`, `COSTT4_A`, `UGDS_WOMEN` and `STUFACR`. *Do not standardise these variables.* Outline your findings and suggest *a few* other regression models you might consider fitting. *There is no need at this point to fit the regression models you suggested.*\n",
    "\n",
    "Here are a couple of comments from your boss when you show him/her the analysis:\n",
    "* \"Have you tried standardising the variables `ADM_RATE`, `SAT_AVG`, `UGDS`, `COSTT4_A`, `UGDS_WOMEN` and `STUFACR`?\"\n",
    "* \"Have you tried adding `STATE` to your explanatory variables?\"\n",
    "\n",
    "2. Address his/her questions and other concerns you may have from part 1. You may remove the *most influential* point if it exists. Recommend a final regression model."
   ]
  }
 ],
 "metadata": {
  "kernelspec": {
   "display_name": "Python 3 (ipykernel)",
   "language": "python",
   "name": "python3"
  },
  "language_info": {
   "codemirror_mode": {
    "name": "ipython",
    "version": 3
   },
   "file_extension": ".py",
   "mimetype": "text/x-python",
   "name": "python",
   "nbconvert_exporter": "python",
   "pygments_lexer": "ipython3",
   "version": "3.11.4"
  }
 },
 "nbformat": 4,
 "nbformat_minor": 4
}
