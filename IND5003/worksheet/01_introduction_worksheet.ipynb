{
 "cells": [
  {
   "cell_type": "markdown",
   "metadata": {},
   "source": [
    "## Learning Outcomes\n",
    "\n",
    "1. To familiarise with Jupyter notebooks\n",
    "2. To practise with Python programming:\n",
    "    * slice operator\n",
    "    * searching with regular expresssions\n",
    "    * writing small functions\n",
    "    * working with the OOP paradigm in Python"
   ]
  },
  {
   "cell_type": "markdown",
   "metadata": {},
   "source": [
    "## Tasks"
   ]
  },
  {
   "cell_type": "markdown",
   "metadata": {},
   "source": [
    "1. Create a list containing the following strings in Python, in this order: *The Long Halloween*, *The Killing Joke*, *Year One*, *The Dark Knight Returns*, *Hush* and *Dark Victory*. Use as many variations of the **slice notation** as you can to extract:\n",
    "\n",
    "    1. The first two strings.\n",
    "    2. The strings in odd positions (not indices).\n",
    "    3. The last two strings.\n",
    "    4. The two strings just before the final one."
   ]
  },
  {
   "cell_type": "markdown",
   "metadata": {},
   "source": [
    "2. Create a list (of length 6) that contains the number of letters in each title. Try doing it in the following ways:\n",
    "\n",
    "    1. Using a 'for' loop. You might need to use the `.append()` function for lists in this case.\n",
    "    2. Using list comprehension"
   ]
  },
  {
   "cell_type": "markdown",
   "metadata": {},
   "source": [
    "3. The following **example** code snippet will check if the string 'The Dark Knight Rises' contains the words 'Dark Knight'. Package it into a function that takes one argument and returns True if the argument contains 'Dark Knight' and False otherwise. Apply this function to the list of titles you originally created."
   ]
  },
  {
   "cell_type": "code",
   "execution_count": null,
   "metadata": {
    "scrolled": true
   },
   "outputs": [],
   "source": [
    "import re\n",
    "\n",
    "x = re.search('Dark Knight', 'The Dark Knight Rises')\n",
    "if x is not None:\n",
    "    print(\"Found\")\n",
    "else:\n",
    "    print(\"Not Found\")"
   ]
  },
  {
   "cell_type": "markdown",
   "metadata": {},
   "source": [
    "4. Write a function that will rotate a string by a specified number of characters. It should take two arguments, a string and an integer, and return the rotated string. For instance, `rot_fn('abcdefgh', 3)` should return"
   ]
  },
  {
   "cell_type": "code",
   "execution_count": null,
   "metadata": {},
   "outputs": [],
   "source": [
    "fghabcde"
   ]
  },
  {
   "cell_type": "markdown",
   "metadata": {},
   "source": [
    "5. In the lecture, we defined a `Circle` class. Add a method to return the circumference of the \n",
    "circle object."
   ]
  }
 ],
 "metadata": {
  "kernelspec": {
   "display_name": "Python 3 (ipykernel)",
   "language": "python",
   "name": "python3"
  },
  "language_info": {
   "codemirror_mode": {
    "name": "ipython",
    "version": 3
   },
   "file_extension": ".py",
   "mimetype": "text/x-python",
   "name": "python",
   "nbconvert_exporter": "python",
   "pygments_lexer": "ipython3",
   "version": "3.9.6"
  }
 },
 "nbformat": 4,
 "nbformat_minor": 4
}
