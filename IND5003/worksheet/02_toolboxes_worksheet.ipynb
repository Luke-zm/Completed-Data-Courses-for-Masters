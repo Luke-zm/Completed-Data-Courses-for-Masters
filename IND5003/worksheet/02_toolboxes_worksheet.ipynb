{
 "cells": [
  {
   "cell_type": "markdown",
   "metadata": {},
   "source": [
    "## Learning Outcomes\n",
    "\n",
    "1. To practice with NumPy basics, including broadcasting, reshaping and boolean indexing.\n",
    "2. To practice with pandas DataFrame creation.\n",
    "3. To practice and familiarise with pandas DataFrame selection, manipulation and aggregation."
   ]
  },
  {
   "cell_type": "markdown",
   "metadata": {},
   "source": [
    "## Tasks"
   ]
  },
  {
   "cell_type": "markdown",
   "metadata": {},
   "source": [
    "1.  Run the following code to generate an array with shape 5,5,2."
   ]
  },
  {
   "cell_type": "code",
   "execution_count": null,
   "metadata": {
    "scrolled": true
   },
   "outputs": [],
   "source": [
    "np.random.seed(19)\n",
    "x = np.random.randn(5,5,2)"
   ]
  },
  {
   "cell_type": "markdown",
   "metadata": {},
   "source": [
    "* Take the mean along the 3rd axis. You should get back a matrix with 5 rows and 5 columns.  Let us call it X\n",
    "* Create an ndarray $Y$ with the following entries. The shape of Y should be (1,5). Perform matrix multiplication Y * X and then reshape your output into shape (5,1).\n",
    "\n",
    "\\begin{equation} Y = \n",
    "\\begin{pmatrix}\n",
    "1 & 1 & 1 & 1 & 0 \n",
    "\\end{pmatrix}\n",
    "\\end{equation}"
   ]
  },
  {
   "cell_type": "markdown",
   "metadata": {},
   "source": [
    "2. Which of the following will run properly, and which will raise errors due to inability to broadcast?"
   ]
  },
  {
   "cell_type": "code",
   "execution_count": null,
   "metadata": {},
   "outputs": [],
   "source": [
    "aa = np.arange(0, 10).reshape(2,5)\n",
    "bb = np.ones(2)"
   ]
  },
  {
   "cell_type": "raw",
   "metadata": {},
   "source": [
    "aa + bb\n",
    "aa + bb.reshape((2,1))\n",
    "aa + bb.reshape((1,2))"
   ]
  },
  {
   "cell_type": "markdown",
   "metadata": {},
   "source": [
    "3. A JSON file is a special text format for storing data. It is very similar to a Python dictionary. Take a look at the file `laliga.json`. Use the function `pd.read_json()` to read it into your notebook, and perform the following tasks on it.\n",
    "\n",
    "    * Extract the rows for Valencia only.\n",
    "    * Extract the rows for teams that had strictly less than 5 losses.\n",
    "    * Extract the record for Barcelona in 2011.\n",
    "    * For each row, compute the number of points the team obtained. A win is worth 3 points, a draw is 1 point, and a loss is 0 points. Store this points total in a new column.\n",
    "    * Sort the table by year (ascending) and points (descending).\n",
    "    * Find the average number of points for each team over the three years."
   ]
  },
  {
   "cell_type": "markdown",
   "metadata": {},
   "source": [
    "4. Drop the 2015 rows from the happiness dataset. Now compute the change in Happiness rank for each country (2017 rank - 2016 rank). Select and display the top 10 countries whose ranks improved the most. "
   ]
  }
 ],
 "metadata": {
  "kernelspec": {
   "display_name": "Python 3 (ipykernel)",
   "language": "python",
   "name": "python3"
  },
  "language_info": {
   "codemirror_mode": {
    "name": "ipython",
    "version": 3
   },
   "file_extension": ".py",
   "mimetype": "text/x-python",
   "name": "python",
   "nbconvert_exporter": "python",
   "pygments_lexer": "ipython3",
   "version": "3.9.6"
  }
 },
 "nbformat": 4,
 "nbformat_minor": 4
}
