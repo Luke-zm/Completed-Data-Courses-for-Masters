{
 "cells": [
  {
   "cell_type": "markdown",
   "metadata": {
    "slideshow": {
     "slide_type": "slide"
    },
    "tags": []
   },
   "source": [
    "## Contents <a id='top'></a>\n",
    "\n",
    "<a href=#installation>Python Installation</a>\n",
    "1. <a href=#directly>Directly through Python</a>\n",
    "1. <a href=#anaconda>Through Anaconda Navigator</a>\n",
    "1. <a href=#ref>References and Links</a>"
   ]
  },
  {
   "cell_type": "markdown",
   "metadata": {
    "slideshow": {
     "slide_type": "slide"
    },
    "tags": []
   },
   "source": [
    "<a id='installation'></a>\n",
    "### Python Installation\n",
    "<a href=#top>(back to top)</a>\n",
    "\n",
    "If you already have Python 3.10 or 3.11 installed, either through anaconda or on your own, you may skip this document. But make sure you have a virtual environment created for this class.\n",
    "\n",
    "We are going to set up a virtual environment for use with Python in our class. A virtual environment allows us to keep projects separate, and allows different versions of Python to co-exist cleanly on one machine.\n",
    "\n",
    "There are two ways we can set it up; directly through Python, or through Anaconda Navigator."
   ]
  },
  {
   "cell_type": "markdown",
   "metadata": {
    "slideshow": {
     "slide_type": "slide"
    }
   },
   "source": [
    "<a id='directly'></a>\n",
    "### 1. Directly through Python\n",
    "<a href=#top>(back to top)</a>\n",
    "\n",
    "First, download and install the latest Python version 3.11.x from https://www.python.org/downloads/.\n",
    "\n",
    "**Every time** we work on Python, we shall use the command prompt to activate the virtual environment for this class, then start up a notebook in Jupyter Notebook or JupyterLab.\n",
    "\n",
    "* Start by launching the Command Prompt on your computer.\n",
    "* For Windows:\n",
    "    * Press Win + R.\n",
    "    * Type `cmd` and press Enter.\n",
    "* For macOS:\n",
    "    * Use spotlight to search for your terminal and start it.\n",
    "    \n",
    "Here are a few commands that can help you navigate a command line:\n",
    "\n",
    "| Windows             | MacOS               |                                             |\n",
    "|---------------------|---------------------|---------------------------------------------|\n",
    "| `cd`                | `pwd`               | Print full path of current directory.       |\n",
    "| `dir`               | `ls`                | List all files in current directory.        |\n",
    "| `cd path`           | `cd path`           | Change current directory to specified path/folder. |\n",
    "| `cd ..`             | `cd ..`             | Change to parent directory.                 |\n",
    "| `cd /`              | `cd /`              | Change to root directory.                   |\n",
    "| -                   | `cd`                | Change to home directory.                   |\n",
    "| `mkdir folder_name` | `mkdir folder_name` | Create new directory in current directory.  |"
   ]
  },
  {
   "cell_type": "markdown",
   "metadata": {
    "slideshow": {
     "slide_type": "subslide"
    }
   },
   "source": [
    "#### 1.1 Virtual Environment\n",
    "\n",
    "Navigate to the directory for this class, and run this command on the terminal:\n",
    "\n",
    "`python -m venv .`\n",
    "\n",
    "Be careful about which python is called by default. Check by pressing tab after typing python in your terminal.\n",
    "\n",
    "If Python is not in your path, you may have to type the full path:\n",
    "\n",
    "`C:/xxxxUser/AppData/Local/Programs/Python/Python311/python.exe` for Windows\n",
    "\n",
    "`/Library/Frameworks/Python.framework/Versions/3.11/bin/python3.11` for MacOS\n",
    "\n",
    "If this completes without error, then you can activate the virtual environment with\n",
    "\n",
    "`Scripts activate.bat` on Windows\n",
    "\n",
    "`source bin/activate` on MacOS\n",
    "\n",
    "When you are done for the day, you should type \n",
    "\n",
    "`deactivate` to close the virtual environment."
   ]
  },
  {
   "cell_type": "markdown",
   "metadata": {
    "slideshow": {
     "slide_type": "subslide"
    }
   },
   "source": [
    "#### 1.2 Package Installation\n",
    "\n",
    "With your virtual environment activated, here is how you can install packages:\n",
    "\n",
    "`pip install ipython jupyter jupyterlab xlrd numpy pandas matplotlib scipy statsmodels simpy`\n",
    "\n",
    "`pip install nltk mlxtend sklearn opencv-python imgaug gensim pyLDAvis pmdarima`"
   ]
  },
  {
   "cell_type": "markdown",
   "metadata": {
    "slideshow": {
     "slide_type": "slide"
    }
   },
   "source": [
    "<a id='anaconda'></a>\n",
    "### 2. Through Anaconda Navigator\n",
    "<a href=#top>(back to top)</a>\n",
    "\n",
    "[Anaconda Navigator](https://www.anaconda.com/download) is a more \"point-and-click\" solution to manage software and Python environments with. This guide shows you how install Python, some packages, and Jupyter Notebook with it."
   ]
  },
  {
   "cell_type": "markdown",
   "metadata": {
    "slideshow": {
     "slide_type": "subslide"
    },
    "tags": []
   },
   "source": [
    "#### 2.1 Download and Install Anaconda Navigator\n",
    "\n",
    "Follow [this](https://www.anaconda.com/download#downloads) link to the download page of Anaconda Navigator. You're likely using a 64-bit computer, so select the appropriate (graphical) installer for your operating system.\n",
    "\n",
    "<img src=\"../figs/ana_nav/01_installer_options.png\" style=\"width: 700px;\"/>\n",
    "\n",
    "You can follow these [Installation Instructions](https://nusu-my.sharepoint.com/:p:/g/personal/stalimtw_nus_edu_sg/EYclEKAeKqNIpQihk4pjYLMBuClZyeR3l0jja3lDz5KLMQ) for more detailed steps. "
   ]
  },
  {
   "cell_type": "markdown",
   "metadata": {
    "slideshow": {
     "slide_type": "slide"
    },
    "tags": []
   },
   "source": [
    "#### 2.2 Set Up a Virtual Environment\n",
    "\n",
    "After installation, you should see the following:\n",
    "\n",
    "<img src=\"../figs/ana_nav/02_startpage.png\" style=\"width: 700px;\"/>"
   ]
  },
  {
   "cell_type": "markdown",
   "metadata": {
    "slideshow": {
     "slide_type": "subslide"
    },
    "tags": []
   },
   "source": [
    "Anaconda Navigator allows you to install a number of software *through* Navigator itself. This allows you to link installations to certain environments. Namely, the default environment, using Python 3.11, is called `base`:\n",
    "\n",
    "<img src=\"../figs/ana_nav/03_base_env.png\" style=\"width: 700px;\"/>"
   ]
  },
  {
   "cell_type": "markdown",
   "metadata": {
    "slideshow": {
     "slide_type": "subslide"
    },
    "tags": []
   },
   "source": [
    "Jupyter Notebook and JupyterLab are already installed with `base`, but let us instead create and activate our own environment `myenv`.\n",
    "First, head to the Environments tab on the left of the screen. You should see the following:\n",
    "\n",
    "<img src=\"../figs/ana_nav/04_env_screen.png\" style=\"width: 700px;\"/>\n",
    "\n",
    "This screen shows the packages installed in the virtual environments you have created. If you're using a fresh installation, you should only have `base` here. To create a new environment, click on the \"+ Create\" button at the bottom."
   ]
  },
  {
   "cell_type": "markdown",
   "metadata": {
    "slideshow": {
     "slide_type": "subslide"
    }
   },
   "source": [
    "A popup allowing you to specify the environment's name and Python version should appear:\n",
    "\n",
    "<img src=\"../figs/ana_nav/05_create_env.png\" style=\"width: 700px;\"/>\n",
    "\n",
    "In this case, we're calling it `myenv`. Install Python 3.11 with it. After clicking \"Create\", it will set up the environment with its default packages for you; this may take a while."
   ]
  },
  {
   "cell_type": "markdown",
   "metadata": {
    "slideshow": {
     "slide_type": "slide"
    }
   },
   "source": [
    "#### 2.3 Install Packages in `myenv`\n",
    "\n",
    "Some of the packages we need, as well as Jupyter Notebook and JupyterLab, will not be installed by default in `myenv`. To do so, first click on the play button next to `myenv`, and open a terminal window with the environment activated by clicking \"Open Terminal\":\n",
    "\n",
    "<img src=\"../figs/ana_nav/06_install_packages.png\" style=\"width: 700px;\"/>"
   ]
  },
  {
   "cell_type": "markdown",
   "metadata": {
    "slideshow": {
     "slide_type": "slide"
    }
   },
   "source": [
    "Copy-and-paste the following into the terminal:\n",
    "\n",
    "`pip install ipython jupyter jupyterlab xlrd numpy pandas matplotlib scipy statsmodels simpy`\n",
    "\n",
    "`pip install nltk mlxtend sklearn opencv-python imgaug gensim pyLDAvis pmdarima`\n",
    "\n",
    "<img src=\"../figs/ana_nav/07_pack_terminal.png\" style=\"width: 700px;\"/>\n",
    "\n",
    "After package installation, navigate back to the Home screen and click \"Install\" in the Jupyter Notebook or JupyterLab box to install it.\n",
    "\n",
    "You're now good to go for the rest of the course."
   ]
  },
  {
   "cell_type": "markdown",
   "metadata": {
    "slideshow": {
     "slide_type": "slide"
    }
   },
   "source": [
    "#### 2.4 Done!\n",
    "\n",
    "Whenever you now open Anaconda Navigator, you can activate `myenv` by selecting it from the dropdown list\n",
    "on the top left of the welcome screen:\n",
    "\n",
    "<img src=\"../figs/ana_nav/08_set_env.png\" style=\"width: 700px;\"/>\n",
    "\n",
    "We hope you make good use of Anaconda Navigator. If you face any issues, [stackoverflow](https://stackoverflow.com/) is always a good resource; otherwise, we're there!"
   ]
  },
  {
   "cell_type": "markdown",
   "metadata": {
    "slideshow": {
     "slide_type": "slide"
    },
    "tags": []
   },
   "source": [
    "<a id='ref'></a>\n",
    "### 3. References and Links\n",
    "<a href=#top>(back to top)</a>\n",
    "\n",
    "1. [Python download](https://www.python.org/downloads/)\n",
    "2. [Python documentation](https://docs.python.org/3/)\n",
    "3. [Jupyter Notebook documentation](https://jupyter-notebook.readthedocs.io/en/stable/)\n",
    "4. [JupyterLab documentation](https://jupyterlab.readthedocs.io/en/stable/)\n",
    "5. [Anaconda installation](https://nusu-my.sharepoint.com/:p:/g/personal/stalimtw_nus_edu_sg/EYclEKAeKqNIpQihk4pjYLMBuClZyeR3l0jja3lDz5KLMQ) (updated from an earlier version by Ang Yi Zhe)\n",
    "6. [Python resources](https://docs.google.com/document/d/13MFdaWVQrK-I027Zj_De5T_B9az-K6PilhHXGVXHYw0/edit) (also by Ang Yi Zhe)"
   ]
  }
 ],
 "metadata": {
  "kernelspec": {
   "display_name": "Python 3 (ipykernel)",
   "language": "python",
   "name": "python3"
  },
  "language_info": {
   "codemirror_mode": {
    "name": "ipython",
    "version": 3
   },
   "file_extension": ".py",
   "mimetype": "text/x-python",
   "name": "python",
   "nbconvert_exporter": "python",
   "pygments_lexer": "ipython3",
   "version": "3.11.4"
  }
 },
 "nbformat": 4,
 "nbformat_minor": 4
}
