{
 "cells": [
  {
   "cell_type": "markdown",
   "metadata": {
    "slideshow": {
     "slide_type": "slide"
    }
   },
   "source": [
    "## Contents <a id='top'></a>\n",
    "\n",
    "1. <a href=#np>NumPy</a>\n",
    "1. <a href=#pandas>Pandas</a>\n",
    "    1. <a href=#pandas>Series</a>\n",
    "    1. <a href=#df>DataFrames</a>\n",
    "    1. <a href=#functions>Applying Functions to DataFrame</a>\n",
    "    1. <a href=#categorical>Categorical Variables</a>\n",
    "    1. <a href=#split>Split-Apply-Transform</a>\n",
    "    1. <a href=#multiple>Working with Multiple DataFrames</a>\n",
    "1. <a href=#ref>References and Links</a>"
   ]
  },
  {
   "cell_type": "code",
   "execution_count": 1,
   "metadata": {
    "tags": []
   },
   "outputs": [],
   "source": [
    "import numpy as np\n",
    "import pandas as pd\n",
    "\n",
    "# %precision 4\n",
    "# %matplotlib inline\n",
    "\n",
    "# pd.set_option('display.precision', 4)"
   ]
  },
  {
   "cell_type": "markdown",
   "metadata": {},
   "source": [
    "<a id='np'></a>\n",
    "# 1. NumPy\n",
    "<a href=#top>(back to top)</a>\n",
    "\n",
    "The basic object in this package is the `ndarray` object, which can represent *n*-dimensional arrays of homogeneous data types. This is the key difference between NumPy and Pandas objects -- while Pandas objects are also tabular in nature, they allow you to deal with inhomogenous objects. Specifically, Pandas' `DataFrame`s allow columns to be of different types.\n",
    "\n",
    "An `ndarray` object is an *n*-dimensional array (i.e., a [tensor](https://www.i2tutorials.com/wp-content/uploads/2019/09/Tensor-Datatype-and-Ranks-1i2tutorials.jpg)) of elements, indexed by a tuple of non-negative integers.\n",
    "\n",
    "The dimensions of the array are referred to as **axes** in NumPy: a three-dimensional array will have three axes.\n",
    "\n",
    "Each array has several attributes. These include:\n",
    "* `ndim`: the number of axes/dimensions.\n",
    "* `shape`: a tuple describing the length of each dimension.\n",
    "* `size`: the total number of elements in the array. This is a product of the integers in the shape attribute."
   ]
  },
  {
   "cell_type": "code",
   "execution_count": 2,
   "metadata": {
    "tags": []
   },
   "outputs": [],
   "source": [
    "arr = np.array([(1.5, 2, 3), (4, 5, 6)])"
   ]
  },
  {
   "cell_type": "code",
   "execution_count": 3,
   "metadata": {
    "tags": []
   },
   "outputs": [
    {
     "data": {
      "text/plain": [
       "array([[1.5, 2. , 3. ],\n",
       "       [4. , 5. , 6. ]])"
      ]
     },
     "execution_count": 3,
     "metadata": {},
     "output_type": "execute_result"
    }
   ],
   "source": [
    "arr"
   ]
  },
  {
   "cell_type": "code",
   "execution_count": 4,
   "metadata": {
    "tags": []
   },
   "outputs": [
    {
     "data": {
      "text/plain": [
       "2"
      ]
     },
     "execution_count": 4,
     "metadata": {},
     "output_type": "execute_result"
    }
   ],
   "source": [
    "arr.ndim"
   ]
  },
  {
   "cell_type": "code",
   "execution_count": 5,
   "metadata": {
    "tags": []
   },
   "outputs": [
    {
     "data": {
      "text/plain": [
       "(2, 3)"
      ]
     },
     "execution_count": 5,
     "metadata": {},
     "output_type": "execute_result"
    }
   ],
   "source": [
    "arr.shape"
   ]
  },
  {
   "cell_type": "code",
   "execution_count": 6,
   "metadata": {
    "tags": []
   },
   "outputs": [
    {
     "data": {
      "text/plain": [
       "6"
      ]
     },
     "execution_count": 6,
     "metadata": {},
     "output_type": "execute_result"
    }
   ],
   "source": [
    "arr.size # the number of elements in \"arr\""
   ]
  },
  {
   "cell_type": "markdown",
   "metadata": {},
   "source": [
    "### Array Creation\n",
    "\n",
    "One way to create an array containing regular sequences is to use the `np.arange()` function. This creates a sequence of integers, with a specified separation."
   ]
  },
  {
   "cell_type": "code",
   "execution_count": 10,
   "metadata": {
    "tags": []
   },
   "outputs": [
    {
     "data": {
      "text/plain": [
       "array([0, 3, 6, 9])"
      ]
     },
     "execution_count": 10,
     "metadata": {},
     "output_type": "execute_result"
    }
   ],
   "source": [
    "seq = np.arange(0, 10, 3)\n",
    "seq\n",
    "# This generate a 1D array, which is a vector. "
   ]
  },
  {
   "cell_type": "markdown",
   "metadata": {},
   "source": [
    "The shape of an `ndarray` is given by a tuple. Note that an array of shape (4,) is different from one with shape (4, 1). The former has only **1 dimension**, while the latter has **2 dimensions**."
   ]
  },
  {
   "cell_type": "code",
   "execution_count": 8,
   "metadata": {
    "tags": []
   },
   "outputs": [
    {
     "data": {
      "text/plain": [
       "(4,)"
      ]
     },
     "execution_count": 8,
     "metadata": {},
     "output_type": "execute_result"
    }
   ],
   "source": [
    "seq.shape"
   ]
  },
  {
   "cell_type": "code",
   "execution_count": 9,
   "metadata": {
    "tags": []
   },
   "outputs": [
    {
     "data": {
      "text/plain": [
       "array([[0],\n",
       "       [3],\n",
       "       [6],\n",
       "       [9]])"
      ]
     },
     "execution_count": 9,
     "metadata": {},
     "output_type": "execute_result"
    }
   ],
   "source": [
    "col_vect = seq.reshape(4, 1)\n",
    "col_vect"
   ]
  },
  {
   "cell_type": "markdown",
   "metadata": {},
   "source": [
    "To create an array of regularly spaced **real numbers**, use `np.linspace()`."
   ]
  },
  {
   "cell_type": "code",
   "execution_count": 12,
   "metadata": {
    "scrolled": true,
    "tags": []
   },
   "outputs": [
    {
     "data": {
      "text/plain": [
       "array([[[0.2       , 0.33478261, 0.46956522, 0.60434783],\n",
       "        [0.73913043, 0.87391304, 1.00869565, 1.14347826],\n",
       "        [1.27826087, 1.41304348, 1.54782609, 1.6826087 ]],\n",
       "\n",
       "       [[1.8173913 , 1.95217391, 2.08695652, 2.22173913],\n",
       "        [2.35652174, 2.49130435, 2.62608696, 2.76086957],\n",
       "        [2.89565217, 3.03043478, 3.16521739, 3.3       ]]])"
      ]
     },
     "execution_count": 12,
     "metadata": {},
     "output_type": "execute_result"
    }
   ],
   "source": [
    "arr_real = np.linspace(start = 0.2, stop = 3.3, num = 24).reshape(2, 3, 4) \n",
    "# create a 1d array of shape (24,), then reshape it into the correct shape of a 3d array\n",
    "arr_real\n",
    "# lin space is the real number equivalent ofo arange"
   ]
  },
  {
   "cell_type": "code",
   "execution_count": 15,
   "metadata": {
    "tags": []
   },
   "outputs": [
    {
     "data": {
      "text/plain": [
       "array([[[ 0,  1,  2],\n",
       "        [ 3,  4,  5]],\n",
       "\n",
       "       [[ 6,  7,  8],\n",
       "        [ 9, 10, 11]],\n",
       "\n",
       "       [[12, 13, 14],\n",
       "        [15, 16, 17]],\n",
       "\n",
       "       [[18, 19, 20],\n",
       "        [21, 22, 23]]])"
      ]
     },
     "execution_count": 15,
     "metadata": {},
     "output_type": "execute_result"
    }
   ],
   "source": [
    "np.arange(24).reshape(4,2,3)\n",
    "# if can't shape into that shape, an error will be thrown"
   ]
  },
  {
   "cell_type": "code",
   "execution_count": 16,
   "metadata": {
    "tags": []
   },
   "outputs": [
    {
     "data": {
      "text/plain": [
       "array([[[ 0,  1],\n",
       "        [ 2,  3],\n",
       "        [ 4,  5]],\n",
       "\n",
       "       [[ 6,  7],\n",
       "        [ 8,  9],\n",
       "        [10, 11]],\n",
       "\n",
       "       [[12, 13],\n",
       "        [14, 15],\n",
       "        [16, 17]],\n",
       "\n",
       "       [[18, 19],\n",
       "        [20, 21],\n",
       "        [22, 23]]])"
      ]
     },
     "execution_count": 16,
     "metadata": {},
     "output_type": "execute_result"
    }
   ],
   "source": [
    "np.arange(24).reshape(4, 3, 2)"
   ]
  },
  {
   "cell_type": "markdown",
   "metadata": {},
   "source": [
    "Sometimes we need to create a placeholder array with the appropriate dimensions, and then fill it in later. This is preferrable to growing an array by appending to it."
   ]
  },
  {
   "cell_type": "code",
   "execution_count": 17,
   "metadata": {
    "tags": []
   },
   "outputs": [
    {
     "data": {
      "text/plain": [
       "array([[0., 0., 0., 0., 0.],\n",
       "       [0., 0., 0., 0., 0.],\n",
       "       [0., 0., 0., 0., 0.]])"
      ]
     },
     "execution_count": 17,
     "metadata": {},
     "output_type": "execute_result"
    }
   ],
   "source": [
    "np.zeros((3, 5)) # there is also an np.ones() function"
   ]
  },
  {
   "cell_type": "markdown",
   "metadata": {},
   "source": [
    "Instead of specifying the dimensions of an array ourselves, we can create arrays of zeros or ones in the shape of other existing arrays."
   ]
  },
  {
   "cell_type": "code",
   "execution_count": 18,
   "metadata": {
    "scrolled": true,
    "tags": []
   },
   "outputs": [
    {
     "data": {
      "text/plain": [
       "array([[[1., 1., 1., 1.],\n",
       "        [1., 1., 1., 1.],\n",
       "        [1., 1., 1., 1.]],\n",
       "\n",
       "       [[1., 1., 1., 1.],\n",
       "        [1., 1., 1., 1.],\n",
       "        [1., 1., 1., 1.]]])"
      ]
     },
     "execution_count": 18,
     "metadata": {},
     "output_type": "execute_result"
    }
   ],
   "source": [
    "# Creates an array of zeros, of the same shape as \"arr_real\".\n",
    "np.ones_like(arr_real)"
   ]
  },
  {
   "cell_type": "markdown",
   "metadata": {},
   "source": [
    "### Slice Operator in Multiple Dimensions\n",
    "\n",
    "Multidimensional NumPy arrays can be accessed with comma separated slice notation. When fewer indices are provided than the number of axes, the missing indices are considered complete slices for the remaining dimensions.\n",
    "\n",
    "By the way, when printing, the *last* axis will be printed left-to-right, and the second last axis will be printed from top-to-bottom. The remaining axes will be printed with a line in between:"
   ]
  },
  {
   "cell_type": "code",
   "execution_count": 19,
   "metadata": {
    "tags": []
   },
   "outputs": [
    {
     "data": {
      "text/plain": [
       "array([[[0.2       , 0.33478261, 0.46956522, 0.60434783],\n",
       "        [0.73913043, 0.87391304, 1.00869565, 1.14347826],\n",
       "        [1.27826087, 1.41304348, 1.54782609, 1.6826087 ]],\n",
       "\n",
       "       [[1.8173913 , 1.95217391, 2.08695652, 2.22173913],\n",
       "        [2.35652174, 2.49130435, 2.62608696, 2.76086957],\n",
       "        [2.89565217, 3.03043478, 3.16521739, 3.3       ]]])"
      ]
     },
     "execution_count": 19,
     "metadata": {},
     "output_type": "execute_result"
    }
   ],
   "source": [
    "arr_real"
   ]
  },
  {
   "cell_type": "code",
   "execution_count": 20,
   "metadata": {
    "tags": []
   },
   "outputs": [
    {
     "data": {
      "text/plain": [
       "(2, 3, 4)"
      ]
     },
     "execution_count": 20,
     "metadata": {},
     "output_type": "execute_result"
    }
   ],
   "source": [
    "arr_real.shape"
   ]
  },
  {
   "cell_type": "code",
   "execution_count": 21,
   "metadata": {
    "tags": []
   },
   "outputs": [
    {
     "data": {
      "text/plain": [
       "3.3"
      ]
     },
     "execution_count": 21,
     "metadata": {},
     "output_type": "execute_result"
    }
   ],
   "source": [
    "arr_real[1,2,3]"
   ]
  },
  {
   "cell_type": "code",
   "execution_count": 23,
   "metadata": {
    "tags": []
   },
   "outputs": [
    {
     "data": {
      "text/plain": [
       "array([[[0.2       , 1.8173913 ],\n",
       "        [0.73913043, 2.35652174],\n",
       "        [1.27826087, 2.89565217]],\n",
       "\n",
       "       [[0.33478261, 1.95217391],\n",
       "        [0.87391304, 2.49130435],\n",
       "        [1.41304348, 3.03043478]],\n",
       "\n",
       "       [[0.46956522, 2.08695652],\n",
       "        [1.00869565, 2.62608696],\n",
       "        [1.54782609, 3.16521739]],\n",
       "\n",
       "       [[0.60434783, 2.22173913],\n",
       "        [1.14347826, 2.76086957],\n",
       "        [1.6826087 , 3.3       ]]])"
      ]
     },
     "execution_count": 23,
     "metadata": {},
     "output_type": "execute_result"
    }
   ],
   "source": [
    "arr_real.transpose()"
   ]
  },
  {
   "cell_type": "code",
   "execution_count": 24,
   "metadata": {
    "tags": []
   },
   "outputs": [
    {
     "data": {
      "text/plain": [
       "2.4913043478260866"
      ]
     },
     "execution_count": 24,
     "metadata": {},
     "output_type": "execute_result"
    }
   ],
   "source": [
    "arr_real[1,1,1]"
   ]
  },
  {
   "cell_type": "code",
   "execution_count": 25,
   "metadata": {
    "tags": []
   },
   "outputs": [
    {
     "data": {
      "text/plain": [
       "array([[[0.2       , 0.33478261, 0.46956522, 0.60434783],\n",
       "        [0.73913043, 0.87391304, 1.00869565, 1.14347826],\n",
       "        [1.27826087, 1.41304348, 1.54782609, 1.6826087 ]],\n",
       "\n",
       "       [[1.8173913 , 1.95217391, 2.08695652, 2.22173913],\n",
       "        [2.35652174, 2.49130435, 2.62608696, 2.76086957],\n",
       "        [2.89565217, 3.03043478, 3.16521739, 3.3       ]]])"
      ]
     },
     "metadata": {},
     "output_type": "display_data"
    }
   ],
   "source": [
    "display(arr_real)"
   ]
  },
  {
   "cell_type": "markdown",
   "metadata": {},
   "source": [
    "Here are examples based on this array. Try to guess what each will return before you run it:"
   ]
  },
  {
   "cell_type": "code",
   "execution_count": 26,
   "metadata": {
    "tags": []
   },
   "outputs": [
    {
     "data": {
      "text/plain": [
       "3.3"
      ]
     },
     "execution_count": 26,
     "metadata": {},
     "output_type": "execute_result"
    }
   ],
   "source": [
    "arr_real[1, 2, 3]"
   ]
  },
  {
   "cell_type": "code",
   "execution_count": 27,
   "metadata": {
    "tags": []
   },
   "outputs": [
    {
     "data": {
      "text/plain": [
       "array([1.6826087 , 1.54782609, 1.41304348, 1.27826087])"
      ]
     },
     "execution_count": 27,
     "metadata": {},
     "output_type": "execute_result"
    }
   ],
   "source": [
    "arr_real[0, 2, ::-1]"
   ]
  },
  {
   "cell_type": "code",
   "execution_count": 28,
   "metadata": {
    "tags": []
   },
   "outputs": [
    {
     "data": {
      "text/plain": [
       "array([[1.8173913 , 1.95217391, 2.08695652, 2.22173913],\n",
       "       [2.89565217, 3.03043478, 3.16521739, 3.3       ]])"
      ]
     },
     "execution_count": 28,
     "metadata": {},
     "output_type": "execute_result"
    }
   ],
   "source": [
    "arr_real[1, 0:3:2]"
   ]
  },
  {
   "cell_type": "code",
   "execution_count": 29,
   "metadata": {
    "tags": []
   },
   "outputs": [
    {
     "data": {
      "text/plain": [
       "array([[1.27826087, 1.41304348, 1.54782609, 1.6826087 ],\n",
       "       [2.89565217, 3.03043478, 3.16521739, 3.3       ]])"
      ]
     },
     "execution_count": 29,
     "metadata": {},
     "output_type": "execute_result"
    }
   ],
   "source": [
    "arr_real[:, 2, :]"
   ]
  },
  {
   "cell_type": "markdown",
   "metadata": {},
   "source": [
    "Here are examples using Boolean indexing, which means that we use an array of `True` and `False` entries to determine which elements to return."
   ]
  },
  {
   "cell_type": "code",
   "execution_count": 30,
   "metadata": {
    "tags": []
   },
   "outputs": [
    {
     "data": {
      "text/plain": [
       "array([[[False, False, False, False],\n",
       "        [False, False, False, False],\n",
       "        [False, False, False, False]],\n",
       "\n",
       "       [[False, False, False, False],\n",
       "        [False, False, False, False],\n",
       "        [False,  True,  True,  True]]])"
      ]
     },
     "execution_count": 30,
     "metadata": {},
     "output_type": "execute_result"
    }
   ],
   "source": [
    "arr_real > 3"
   ]
  },
  {
   "cell_type": "code",
   "execution_count": 31,
   "metadata": {
    "tags": []
   },
   "outputs": [
    {
     "data": {
      "text/plain": [
       "array([3.03043478, 3.16521739, 3.3       ])"
      ]
     },
     "execution_count": 31,
     "metadata": {},
     "output_type": "execute_result"
    }
   ],
   "source": [
    "arr_real[arr_real > 3]"
   ]
  },
  {
   "cell_type": "markdown",
   "metadata": {},
   "source": [
    "### Basic Operations"
   ]
  },
  {
   "cell_type": "code",
   "execution_count": 32,
   "metadata": {
    "tags": []
   },
   "outputs": [],
   "source": [
    "# Setting a seed allows for reproducibility of random number generation\n",
    "# across sessions.\n",
    "\n",
    "np.random.seed(5003)"
   ]
  },
  {
   "cell_type": "code",
   "execution_count": 33,
   "metadata": {
    "tags": []
   },
   "outputs": [
    {
     "data": {
      "text/plain": [
       "array([[ 0.14014155,  0.62779233,  1.22445517,  0.22595435, -0.33845266],\n",
       "       [-0.01480498, -0.40958607,  1.52278738,  1.31868779, -0.58011633],\n",
       "       [ 2.07496382, -1.55708755,  1.09969562,  0.3187325 , -0.07887309]])"
      ]
     },
     "execution_count": 33,
     "metadata": {},
     "output_type": "execute_result"
    }
   ],
   "source": [
    "a = np.random.randn(3, 5)\n",
    "a"
   ]
  },
  {
   "cell_type": "code",
   "execution_count": 34,
   "metadata": {
    "tags": []
   },
   "outputs": [
    {
     "data": {
      "text/plain": [
       "array([[-0.31008581,  0.3863423 , -0.71142315, -2.10022108,  0.78155719],\n",
       "       [-2.52131257,  0.99798145,  0.10314663, -0.16724751,  1.96703548],\n",
       "       [ 0.37438854, -1.43822732, -0.51784089, -0.22213654,  1.77120966]])"
      ]
     },
     "execution_count": 34,
     "metadata": {},
     "output_type": "execute_result"
    }
   ],
   "source": [
    "b = np.random.randn(3, 5)\n",
    "b"
   ]
  },
  {
   "cell_type": "code",
   "execution_count": 35,
   "metadata": {
    "tags": []
   },
   "outputs": [
    {
     "data": {
      "text/plain": [
       "array([[-0.16994426,  1.01413463,  0.51303202, -1.87426674,  0.44310453],\n",
       "       [-2.53611755,  0.58839538,  1.62593401,  1.15144027,  1.38691916],\n",
       "       [ 2.44935236, -2.99531487,  0.58185473,  0.09659596,  1.69233657]])"
      ]
     },
     "execution_count": 35,
     "metadata": {},
     "output_type": "execute_result"
    }
   ],
   "source": [
    "# Element-wise addition.\n",
    "a + b"
   ]
  },
  {
   "cell_type": "code",
   "execution_count": 36,
   "metadata": {
    "tags": []
   },
   "outputs": [
    {
     "data": {
      "text/plain": [
       "array([[-0.0434559 ,  0.24254273, -0.87110575, -0.47455408, -0.26452011],\n",
       "       [ 0.03732798, -0.4087593 ,  0.15707039, -0.22054725, -1.1411094 ],\n",
       "       [ 0.77684268,  2.23944586, -0.56946736, -0.07080214, -0.13970078]])"
      ]
     },
     "execution_count": 36,
     "metadata": {},
     "output_type": "execute_result"
    }
   ],
   "source": [
    "# Element-wise multiplication: NOT matrix multiplication.\n",
    "a * b"
   ]
  },
  {
   "cell_type": "code",
   "execution_count": 37,
   "metadata": {
    "tags": []
   },
   "outputs": [
    {
     "data": {
      "text/plain": [
       "array([[-1.41109311, -0.30405582, -2.13417699],\n",
       "       [-4.45992577, -1.57601758, -1.5254629 ],\n",
       "       [-2.75838708, -6.88060034,  2.23631826]])"
      ]
     },
     "execution_count": 37,
     "metadata": {},
     "output_type": "execute_result"
    }
   ],
   "source": [
    "# Matrix multiplication (need to transpose \"b\" to match get the right dimensions).\n",
    "# We can also do \"a @ b.T\".\n",
    "a.dot(b.T)"
   ]
  },
  {
   "cell_type": "markdown",
   "metadata": {},
   "source": [
    "### Broadcasting"
   ]
  },
  {
   "cell_type": "code",
   "execution_count": 38,
   "metadata": {
    "scrolled": true,
    "tags": []
   },
   "outputs": [
    {
     "data": {
      "text/plain": [
       "array([[ 1.2802831 ,  2.25558466,  3.44891033,  1.45190869,  0.32309468],\n",
       "       [ 0.97039004,  0.18082786,  4.04557476,  3.63737557, -0.16023265],\n",
       "       [ 5.14992764, -2.11417509,  3.19939125,  1.637465  ,  0.84225382]])"
      ]
     },
     "execution_count": 38,
     "metadata": {},
     "output_type": "execute_result"
    }
   ],
   "source": [
    "2 * a + 1"
   ]
  },
  {
   "cell_type": "markdown",
   "metadata": {},
   "source": [
    "It's easy enough to guess what happened there, but what if we added a 4 x 5 array to a 2 x 1 x 5 array? In general what would happen if we operated on two arrays with different shapes? \n",
    "\n",
    "That's when the broadcasting rules come into play.\n",
    "\n",
    "1. If all input arrays do not have the same number of dimensions, a \"1\" will be *pre-pended* to the **shapes** of the smaller arrays until all the arrays have the same number of dimensions.\n",
    "2. Arrays with size 1 along a particular dimension act as if they had the size of the array with the largest shape along that dimension."
   ]
  },
  {
   "cell_type": "code",
   "execution_count": 39,
   "metadata": {
    "tags": []
   },
   "outputs": [
    {
     "data": {
      "text/plain": [
       "array([0, 1, 2, 3])"
      ]
     },
     "execution_count": 39,
     "metadata": {},
     "output_type": "execute_result"
    }
   ],
   "source": [
    "x = np.arange(4)           # shape           4\n",
    "x"
   ]
  },
  {
   "cell_type": "code",
   "execution_count": 40,
   "metadata": {
    "tags": []
   },
   "outputs": [
    {
     "data": {
      "text/plain": [
       "array([[0],\n",
       "       [1],\n",
       "       [2],\n",
       "       [3]])"
      ]
     },
     "execution_count": 40,
     "metadata": {},
     "output_type": "execute_result"
    }
   ],
   "source": [
    "xx = x.reshape((4, 1))      # shape       4 x 1\n",
    "xx"
   ]
  },
  {
   "cell_type": "code",
   "execution_count": 42,
   "metadata": {
    "tags": []
   },
   "outputs": [
    {
     "data": {
      "text/plain": [
       "array([[0, 1, 2, 3],\n",
       "       [1, 2, 3, 4],\n",
       "       [2, 3, 4, 5],\n",
       "       [3, 4, 5, 6]])"
      ]
     },
     "execution_count": 42,
     "metadata": {},
     "output_type": "execute_result"
    }
   ],
   "source": [
    "xx + x                     # shape       4 x 4\n",
    "# take the 1 row and repeat till i have 4 rows of the same thing"
   ]
  },
  {
   "cell_type": "code",
   "execution_count": 43,
   "metadata": {
    "tags": []
   },
   "outputs": [],
   "source": [
    "b = np.array([4, 5, 6, 7])\n",
    "bb = np.array([[3], [2], [1], [0]])"
   ]
  },
  {
   "cell_type": "code",
   "execution_count": 44,
   "metadata": {
    "tags": []
   },
   "outputs": [
    {
     "data": {
      "text/plain": [
       "array([[ 7,  8,  9, 10],\n",
       "       [ 6,  7,  8,  9],\n",
       "       [ 5,  6,  7,  8],\n",
       "       [ 4,  5,  6,  7]])"
      ]
     },
     "execution_count": 44,
     "metadata": {},
     "output_type": "execute_result"
    }
   ],
   "source": [
    "b+bb"
   ]
  },
  {
   "cell_type": "code",
   "execution_count": 45,
   "metadata": {
    "tags": []
   },
   "outputs": [
    {
     "data": {
      "text/plain": [
       "array([[ 7,  8,  9, 10],\n",
       "       [ 6,  7,  8,  9],\n",
       "       [ 5,  6,  7,  8],\n",
       "       [ 4,  5,  6,  7]])"
      ]
     },
     "execution_count": 45,
     "metadata": {},
     "output_type": "execute_result"
    }
   ],
   "source": [
    "bb+b"
   ]
  },
  {
   "cell_type": "code",
   "execution_count": null,
   "metadata": {},
   "outputs": [],
   "source": []
  },
  {
   "cell_type": "markdown",
   "metadata": {},
   "source": [
    "`x` acts like an array with size (1, 4) in the addition above, and rule 2 applies for `xx`.\n",
    "The following code gives us the same output:"
   ]
  },
  {
   "cell_type": "code",
   "execution_count": 46,
   "metadata": {
    "tags": []
   },
   "outputs": [
    {
     "data": {
      "text/plain": [
       "array([[0, 1, 2, 3],\n",
       "       [1, 2, 3, 4],\n",
       "       [2, 3, 4, 5],\n",
       "       [3, 4, 5, 6]])"
      ]
     },
     "execution_count": 46,
     "metadata": {},
     "output_type": "execute_result"
    }
   ],
   "source": [
    "np.tile(xx, 4) + x.reshape((1, 4))"
   ]
  },
  {
   "cell_type": "code",
   "execution_count": 47,
   "metadata": {
    "tags": []
   },
   "outputs": [
    {
     "ename": "ValueError",
     "evalue": "operands could not be broadcast together with shapes (4,) (5,) ",
     "output_type": "error",
     "traceback": [
      "\u001b[0;31m---------------------------------------------------------------------------\u001b[0m",
      "\u001b[0;31mValueError\u001b[0m                                Traceback (most recent call last)",
      "Cell \u001b[0;32mIn[47], line 2\u001b[0m\n\u001b[1;32m      1\u001b[0m y \u001b[38;5;241m=\u001b[39m np\u001b[38;5;241m.\u001b[39mones(\u001b[38;5;241m5\u001b[39m)           \u001b[38;5;66;03m# shape           5\u001b[39;00m\n\u001b[0;32m----> 2\u001b[0m x \u001b[38;5;241m+\u001b[39m y\n",
      "\u001b[0;31mValueError\u001b[0m: operands could not be broadcast together with shapes (4,) (5,) "
     ]
    }
   ],
   "source": [
    "y = np.ones(5)           # shape           5\n",
    "x + y"
   ]
  },
  {
   "cell_type": "code",
   "execution_count": 48,
   "metadata": {
    "scrolled": true,
    "tags": []
   },
   "outputs": [
    {
     "data": {
      "text/plain": [
       "array([[1., 1., 1., 1., 1.],\n",
       "       [2., 2., 2., 2., 2.],\n",
       "       [3., 3., 3., 3., 3.],\n",
       "       [4., 4., 4., 4., 4.]])"
      ]
     },
     "execution_count": 48,
     "metadata": {},
     "output_type": "execute_result"
    }
   ],
   "source": [
    "xx + y                  # shape        4 x 5"
   ]
  },
  {
   "cell_type": "code",
   "execution_count": 49,
   "metadata": {
    "scrolled": true,
    "tags": []
   },
   "outputs": [
    {
     "data": {
      "text/plain": [
       "array([[1., 2., 3., 4.],\n",
       "       [1., 2., 3., 4.],\n",
       "       [1., 2., 3., 4.]])"
      ]
     },
     "execution_count": 49,
     "metadata": {},
     "output_type": "execute_result"
    }
   ],
   "source": [
    "z = np.ones((3, 4))\n",
    "x + z"
   ]
  },
  {
   "cell_type": "markdown",
   "metadata": {},
   "source": [
    "### Axis-wise Operations"
   ]
  },
  {
   "cell_type": "code",
   "execution_count": 50,
   "metadata": {
    "tags": []
   },
   "outputs": [
    {
     "data": {
      "text/plain": [
       "(2, 3, 4)"
      ]
     },
     "execution_count": 50,
     "metadata": {},
     "output_type": "execute_result"
    }
   ],
   "source": [
    "arr_real.shape"
   ]
  },
  {
   "cell_type": "code",
   "execution_count": 51,
   "metadata": {
    "tags": []
   },
   "outputs": [
    {
     "data": {
      "text/plain": [
       "array([[[0.2       , 0.33478261, 0.46956522, 0.60434783],\n",
       "        [0.73913043, 0.87391304, 1.00869565, 1.14347826],\n",
       "        [1.27826087, 1.41304348, 1.54782609, 1.6826087 ]],\n",
       "\n",
       "       [[1.8173913 , 1.95217391, 2.08695652, 2.22173913],\n",
       "        [2.35652174, 2.49130435, 2.62608696, 2.76086957],\n",
       "        [2.89565217, 3.03043478, 3.16521739, 3.3       ]]])"
      ]
     },
     "execution_count": 51,
     "metadata": {},
     "output_type": "execute_result"
    }
   ],
   "source": [
    "arr_real"
   ]
  },
  {
   "cell_type": "code",
   "execution_count": 59,
   "metadata": {
    "tags": []
   },
   "outputs": [
    {
     "data": {
      "text/plain": [
       "array([[1.00869565, 1.14347826, 1.27826087, 1.41304348],\n",
       "       [1.54782609, 1.6826087 , 1.8173913 , 1.95217391],\n",
       "       [2.08695652, 2.22173913, 2.35652174, 2.49130435]])"
      ]
     },
     "execution_count": 59,
     "metadata": {},
     "output_type": "execute_result"
    }
   ],
   "source": [
    "arr_real.mean(axis = 0) # mean across the 0th (\"first\") axis\n",
    "# Take mean along 0th axis\n",
    "# Original 2*3*4, hence result shape will be 3*4\n",
    "# because axis along the function applied will be erased from the final out put. \n",
    "# In this case, add the 2 arraies tgt and take the mean is taking the mean along the 0th axis."
   ]
  },
  {
   "cell_type": "code",
   "execution_count": null,
   "metadata": {},
   "outputs": [],
   "source": []
  },
  {
   "cell_type": "code",
   "execution_count": null,
   "metadata": {},
   "outputs": [],
   "source": []
  },
  {
   "cell_type": "markdown",
   "metadata": {},
   "source": [
    "The top-left element comes from the mean of `arr_real[0, 0, 0]` and `arr_real[1, 0, 0]`. Similarly, the element to the right of it comes from the mean of `arr_real[0, 0, 1]` and `arr_real[1, 0, 1]`."
   ]
  },
  {
   "cell_type": "code",
   "execution_count": 53,
   "metadata": {
    "tags": []
   },
   "outputs": [
    {
     "data": {
      "text/plain": [
       "1.143478260869565"
      ]
     },
     "execution_count": 53,
     "metadata": {},
     "output_type": "execute_result"
    }
   ],
   "source": [
    "(arr_real[0, 0, 1] + arr_real[1, 0, 1]) / 2"
   ]
  },
  {
   "cell_type": "code",
   "execution_count": 54,
   "metadata": {
    "tags": []
   },
   "outputs": [
    {
     "data": {
      "text/plain": [
       "array([[0.73913043, 0.87391304, 1.00869565, 1.14347826],\n",
       "       [2.35652174, 2.49130435, 2.62608696, 2.76086957]])"
      ]
     },
     "execution_count": 54,
     "metadata": {},
     "output_type": "execute_result"
    }
   ],
   "source": [
    "arr_real.mean(axis = 1)"
   ]
  },
  {
   "cell_type": "code",
   "execution_count": 61,
   "metadata": {
    "tags": []
   },
   "outputs": [],
   "source": [
    "# You can perform operation on serveral axis.\n",
    "# e.g if use axis 0,1, the will wipe out 2*3 from 2*3*4\n",
    "# result will be an array with (4,)"
   ]
  },
  {
   "cell_type": "code",
   "execution_count": 55,
   "metadata": {
    "tags": []
   },
   "outputs": [
    {
     "data": {
      "text/plain": [
       "array([1.54782609, 1.6826087 , 1.8173913 , 1.95217391])"
      ]
     },
     "execution_count": 55,
     "metadata": {},
     "output_type": "execute_result"
    }
   ],
   "source": [
    "arr_real.mean(axis = (0, 1)) # the mean across the first two axes"
   ]
  },
  {
   "cell_type": "code",
   "execution_count": 62,
   "metadata": {
    "tags": []
   },
   "outputs": [
    {
     "data": {
      "text/plain": [
       "array([[0.40217391, 0.94130435, 1.48043478],\n",
       "       [2.01956522, 2.55869565, 3.09782609]])"
      ]
     },
     "execution_count": 62,
     "metadata": {},
     "output_type": "execute_result"
    }
   ],
   "source": [
    "arr_real.mean(axis = 2) # which is the mean across the third axis\n",
    "# This is wiping the last axis (4) from 2*3*4.\n",
    "# This leaves it with array 2*3"
   ]
  },
  {
   "cell_type": "markdown",
   "metadata": {},
   "source": [
    "Note that `arr_real[0]` is a 2D array, with shape (3, 4). Suppose we wish to compute the row means. This means we have to apply the operation by the column axis (axis = 1)."
   ]
  },
  {
   "cell_type": "code",
   "execution_count": 57,
   "metadata": {
    "tags": []
   },
   "outputs": [
    {
     "data": {
      "text/plain": [
       "array([0.40217391, 0.94130435, 1.48043478])"
      ]
     },
     "execution_count": 57,
     "metadata": {},
     "output_type": "execute_result"
    }
   ],
   "source": [
    "arr_real[0].mean(axis = 1) # the mean across the second axis of arr_real[0], not of arr_real itself."
   ]
  },
  {
   "cell_type": "markdown",
   "metadata": {},
   "source": [
    "If we wanted to identify the row with the largest mean, we use `argmax()` on the resulting array."
   ]
  },
  {
   "cell_type": "code",
   "execution_count": 58,
   "metadata": {
    "tags": []
   },
   "outputs": [
    {
     "data": {
      "text/plain": [
       "2"
      ]
     },
     "execution_count": 58,
     "metadata": {},
     "output_type": "execute_result"
    }
   ],
   "source": [
    "arr_real[0].mean(axis = 1).argmax()"
   ]
  },
  {
   "cell_type": "markdown",
   "metadata": {},
   "source": [
    "<a id='pandas'></a>\n",
    "# 2. Pandas\n",
    "<a href=#top>(back to top)</a>\n",
    "\n",
    "## Series \n",
    "\n",
    "A *Series* is a one-dimensional labeled array. The axis labels are referred to as the **index**. The simplest way to create a Series is to pass a sequence and an index to `pd.Series()`."
   ]
  },
  {
   "cell_type": "code",
   "execution_count": 63,
   "metadata": {
    "tags": []
   },
   "outputs": [],
   "source": [
    "year = pd.Series(list(range(2010, 2013) ) * 3)\n",
    "\n",
    "team = [\"Barcelona\", \"RealMadrid\", \"Valencia\"] * 3\n",
    "team.sort()\n",
    "team = pd.Series(team)\n",
    "\n",
    "wins = pd.Series([30, 28, 32, 29, 32, 26, 21, 17, 19])\n",
    "draws = pd.Series([6, 7, 4, 5, 4, 7, 8, 10, 8])\n",
    "losses = pd.Series([2, 3, 2, 4, 2, 5, 9, 11, 11])"
   ]
  },
  {
   "cell_type": "code",
   "execution_count": 64,
   "metadata": {
    "tags": []
   },
   "outputs": [
    {
     "data": {
      "text/plain": [
       "RangeIndex(start=0, stop=9, step=1)"
      ]
     },
     "execution_count": 64,
     "metadata": {},
     "output_type": "execute_result"
    }
   ],
   "source": [
    "wins.index"
   ]
  },
  {
   "cell_type": "code",
   "execution_count": 65,
   "metadata": {
    "tags": []
   },
   "outputs": [
    {
     "data": {
      "text/plain": [
       "array([30, 28, 32, 29, 32, 26, 21, 17, 19])"
      ]
     },
     "execution_count": 65,
     "metadata": {},
     "output_type": "execute_result"
    }
   ],
   "source": [
    "wins.values"
   ]
  },
  {
   "cell_type": "markdown",
   "metadata": {},
   "source": [
    "To access particular values, we can use the slice operator."
   ]
  },
  {
   "cell_type": "code",
   "execution_count": 66,
   "metadata": {
    "tags": []
   },
   "outputs": [
    {
     "data": {
      "text/plain": [
       "0    30\n",
       "2    32\n",
       "4    32\n",
       "dtype: int64"
      ]
     },
     "execution_count": 66,
     "metadata": {},
     "output_type": "execute_result"
    }
   ],
   "source": [
    "wins[0:6:2]"
   ]
  },
  {
   "cell_type": "markdown",
   "metadata": {},
   "source": [
    "To convert a Series object to an `ndarray`, we use the following method:"
   ]
  },
  {
   "cell_type": "code",
   "execution_count": 67,
   "metadata": {
    "tags": []
   },
   "outputs": [
    {
     "data": {
      "text/plain": [
       "array([30, 28, 32, 29, 32, 26, 21, 17, 19])"
      ]
     },
     "execution_count": 67,
     "metadata": {},
     "output_type": "execute_result"
    }
   ],
   "source": [
    "wins.to_numpy()"
   ]
  },
  {
   "cell_type": "markdown",
   "metadata": {},
   "source": [
    "If we specify an index, we can use it to access values in the Series. With Pandas, using the slice operator with labels is inclusive on both sides!"
   ]
  },
  {
   "cell_type": "code",
   "execution_count": 68,
   "metadata": {
    "tags": []
   },
   "outputs": [
    {
     "data": {
      "text/plain": [
       "a    0.208475\n",
       "b    0.899201\n",
       "c   -0.118678\n",
       "d    2.222184\n",
       "e    0.364098\n",
       "dtype: float64"
      ]
     },
     "execution_count": 68,
     "metadata": {},
     "output_type": "execute_result"
    }
   ],
   "source": [
    "s = pd.Series(np.random.randn(5), \n",
    "             index=['a', 'b', 'c', 'd', 'e'])\n",
    "s"
   ]
  },
  {
   "cell_type": "code",
   "execution_count": 69,
   "metadata": {
    "tags": []
   },
   "outputs": [
    {
     "data": {
      "text/plain": [
       "Index(['a', 'b', 'c', 'd', 'e'], dtype='object')"
      ]
     },
     "execution_count": 69,
     "metadata": {},
     "output_type": "execute_result"
    }
   ],
   "source": [
    "s.index"
   ]
  },
  {
   "cell_type": "code",
   "execution_count": 70,
   "metadata": {
    "tags": []
   },
   "outputs": [
    {
     "data": {
      "text/plain": [
       "array([ 0.20847547,  0.89920081, -0.11867825,  2.22218407,  0.3640984 ])"
      ]
     },
     "execution_count": 70,
     "metadata": {},
     "output_type": "execute_result"
    }
   ],
   "source": [
    "s.values"
   ]
  },
  {
   "cell_type": "code",
   "execution_count": 71,
   "metadata": {
    "tags": []
   },
   "outputs": [
    {
     "data": {
      "text/plain": [
       "a    0.208475\n",
       "c   -0.118678\n",
       "dtype: float64"
      ]
     },
     "execution_count": 71,
     "metadata": {},
     "output_type": "execute_result"
    }
   ],
   "source": [
    "s[['a', 'c']] "
   ]
  },
  {
   "cell_type": "markdown",
   "metadata": {},
   "source": [
    "Be careful when you combine the slice operator with label-based indexing. Unlike vanilla Python, Pandas includes **both** end-points!"
   ]
  },
  {
   "cell_type": "code",
   "execution_count": 72,
   "metadata": {
    "tags": []
   },
   "outputs": [
    {
     "data": {
      "text/plain": [
       "a    0.208475\n",
       "b    0.899201\n",
       "c   -0.118678\n",
       "d    2.222184\n",
       "dtype: float64"
      ]
     },
     "execution_count": 72,
     "metadata": {},
     "output_type": "execute_result"
    }
   ],
   "source": [
    "s['a':'d']"
   ]
  },
  {
   "cell_type": "markdown",
   "metadata": {},
   "source": [
    "<a id='df'></a>\n",
    "## DataFrames"
   ]
  },
  {
   "cell_type": "markdown",
   "metadata": {},
   "source": [
    "A *DataFrame* is a 2-dimensional labeled data structure with possibly **different** data types. It is the most commonly used Pandas object. The *index* of a DataFrame refers to the row labels (axis 0). The *columns* refer to the column labels (axis 1).\n",
    "\n",
    "DataFrames can be constructed from Series, dictionaries, lists and 2-d arrays. For our course, we will typically create a DataFrame directly from a file.\n",
    "\n",
    "We can create a DataFrame from the earlier series."
   ]
  },
  {
   "cell_type": "code",
   "execution_count": 73,
   "metadata": {
    "tags": []
   },
   "outputs": [],
   "source": [
    "laliga = pd.DataFrame({'Year': year,\n",
    "              'Team': team,\n",
    "              'Wins': wins,\n",
    "              'Draws': draws,\n",
    "              'Losses': losses\n",
    "})"
   ]
  },
  {
   "cell_type": "markdown",
   "metadata": {},
   "source": [
    "To inspect a DataFrame, we can use `info()`, `head()` and `tail()` methods."
   ]
  },
  {
   "cell_type": "code",
   "execution_count": 74,
   "metadata": {
    "tags": []
   },
   "outputs": [
    {
     "name": "stdout",
     "output_type": "stream",
     "text": [
      "<class 'pandas.core.frame.DataFrame'>\n",
      "RangeIndex: 9 entries, 0 to 8\n",
      "Data columns (total 5 columns):\n",
      " #   Column  Non-Null Count  Dtype \n",
      "---  ------  --------------  ----- \n",
      " 0   Year    9 non-null      int64 \n",
      " 1   Team    9 non-null      object\n",
      " 2   Wins    9 non-null      int64 \n",
      " 3   Draws   9 non-null      int64 \n",
      " 4   Losses  9 non-null      int64 \n",
      "dtypes: int64(4), object(1)\n",
      "memory usage: 492.0+ bytes\n"
     ]
    }
   ],
   "source": [
    "laliga.info()"
   ]
  },
  {
   "cell_type": "code",
   "execution_count": 75,
   "metadata": {
    "scrolled": true,
    "tags": []
   },
   "outputs": [
    {
     "data": {
      "text/html": [
       "<div>\n",
       "<style scoped>\n",
       "    .dataframe tbody tr th:only-of-type {\n",
       "        vertical-align: middle;\n",
       "    }\n",
       "\n",
       "    .dataframe tbody tr th {\n",
       "        vertical-align: top;\n",
       "    }\n",
       "\n",
       "    .dataframe thead th {\n",
       "        text-align: right;\n",
       "    }\n",
       "</style>\n",
       "<table border=\"1\" class=\"dataframe\">\n",
       "  <thead>\n",
       "    <tr style=\"text-align: right;\">\n",
       "      <th></th>\n",
       "      <th>Year</th>\n",
       "      <th>Team</th>\n",
       "      <th>Wins</th>\n",
       "      <th>Draws</th>\n",
       "      <th>Losses</th>\n",
       "    </tr>\n",
       "  </thead>\n",
       "  <tbody>\n",
       "    <tr>\n",
       "      <th>0</th>\n",
       "      <td>2010</td>\n",
       "      <td>Barcelona</td>\n",
       "      <td>30</td>\n",
       "      <td>6</td>\n",
       "      <td>2</td>\n",
       "    </tr>\n",
       "    <tr>\n",
       "      <th>1</th>\n",
       "      <td>2011</td>\n",
       "      <td>Barcelona</td>\n",
       "      <td>28</td>\n",
       "      <td>7</td>\n",
       "      <td>3</td>\n",
       "    </tr>\n",
       "    <tr>\n",
       "      <th>2</th>\n",
       "      <td>2012</td>\n",
       "      <td>Barcelona</td>\n",
       "      <td>32</td>\n",
       "      <td>4</td>\n",
       "      <td>2</td>\n",
       "    </tr>\n",
       "    <tr>\n",
       "      <th>3</th>\n",
       "      <td>2010</td>\n",
       "      <td>RealMadrid</td>\n",
       "      <td>29</td>\n",
       "      <td>5</td>\n",
       "      <td>4</td>\n",
       "    </tr>\n",
       "    <tr>\n",
       "      <th>4</th>\n",
       "      <td>2011</td>\n",
       "      <td>RealMadrid</td>\n",
       "      <td>32</td>\n",
       "      <td>4</td>\n",
       "      <td>2</td>\n",
       "    </tr>\n",
       "  </tbody>\n",
       "</table>\n",
       "</div>"
      ],
      "text/plain": [
       "   Year        Team  Wins  Draws  Losses\n",
       "0  2010   Barcelona    30      6       2\n",
       "1  2011   Barcelona    28      7       3\n",
       "2  2012   Barcelona    32      4       2\n",
       "3  2010  RealMadrid    29      5       4\n",
       "4  2011  RealMadrid    32      4       2"
      ]
     },
     "execution_count": 75,
     "metadata": {},
     "output_type": "execute_result"
    }
   ],
   "source": [
    "laliga.head()"
   ]
  },
  {
   "cell_type": "markdown",
   "metadata": {},
   "source": [
    "We can also export the DataFrame to disk as plaintext (e.g., JSON, CSV, etc.)."
   ]
  },
  {
   "cell_type": "code",
   "execution_count": 76,
   "metadata": {
    "tags": []
   },
   "outputs": [],
   "source": [
    "laliga.to_json('../data/laliga.json')"
   ]
  },
  {
   "cell_type": "markdown",
   "metadata": {},
   "source": [
    "### DataFrame from NumPy Arrays"
   ]
  },
  {
   "cell_type": "code",
   "execution_count": 77,
   "metadata": {
    "tags": []
   },
   "outputs": [],
   "source": [
    "np.random.seed(5003)\n",
    "x = np.random.randn(12, 5)\n",
    "x_df = pd.DataFrame(x, columns = list('ABCDE')) # list(string) creates a list of its characters."
   ]
  },
  {
   "cell_type": "code",
   "execution_count": 78,
   "metadata": {
    "tags": []
   },
   "outputs": [
    {
     "data": {
      "text/html": [
       "<div>\n",
       "<style scoped>\n",
       "    .dataframe tbody tr th:only-of-type {\n",
       "        vertical-align: middle;\n",
       "    }\n",
       "\n",
       "    .dataframe tbody tr th {\n",
       "        vertical-align: top;\n",
       "    }\n",
       "\n",
       "    .dataframe thead th {\n",
       "        text-align: right;\n",
       "    }\n",
       "</style>\n",
       "<table border=\"1\" class=\"dataframe\">\n",
       "  <thead>\n",
       "    <tr style=\"text-align: right;\">\n",
       "      <th></th>\n",
       "      <th>A</th>\n",
       "      <th>B</th>\n",
       "      <th>C</th>\n",
       "      <th>D</th>\n",
       "      <th>E</th>\n",
       "    </tr>\n",
       "  </thead>\n",
       "  <tbody>\n",
       "    <tr>\n",
       "      <th>0</th>\n",
       "      <td>0.140142</td>\n",
       "      <td>0.627792</td>\n",
       "      <td>1.224455</td>\n",
       "      <td>0.225954</td>\n",
       "      <td>-0.338453</td>\n",
       "    </tr>\n",
       "    <tr>\n",
       "      <th>1</th>\n",
       "      <td>-0.014805</td>\n",
       "      <td>-0.409586</td>\n",
       "      <td>1.522787</td>\n",
       "      <td>1.318688</td>\n",
       "      <td>-0.580116</td>\n",
       "    </tr>\n",
       "    <tr>\n",
       "      <th>2</th>\n",
       "      <td>2.074964</td>\n",
       "      <td>-1.557088</td>\n",
       "      <td>1.099696</td>\n",
       "      <td>0.318733</td>\n",
       "      <td>-0.078873</td>\n",
       "    </tr>\n",
       "  </tbody>\n",
       "</table>\n",
       "</div>"
      ],
      "text/plain": [
       "          A         B         C         D         E\n",
       "0  0.140142  0.627792  1.224455  0.225954 -0.338453\n",
       "1 -0.014805 -0.409586  1.522787  1.318688 -0.580116\n",
       "2  2.074964 -1.557088  1.099696  0.318733 -0.078873"
      ]
     },
     "execution_count": 78,
     "metadata": {},
     "output_type": "execute_result"
    }
   ],
   "source": [
    "x_df.head(n = 3)"
   ]
  },
  {
   "cell_type": "code",
   "execution_count": 79,
   "metadata": {
    "tags": []
   },
   "outputs": [
    {
     "data": {
      "text/plain": [
       "array([[ True,  True,  True,  True,  True],\n",
       "       [ True,  True,  True,  True,  True],\n",
       "       [ True,  True,  True,  True,  True],\n",
       "       [ True,  True,  True,  True,  True],\n",
       "       [ True,  True,  True,  True,  True],\n",
       "       [ True,  True,  True,  True,  True],\n",
       "       [ True,  True,  True,  True,  True],\n",
       "       [ True,  True,  True,  True,  True],\n",
       "       [ True,  True,  True,  True,  True],\n",
       "       [ True,  True,  True,  True,  True],\n",
       "       [ True,  True,  True,  True,  True],\n",
       "       [ True,  True,  True,  True,  True]])"
      ]
     },
     "execution_count": 79,
     "metadata": {},
     "output_type": "execute_result"
    }
   ],
   "source": [
    "# We can convert DataFrames back to ndarrays.\n",
    "x_df.to_numpy() == x"
   ]
  },
  {
   "cell_type": "markdown",
   "metadata": {},
   "source": [
    "### Reading in Data\n",
    "\n",
    "The CSV file read here contains the happiness scores of 164 countries from 2015 to 2017. Click [here](https://worldhappiness.report/ed/2017/) for a full report on the dataset.\n",
    "\n",
    "The final score was based on many other factors (such as GDP per capita, family, freedom etc) which is included in the file as well. We will simplify things by just reading in the country, final score computed and year.\n",
    "\n",
    "In each year, not all of the 164 countries had their scores surveyed and taken. This results in some countries having missing values (`NaN`) in certain years.\n",
    "\n",
    "Besides reading in CSV formats, pandas can read in tab-separated files, Excel files and HDF5 files."
   ]
  },
  {
   "cell_type": "code",
   "execution_count": 80,
   "metadata": {
    "tags": []
   },
   "outputs": [
    {
     "data": {
      "text/html": [
       "<div>\n",
       "<style scoped>\n",
       "    .dataframe tbody tr th:only-of-type {\n",
       "        vertical-align: middle;\n",
       "    }\n",
       "\n",
       "    .dataframe tbody tr th {\n",
       "        vertical-align: top;\n",
       "    }\n",
       "\n",
       "    .dataframe thead th {\n",
       "        text-align: right;\n",
       "    }\n",
       "</style>\n",
       "<table border=\"1\" class=\"dataframe\">\n",
       "  <thead>\n",
       "    <tr style=\"text-align: right;\">\n",
       "      <th></th>\n",
       "      <th>Country</th>\n",
       "      <th>Happiness.Rank</th>\n",
       "      <th>Happiness.Score</th>\n",
       "      <th>GDP</th>\n",
       "      <th>Family</th>\n",
       "      <th>Life.Expectancy</th>\n",
       "      <th>Freedom</th>\n",
       "      <th>Govt.Corruption</th>\n",
       "      <th>Generosity</th>\n",
       "      <th>Dystopia.Residual</th>\n",
       "      <th>Year</th>\n",
       "    </tr>\n",
       "  </thead>\n",
       "  <tbody>\n",
       "    <tr>\n",
       "      <th>0</th>\n",
       "      <td>Switzerland</td>\n",
       "      <td>1.0</td>\n",
       "      <td>7.587</td>\n",
       "      <td>1.39651</td>\n",
       "      <td>1.34951</td>\n",
       "      <td>0.94143</td>\n",
       "      <td>0.66557</td>\n",
       "      <td>0.41978</td>\n",
       "      <td>0.29678</td>\n",
       "      <td>2.51738</td>\n",
       "      <td>2015</td>\n",
       "    </tr>\n",
       "    <tr>\n",
       "      <th>1</th>\n",
       "      <td>Iceland</td>\n",
       "      <td>2.0</td>\n",
       "      <td>7.561</td>\n",
       "      <td>1.30232</td>\n",
       "      <td>1.40223</td>\n",
       "      <td>0.94784</td>\n",
       "      <td>0.62877</td>\n",
       "      <td>0.14145</td>\n",
       "      <td>0.43630</td>\n",
       "      <td>2.70201</td>\n",
       "      <td>2015</td>\n",
       "    </tr>\n",
       "    <tr>\n",
       "      <th>2</th>\n",
       "      <td>Denmark</td>\n",
       "      <td>3.0</td>\n",
       "      <td>7.527</td>\n",
       "      <td>1.32548</td>\n",
       "      <td>1.36058</td>\n",
       "      <td>0.87464</td>\n",
       "      <td>0.64938</td>\n",
       "      <td>0.48357</td>\n",
       "      <td>0.34139</td>\n",
       "      <td>2.49204</td>\n",
       "      <td>2015</td>\n",
       "    </tr>\n",
       "    <tr>\n",
       "      <th>3</th>\n",
       "      <td>Norway</td>\n",
       "      <td>4.0</td>\n",
       "      <td>7.522</td>\n",
       "      <td>1.45900</td>\n",
       "      <td>1.33095</td>\n",
       "      <td>0.88521</td>\n",
       "      <td>0.66973</td>\n",
       "      <td>0.36503</td>\n",
       "      <td>0.34699</td>\n",
       "      <td>2.46531</td>\n",
       "      <td>2015</td>\n",
       "    </tr>\n",
       "    <tr>\n",
       "      <th>4</th>\n",
       "      <td>Canada</td>\n",
       "      <td>5.0</td>\n",
       "      <td>7.427</td>\n",
       "      <td>1.32629</td>\n",
       "      <td>1.32261</td>\n",
       "      <td>0.90563</td>\n",
       "      <td>0.63297</td>\n",
       "      <td>0.32957</td>\n",
       "      <td>0.45811</td>\n",
       "      <td>2.45176</td>\n",
       "      <td>2015</td>\n",
       "    </tr>\n",
       "  </tbody>\n",
       "</table>\n",
       "</div>"
      ],
      "text/plain": [
       "       Country  Happiness.Rank  Happiness.Score      GDP   Family  \\\n",
       "0  Switzerland             1.0            7.587  1.39651  1.34951   \n",
       "1      Iceland             2.0            7.561  1.30232  1.40223   \n",
       "2      Denmark             3.0            7.527  1.32548  1.36058   \n",
       "3       Norway             4.0            7.522  1.45900  1.33095   \n",
       "4       Canada             5.0            7.427  1.32629  1.32261   \n",
       "\n",
       "   Life.Expectancy  Freedom  Govt.Corruption  Generosity  Dystopia.Residual  \\\n",
       "0          0.94143  0.66557          0.41978     0.29678            2.51738   \n",
       "1          0.94784  0.62877          0.14145     0.43630            2.70201   \n",
       "2          0.87464  0.64938          0.48357     0.34139            2.49204   \n",
       "3          0.88521  0.66973          0.36503     0.34699            2.46531   \n",
       "4          0.90563  0.63297          0.32957     0.45811            2.45176   \n",
       "\n",
       "   Year  \n",
       "0  2015  \n",
       "1  2015  \n",
       "2  2015  \n",
       "3  2015  \n",
       "4  2015  "
      ]
     },
     "execution_count": 80,
     "metadata": {},
     "output_type": "execute_result"
    }
   ],
   "source": [
    "happ = pd.read_csv('../data/happiness_report.csv', header = 0, na_values = 'NA')\n",
    "\n",
    "happ.head()\n",
    "#happ.tail()\n",
    "#happ.info()"
   ]
  },
  {
   "cell_type": "code",
   "execution_count": 81,
   "metadata": {
    "scrolled": true,
    "tags": []
   },
   "outputs": [
    {
     "data": {
      "text/plain": [
       "Index(['Country', 'Happiness.Rank', 'Happiness.Score', 'GDP', 'Family',\n",
       "       'Life.Expectancy', 'Freedom', 'Govt.Corruption', 'Generosity',\n",
       "       'Dystopia.Residual', 'Year'],\n",
       "      dtype='object')"
      ]
     },
     "execution_count": 81,
     "metadata": {},
     "output_type": "execute_result"
    }
   ],
   "source": [
    "happ.columns"
   ]
  },
  {
   "cell_type": "code",
   "execution_count": 82,
   "metadata": {
    "tags": []
   },
   "outputs": [
    {
     "data": {
      "text/plain": [
       "(492, 11)"
      ]
     },
     "execution_count": 82,
     "metadata": {},
     "output_type": "execute_result"
    }
   ],
   "source": [
    "happ.shape"
   ]
  },
  {
   "cell_type": "code",
   "execution_count": 83,
   "metadata": {
    "tags": []
   },
   "outputs": [
    {
     "data": {
      "text/html": [
       "<div>\n",
       "<style scoped>\n",
       "    .dataframe tbody tr th:only-of-type {\n",
       "        vertical-align: middle;\n",
       "    }\n",
       "\n",
       "    .dataframe tbody tr th {\n",
       "        vertical-align: top;\n",
       "    }\n",
       "\n",
       "    .dataframe thead th {\n",
       "        text-align: right;\n",
       "    }\n",
       "</style>\n",
       "<table border=\"1\" class=\"dataframe\">\n",
       "  <thead>\n",
       "    <tr style=\"text-align: right;\">\n",
       "      <th></th>\n",
       "      <th>Happiness.Rank</th>\n",
       "      <th>Happiness.Score</th>\n",
       "      <th>GDP</th>\n",
       "      <th>Family</th>\n",
       "      <th>Life.Expectancy</th>\n",
       "      <th>Freedom</th>\n",
       "      <th>Govt.Corruption</th>\n",
       "      <th>Generosity</th>\n",
       "      <th>Dystopia.Residual</th>\n",
       "      <th>Year</th>\n",
       "    </tr>\n",
       "  </thead>\n",
       "  <tbody>\n",
       "    <tr>\n",
       "      <th>count</th>\n",
       "      <td>471.000000</td>\n",
       "      <td>471.000000</td>\n",
       "      <td>471.000000</td>\n",
       "      <td>471.000000</td>\n",
       "      <td>471.000000</td>\n",
       "      <td>471.000000</td>\n",
       "      <td>471.000000</td>\n",
       "      <td>471.000000</td>\n",
       "      <td>471.000000</td>\n",
       "      <td>492.000000</td>\n",
       "    </tr>\n",
       "    <tr>\n",
       "      <th>mean</th>\n",
       "      <td>79.002123</td>\n",
       "      <td>5.368588</td>\n",
       "      <td>0.891742</td>\n",
       "      <td>1.056156</td>\n",
       "      <td>0.604288</td>\n",
       "      <td>0.422089</td>\n",
       "      <td>0.136741</td>\n",
       "      <td>0.240451</td>\n",
       "      <td>2.017120</td>\n",
       "      <td>2016.000000</td>\n",
       "    </tr>\n",
       "    <tr>\n",
       "      <th>std</th>\n",
       "      <td>45.379933</td>\n",
       "      <td>1.138111</td>\n",
       "      <td>0.413322</td>\n",
       "      <td>0.291996</td>\n",
       "      <td>0.246127</td>\n",
       "      <td>0.150433</td>\n",
       "      <td>0.114470</td>\n",
       "      <td>0.129208</td>\n",
       "      <td>0.548021</td>\n",
       "      <td>0.817328</td>\n",
       "    </tr>\n",
       "    <tr>\n",
       "      <th>min</th>\n",
       "      <td>1.000000</td>\n",
       "      <td>2.693000</td>\n",
       "      <td>0.000000</td>\n",
       "      <td>0.000000</td>\n",
       "      <td>0.000000</td>\n",
       "      <td>0.000000</td>\n",
       "      <td>0.000000</td>\n",
       "      <td>0.000000</td>\n",
       "      <td>0.328580</td>\n",
       "      <td>2015.000000</td>\n",
       "    </tr>\n",
       "    <tr>\n",
       "      <th>25%</th>\n",
       "      <td>40.000000</td>\n",
       "      <td>4.517500</td>\n",
       "      <td>0.593250</td>\n",
       "      <td>0.904550</td>\n",
       "      <td>0.431752</td>\n",
       "      <td>0.319140</td>\n",
       "      <td>0.059815</td>\n",
       "      <td>0.152412</td>\n",
       "      <td>1.684842</td>\n",
       "      <td>2015.000000</td>\n",
       "    </tr>\n",
       "    <tr>\n",
       "      <th>50%</th>\n",
       "      <td>79.000000</td>\n",
       "      <td>5.268000</td>\n",
       "      <td>0.958470</td>\n",
       "      <td>1.095620</td>\n",
       "      <td>0.650880</td>\n",
       "      <td>0.436260</td>\n",
       "      <td>0.099872</td>\n",
       "      <td>0.219000</td>\n",
       "      <td>1.978736</td>\n",
       "      <td>2016.000000</td>\n",
       "    </tr>\n",
       "    <tr>\n",
       "      <th>75%</th>\n",
       "      <td>118.000000</td>\n",
       "      <td>6.168000</td>\n",
       "      <td>1.211830</td>\n",
       "      <td>1.265725</td>\n",
       "      <td>0.790819</td>\n",
       "      <td>0.542100</td>\n",
       "      <td>0.174220</td>\n",
       "      <td>0.318440</td>\n",
       "      <td>2.368290</td>\n",
       "      <td>2017.000000</td>\n",
       "    </tr>\n",
       "    <tr>\n",
       "      <th>max</th>\n",
       "      <td>158.000000</td>\n",
       "      <td>7.587000</td>\n",
       "      <td>1.870766</td>\n",
       "      <td>1.610574</td>\n",
       "      <td>1.025250</td>\n",
       "      <td>0.669730</td>\n",
       "      <td>0.551910</td>\n",
       "      <td>0.838075</td>\n",
       "      <td>3.602140</td>\n",
       "      <td>2017.000000</td>\n",
       "    </tr>\n",
       "  </tbody>\n",
       "</table>\n",
       "</div>"
      ],
      "text/plain": [
       "       Happiness.Rank  Happiness.Score         GDP      Family  \\\n",
       "count      471.000000       471.000000  471.000000  471.000000   \n",
       "mean        79.002123         5.368588    0.891742    1.056156   \n",
       "std         45.379933         1.138111    0.413322    0.291996   \n",
       "min          1.000000         2.693000    0.000000    0.000000   \n",
       "25%         40.000000         4.517500    0.593250    0.904550   \n",
       "50%         79.000000         5.268000    0.958470    1.095620   \n",
       "75%        118.000000         6.168000    1.211830    1.265725   \n",
       "max        158.000000         7.587000    1.870766    1.610574   \n",
       "\n",
       "       Life.Expectancy     Freedom  Govt.Corruption  Generosity  \\\n",
       "count       471.000000  471.000000       471.000000  471.000000   \n",
       "mean          0.604288    0.422089         0.136741    0.240451   \n",
       "std           0.246127    0.150433         0.114470    0.129208   \n",
       "min           0.000000    0.000000         0.000000    0.000000   \n",
       "25%           0.431752    0.319140         0.059815    0.152412   \n",
       "50%           0.650880    0.436260         0.099872    0.219000   \n",
       "75%           0.790819    0.542100         0.174220    0.318440   \n",
       "max           1.025250    0.669730         0.551910    0.838075   \n",
       "\n",
       "       Dystopia.Residual         Year  \n",
       "count         471.000000   492.000000  \n",
       "mean            2.017120  2016.000000  \n",
       "std             0.548021     0.817328  \n",
       "min             0.328580  2015.000000  \n",
       "25%             1.684842  2015.000000  \n",
       "50%             1.978736  2016.000000  \n",
       "75%             2.368290  2017.000000  \n",
       "max             3.602140  2017.000000  "
      ]
     },
     "execution_count": 83,
     "metadata": {},
     "output_type": "execute_result"
    }
   ],
   "source": [
    "happ.describe()"
   ]
  },
  {
   "cell_type": "code",
   "execution_count": 84,
   "metadata": {
    "scrolled": true,
    "tags": []
   },
   "outputs": [
    {
     "data": {
      "image/png": "[encoded data removed]",
      "text/plain": [
       "<Figure size 640x480 with 1 Axes>"
      ]
     },
     "metadata": {},
     "output_type": "display_data"
    }
   ],
   "source": [
    "happ['Govt.Corruption'].plot(kind = \"hist\");"
   ]
  },
  {
   "cell_type": "markdown",
   "metadata": {},
   "source": [
    "### Basic Selection\n",
    "\n",
    "Row selection can be done with integers in the slice operator. In practice, this is not used, because we typically wish to select a set of rows based on a condition."
   ]
  },
  {
   "cell_type": "code",
   "execution_count": 85,
   "metadata": {
    "scrolled": true,
    "tags": []
   },
   "outputs": [
    {
     "data": {
      "text/html": [
       "<div>\n",
       "<style scoped>\n",
       "    .dataframe tbody tr th:only-of-type {\n",
       "        vertical-align: middle;\n",
       "    }\n",
       "\n",
       "    .dataframe tbody tr th {\n",
       "        vertical-align: top;\n",
       "    }\n",
       "\n",
       "    .dataframe thead th {\n",
       "        text-align: right;\n",
       "    }\n",
       "</style>\n",
       "<table border=\"1\" class=\"dataframe\">\n",
       "  <thead>\n",
       "    <tr style=\"text-align: right;\">\n",
       "      <th></th>\n",
       "      <th>Country</th>\n",
       "      <th>Happiness.Rank</th>\n",
       "      <th>Happiness.Score</th>\n",
       "      <th>GDP</th>\n",
       "      <th>Family</th>\n",
       "      <th>Life.Expectancy</th>\n",
       "      <th>Freedom</th>\n",
       "      <th>Govt.Corruption</th>\n",
       "      <th>Generosity</th>\n",
       "      <th>Dystopia.Residual</th>\n",
       "      <th>Year</th>\n",
       "    </tr>\n",
       "  </thead>\n",
       "  <tbody>\n",
       "    <tr>\n",
       "      <th>10</th>\n",
       "      <td>Israel</td>\n",
       "      <td>11.0</td>\n",
       "      <td>7.278</td>\n",
       "      <td>1.22857</td>\n",
       "      <td>1.22393</td>\n",
       "      <td>0.91387</td>\n",
       "      <td>0.41319</td>\n",
       "      <td>0.07785</td>\n",
       "      <td>0.33172</td>\n",
       "      <td>3.08854</td>\n",
       "      <td>2015</td>\n",
       "    </tr>\n",
       "    <tr>\n",
       "      <th>11</th>\n",
       "      <td>Costa Rica</td>\n",
       "      <td>12.0</td>\n",
       "      <td>7.226</td>\n",
       "      <td>0.95578</td>\n",
       "      <td>1.23788</td>\n",
       "      <td>0.86027</td>\n",
       "      <td>0.63376</td>\n",
       "      <td>0.10583</td>\n",
       "      <td>0.25497</td>\n",
       "      <td>3.17728</td>\n",
       "      <td>2015</td>\n",
       "    </tr>\n",
       "  </tbody>\n",
       "</table>\n",
       "</div>"
      ],
      "text/plain": [
       "       Country  Happiness.Rank  Happiness.Score      GDP   Family  \\\n",
       "10      Israel            11.0            7.278  1.22857  1.22393   \n",
       "11  Costa Rica            12.0            7.226  0.95578  1.23788   \n",
       "\n",
       "    Life.Expectancy  Freedom  Govt.Corruption  Generosity  Dystopia.Residual  \\\n",
       "10          0.91387  0.41319          0.07785     0.33172            3.08854   \n",
       "11          0.86027  0.63376          0.10583     0.25497            3.17728   \n",
       "\n",
       "    Year  \n",
       "10  2015  \n",
       "11  2015  "
      ]
     },
     "execution_count": 85,
     "metadata": {},
     "output_type": "execute_result"
    }
   ],
   "source": [
    "happ[10:12]"
   ]
  },
  {
   "cell_type": "markdown",
   "metadata": {},
   "source": [
    "To select columns, you may use a list of column names."
   ]
  },
  {
   "cell_type": "code",
   "execution_count": 86,
   "metadata": {
    "tags": []
   },
   "outputs": [
    {
     "data": {
      "text/html": [
       "<div>\n",
       "<style scoped>\n",
       "    .dataframe tbody tr th:only-of-type {\n",
       "        vertical-align: middle;\n",
       "    }\n",
       "\n",
       "    .dataframe tbody tr th {\n",
       "        vertical-align: top;\n",
       "    }\n",
       "\n",
       "    .dataframe thead th {\n",
       "        text-align: right;\n",
       "    }\n",
       "</style>\n",
       "<table border=\"1\" class=\"dataframe\">\n",
       "  <thead>\n",
       "    <tr style=\"text-align: right;\">\n",
       "      <th></th>\n",
       "      <th>GDP</th>\n",
       "      <th>Freedom</th>\n",
       "    </tr>\n",
       "  </thead>\n",
       "  <tbody>\n",
       "    <tr>\n",
       "      <th>0</th>\n",
       "      <td>1.39651</td>\n",
       "      <td>0.66557</td>\n",
       "    </tr>\n",
       "    <tr>\n",
       "      <th>1</th>\n",
       "      <td>1.30232</td>\n",
       "      <td>0.62877</td>\n",
       "    </tr>\n",
       "    <tr>\n",
       "      <th>2</th>\n",
       "      <td>1.32548</td>\n",
       "      <td>0.64938</td>\n",
       "    </tr>\n",
       "    <tr>\n",
       "      <th>3</th>\n",
       "      <td>1.45900</td>\n",
       "      <td>0.66973</td>\n",
       "    </tr>\n",
       "    <tr>\n",
       "      <th>4</th>\n",
       "      <td>1.32629</td>\n",
       "      <td>0.63297</td>\n",
       "    </tr>\n",
       "    <tr>\n",
       "      <th>...</th>\n",
       "      <td>...</td>\n",
       "      <td>...</td>\n",
       "    </tr>\n",
       "    <tr>\n",
       "      <th>487</th>\n",
       "      <td>NaN</td>\n",
       "      <td>NaN</td>\n",
       "    </tr>\n",
       "    <tr>\n",
       "      <th>488</th>\n",
       "      <td>NaN</td>\n",
       "      <td>NaN</td>\n",
       "    </tr>\n",
       "    <tr>\n",
       "      <th>489</th>\n",
       "      <td>NaN</td>\n",
       "      <td>NaN</td>\n",
       "    </tr>\n",
       "    <tr>\n",
       "      <th>490</th>\n",
       "      <td>NaN</td>\n",
       "      <td>NaN</td>\n",
       "    </tr>\n",
       "    <tr>\n",
       "      <th>491</th>\n",
       "      <td>NaN</td>\n",
       "      <td>NaN</td>\n",
       "    </tr>\n",
       "  </tbody>\n",
       "</table>\n",
       "<p>492 rows × 2 columns</p>\n",
       "</div>"
      ],
      "text/plain": [
       "         GDP  Freedom\n",
       "0    1.39651  0.66557\n",
       "1    1.30232  0.62877\n",
       "2    1.32548  0.64938\n",
       "3    1.45900  0.66973\n",
       "4    1.32629  0.63297\n",
       "..       ...      ...\n",
       "487      NaN      NaN\n",
       "488      NaN      NaN\n",
       "489      NaN      NaN\n",
       "490      NaN      NaN\n",
       "491      NaN      NaN\n",
       "\n",
       "[492 rows x 2 columns]"
      ]
     },
     "execution_count": 86,
     "metadata": {},
     "output_type": "execute_result"
    }
   ],
   "source": [
    "happ[['GDP', 'Freedom']] # note the difference with happ['GDP']\n",
    "# happ.GDP.head()"
   ]
  },
  {
   "cell_type": "markdown",
   "metadata": {},
   "source": [
    "Remember that we are not working with numpy arrays, so this will not work:"
   ]
  },
  {
   "cell_type": "code",
   "execution_count": 1,
   "metadata": {
    "tags": []
   },
   "outputs": [],
   "source": [
    "# happ[0:10, 2:4]"
   ]
  },
  {
   "cell_type": "code",
   "execution_count": 134,
   "metadata": {
    "tags": []
   },
   "outputs": [
    {
     "data": {
      "text/html": [
       "<div>\n",
       "<style scoped>\n",
       "    .dataframe tbody tr th:only-of-type {\n",
       "        vertical-align: middle;\n",
       "    }\n",
       "\n",
       "    .dataframe tbody tr th {\n",
       "        vertical-align: top;\n",
       "    }\n",
       "\n",
       "    .dataframe thead th {\n",
       "        text-align: right;\n",
       "    }\n",
       "</style>\n",
       "<table border=\"1\" class=\"dataframe\">\n",
       "  <thead>\n",
       "    <tr style=\"text-align: right;\">\n",
       "      <th></th>\n",
       "      <th>Country</th>\n",
       "      <th>Happiness.Rank</th>\n",
       "      <th>Happiness.Score</th>\n",
       "      <th>GDP</th>\n",
       "      <th>Family</th>\n",
       "      <th>Life.Expectancy</th>\n",
       "      <th>Freedom</th>\n",
       "      <th>Govt.Corruption</th>\n",
       "      <th>Generosity</th>\n",
       "      <th>Dystopia.Residual</th>\n",
       "      <th>Year</th>\n",
       "      <th>sqrt_HS</th>\n",
       "      <th>GDP_cat</th>\n",
       "      <th>region</th>\n",
       "    </tr>\n",
       "  </thead>\n",
       "  <tbody>\n",
       "    <tr>\n",
       "      <th>2</th>\n",
       "      <td>Denmark</td>\n",
       "      <td>3.0</td>\n",
       "      <td>7.527</td>\n",
       "      <td>1.32548</td>\n",
       "      <td>1.36058</td>\n",
       "      <td>0.87464</td>\n",
       "      <td>0.64938</td>\n",
       "      <td>0.48357</td>\n",
       "      <td>0.34139</td>\n",
       "      <td>2.49204</td>\n",
       "      <td>2015</td>\n",
       "      <td>2.743538</td>\n",
       "      <td>med</td>\n",
       "      <td>not_SEA</td>\n",
       "    </tr>\n",
       "    <tr>\n",
       "      <th>3</th>\n",
       "      <td>Norway</td>\n",
       "      <td>4.0</td>\n",
       "      <td>7.522</td>\n",
       "      <td>1.45900</td>\n",
       "      <td>1.33095</td>\n",
       "      <td>0.88521</td>\n",
       "      <td>0.66973</td>\n",
       "      <td>0.36503</td>\n",
       "      <td>0.34699</td>\n",
       "      <td>2.46531</td>\n",
       "      <td>2015</td>\n",
       "      <td>2.742626</td>\n",
       "      <td>med</td>\n",
       "      <td>not_SEA</td>\n",
       "    </tr>\n",
       "  </tbody>\n",
       "</table>\n",
       "</div>"
      ],
      "text/plain": [
       "   Country  Happiness.Rank  Happiness.Score      GDP   Family  \\\n",
       "2  Denmark             3.0            7.527  1.32548  1.36058   \n",
       "3   Norway             4.0            7.522  1.45900  1.33095   \n",
       "\n",
       "   Life.Expectancy  Freedom  Govt.Corruption  Generosity  Dystopia.Residual  \\\n",
       "2          0.87464  0.64938          0.48357     0.34139            2.49204   \n",
       "3          0.88521  0.66973          0.36503     0.34699            2.46531   \n",
       "\n",
       "   Year   sqrt_HS GDP_cat   region  \n",
       "2  2015  2.743538     med  not_SEA  \n",
       "3  2015  2.742626     med  not_SEA  "
      ]
     },
     "execution_count": 134,
     "metadata": {},
     "output_type": "execute_result"
    }
   ],
   "source": [
    "happ[0:10][2:4]"
   ]
  },
  {
   "cell_type": "code",
   "execution_count": null,
   "metadata": {},
   "outputs": [],
   "source": []
  },
  {
   "cell_type": "markdown",
   "metadata": {},
   "source": [
    "### Indexing and Selecting Data\n",
    "\n",
    "The two main methods of advanced data selection use the `.loc` and `.iloc` functions. Although we call them functions, they are summoned using the `[ ]` notation. The `.loc` is primarily label-based. The common allowed inputs to `.loc` are \n",
    "* a single label,\n",
    "* a list of labels,\n",
    "* a slice object, \n",
    "* a boolean array.\n",
    "\n",
    "The `.iloc` is primarily an integer-based input. The common allowed inputs to `.iloc` are \n",
    "* a single integer,\n",
    "* a list of integers,\n",
    "* a slice object, \n",
    "* a boolean array.\n",
    "  \n",
    "When selecting from a DataFrame with `.loc` or `.iloc`, we can provide a comma-separated index, just as with NumPy. It is good to keep this [reference](https://pandas.pydata.org/pandas-docs/stable/user_guide/indexing.html) page bookmarked.\n",
    "\n",
    "*Take note that this next command will only work if the Index is made up of integers!*"
   ]
  },
  {
   "cell_type": "code",
   "execution_count": 88,
   "metadata": {
    "tags": []
   },
   "outputs": [
    {
     "data": {
      "text/html": [
       "<div>\n",
       "<style scoped>\n",
       "    .dataframe tbody tr th:only-of-type {\n",
       "        vertical-align: middle;\n",
       "    }\n",
       "\n",
       "    .dataframe tbody tr th {\n",
       "        vertical-align: top;\n",
       "    }\n",
       "\n",
       "    .dataframe thead th {\n",
       "        text-align: right;\n",
       "    }\n",
       "</style>\n",
       "<table border=\"1\" class=\"dataframe\">\n",
       "  <thead>\n",
       "    <tr style=\"text-align: right;\">\n",
       "      <th></th>\n",
       "      <th>Country</th>\n",
       "      <th>Happiness.Rank</th>\n",
       "      <th>Happiness.Score</th>\n",
       "      <th>GDP</th>\n",
       "      <th>Family</th>\n",
       "      <th>Life.Expectancy</th>\n",
       "      <th>Freedom</th>\n",
       "      <th>Govt.Corruption</th>\n",
       "      <th>Generosity</th>\n",
       "      <th>Dystopia.Residual</th>\n",
       "      <th>Year</th>\n",
       "    </tr>\n",
       "  </thead>\n",
       "  <tbody>\n",
       "    <tr>\n",
       "      <th>2</th>\n",
       "      <td>Denmark</td>\n",
       "      <td>3.0</td>\n",
       "      <td>7.527</td>\n",
       "      <td>1.32548</td>\n",
       "      <td>1.36058</td>\n",
       "      <td>0.87464</td>\n",
       "      <td>0.64938</td>\n",
       "      <td>0.48357</td>\n",
       "      <td>0.34139</td>\n",
       "      <td>2.49204</td>\n",
       "      <td>2015</td>\n",
       "    </tr>\n",
       "    <tr>\n",
       "      <th>3</th>\n",
       "      <td>Norway</td>\n",
       "      <td>4.0</td>\n",
       "      <td>7.522</td>\n",
       "      <td>1.45900</td>\n",
       "      <td>1.33095</td>\n",
       "      <td>0.88521</td>\n",
       "      <td>0.66973</td>\n",
       "      <td>0.36503</td>\n",
       "      <td>0.34699</td>\n",
       "      <td>2.46531</td>\n",
       "      <td>2015</td>\n",
       "    </tr>\n",
       "    <tr>\n",
       "      <th>4</th>\n",
       "      <td>Canada</td>\n",
       "      <td>5.0</td>\n",
       "      <td>7.427</td>\n",
       "      <td>1.32629</td>\n",
       "      <td>1.32261</td>\n",
       "      <td>0.90563</td>\n",
       "      <td>0.63297</td>\n",
       "      <td>0.32957</td>\n",
       "      <td>0.45811</td>\n",
       "      <td>2.45176</td>\n",
       "      <td>2015</td>\n",
       "    </tr>\n",
       "    <tr>\n",
       "      <th>5</th>\n",
       "      <td>Finland</td>\n",
       "      <td>6.0</td>\n",
       "      <td>7.406</td>\n",
       "      <td>1.29025</td>\n",
       "      <td>1.31826</td>\n",
       "      <td>0.88911</td>\n",
       "      <td>0.64169</td>\n",
       "      <td>0.41372</td>\n",
       "      <td>0.23351</td>\n",
       "      <td>2.61955</td>\n",
       "      <td>2015</td>\n",
       "    </tr>\n",
       "  </tbody>\n",
       "</table>\n",
       "</div>"
      ],
      "text/plain": [
       "   Country  Happiness.Rank  Happiness.Score      GDP   Family  \\\n",
       "2  Denmark             3.0            7.527  1.32548  1.36058   \n",
       "3   Norway             4.0            7.522  1.45900  1.33095   \n",
       "4   Canada             5.0            7.427  1.32629  1.32261   \n",
       "5  Finland             6.0            7.406  1.29025  1.31826   \n",
       "\n",
       "   Life.Expectancy  Freedom  Govt.Corruption  Generosity  Dystopia.Residual  \\\n",
       "2          0.87464  0.64938          0.48357     0.34139            2.49204   \n",
       "3          0.88521  0.66973          0.36503     0.34699            2.46531   \n",
       "4          0.90563  0.63297          0.32957     0.45811            2.45176   \n",
       "5          0.88911  0.64169          0.41372     0.23351            2.61955   \n",
       "\n",
       "   Year  \n",
       "2  2015  \n",
       "3  2015  \n",
       "4  2015  \n",
       "5  2015  "
      ]
     },
     "execution_count": 88,
     "metadata": {},
     "output_type": "execute_result"
    }
   ],
   "source": [
    "happ.loc[2:5]"
   ]
  },
  {
   "cell_type": "code",
   "execution_count": 89,
   "metadata": {
    "tags": []
   },
   "outputs": [
    {
     "data": {
      "text/html": [
       "<div>\n",
       "<style scoped>\n",
       "    .dataframe tbody tr th:only-of-type {\n",
       "        vertical-align: middle;\n",
       "    }\n",
       "\n",
       "    .dataframe tbody tr th {\n",
       "        vertical-align: top;\n",
       "    }\n",
       "\n",
       "    .dataframe thead th {\n",
       "        text-align: right;\n",
       "    }\n",
       "</style>\n",
       "<table border=\"1\" class=\"dataframe\">\n",
       "  <thead>\n",
       "    <tr style=\"text-align: right;\">\n",
       "      <th></th>\n",
       "      <th>Country</th>\n",
       "      <th>Happiness.Rank</th>\n",
       "      <th>Happiness.Score</th>\n",
       "      <th>GDP</th>\n",
       "      <th>Family</th>\n",
       "      <th>Life.Expectancy</th>\n",
       "      <th>Freedom</th>\n",
       "      <th>Govt.Corruption</th>\n",
       "      <th>Generosity</th>\n",
       "      <th>Dystopia.Residual</th>\n",
       "      <th>Year</th>\n",
       "    </tr>\n",
       "  </thead>\n",
       "  <tbody>\n",
       "    <tr>\n",
       "      <th>2</th>\n",
       "      <td>Denmark</td>\n",
       "      <td>3.0</td>\n",
       "      <td>7.527</td>\n",
       "      <td>1.32548</td>\n",
       "      <td>1.36058</td>\n",
       "      <td>0.87464</td>\n",
       "      <td>0.64938</td>\n",
       "      <td>0.48357</td>\n",
       "      <td>0.34139</td>\n",
       "      <td>2.49204</td>\n",
       "      <td>2015</td>\n",
       "    </tr>\n",
       "    <tr>\n",
       "      <th>3</th>\n",
       "      <td>Norway</td>\n",
       "      <td>4.0</td>\n",
       "      <td>7.522</td>\n",
       "      <td>1.45900</td>\n",
       "      <td>1.33095</td>\n",
       "      <td>0.88521</td>\n",
       "      <td>0.66973</td>\n",
       "      <td>0.36503</td>\n",
       "      <td>0.34699</td>\n",
       "      <td>2.46531</td>\n",
       "      <td>2015</td>\n",
       "    </tr>\n",
       "    <tr>\n",
       "      <th>4</th>\n",
       "      <td>Canada</td>\n",
       "      <td>5.0</td>\n",
       "      <td>7.427</td>\n",
       "      <td>1.32629</td>\n",
       "      <td>1.32261</td>\n",
       "      <td>0.90563</td>\n",
       "      <td>0.63297</td>\n",
       "      <td>0.32957</td>\n",
       "      <td>0.45811</td>\n",
       "      <td>2.45176</td>\n",
       "      <td>2015</td>\n",
       "    </tr>\n",
       "    <tr>\n",
       "      <th>5</th>\n",
       "      <td>Finland</td>\n",
       "      <td>6.0</td>\n",
       "      <td>7.406</td>\n",
       "      <td>1.29025</td>\n",
       "      <td>1.31826</td>\n",
       "      <td>0.88911</td>\n",
       "      <td>0.64169</td>\n",
       "      <td>0.41372</td>\n",
       "      <td>0.23351</td>\n",
       "      <td>2.61955</td>\n",
       "      <td>2015</td>\n",
       "    </tr>\n",
       "  </tbody>\n",
       "</table>\n",
       "</div>"
      ],
      "text/plain": [
       "   Country  Happiness.Rank  Happiness.Score      GDP   Family  \\\n",
       "2  Denmark             3.0            7.527  1.32548  1.36058   \n",
       "3   Norway             4.0            7.522  1.45900  1.33095   \n",
       "4   Canada             5.0            7.427  1.32629  1.32261   \n",
       "5  Finland             6.0            7.406  1.29025  1.31826   \n",
       "\n",
       "   Life.Expectancy  Freedom  Govt.Corruption  Generosity  Dystopia.Residual  \\\n",
       "2          0.87464  0.64938          0.48357     0.34139            2.49204   \n",
       "3          0.88521  0.66973          0.36503     0.34699            2.46531   \n",
       "4          0.90563  0.63297          0.32957     0.45811            2.45176   \n",
       "5          0.88911  0.64169          0.41372     0.23351            2.61955   \n",
       "\n",
       "   Year  \n",
       "2  2015  \n",
       "3  2015  \n",
       "4  2015  \n",
       "5  2015  "
      ]
     },
     "execution_count": 89,
     "metadata": {},
     "output_type": "execute_result"
    }
   ],
   "source": [
    "happ.loc[[2, 3, 4, 5]]"
   ]
  },
  {
   "cell_type": "markdown",
   "metadata": {},
   "source": [
    "Notice how the slice operator inclusive when we use `.loc`, but not inclusive when we use `.iloc`."
   ]
  },
  {
   "cell_type": "code",
   "execution_count": 90,
   "metadata": {
    "tags": []
   },
   "outputs": [
    {
     "data": {
      "text/html": [
       "<div>\n",
       "<style scoped>\n",
       "    .dataframe tbody tr th:only-of-type {\n",
       "        vertical-align: middle;\n",
       "    }\n",
       "\n",
       "    .dataframe tbody tr th {\n",
       "        vertical-align: top;\n",
       "    }\n",
       "\n",
       "    .dataframe thead th {\n",
       "        text-align: right;\n",
       "    }\n",
       "</style>\n",
       "<table border=\"1\" class=\"dataframe\">\n",
       "  <thead>\n",
       "    <tr style=\"text-align: right;\">\n",
       "      <th></th>\n",
       "      <th>GDP</th>\n",
       "      <th>Life.Expectancy</th>\n",
       "      <th>Govt.Corruption</th>\n",
       "    </tr>\n",
       "  </thead>\n",
       "  <tbody>\n",
       "    <tr>\n",
       "      <th>2</th>\n",
       "      <td>1.32548</td>\n",
       "      <td>0.87464</td>\n",
       "      <td>0.48357</td>\n",
       "    </tr>\n",
       "    <tr>\n",
       "      <th>6</th>\n",
       "      <td>1.32944</td>\n",
       "      <td>0.89284</td>\n",
       "      <td>0.31814</td>\n",
       "    </tr>\n",
       "    <tr>\n",
       "      <th>10</th>\n",
       "      <td>1.22857</td>\n",
       "      <td>0.91387</td>\n",
       "      <td>0.07785</td>\n",
       "    </tr>\n",
       "  </tbody>\n",
       "</table>\n",
       "</div>"
      ],
      "text/plain": [
       "        GDP  Life.Expectancy  Govt.Corruption\n",
       "2   1.32548          0.87464          0.48357\n",
       "6   1.32944          0.89284          0.31814\n",
       "10  1.22857          0.91387          0.07785"
      ]
     },
     "execution_count": 90,
     "metadata": {},
     "output_type": "execute_result"
    }
   ],
   "source": [
    "happ.loc[2:10:4, \"GDP\":\"Generosity\":2]"
   ]
  },
  {
   "cell_type": "code",
   "execution_count": 91,
   "metadata": {
    "scrolled": true,
    "tags": []
   },
   "outputs": [
    {
     "data": {
      "text/html": [
       "<div>\n",
       "<style scoped>\n",
       "    .dataframe tbody tr th:only-of-type {\n",
       "        vertical-align: middle;\n",
       "    }\n",
       "\n",
       "    .dataframe tbody tr th {\n",
       "        vertical-align: top;\n",
       "    }\n",
       "\n",
       "    .dataframe thead th {\n",
       "        text-align: right;\n",
       "    }\n",
       "</style>\n",
       "<table border=\"1\" class=\"dataframe\">\n",
       "  <thead>\n",
       "    <tr style=\"text-align: right;\">\n",
       "      <th></th>\n",
       "      <th>GDP</th>\n",
       "      <th>Life.Expectancy</th>\n",
       "      <th>Govt.Corruption</th>\n",
       "    </tr>\n",
       "  </thead>\n",
       "  <tbody>\n",
       "    <tr>\n",
       "      <th>2</th>\n",
       "      <td>1.32548</td>\n",
       "      <td>0.87464</td>\n",
       "      <td>0.48357</td>\n",
       "    </tr>\n",
       "    <tr>\n",
       "      <th>6</th>\n",
       "      <td>1.32944</td>\n",
       "      <td>0.89284</td>\n",
       "      <td>0.31814</td>\n",
       "    </tr>\n",
       "    <tr>\n",
       "      <th>10</th>\n",
       "      <td>1.22857</td>\n",
       "      <td>0.91387</td>\n",
       "      <td>0.07785</td>\n",
       "    </tr>\n",
       "  </tbody>\n",
       "</table>\n",
       "</div>"
      ],
      "text/plain": [
       "        GDP  Life.Expectancy  Govt.Corruption\n",
       "2   1.32548          0.87464          0.48357\n",
       "6   1.32944          0.89284          0.31814\n",
       "10  1.22857          0.91387          0.07785"
      ]
     },
     "execution_count": 91,
     "metadata": {},
     "output_type": "execute_result"
    }
   ],
   "source": [
    "happ.iloc[2:11:4, 3:8:2] # Same as above, but with .iloc"
   ]
  },
  {
   "cell_type": "markdown",
   "metadata": {},
   "source": [
    "### Filtering Data"
   ]
  },
  {
   "cell_type": "code",
   "execution_count": 92,
   "metadata": {
    "tags": []
   },
   "outputs": [
    {
     "data": {
      "text/html": [
       "<div>\n",
       "<style scoped>\n",
       "    .dataframe tbody tr th:only-of-type {\n",
       "        vertical-align: middle;\n",
       "    }\n",
       "\n",
       "    .dataframe tbody tr th {\n",
       "        vertical-align: top;\n",
       "    }\n",
       "\n",
       "    .dataframe thead th {\n",
       "        text-align: right;\n",
       "    }\n",
       "</style>\n",
       "<table border=\"1\" class=\"dataframe\">\n",
       "  <thead>\n",
       "    <tr style=\"text-align: right;\">\n",
       "      <th></th>\n",
       "      <th>Happiness.Score</th>\n",
       "      <th>GDP</th>\n",
       "    </tr>\n",
       "  </thead>\n",
       "  <tbody>\n",
       "    <tr>\n",
       "      <th>count</th>\n",
       "      <td>471.000000</td>\n",
       "      <td>471.000000</td>\n",
       "    </tr>\n",
       "    <tr>\n",
       "      <th>mean</th>\n",
       "      <td>5.368588</td>\n",
       "      <td>0.891742</td>\n",
       "    </tr>\n",
       "    <tr>\n",
       "      <th>std</th>\n",
       "      <td>1.138111</td>\n",
       "      <td>0.413322</td>\n",
       "    </tr>\n",
       "    <tr>\n",
       "      <th>min</th>\n",
       "      <td>2.693000</td>\n",
       "      <td>0.000000</td>\n",
       "    </tr>\n",
       "    <tr>\n",
       "      <th>25%</th>\n",
       "      <td>4.517500</td>\n",
       "      <td>0.593250</td>\n",
       "    </tr>\n",
       "    <tr>\n",
       "      <th>50%</th>\n",
       "      <td>5.268000</td>\n",
       "      <td>0.958470</td>\n",
       "    </tr>\n",
       "    <tr>\n",
       "      <th>75%</th>\n",
       "      <td>6.168000</td>\n",
       "      <td>1.211830</td>\n",
       "    </tr>\n",
       "    <tr>\n",
       "      <th>90%</th>\n",
       "      <td>6.951000</td>\n",
       "      <td>1.386040</td>\n",
       "    </tr>\n",
       "    <tr>\n",
       "      <th>max</th>\n",
       "      <td>7.587000</td>\n",
       "      <td>1.870766</td>\n",
       "    </tr>\n",
       "  </tbody>\n",
       "</table>\n",
       "</div>"
      ],
      "text/plain": [
       "       Happiness.Score         GDP\n",
       "count       471.000000  471.000000\n",
       "mean          5.368588    0.891742\n",
       "std           1.138111    0.413322\n",
       "min           2.693000    0.000000\n",
       "25%           4.517500    0.593250\n",
       "50%           5.268000    0.958470\n",
       "75%           6.168000    1.211830\n",
       "90%           6.951000    1.386040\n",
       "max           7.587000    1.870766"
      ]
     },
     "execution_count": 92,
     "metadata": {},
     "output_type": "execute_result"
    }
   ],
   "source": [
    "happ.iloc[:, 2:4].describe(percentiles=[0.25, .5, .75, .9])"
   ]
  },
  {
   "cell_type": "markdown",
   "metadata": {},
   "source": [
    "It looks like Happiness Score is a left-skewed distribution. Suppose we are interested in the very happy countries. Here is how we can filter the data with a boolean array."
   ]
  },
  {
   "cell_type": "code",
   "execution_count": 93,
   "metadata": {
    "tags": []
   },
   "outputs": [],
   "source": [
    "happiest = happ[happ['Happiness.Score'] > 6.95]"
   ]
  },
  {
   "cell_type": "code",
   "execution_count": 94,
   "metadata": {
    "tags": []
   },
   "outputs": [
    {
     "data": {
      "text/plain": [
       "array(['Switzerland', 'Iceland', 'Denmark', 'Norway', 'Canada', 'Finland',\n",
       "       'Netherlands', 'Sweden', 'New Zealand', 'Australia', 'Israel',\n",
       "       'Costa Rica', 'Austria', 'Mexico', 'United States', 'Brazil',\n",
       "       'Ireland', 'Germany'], dtype=object)"
      ]
     },
     "execution_count": 94,
     "metadata": {},
     "output_type": "execute_result"
    }
   ],
   "source": [
    "happiest.Country.unique()"
   ]
  },
  {
   "cell_type": "markdown",
   "metadata": {},
   "source": [
    "There isn't a single Asian or African country in the happiest 10% of countries!\n",
    "\n",
    "We can also combine Boolean indices."
   ]
  },
  {
   "cell_type": "code",
   "execution_count": 95,
   "metadata": {
    "tags": []
   },
   "outputs": [
    {
     "data": {
      "text/html": [
       "<div>\n",
       "<style scoped>\n",
       "    .dataframe tbody tr th:only-of-type {\n",
       "        vertical-align: middle;\n",
       "    }\n",
       "\n",
       "    .dataframe tbody tr th {\n",
       "        vertical-align: top;\n",
       "    }\n",
       "\n",
       "    .dataframe thead th {\n",
       "        text-align: right;\n",
       "    }\n",
       "</style>\n",
       "<table border=\"1\" class=\"dataframe\">\n",
       "  <thead>\n",
       "    <tr style=\"text-align: right;\">\n",
       "      <th></th>\n",
       "      <th>Country</th>\n",
       "      <th>Happiness.Rank</th>\n",
       "      <th>Happiness.Score</th>\n",
       "      <th>GDP</th>\n",
       "      <th>Family</th>\n",
       "      <th>Life.Expectancy</th>\n",
       "      <th>Freedom</th>\n",
       "      <th>Govt.Corruption</th>\n",
       "      <th>Generosity</th>\n",
       "      <th>Dystopia.Residual</th>\n",
       "      <th>Year</th>\n",
       "    </tr>\n",
       "  </thead>\n",
       "  <tbody>\n",
       "    <tr>\n",
       "      <th>0</th>\n",
       "      <td>Switzerland</td>\n",
       "      <td>1.0</td>\n",
       "      <td>7.587</td>\n",
       "      <td>1.39651</td>\n",
       "      <td>1.34951</td>\n",
       "      <td>0.94143</td>\n",
       "      <td>0.66557</td>\n",
       "      <td>0.41978</td>\n",
       "      <td>0.29678</td>\n",
       "      <td>2.51738</td>\n",
       "      <td>2015</td>\n",
       "    </tr>\n",
       "    <tr>\n",
       "      <th>1</th>\n",
       "      <td>Iceland</td>\n",
       "      <td>2.0</td>\n",
       "      <td>7.561</td>\n",
       "      <td>1.30232</td>\n",
       "      <td>1.40223</td>\n",
       "      <td>0.94784</td>\n",
       "      <td>0.62877</td>\n",
       "      <td>0.14145</td>\n",
       "      <td>0.43630</td>\n",
       "      <td>2.70201</td>\n",
       "      <td>2015</td>\n",
       "    </tr>\n",
       "    <tr>\n",
       "      <th>2</th>\n",
       "      <td>Denmark</td>\n",
       "      <td>3.0</td>\n",
       "      <td>7.527</td>\n",
       "      <td>1.32548</td>\n",
       "      <td>1.36058</td>\n",
       "      <td>0.87464</td>\n",
       "      <td>0.64938</td>\n",
       "      <td>0.48357</td>\n",
       "      <td>0.34139</td>\n",
       "      <td>2.49204</td>\n",
       "      <td>2015</td>\n",
       "    </tr>\n",
       "  </tbody>\n",
       "</table>\n",
       "</div>"
      ],
      "text/plain": [
       "       Country  Happiness.Rank  Happiness.Score      GDP   Family  \\\n",
       "0  Switzerland             1.0            7.587  1.39651  1.34951   \n",
       "1      Iceland             2.0            7.561  1.30232  1.40223   \n",
       "2      Denmark             3.0            7.527  1.32548  1.36058   \n",
       "\n",
       "   Life.Expectancy  Freedom  Govt.Corruption  Generosity  Dystopia.Residual  \\\n",
       "0          0.94143  0.66557          0.41978     0.29678            2.51738   \n",
       "1          0.94784  0.62877          0.14145     0.43630            2.70201   \n",
       "2          0.87464  0.64938          0.48357     0.34139            2.49204   \n",
       "\n",
       "   Year  \n",
       "0  2015  \n",
       "1  2015  \n",
       "2  2015  "
      ]
     },
     "execution_count": 95,
     "metadata": {},
     "output_type": "execute_result"
    }
   ],
   "source": [
    "# Top 3 happiest countries in 2015\n",
    "happ[(happ.Year == 2015) & (happ['Happiness.Rank'] <= 3)]"
   ]
  },
  {
   "cell_type": "markdown",
   "metadata": {},
   "source": [
    "### Missing Values\n",
    "\n",
    "The `.info()` method will yield information on missing values, column by column. We can see there are 21 rows with missing values. "
   ]
  },
  {
   "cell_type": "code",
   "execution_count": 96,
   "metadata": {
    "scrolled": true,
    "tags": []
   },
   "outputs": [
    {
     "name": "stdout",
     "output_type": "stream",
     "text": [
      "<class 'pandas.core.frame.DataFrame'>\n",
      "RangeIndex: 492 entries, 0 to 491\n",
      "Data columns (total 11 columns):\n",
      " #   Column             Non-Null Count  Dtype  \n",
      "---  ------             --------------  -----  \n",
      " 0   Country            492 non-null    object \n",
      " 1   Happiness.Rank     471 non-null    float64\n",
      " 2   Happiness.Score    471 non-null    float64\n",
      " 3   GDP                471 non-null    float64\n",
      " 4   Family             471 non-null    float64\n",
      " 5   Life.Expectancy    471 non-null    float64\n",
      " 6   Freedom            471 non-null    float64\n",
      " 7   Govt.Corruption    471 non-null    float64\n",
      " 8   Generosity         471 non-null    float64\n",
      " 9   Dystopia.Residual  471 non-null    float64\n",
      " 10  Year               492 non-null    int64  \n",
      "dtypes: float64(9), int64(1), object(1)\n",
      "memory usage: 42.4+ KB\n"
     ]
    }
   ],
   "source": [
    "happ.info()"
   ]
  },
  {
   "cell_type": "markdown",
   "metadata": {},
   "source": [
    "*Sometimes*, it is appropriate to drop rows with missing values. This can be done with the `.dropna` method. Remember that it returns a new dataframe. The original one remains unchanged, unless you include the `inplace=True` argument."
   ]
  },
  {
   "cell_type": "code",
   "execution_count": 97,
   "metadata": {
    "tags": []
   },
   "outputs": [
    {
     "data": {
      "text/html": [
       "<div>\n",
       "<style scoped>\n",
       "    .dataframe tbody tr th:only-of-type {\n",
       "        vertical-align: middle;\n",
       "    }\n",
       "\n",
       "    .dataframe tbody tr th {\n",
       "        vertical-align: top;\n",
       "    }\n",
       "\n",
       "    .dataframe thead th {\n",
       "        text-align: right;\n",
       "    }\n",
       "</style>\n",
       "<table border=\"1\" class=\"dataframe\">\n",
       "  <thead>\n",
       "    <tr style=\"text-align: right;\">\n",
       "      <th></th>\n",
       "      <th>Country</th>\n",
       "      <th>Happiness.Rank</th>\n",
       "      <th>Happiness.Score</th>\n",
       "      <th>GDP</th>\n",
       "      <th>Family</th>\n",
       "      <th>Life.Expectancy</th>\n",
       "      <th>Freedom</th>\n",
       "      <th>Govt.Corruption</th>\n",
       "      <th>Generosity</th>\n",
       "      <th>Dystopia.Residual</th>\n",
       "      <th>Year</th>\n",
       "    </tr>\n",
       "  </thead>\n",
       "  <tbody>\n",
       "    <tr>\n",
       "      <th>0</th>\n",
       "      <td>Switzerland</td>\n",
       "      <td>1.0</td>\n",
       "      <td>7.587</td>\n",
       "      <td>1.396510</td>\n",
       "      <td>1.349510</td>\n",
       "      <td>0.941430</td>\n",
       "      <td>0.665570</td>\n",
       "      <td>0.419780</td>\n",
       "      <td>0.296780</td>\n",
       "      <td>2.517380</td>\n",
       "      <td>2015</td>\n",
       "    </tr>\n",
       "    <tr>\n",
       "      <th>1</th>\n",
       "      <td>Iceland</td>\n",
       "      <td>2.0</td>\n",
       "      <td>7.561</td>\n",
       "      <td>1.302320</td>\n",
       "      <td>1.402230</td>\n",
       "      <td>0.947840</td>\n",
       "      <td>0.628770</td>\n",
       "      <td>0.141450</td>\n",
       "      <td>0.436300</td>\n",
       "      <td>2.702010</td>\n",
       "      <td>2015</td>\n",
       "    </tr>\n",
       "    <tr>\n",
       "      <th>2</th>\n",
       "      <td>Denmark</td>\n",
       "      <td>3.0</td>\n",
       "      <td>7.527</td>\n",
       "      <td>1.325480</td>\n",
       "      <td>1.360580</td>\n",
       "      <td>0.874640</td>\n",
       "      <td>0.649380</td>\n",
       "      <td>0.483570</td>\n",
       "      <td>0.341390</td>\n",
       "      <td>2.492040</td>\n",
       "      <td>2015</td>\n",
       "    </tr>\n",
       "    <tr>\n",
       "      <th>3</th>\n",
       "      <td>Norway</td>\n",
       "      <td>4.0</td>\n",
       "      <td>7.522</td>\n",
       "      <td>1.459000</td>\n",
       "      <td>1.330950</td>\n",
       "      <td>0.885210</td>\n",
       "      <td>0.669730</td>\n",
       "      <td>0.365030</td>\n",
       "      <td>0.346990</td>\n",
       "      <td>2.465310</td>\n",
       "      <td>2015</td>\n",
       "    </tr>\n",
       "    <tr>\n",
       "      <th>4</th>\n",
       "      <td>Canada</td>\n",
       "      <td>5.0</td>\n",
       "      <td>7.427</td>\n",
       "      <td>1.326290</td>\n",
       "      <td>1.322610</td>\n",
       "      <td>0.905630</td>\n",
       "      <td>0.632970</td>\n",
       "      <td>0.329570</td>\n",
       "      <td>0.458110</td>\n",
       "      <td>2.451760</td>\n",
       "      <td>2015</td>\n",
       "    </tr>\n",
       "    <tr>\n",
       "      <th>...</th>\n",
       "      <td>...</td>\n",
       "      <td>...</td>\n",
       "      <td>...</td>\n",
       "      <td>...</td>\n",
       "      <td>...</td>\n",
       "      <td>...</td>\n",
       "      <td>...</td>\n",
       "      <td>...</td>\n",
       "      <td>...</td>\n",
       "      <td>...</td>\n",
       "      <td>...</td>\n",
       "    </tr>\n",
       "    <tr>\n",
       "      <th>478</th>\n",
       "      <td>Rwanda</td>\n",
       "      <td>151.0</td>\n",
       "      <td>3.471</td>\n",
       "      <td>0.368746</td>\n",
       "      <td>0.945707</td>\n",
       "      <td>0.326425</td>\n",
       "      <td>0.581844</td>\n",
       "      <td>0.455220</td>\n",
       "      <td>0.252756</td>\n",
       "      <td>0.540061</td>\n",
       "      <td>2017</td>\n",
       "    </tr>\n",
       "    <tr>\n",
       "      <th>479</th>\n",
       "      <td>Syria</td>\n",
       "      <td>152.0</td>\n",
       "      <td>3.462</td>\n",
       "      <td>0.777153</td>\n",
       "      <td>0.396103</td>\n",
       "      <td>0.500533</td>\n",
       "      <td>0.081539</td>\n",
       "      <td>0.151347</td>\n",
       "      <td>0.493664</td>\n",
       "      <td>1.061574</td>\n",
       "      <td>2017</td>\n",
       "    </tr>\n",
       "    <tr>\n",
       "      <th>480</th>\n",
       "      <td>Tanzania</td>\n",
       "      <td>153.0</td>\n",
       "      <td>3.349</td>\n",
       "      <td>0.511136</td>\n",
       "      <td>1.041990</td>\n",
       "      <td>0.364509</td>\n",
       "      <td>0.390018</td>\n",
       "      <td>0.066035</td>\n",
       "      <td>0.354256</td>\n",
       "      <td>0.621130</td>\n",
       "      <td>2017</td>\n",
       "    </tr>\n",
       "    <tr>\n",
       "      <th>481</th>\n",
       "      <td>Burundi</td>\n",
       "      <td>154.0</td>\n",
       "      <td>2.905</td>\n",
       "      <td>0.091623</td>\n",
       "      <td>0.629794</td>\n",
       "      <td>0.151611</td>\n",
       "      <td>0.059901</td>\n",
       "      <td>0.084148</td>\n",
       "      <td>0.204435</td>\n",
       "      <td>1.683024</td>\n",
       "      <td>2017</td>\n",
       "    </tr>\n",
       "    <tr>\n",
       "      <th>482</th>\n",
       "      <td>Central African Republic</td>\n",
       "      <td>155.0</td>\n",
       "      <td>2.693</td>\n",
       "      <td>0.000000</td>\n",
       "      <td>0.000000</td>\n",
       "      <td>0.018773</td>\n",
       "      <td>0.270842</td>\n",
       "      <td>0.056565</td>\n",
       "      <td>0.280876</td>\n",
       "      <td>2.066005</td>\n",
       "      <td>2017</td>\n",
       "    </tr>\n",
       "  </tbody>\n",
       "</table>\n",
       "<p>471 rows × 11 columns</p>\n",
       "</div>"
      ],
      "text/plain": [
       "                      Country  Happiness.Rank  Happiness.Score       GDP  \\\n",
       "0                 Switzerland             1.0            7.587  1.396510   \n",
       "1                     Iceland             2.0            7.561  1.302320   \n",
       "2                     Denmark             3.0            7.527  1.325480   \n",
       "3                      Norway             4.0            7.522  1.459000   \n",
       "4                      Canada             5.0            7.427  1.326290   \n",
       "..                        ...             ...              ...       ...   \n",
       "478                    Rwanda           151.0            3.471  0.368746   \n",
       "479                     Syria           152.0            3.462  0.777153   \n",
       "480                  Tanzania           153.0            3.349  0.511136   \n",
       "481                   Burundi           154.0            2.905  0.091623   \n",
       "482  Central African Republic           155.0            2.693  0.000000   \n",
       "\n",
       "       Family  Life.Expectancy   Freedom  Govt.Corruption  Generosity  \\\n",
       "0    1.349510         0.941430  0.665570         0.419780    0.296780   \n",
       "1    1.402230         0.947840  0.628770         0.141450    0.436300   \n",
       "2    1.360580         0.874640  0.649380         0.483570    0.341390   \n",
       "3    1.330950         0.885210  0.669730         0.365030    0.346990   \n",
       "4    1.322610         0.905630  0.632970         0.329570    0.458110   \n",
       "..        ...              ...       ...              ...         ...   \n",
       "478  0.945707         0.326425  0.581844         0.455220    0.252756   \n",
       "479  0.396103         0.500533  0.081539         0.151347    0.493664   \n",
       "480  1.041990         0.364509  0.390018         0.066035    0.354256   \n",
       "481  0.629794         0.151611  0.059901         0.084148    0.204435   \n",
       "482  0.000000         0.018773  0.270842         0.056565    0.280876   \n",
       "\n",
       "     Dystopia.Residual  Year  \n",
       "0             2.517380  2015  \n",
       "1             2.702010  2015  \n",
       "2             2.492040  2015  \n",
       "3             2.465310  2015  \n",
       "4             2.451760  2015  \n",
       "..                 ...   ...  \n",
       "478           0.540061  2017  \n",
       "479           1.061574  2017  \n",
       "480           0.621130  2017  \n",
       "481           1.683024  2017  \n",
       "482           2.066005  2017  \n",
       "\n",
       "[471 rows x 11 columns]"
      ]
     },
     "execution_count": 97,
     "metadata": {},
     "output_type": "execute_result"
    }
   ],
   "source": [
    "happ.dropna()"
   ]
  },
  {
   "cell_type": "code",
   "execution_count": 98,
   "metadata": {
    "tags": []
   },
   "outputs": [
    {
     "data": {
      "text/html": [
       "<div>\n",
       "<style scoped>\n",
       "    .dataframe tbody tr th:only-of-type {\n",
       "        vertical-align: middle;\n",
       "    }\n",
       "\n",
       "    .dataframe tbody tr th {\n",
       "        vertical-align: top;\n",
       "    }\n",
       "\n",
       "    .dataframe thead th {\n",
       "        text-align: right;\n",
       "    }\n",
       "</style>\n",
       "<table border=\"1\" class=\"dataframe\">\n",
       "  <thead>\n",
       "    <tr style=\"text-align: right;\">\n",
       "      <th></th>\n",
       "      <th>Country</th>\n",
       "      <th>Happiness.Rank</th>\n",
       "      <th>Happiness.Score</th>\n",
       "      <th>GDP</th>\n",
       "      <th>Family</th>\n",
       "      <th>Life.Expectancy</th>\n",
       "      <th>Freedom</th>\n",
       "      <th>Govt.Corruption</th>\n",
       "      <th>Generosity</th>\n",
       "      <th>Dystopia.Residual</th>\n",
       "      <th>Year</th>\n",
       "    </tr>\n",
       "  </thead>\n",
       "  <tbody>\n",
       "    <tr>\n",
       "      <th>0</th>\n",
       "      <td>False</td>\n",
       "      <td>False</td>\n",
       "      <td>False</td>\n",
       "      <td>False</td>\n",
       "      <td>False</td>\n",
       "      <td>False</td>\n",
       "      <td>False</td>\n",
       "      <td>False</td>\n",
       "      <td>False</td>\n",
       "      <td>False</td>\n",
       "      <td>False</td>\n",
       "    </tr>\n",
       "    <tr>\n",
       "      <th>1</th>\n",
       "      <td>False</td>\n",
       "      <td>False</td>\n",
       "      <td>False</td>\n",
       "      <td>False</td>\n",
       "      <td>False</td>\n",
       "      <td>False</td>\n",
       "      <td>False</td>\n",
       "      <td>False</td>\n",
       "      <td>False</td>\n",
       "      <td>False</td>\n",
       "      <td>False</td>\n",
       "    </tr>\n",
       "    <tr>\n",
       "      <th>2</th>\n",
       "      <td>False</td>\n",
       "      <td>False</td>\n",
       "      <td>False</td>\n",
       "      <td>False</td>\n",
       "      <td>False</td>\n",
       "      <td>False</td>\n",
       "      <td>False</td>\n",
       "      <td>False</td>\n",
       "      <td>False</td>\n",
       "      <td>False</td>\n",
       "      <td>False</td>\n",
       "    </tr>\n",
       "    <tr>\n",
       "      <th>3</th>\n",
       "      <td>False</td>\n",
       "      <td>False</td>\n",
       "      <td>False</td>\n",
       "      <td>False</td>\n",
       "      <td>False</td>\n",
       "      <td>False</td>\n",
       "      <td>False</td>\n",
       "      <td>False</td>\n",
       "      <td>False</td>\n",
       "      <td>False</td>\n",
       "      <td>False</td>\n",
       "    </tr>\n",
       "    <tr>\n",
       "      <th>4</th>\n",
       "      <td>False</td>\n",
       "      <td>False</td>\n",
       "      <td>False</td>\n",
       "      <td>False</td>\n",
       "      <td>False</td>\n",
       "      <td>False</td>\n",
       "      <td>False</td>\n",
       "      <td>False</td>\n",
       "      <td>False</td>\n",
       "      <td>False</td>\n",
       "      <td>False</td>\n",
       "    </tr>\n",
       "    <tr>\n",
       "      <th>...</th>\n",
       "      <td>...</td>\n",
       "      <td>...</td>\n",
       "      <td>...</td>\n",
       "      <td>...</td>\n",
       "      <td>...</td>\n",
       "      <td>...</td>\n",
       "      <td>...</td>\n",
       "      <td>...</td>\n",
       "      <td>...</td>\n",
       "      <td>...</td>\n",
       "      <td>...</td>\n",
       "    </tr>\n",
       "    <tr>\n",
       "      <th>487</th>\n",
       "      <td>False</td>\n",
       "      <td>True</td>\n",
       "      <td>True</td>\n",
       "      <td>True</td>\n",
       "      <td>True</td>\n",
       "      <td>True</td>\n",
       "      <td>True</td>\n",
       "      <td>True</td>\n",
       "      <td>True</td>\n",
       "      <td>True</td>\n",
       "      <td>False</td>\n",
       "    </tr>\n",
       "    <tr>\n",
       "      <th>488</th>\n",
       "      <td>False</td>\n",
       "      <td>True</td>\n",
       "      <td>True</td>\n",
       "      <td>True</td>\n",
       "      <td>True</td>\n",
       "      <td>True</td>\n",
       "      <td>True</td>\n",
       "      <td>True</td>\n",
       "      <td>True</td>\n",
       "      <td>True</td>\n",
       "      <td>False</td>\n",
       "    </tr>\n",
       "    <tr>\n",
       "      <th>489</th>\n",
       "      <td>False</td>\n",
       "      <td>True</td>\n",
       "      <td>True</td>\n",
       "      <td>True</td>\n",
       "      <td>True</td>\n",
       "      <td>True</td>\n",
       "      <td>True</td>\n",
       "      <td>True</td>\n",
       "      <td>True</td>\n",
       "      <td>True</td>\n",
       "      <td>False</td>\n",
       "    </tr>\n",
       "    <tr>\n",
       "      <th>490</th>\n",
       "      <td>False</td>\n",
       "      <td>True</td>\n",
       "      <td>True</td>\n",
       "      <td>True</td>\n",
       "      <td>True</td>\n",
       "      <td>True</td>\n",
       "      <td>True</td>\n",
       "      <td>True</td>\n",
       "      <td>True</td>\n",
       "      <td>True</td>\n",
       "      <td>False</td>\n",
       "    </tr>\n",
       "    <tr>\n",
       "      <th>491</th>\n",
       "      <td>False</td>\n",
       "      <td>True</td>\n",
       "      <td>True</td>\n",
       "      <td>True</td>\n",
       "      <td>True</td>\n",
       "      <td>True</td>\n",
       "      <td>True</td>\n",
       "      <td>True</td>\n",
       "      <td>True</td>\n",
       "      <td>True</td>\n",
       "      <td>False</td>\n",
       "    </tr>\n",
       "  </tbody>\n",
       "</table>\n",
       "<p>492 rows × 11 columns</p>\n",
       "</div>"
      ],
      "text/plain": [
       "     Country  Happiness.Rank  Happiness.Score    GDP  Family  Life.Expectancy  \\\n",
       "0      False           False            False  False   False            False   \n",
       "1      False           False            False  False   False            False   \n",
       "2      False           False            False  False   False            False   \n",
       "3      False           False            False  False   False            False   \n",
       "4      False           False            False  False   False            False   \n",
       "..       ...             ...              ...    ...     ...              ...   \n",
       "487    False            True             True   True    True             True   \n",
       "488    False            True             True   True    True             True   \n",
       "489    False            True             True   True    True             True   \n",
       "490    False            True             True   True    True             True   \n",
       "491    False            True             True   True    True             True   \n",
       "\n",
       "     Freedom  Govt.Corruption  Generosity  Dystopia.Residual   Year  \n",
       "0      False            False       False              False  False  \n",
       "1      False            False       False              False  False  \n",
       "2      False            False       False              False  False  \n",
       "3      False            False       False              False  False  \n",
       "4      False            False       False              False  False  \n",
       "..       ...              ...         ...                ...    ...  \n",
       "487     True             True        True               True  False  \n",
       "488     True             True        True               True  False  \n",
       "489     True             True        True               True  False  \n",
       "490     True             True        True               True  False  \n",
       "491     True             True        True               True  False  \n",
       "\n",
       "[492 rows x 11 columns]"
      ]
     },
     "execution_count": 98,
     "metadata": {},
     "output_type": "execute_result"
    }
   ],
   "source": [
    "pd.isna(happ)"
   ]
  },
  {
   "cell_type": "markdown",
   "metadata": {},
   "source": [
    "<a id='functions'></a>\n",
    "## Applying Functions to DataFrame\n",
    "\n",
    "A common task in data analysis is to apply a function to each column, or to each row. With a Pandas DataFrame, this can be achieved in a few ways, depending on how the function is to be applied:\n",
    "* To apply a function to the entire DataFrame, e.g. fitting a model, we use the `pipe` function. We shall see this later in the course.\n",
    "* To apply a function to each row or each column, we use the `apply` function.\n",
    "* To apply a function to each element, we use the `applymap` function. This is typically used with a lambda function.\n",
    "* There are several built-in functions that we can call to aggregate a column or a row. Examples of these are `count`, `sum`, `mean`, `median`, and so on. A full list can be found [here](https://pandas.pydata.org/docs/user_guide/basics.html#descriptive-statistics).\n",
    "\n",
    "Remember that the happiness dataframe contains 11 columns, but not all of them are numerical measures. Suppose we wish to count how many non-null values there are in each of the columns, apart from Happiness Rank, Country, and Year."
   ]
  },
  {
   "cell_type": "code",
   "execution_count": 99,
   "metadata": {
    "tags": []
   },
   "outputs": [
    {
     "data": {
      "text/plain": [
       "Happiness.Score      471\n",
       "GDP                  471\n",
       "Family               471\n",
       "Life.Expectancy      471\n",
       "Freedom              471\n",
       "Govt.Corruption      471\n",
       "Generosity           471\n",
       "Dystopia.Residual    471\n",
       "dtype: int64"
      ]
     },
     "execution_count": 99,
     "metadata": {},
     "output_type": "execute_result"
    }
   ],
   "source": [
    "happ.loc[:, 'Happiness.Score':'Dystopia.Residual'].count(axis = 0)"
   ]
  },
  {
   "cell_type": "markdown",
   "metadata": {},
   "source": [
    "The `count()` function was applied to each column (along `axis=0`). Similarly, suppose we wish to compute the standard deviation of each column."
   ]
  },
  {
   "cell_type": "code",
   "execution_count": 100,
   "metadata": {
    "tags": []
   },
   "outputs": [
    {
     "data": {
      "text/plain": [
       "Happiness.Score      1.138111\n",
       "GDP                  0.413322\n",
       "Family               0.291996\n",
       "Life.Expectancy      0.246127\n",
       "Freedom              0.150433\n",
       "Govt.Corruption      0.114470\n",
       "Generosity           0.129208\n",
       "Dystopia.Residual    0.548021\n",
       "dtype: float64"
      ]
     },
     "execution_count": 100,
     "metadata": {},
     "output_type": "execute_result"
    }
   ],
   "source": [
    "happ.loc[:, 'Happiness.Score':'Dystopia.Residual'].std(axis = 0)"
   ]
  },
  {
   "cell_type": "markdown",
   "metadata": {},
   "source": [
    "Suppose we wish to find the **range** of values for each numeric column, which we define as the maximum minus the minimum value of that column. We can apply a lambda function of our own here."
   ]
  },
  {
   "cell_type": "code",
   "execution_count": 101,
   "metadata": {
    "tags": []
   },
   "outputs": [
    {
     "data": {
      "text/plain": [
       "\u001b[0;31mSignature:\u001b[0m\n",
       "\u001b[0mpd\u001b[0m\u001b[0;34m.\u001b[0m\u001b[0mDataFrame\u001b[0m\u001b[0;34m.\u001b[0m\u001b[0mapply\u001b[0m\u001b[0;34m(\u001b[0m\u001b[0;34m\u001b[0m\n",
       "\u001b[0;34m\u001b[0m    \u001b[0mself\u001b[0m\u001b[0;34m,\u001b[0m\u001b[0;34m\u001b[0m\n",
       "\u001b[0;34m\u001b[0m    \u001b[0mfunc\u001b[0m\u001b[0;34m:\u001b[0m \u001b[0;34m'AggFuncType'\u001b[0m\u001b[0;34m,\u001b[0m\u001b[0;34m\u001b[0m\n",
       "\u001b[0;34m\u001b[0m    \u001b[0maxis\u001b[0m\u001b[0;34m:\u001b[0m \u001b[0;34m'Axis'\u001b[0m \u001b[0;34m=\u001b[0m \u001b[0;36m0\u001b[0m\u001b[0;34m,\u001b[0m\u001b[0;34m\u001b[0m\n",
       "\u001b[0;34m\u001b[0m    \u001b[0mraw\u001b[0m\u001b[0;34m:\u001b[0m \u001b[0;34m'bool'\u001b[0m \u001b[0;34m=\u001b[0m \u001b[0;32mFalse\u001b[0m\u001b[0;34m,\u001b[0m\u001b[0;34m\u001b[0m\n",
       "\u001b[0;34m\u001b[0m    \u001b[0mresult_type\u001b[0m\u001b[0;34m:\u001b[0m \u001b[0;34m\"Literal['expand', 'reduce', 'broadcast'] | None\"\u001b[0m \u001b[0;34m=\u001b[0m \u001b[0;32mNone\u001b[0m\u001b[0;34m,\u001b[0m\u001b[0;34m\u001b[0m\n",
       "\u001b[0;34m\u001b[0m    \u001b[0margs\u001b[0m\u001b[0;34m=\u001b[0m\u001b[0;34m(\u001b[0m\u001b[0;34m)\u001b[0m\u001b[0;34m,\u001b[0m\u001b[0;34m\u001b[0m\n",
       "\u001b[0;34m\u001b[0m    \u001b[0;34m**\u001b[0m\u001b[0mkwargs\u001b[0m\u001b[0;34m,\u001b[0m\u001b[0;34m\u001b[0m\n",
       "\u001b[0;34m\u001b[0m\u001b[0;34m)\u001b[0m\u001b[0;34m\u001b[0m\u001b[0;34m\u001b[0m\u001b[0m\n",
       "\u001b[0;31mDocstring:\u001b[0m\n",
       "Apply a function along an axis of the DataFrame.\n",
       "\n",
       "Objects passed to the function are Series objects whose index is\n",
       "either the DataFrame's index (``axis=0``) or the DataFrame's columns\n",
       "(``axis=1``). By default (``result_type=None``), the final return type\n",
       "is inferred from the return type of the applied function. Otherwise,\n",
       "it depends on the `result_type` argument.\n",
       "\n",
       "Parameters\n",
       "----------\n",
       "func : function\n",
       "    Function to apply to each column or row.\n",
       "axis : {0 or 'index', 1 or 'columns'}, default 0\n",
       "    Axis along which the function is applied:\n",
       "\n",
       "    * 0 or 'index': apply function to each column.\n",
       "    * 1 or 'columns': apply function to each row.\n",
       "\n",
       "raw : bool, default False\n",
       "    Determines if row or column is passed as a Series or ndarray object:\n",
       "\n",
       "    * ``False`` : passes each row or column as a Series to the\n",
       "      function.\n",
       "    * ``True`` : the passed function will receive ndarray objects\n",
       "      instead.\n",
       "      If you are just applying a NumPy reduction function this will\n",
       "      achieve much better performance.\n",
       "\n",
       "result_type : {'expand', 'reduce', 'broadcast', None}, default None\n",
       "    These only act when ``axis=1`` (columns):\n",
       "\n",
       "    * 'expand' : list-like results will be turned into columns.\n",
       "    * 'reduce' : returns a Series if possible rather than expanding\n",
       "      list-like results. This is the opposite of 'expand'.\n",
       "    * 'broadcast' : results will be broadcast to the original shape\n",
       "      of the DataFrame, the original index and columns will be\n",
       "      retained.\n",
       "\n",
       "    The default behaviour (None) depends on the return value of the\n",
       "    applied function: list-like results will be returned as a Series\n",
       "    of those. However if the apply function returns a Series these\n",
       "    are expanded to columns.\n",
       "args : tuple\n",
       "    Positional arguments to pass to `func` in addition to the\n",
       "    array/series.\n",
       "**kwargs\n",
       "    Additional keyword arguments to pass as keywords arguments to\n",
       "    `func`.\n",
       "\n",
       "Returns\n",
       "-------\n",
       "Series or DataFrame\n",
       "    Result of applying ``func`` along the given axis of the\n",
       "    DataFrame.\n",
       "\n",
       "See Also\n",
       "--------\n",
       "DataFrame.applymap: For elementwise operations.\n",
       "DataFrame.aggregate: Only perform aggregating type operations.\n",
       "DataFrame.transform: Only perform transforming type operations.\n",
       "\n",
       "Notes\n",
       "-----\n",
       "Functions that mutate the passed object can produce unexpected\n",
       "behavior or errors and are not supported. See :ref:`gotchas.udf-mutation`\n",
       "for more details.\n",
       "\n",
       "Examples\n",
       "--------\n",
       ">>> df = pd.DataFrame([[4, 9]] * 3, columns=['A', 'B'])\n",
       ">>> df\n",
       "   A  B\n",
       "0  4  9\n",
       "1  4  9\n",
       "2  4  9\n",
       "\n",
       "Using a numpy universal function (in this case the same as\n",
       "``np.sqrt(df)``):\n",
       "\n",
       ">>> df.apply(np.sqrt)\n",
       "     A    B\n",
       "0  2.0  3.0\n",
       "1  2.0  3.0\n",
       "2  2.0  3.0\n",
       "\n",
       "Using a reducing function on either axis\n",
       "\n",
       ">>> df.apply(np.sum, axis=0)\n",
       "A    12\n",
       "B    27\n",
       "dtype: int64\n",
       "\n",
       ">>> df.apply(np.sum, axis=1)\n",
       "0    13\n",
       "1    13\n",
       "2    13\n",
       "dtype: int64\n",
       "\n",
       "Returning a list-like will result in a Series\n",
       "\n",
       ">>> df.apply(lambda x: [1, 2], axis=1)\n",
       "0    [1, 2]\n",
       "1    [1, 2]\n",
       "2    [1, 2]\n",
       "dtype: object\n",
       "\n",
       "Passing ``result_type='expand'`` will expand list-like results\n",
       "to columns of a Dataframe\n",
       "\n",
       ">>> df.apply(lambda x: [1, 2], axis=1, result_type='expand')\n",
       "   0  1\n",
       "0  1  2\n",
       "1  1  2\n",
       "2  1  2\n",
       "\n",
       "Returning a Series inside the function is similar to passing\n",
       "``result_type='expand'``. The resulting column names\n",
       "will be the Series index.\n",
       "\n",
       ">>> df.apply(lambda x: pd.Series([1, 2], index=['foo', 'bar']), axis=1)\n",
       "   foo  bar\n",
       "0    1    2\n",
       "1    1    2\n",
       "2    1    2\n",
       "\n",
       "Passing ``result_type='broadcast'`` will ensure the same shape\n",
       "result, whether list-like or scalar is returned by the function,\n",
       "and broadcast it along the axis. The resulting column names will\n",
       "be the originals.\n",
       "\n",
       ">>> df.apply(lambda x: [1, 2], axis=1, result_type='broadcast')\n",
       "   A  B\n",
       "0  1  2\n",
       "1  1  2\n",
       "2  1  2\n",
       "\u001b[0;31mFile:\u001b[0m      ~/miniconda3/envs/nus_i4_gen/lib/python3.11/site-packages/pandas/core/frame.py\n",
       "\u001b[0;31mType:\u001b[0m      function"
      ]
     },
     "metadata": {},
     "output_type": "display_data"
    }
   ],
   "source": [
    "pd.DataFrame.apply?"
   ]
  },
  {
   "cell_type": "code",
   "execution_count": 102,
   "metadata": {
    "scrolled": true,
    "tags": []
   },
   "outputs": [
    {
     "data": {
      "text/plain": [
       "Happiness.Score      4.894000\n",
       "GDP                  1.870766\n",
       "Family               1.610574\n",
       "Life.Expectancy      1.025250\n",
       "Freedom              0.669730\n",
       "Govt.Corruption      0.551910\n",
       "Generosity           0.838075\n",
       "Dystopia.Residual    3.273560\n",
       "dtype: float64"
      ]
     },
     "execution_count": 102,
     "metadata": {},
     "output_type": "execute_result"
    }
   ],
   "source": [
    "happ.loc[:, 'Happiness.Score':'Dystopia.Residual'].apply(lambda x: x.max() - x.min())"
   ]
  },
  {
   "cell_type": "markdown",
   "metadata": {},
   "source": [
    "Between-Series operations are conducted element-wise. Note the two different ways of indexing a column."
   ]
  },
  {
   "cell_type": "code",
   "execution_count": 103,
   "metadata": {
    "tags": []
   },
   "outputs": [
    {
     "data": {
      "text/plain": [
       "0      1.414472\n",
       "1      1.507451\n",
       "2      1.346885\n",
       "3      1.321742\n",
       "4      1.430763\n",
       "         ...   \n",
       "487         NaN\n",
       "488         NaN\n",
       "489         NaN\n",
       "490         NaN\n",
       "491         NaN\n",
       "Length: 492, dtype: float64"
      ]
     },
     "execution_count": 103,
     "metadata": {},
     "output_type": "execute_result"
    }
   ],
   "source": [
    "happ['Life.Expectancy'] / happ.Freedom"
   ]
  },
  {
   "cell_type": "markdown",
   "metadata": {},
   "source": [
    "### Adding or Deleting Columns"
   ]
  },
  {
   "cell_type": "markdown",
   "metadata": {},
   "source": [
    "To delete columns, we can use the DataFrame `.drop()` method. Unless we specify `inplace=True`, a new copy of the DataFrame will be created by `.drop()`."
   ]
  },
  {
   "cell_type": "code",
   "execution_count": 104,
   "metadata": {
    "tags": []
   },
   "outputs": [
    {
     "data": {
      "text/html": [
       "<div>\n",
       "<style scoped>\n",
       "    .dataframe tbody tr th:only-of-type {\n",
       "        vertical-align: middle;\n",
       "    }\n",
       "\n",
       "    .dataframe tbody tr th {\n",
       "        vertical-align: top;\n",
       "    }\n",
       "\n",
       "    .dataframe thead th {\n",
       "        text-align: right;\n",
       "    }\n",
       "</style>\n",
       "<table border=\"1\" class=\"dataframe\">\n",
       "  <thead>\n",
       "    <tr style=\"text-align: right;\">\n",
       "      <th></th>\n",
       "      <th>Country</th>\n",
       "      <th>Happiness.Rank</th>\n",
       "      <th>Happiness.Score</th>\n",
       "      <th>Family</th>\n",
       "      <th>Life.Expectancy</th>\n",
       "      <th>Govt.Corruption</th>\n",
       "      <th>Generosity</th>\n",
       "      <th>Dystopia.Residual</th>\n",
       "    </tr>\n",
       "  </thead>\n",
       "  <tbody>\n",
       "    <tr>\n",
       "      <th>0</th>\n",
       "      <td>Switzerland</td>\n",
       "      <td>1.0</td>\n",
       "      <td>7.587</td>\n",
       "      <td>1.34951</td>\n",
       "      <td>0.94143</td>\n",
       "      <td>0.41978</td>\n",
       "      <td>0.29678</td>\n",
       "      <td>2.51738</td>\n",
       "    </tr>\n",
       "    <tr>\n",
       "      <th>1</th>\n",
       "      <td>Iceland</td>\n",
       "      <td>2.0</td>\n",
       "      <td>7.561</td>\n",
       "      <td>1.40223</td>\n",
       "      <td>0.94784</td>\n",
       "      <td>0.14145</td>\n",
       "      <td>0.43630</td>\n",
       "      <td>2.70201</td>\n",
       "    </tr>\n",
       "    <tr>\n",
       "      <th>2</th>\n",
       "      <td>Denmark</td>\n",
       "      <td>3.0</td>\n",
       "      <td>7.527</td>\n",
       "      <td>1.36058</td>\n",
       "      <td>0.87464</td>\n",
       "      <td>0.48357</td>\n",
       "      <td>0.34139</td>\n",
       "      <td>2.49204</td>\n",
       "    </tr>\n",
       "  </tbody>\n",
       "</table>\n",
       "</div>"
      ],
      "text/plain": [
       "       Country  Happiness.Rank  Happiness.Score   Family  Life.Expectancy  \\\n",
       "0  Switzerland             1.0            7.587  1.34951          0.94143   \n",
       "1      Iceland             2.0            7.561  1.40223          0.94784   \n",
       "2      Denmark             3.0            7.527  1.36058          0.87464   \n",
       "\n",
       "   Govt.Corruption  Generosity  Dystopia.Residual  \n",
       "0          0.41978     0.29678            2.51738  \n",
       "1          0.14145     0.43630            2.70201  \n",
       "2          0.48357     0.34139            2.49204  "
      ]
     },
     "execution_count": 104,
     "metadata": {},
     "output_type": "execute_result"
    }
   ],
   "source": [
    "# To delete columns:\n",
    "happ.drop(columns=['GDP', 'Freedom', 'Year']).head(n = 3)"
   ]
  },
  {
   "cell_type": "markdown",
   "metadata": {},
   "source": [
    "We can create a new column simply by specifying it."
   ]
  },
  {
   "cell_type": "code",
   "execution_count": 105,
   "metadata": {
    "tags": []
   },
   "outputs": [],
   "source": [
    "# To create a new column, that contains square root of Happiness Score.\n",
    "happ['sqrt_HS'] = np.sqrt(happ['Happiness.Score'])\n",
    "#happ.loc[:, 'sqrt_HS'] = happ['Happiness.Score'].apply(np.sqrt)"
   ]
  },
  {
   "cell_type": "markdown",
   "metadata": {},
   "source": [
    "Suppose we were given the following classification of GDP. We can create that new feature \n",
    "as follows."
   ]
  },
  {
   "cell_type": "code",
   "execution_count": 106,
   "metadata": {
    "tags": []
   },
   "outputs": [
    {
     "data": {
      "text/plain": [
       "count    471.000000\n",
       "mean       0.891742\n",
       "std        0.413322\n",
       "min        0.000000\n",
       "25%        0.593250\n",
       "50%        0.958470\n",
       "75%        1.211830\n",
       "max        1.870766\n",
       "Name: GDP, dtype: float64"
      ]
     },
     "execution_count": 106,
     "metadata": {},
     "output_type": "execute_result"
    }
   ],
   "source": [
    "happ.GDP.describe()"
   ]
  },
  {
   "cell_type": "code",
   "execution_count": 107,
   "metadata": {
    "tags": []
   },
   "outputs": [
    {
     "data": {
      "image/png": "[encoded data removed]",
      "text/plain": [
       "<Figure size 640x480 with 1 Axes>"
      ]
     },
     "metadata": {},
     "output_type": "display_data"
    }
   ],
   "source": [
    "happ.GDP.plot(kind = \"hist\");"
   ]
  },
  {
   "cell_type": "code",
   "execution_count": 108,
   "metadata": {
    "scrolled": true,
    "tags": []
   },
   "outputs": [],
   "source": [
    "# To create a new column, that bucketizes the GDP into high, low, medium\n",
    "happ['GDP_cat'] = pd.cut(happ.GDP, bins = [0, 0.5, 1.5, 1.870765686], labels = ['low', 'med', 'high'] )\n",
    "#happ.loc[:, 'GDP_cat'] = pd.cut(happ.GDP, bins = [0, 0.5, 1.5, 2], labels = ['low', 'med', 'high'] )"
   ]
  },
  {
   "cell_type": "code",
   "execution_count": 109,
   "metadata": {
    "tags": []
   },
   "outputs": [
    {
     "data": {
      "text/html": [
       "<div>\n",
       "<style scoped>\n",
       "    .dataframe tbody tr th:only-of-type {\n",
       "        vertical-align: middle;\n",
       "    }\n",
       "\n",
       "    .dataframe tbody tr th {\n",
       "        vertical-align: top;\n",
       "    }\n",
       "\n",
       "    .dataframe thead th {\n",
       "        text-align: right;\n",
       "    }\n",
       "</style>\n",
       "<table border=\"1\" class=\"dataframe\">\n",
       "  <thead>\n",
       "    <tr style=\"text-align: right;\">\n",
       "      <th></th>\n",
       "      <th>GDP</th>\n",
       "      <th>GDP_cat</th>\n",
       "    </tr>\n",
       "  </thead>\n",
       "  <tbody>\n",
       "    <tr>\n",
       "      <th>0</th>\n",
       "      <td>1.39651</td>\n",
       "      <td>med</td>\n",
       "    </tr>\n",
       "    <tr>\n",
       "      <th>1</th>\n",
       "      <td>1.30232</td>\n",
       "      <td>med</td>\n",
       "    </tr>\n",
       "    <tr>\n",
       "      <th>2</th>\n",
       "      <td>1.32548</td>\n",
       "      <td>med</td>\n",
       "    </tr>\n",
       "    <tr>\n",
       "      <th>3</th>\n",
       "      <td>1.45900</td>\n",
       "      <td>med</td>\n",
       "    </tr>\n",
       "    <tr>\n",
       "      <th>4</th>\n",
       "      <td>1.32629</td>\n",
       "      <td>med</td>\n",
       "    </tr>\n",
       "    <tr>\n",
       "      <th>5</th>\n",
       "      <td>1.29025</td>\n",
       "      <td>med</td>\n",
       "    </tr>\n",
       "  </tbody>\n",
       "</table>\n",
       "</div>"
      ],
      "text/plain": [
       "       GDP GDP_cat\n",
       "0  1.39651     med\n",
       "1  1.30232     med\n",
       "2  1.32548     med\n",
       "3  1.45900     med\n",
       "4  1.32629     med\n",
       "5  1.29025     med"
      ]
     },
     "execution_count": 109,
     "metadata": {},
     "output_type": "execute_result"
    }
   ],
   "source": [
    "happ.loc[0:5, ['GDP', 'GDP_cat']]"
   ]
  },
  {
   "cell_type": "markdown",
   "metadata": {},
   "source": [
    "<a id='categorical'></a>\n",
    "## Categorical Variables\n",
    "\n",
    "### Tables of Counts\n",
    "\n",
    "To summarise categorical variables, one option is to use tables. These tables could present counts of levels, or proportions.\n",
    "\n",
    "When assessing the relationship between categorical variables, the simplest option is to print a table of counts.\n",
    "\n",
    "When we wish to assess a variable, or an aggregation of it, conditional on two or more categorical levels, we use a pivot table.\n",
    "\n",
    "Suppose that, in the happiness dataset, we wish to understand if the distribution of high, low, med GDP has changed in the three years. We can set up a cross-table."
   ]
  },
  {
   "cell_type": "code",
   "execution_count": 110,
   "metadata": {
    "tags": []
   },
   "outputs": [
    {
     "data": {
      "text/html": [
       "<div>\n",
       "<style scoped>\n",
       "    .dataframe tbody tr th:only-of-type {\n",
       "        vertical-align: middle;\n",
       "    }\n",
       "\n",
       "    .dataframe tbody tr th {\n",
       "        vertical-align: top;\n",
       "    }\n",
       "\n",
       "    .dataframe thead th {\n",
       "        text-align: right;\n",
       "    }\n",
       "</style>\n",
       "<table border=\"1\" class=\"dataframe\">\n",
       "  <thead>\n",
       "    <tr style=\"text-align: right;\">\n",
       "      <th>GDP_cat</th>\n",
       "      <th>low</th>\n",
       "      <th>med</th>\n",
       "      <th>high</th>\n",
       "    </tr>\n",
       "    <tr>\n",
       "      <th>Year</th>\n",
       "      <th></th>\n",
       "      <th></th>\n",
       "      <th></th>\n",
       "    </tr>\n",
       "  </thead>\n",
       "  <tbody>\n",
       "    <tr>\n",
       "      <th>2015</th>\n",
       "      <td>37</td>\n",
       "      <td>116</td>\n",
       "      <td>4</td>\n",
       "    </tr>\n",
       "    <tr>\n",
       "      <th>2016</th>\n",
       "      <td>37</td>\n",
       "      <td>116</td>\n",
       "      <td>4</td>\n",
       "    </tr>\n",
       "    <tr>\n",
       "      <th>2017</th>\n",
       "      <td>25</td>\n",
       "      <td>117</td>\n",
       "      <td>12</td>\n",
       "    </tr>\n",
       "  </tbody>\n",
       "</table>\n",
       "</div>"
      ],
      "text/plain": [
       "GDP_cat  low  med  high\n",
       "Year                   \n",
       "2015      37  116     4\n",
       "2016      37  116     4\n",
       "2017      25  117    12"
      ]
     },
     "execution_count": 110,
     "metadata": {},
     "output_type": "execute_result"
    }
   ],
   "source": [
    "pd.crosstab(happ.Year, happ.GDP_cat)"
   ]
  },
  {
   "cell_type": "markdown",
   "metadata": {},
   "source": [
    "It is interesting to note that in 2017, the tails of the distribution changed the most. We can compute the proportion of high/med/low within each year by adding the normalize argument. What else piques your curiosity?"
   ]
  },
  {
   "cell_type": "code",
   "execution_count": 111,
   "metadata": {
    "tags": []
   },
   "outputs": [
    {
     "data": {
      "text/html": [
       "<div>\n",
       "<style scoped>\n",
       "    .dataframe tbody tr th:only-of-type {\n",
       "        vertical-align: middle;\n",
       "    }\n",
       "\n",
       "    .dataframe tbody tr th {\n",
       "        vertical-align: top;\n",
       "    }\n",
       "\n",
       "    .dataframe thead th {\n",
       "        text-align: right;\n",
       "    }\n",
       "</style>\n",
       "<table border=\"1\" class=\"dataframe\">\n",
       "  <thead>\n",
       "    <tr style=\"text-align: right;\">\n",
       "      <th>GDP_cat</th>\n",
       "      <th>low</th>\n",
       "      <th>med</th>\n",
       "      <th>high</th>\n",
       "    </tr>\n",
       "    <tr>\n",
       "      <th>Year</th>\n",
       "      <th></th>\n",
       "      <th></th>\n",
       "      <th></th>\n",
       "    </tr>\n",
       "  </thead>\n",
       "  <tbody>\n",
       "    <tr>\n",
       "      <th>2015</th>\n",
       "      <td>0.235669</td>\n",
       "      <td>0.738854</td>\n",
       "      <td>0.025478</td>\n",
       "    </tr>\n",
       "    <tr>\n",
       "      <th>2016</th>\n",
       "      <td>0.235669</td>\n",
       "      <td>0.738854</td>\n",
       "      <td>0.025478</td>\n",
       "    </tr>\n",
       "    <tr>\n",
       "      <th>2017</th>\n",
       "      <td>0.162338</td>\n",
       "      <td>0.759740</td>\n",
       "      <td>0.077922</td>\n",
       "    </tr>\n",
       "  </tbody>\n",
       "</table>\n",
       "</div>"
      ],
      "text/plain": [
       "GDP_cat       low       med      high\n",
       "Year                                 \n",
       "2015     0.235669  0.738854  0.025478\n",
       "2016     0.235669  0.738854  0.025478\n",
       "2017     0.162338  0.759740  0.077922"
      ]
     },
     "execution_count": 111,
     "metadata": {},
     "output_type": "execute_result"
    }
   ],
   "source": [
    "tab_out = pd.crosstab(happ.Year, happ.GDP_cat, normalize = 'index') \n",
    "tab_out"
   ]
  },
  {
   "cell_type": "markdown",
   "metadata": {},
   "source": [
    "Normalize ==> make the count sums to 1    \n",
    "crosstab/ normalise cross table are dataframe   \n",
    "you can apply dataframe functions on them"
   ]
  },
  {
   "cell_type": "code",
   "execution_count": 112,
   "metadata": {
    "tags": []
   },
   "outputs": [
    {
     "data": {
      "image/png": "[encoded data removed]",
      "text/plain": [
       "<Figure size 1000x400 with 1 Axes>"
      ]
     },
     "metadata": {},
     "output_type": "display_data"
    }
   ],
   "source": [
    "tab_out.plot(kind = 'bar', figsize = (10, 4));"
   ]
  },
  {
   "cell_type": "markdown",
   "metadata": {},
   "source": [
    "Does Happiness Score change with GDP category (as we have defined them) over the years? To introduce a third variable, we shall have to create a pivot table."
   ]
  },
  {
   "cell_type": "code",
   "execution_count": 113,
   "metadata": {
    "tags": []
   },
   "outputs": [
    {
     "data": {
      "text/html": [
       "<div>\n",
       "<style scoped>\n",
       "    .dataframe tbody tr th:only-of-type {\n",
       "        vertical-align: middle;\n",
       "    }\n",
       "\n",
       "    .dataframe tbody tr th {\n",
       "        vertical-align: top;\n",
       "    }\n",
       "\n",
       "    .dataframe thead th {\n",
       "        text-align: right;\n",
       "    }\n",
       "</style>\n",
       "<table border=\"1\" class=\"dataframe\">\n",
       "  <thead>\n",
       "    <tr style=\"text-align: right;\">\n",
       "      <th>GDP_cat</th>\n",
       "      <th>low</th>\n",
       "      <th>med</th>\n",
       "      <th>high</th>\n",
       "    </tr>\n",
       "    <tr>\n",
       "      <th>Year</th>\n",
       "      <th></th>\n",
       "      <th></th>\n",
       "      <th></th>\n",
       "    </tr>\n",
       "  </thead>\n",
       "  <tbody>\n",
       "    <tr>\n",
       "      <th>2015</th>\n",
       "      <td>4.146135</td>\n",
       "      <td>5.730966</td>\n",
       "      <td>6.66250</td>\n",
       "    </tr>\n",
       "    <tr>\n",
       "      <th>2016</th>\n",
       "      <td>4.146135</td>\n",
       "      <td>5.730966</td>\n",
       "      <td>6.66250</td>\n",
       "    </tr>\n",
       "    <tr>\n",
       "      <th>2017</th>\n",
       "      <td>4.020160</td>\n",
       "      <td>5.520675</td>\n",
       "      <td>6.72975</td>\n",
       "    </tr>\n",
       "  </tbody>\n",
       "</table>\n",
       "</div>"
      ],
      "text/plain": [
       "GDP_cat       low       med     high\n",
       "Year                                \n",
       "2015     4.146135  5.730966  6.66250\n",
       "2016     4.146135  5.730966  6.66250\n",
       "2017     4.020160  5.520675  6.72975"
      ]
     },
     "execution_count": 113,
     "metadata": {},
     "output_type": "execute_result"
    }
   ],
   "source": [
    "happ.pivot_table(index = 'Year', columns = 'GDP_cat', values = 'Happiness.Score', aggfunc = 'mean')"
   ]
  },
  {
   "cell_type": "markdown",
   "metadata": {},
   "source": [
    "To complicate things further, suppose we compare SEA nations to non-SEA nations."
   ]
  },
  {
   "cell_type": "code",
   "execution_count": 114,
   "metadata": {
    "tags": []
   },
   "outputs": [],
   "source": [
    "SEA_nations = ['Singapore', 'Malaysia', 'Indonesia', 'Laos', 'Thailand', 'Vietnam', 'Myanmar']\n",
    "happ['region'] = happ.Country.apply(lambda x: 'SEA' if x in SEA_nations else 'not_SEA')"
   ]
  },
  {
   "cell_type": "code",
   "execution_count": 115,
   "metadata": {
    "tags": []
   },
   "outputs": [
    {
     "data": {
      "text/html": [
       "<div>\n",
       "<style scoped>\n",
       "    .dataframe tbody tr th:only-of-type {\n",
       "        vertical-align: middle;\n",
       "    }\n",
       "\n",
       "    .dataframe tbody tr th {\n",
       "        vertical-align: top;\n",
       "    }\n",
       "\n",
       "    .dataframe thead th {\n",
       "        text-align: right;\n",
       "    }\n",
       "</style>\n",
       "<table border=\"1\" class=\"dataframe\">\n",
       "  <thead>\n",
       "    <tr style=\"text-align: right;\">\n",
       "      <th></th>\n",
       "      <th>Country</th>\n",
       "      <th>Happiness.Rank</th>\n",
       "      <th>Happiness.Score</th>\n",
       "      <th>GDP</th>\n",
       "      <th>Family</th>\n",
       "      <th>Life.Expectancy</th>\n",
       "      <th>Freedom</th>\n",
       "      <th>Govt.Corruption</th>\n",
       "      <th>Generosity</th>\n",
       "      <th>Dystopia.Residual</th>\n",
       "      <th>Year</th>\n",
       "      <th>sqrt_HS</th>\n",
       "      <th>GDP_cat</th>\n",
       "      <th>region</th>\n",
       "    </tr>\n",
       "  </thead>\n",
       "  <tbody>\n",
       "    <tr>\n",
       "      <th>0</th>\n",
       "      <td>Switzerland</td>\n",
       "      <td>1.0</td>\n",
       "      <td>7.587</td>\n",
       "      <td>1.39651</td>\n",
       "      <td>1.34951</td>\n",
       "      <td>0.94143</td>\n",
       "      <td>0.66557</td>\n",
       "      <td>0.41978</td>\n",
       "      <td>0.29678</td>\n",
       "      <td>2.51738</td>\n",
       "      <td>2015</td>\n",
       "      <td>2.754451</td>\n",
       "      <td>med</td>\n",
       "      <td>not_SEA</td>\n",
       "    </tr>\n",
       "    <tr>\n",
       "      <th>1</th>\n",
       "      <td>Iceland</td>\n",
       "      <td>2.0</td>\n",
       "      <td>7.561</td>\n",
       "      <td>1.30232</td>\n",
       "      <td>1.40223</td>\n",
       "      <td>0.94784</td>\n",
       "      <td>0.62877</td>\n",
       "      <td>0.14145</td>\n",
       "      <td>0.43630</td>\n",
       "      <td>2.70201</td>\n",
       "      <td>2015</td>\n",
       "      <td>2.749727</td>\n",
       "      <td>med</td>\n",
       "      <td>not_SEA</td>\n",
       "    </tr>\n",
       "    <tr>\n",
       "      <th>2</th>\n",
       "      <td>Denmark</td>\n",
       "      <td>3.0</td>\n",
       "      <td>7.527</td>\n",
       "      <td>1.32548</td>\n",
       "      <td>1.36058</td>\n",
       "      <td>0.87464</td>\n",
       "      <td>0.64938</td>\n",
       "      <td>0.48357</td>\n",
       "      <td>0.34139</td>\n",
       "      <td>2.49204</td>\n",
       "      <td>2015</td>\n",
       "      <td>2.743538</td>\n",
       "      <td>med</td>\n",
       "      <td>not_SEA</td>\n",
       "    </tr>\n",
       "    <tr>\n",
       "      <th>3</th>\n",
       "      <td>Norway</td>\n",
       "      <td>4.0</td>\n",
       "      <td>7.522</td>\n",
       "      <td>1.45900</td>\n",
       "      <td>1.33095</td>\n",
       "      <td>0.88521</td>\n",
       "      <td>0.66973</td>\n",
       "      <td>0.36503</td>\n",
       "      <td>0.34699</td>\n",
       "      <td>2.46531</td>\n",
       "      <td>2015</td>\n",
       "      <td>2.742626</td>\n",
       "      <td>med</td>\n",
       "      <td>not_SEA</td>\n",
       "    </tr>\n",
       "    <tr>\n",
       "      <th>4</th>\n",
       "      <td>Canada</td>\n",
       "      <td>5.0</td>\n",
       "      <td>7.427</td>\n",
       "      <td>1.32629</td>\n",
       "      <td>1.32261</td>\n",
       "      <td>0.90563</td>\n",
       "      <td>0.63297</td>\n",
       "      <td>0.32957</td>\n",
       "      <td>0.45811</td>\n",
       "      <td>2.45176</td>\n",
       "      <td>2015</td>\n",
       "      <td>2.725252</td>\n",
       "      <td>med</td>\n",
       "      <td>not_SEA</td>\n",
       "    </tr>\n",
       "    <tr>\n",
       "      <th>...</th>\n",
       "      <td>...</td>\n",
       "      <td>...</td>\n",
       "      <td>...</td>\n",
       "      <td>...</td>\n",
       "      <td>...</td>\n",
       "      <td>...</td>\n",
       "      <td>...</td>\n",
       "      <td>...</td>\n",
       "      <td>...</td>\n",
       "      <td>...</td>\n",
       "      <td>...</td>\n",
       "      <td>...</td>\n",
       "      <td>...</td>\n",
       "      <td>...</td>\n",
       "    </tr>\n",
       "    <tr>\n",
       "      <th>487</th>\n",
       "      <td>Somaliland region</td>\n",
       "      <td>NaN</td>\n",
       "      <td>NaN</td>\n",
       "      <td>NaN</td>\n",
       "      <td>NaN</td>\n",
       "      <td>NaN</td>\n",
       "      <td>NaN</td>\n",
       "      <td>NaN</td>\n",
       "      <td>NaN</td>\n",
       "      <td>NaN</td>\n",
       "      <td>2017</td>\n",
       "      <td>NaN</td>\n",
       "      <td>NaN</td>\n",
       "      <td>not_SEA</td>\n",
       "    </tr>\n",
       "    <tr>\n",
       "      <th>488</th>\n",
       "      <td>Laos</td>\n",
       "      <td>NaN</td>\n",
       "      <td>NaN</td>\n",
       "      <td>NaN</td>\n",
       "      <td>NaN</td>\n",
       "      <td>NaN</td>\n",
       "      <td>NaN</td>\n",
       "      <td>NaN</td>\n",
       "      <td>NaN</td>\n",
       "      <td>NaN</td>\n",
       "      <td>2017</td>\n",
       "      <td>NaN</td>\n",
       "      <td>NaN</td>\n",
       "      <td>SEA</td>\n",
       "    </tr>\n",
       "    <tr>\n",
       "      <th>489</th>\n",
       "      <td>Swaziland</td>\n",
       "      <td>NaN</td>\n",
       "      <td>NaN</td>\n",
       "      <td>NaN</td>\n",
       "      <td>NaN</td>\n",
       "      <td>NaN</td>\n",
       "      <td>NaN</td>\n",
       "      <td>NaN</td>\n",
       "      <td>NaN</td>\n",
       "      <td>NaN</td>\n",
       "      <td>2017</td>\n",
       "      <td>NaN</td>\n",
       "      <td>NaN</td>\n",
       "      <td>not_SEA</td>\n",
       "    </tr>\n",
       "    <tr>\n",
       "      <th>490</th>\n",
       "      <td>Djibouti</td>\n",
       "      <td>NaN</td>\n",
       "      <td>NaN</td>\n",
       "      <td>NaN</td>\n",
       "      <td>NaN</td>\n",
       "      <td>NaN</td>\n",
       "      <td>NaN</td>\n",
       "      <td>NaN</td>\n",
       "      <td>NaN</td>\n",
       "      <td>NaN</td>\n",
       "      <td>2017</td>\n",
       "      <td>NaN</td>\n",
       "      <td>NaN</td>\n",
       "      <td>not_SEA</td>\n",
       "    </tr>\n",
       "    <tr>\n",
       "      <th>491</th>\n",
       "      <td>Comoros</td>\n",
       "      <td>NaN</td>\n",
       "      <td>NaN</td>\n",
       "      <td>NaN</td>\n",
       "      <td>NaN</td>\n",
       "      <td>NaN</td>\n",
       "      <td>NaN</td>\n",
       "      <td>NaN</td>\n",
       "      <td>NaN</td>\n",
       "      <td>NaN</td>\n",
       "      <td>2017</td>\n",
       "      <td>NaN</td>\n",
       "      <td>NaN</td>\n",
       "      <td>not_SEA</td>\n",
       "    </tr>\n",
       "  </tbody>\n",
       "</table>\n",
       "<p>492 rows × 14 columns</p>\n",
       "</div>"
      ],
      "text/plain": [
       "               Country  Happiness.Rank  Happiness.Score      GDP   Family  \\\n",
       "0          Switzerland             1.0            7.587  1.39651  1.34951   \n",
       "1              Iceland             2.0            7.561  1.30232  1.40223   \n",
       "2              Denmark             3.0            7.527  1.32548  1.36058   \n",
       "3               Norway             4.0            7.522  1.45900  1.33095   \n",
       "4               Canada             5.0            7.427  1.32629  1.32261   \n",
       "..                 ...             ...              ...      ...      ...   \n",
       "487  Somaliland region             NaN              NaN      NaN      NaN   \n",
       "488               Laos             NaN              NaN      NaN      NaN   \n",
       "489          Swaziland             NaN              NaN      NaN      NaN   \n",
       "490           Djibouti             NaN              NaN      NaN      NaN   \n",
       "491            Comoros             NaN              NaN      NaN      NaN   \n",
       "\n",
       "     Life.Expectancy  Freedom  Govt.Corruption  Generosity  Dystopia.Residual  \\\n",
       "0            0.94143  0.66557          0.41978     0.29678            2.51738   \n",
       "1            0.94784  0.62877          0.14145     0.43630            2.70201   \n",
       "2            0.87464  0.64938          0.48357     0.34139            2.49204   \n",
       "3            0.88521  0.66973          0.36503     0.34699            2.46531   \n",
       "4            0.90563  0.63297          0.32957     0.45811            2.45176   \n",
       "..               ...      ...              ...         ...                ...   \n",
       "487              NaN      NaN              NaN         NaN                NaN   \n",
       "488              NaN      NaN              NaN         NaN                NaN   \n",
       "489              NaN      NaN              NaN         NaN                NaN   \n",
       "490              NaN      NaN              NaN         NaN                NaN   \n",
       "491              NaN      NaN              NaN         NaN                NaN   \n",
       "\n",
       "     Year   sqrt_HS GDP_cat   region  \n",
       "0    2015  2.754451     med  not_SEA  \n",
       "1    2015  2.749727     med  not_SEA  \n",
       "2    2015  2.743538     med  not_SEA  \n",
       "3    2015  2.742626     med  not_SEA  \n",
       "4    2015  2.725252     med  not_SEA  \n",
       "..    ...       ...     ...      ...  \n",
       "487  2017       NaN     NaN  not_SEA  \n",
       "488  2017       NaN     NaN      SEA  \n",
       "489  2017       NaN     NaN  not_SEA  \n",
       "490  2017       NaN     NaN  not_SEA  \n",
       "491  2017       NaN     NaN  not_SEA  \n",
       "\n",
       "[492 rows x 14 columns]"
      ]
     },
     "execution_count": 115,
     "metadata": {},
     "output_type": "execute_result"
    }
   ],
   "source": [
    "happ"
   ]
  },
  {
   "cell_type": "code",
   "execution_count": 116,
   "metadata": {
    "tags": []
   },
   "outputs": [
    {
     "data": {
      "text/html": [
       "<div>\n",
       "<style scoped>\n",
       "    .dataframe tbody tr th:only-of-type {\n",
       "        vertical-align: middle;\n",
       "    }\n",
       "\n",
       "    .dataframe tbody tr th {\n",
       "        vertical-align: top;\n",
       "    }\n",
       "\n",
       "    .dataframe thead th {\n",
       "        text-align: right;\n",
       "    }\n",
       "</style>\n",
       "<table border=\"1\" class=\"dataframe\">\n",
       "  <thead>\n",
       "    <tr style=\"text-align: right;\">\n",
       "      <th></th>\n",
       "      <th>GDP_cat</th>\n",
       "      <th>low</th>\n",
       "      <th>med</th>\n",
       "      <th>high</th>\n",
       "    </tr>\n",
       "    <tr>\n",
       "      <th>region</th>\n",
       "      <th>Year</th>\n",
       "      <th></th>\n",
       "      <th></th>\n",
       "      <th></th>\n",
       "    </tr>\n",
       "  </thead>\n",
       "  <tbody>\n",
       "    <tr>\n",
       "      <th rowspan=\"3\" valign=\"top\">SEA</th>\n",
       "      <th>2015</th>\n",
       "      <td>4.307000</td>\n",
       "      <td>5.572000</td>\n",
       "      <td>6.798000</td>\n",
       "    </tr>\n",
       "    <tr>\n",
       "      <th>2016</th>\n",
       "      <td>4.307000</td>\n",
       "      <td>5.572000</td>\n",
       "      <td>6.798000</td>\n",
       "    </tr>\n",
       "    <tr>\n",
       "      <th>2017</th>\n",
       "      <td>4.545000</td>\n",
       "      <td>5.711000</td>\n",
       "      <td>6.572000</td>\n",
       "    </tr>\n",
       "    <tr>\n",
       "      <th rowspan=\"3\" valign=\"top\">not_SEA</th>\n",
       "      <th>2015</th>\n",
       "      <td>4.141667</td>\n",
       "      <td>5.738126</td>\n",
       "      <td>6.617333</td>\n",
       "    </tr>\n",
       "    <tr>\n",
       "      <th>2016</th>\n",
       "      <td>4.141667</td>\n",
       "      <td>5.738126</td>\n",
       "      <td>6.617333</td>\n",
       "    </tr>\n",
       "    <tr>\n",
       "      <th>2017</th>\n",
       "      <td>3.998292</td>\n",
       "      <td>5.513938</td>\n",
       "      <td>6.744091</td>\n",
       "    </tr>\n",
       "  </tbody>\n",
       "</table>\n",
       "</div>"
      ],
      "text/plain": [
       "GDP_cat            low       med      high\n",
       "region  Year                              \n",
       "SEA     2015  4.307000  5.572000  6.798000\n",
       "        2016  4.307000  5.572000  6.798000\n",
       "        2017  4.545000  5.711000  6.572000\n",
       "not_SEA 2015  4.141667  5.738126  6.617333\n",
       "        2016  4.141667  5.738126  6.617333\n",
       "        2017  3.998292  5.513938  6.744091"
      ]
     },
     "execution_count": 116,
     "metadata": {},
     "output_type": "execute_result"
    }
   ],
   "source": [
    "happ.pivot_table(index = ['region', 'Year'], columns = 'GDP_cat', values = 'Happiness.Score', aggfunc = 'mean')"
   ]
  },
  {
   "cell_type": "markdown",
   "metadata": {},
   "source": [
    "<a id='split'></a>\n",
    "## Split-Apply-Transform\n",
    "\n",
    "### Grouping"
   ]
  },
  {
   "cell_type": "code",
   "execution_count": 117,
   "metadata": {
    "tags": []
   },
   "outputs": [
    {
     "data": {
      "text/plain": [
       "Country                   Year\n",
       "Central African Republic  2017    2.693\n",
       "Togo                      2016    2.839\n",
       "                          2015    2.839\n",
       "Burundi                   2017    2.905\n",
       "                          2016    2.905\n",
       "                                  ...  \n",
       "Suriname                  2017      NaN\n",
       "Swaziland                 2017      NaN\n",
       "Taiwan                    2017      NaN\n",
       "Taiwan Province of China  2015      NaN\n",
       "                          2016      NaN\n",
       "Name: Happiness.Score, Length: 492, dtype: float64"
      ]
     },
     "execution_count": 117,
     "metadata": {},
     "output_type": "execute_result"
    }
   ],
   "source": [
    "happ.groupby(['Country', 'Year'])['Happiness.Score'].mean().sort_values()"
   ]
  },
  {
   "cell_type": "code",
   "execution_count": 118,
   "metadata": {
    "tags": []
   },
   "outputs": [
    {
     "data": {
      "text/plain": [
       "Country\n",
       "Switzerland    7.556000\n",
       "Iceland        7.542000\n",
       "Norway         7.527000\n",
       "Denmark        7.525333\n",
       "Finland        7.427000\n",
       "Name: Happiness.Score, dtype: float64"
      ]
     },
     "execution_count": 118,
     "metadata": {},
     "output_type": "execute_result"
    }
   ],
   "source": [
    "happ.groupby('Country')['Happiness.Score'].mean().sort_values(ascending = False).head()"
   ]
  },
  {
   "cell_type": "markdown",
   "metadata": {},
   "source": [
    "### Basic Plotting"
   ]
  },
  {
   "cell_type": "code",
   "execution_count": 119,
   "metadata": {
    "tags": []
   },
   "outputs": [
    {
     "data": {
      "text/html": [
       "<div>\n",
       "<style scoped>\n",
       "    .dataframe tbody tr th:only-of-type {\n",
       "        vertical-align: middle;\n",
       "    }\n",
       "\n",
       "    .dataframe tbody tr th {\n",
       "        vertical-align: top;\n",
       "    }\n",
       "\n",
       "    .dataframe thead th {\n",
       "        text-align: right;\n",
       "    }\n",
       "</style>\n",
       "<table border=\"1\" class=\"dataframe\">\n",
       "  <thead>\n",
       "    <tr style=\"text-align: right;\">\n",
       "      <th></th>\n",
       "      <th>Country</th>\n",
       "      <th>Happiness.Rank</th>\n",
       "      <th>Happiness.Score</th>\n",
       "      <th>GDP</th>\n",
       "      <th>Family</th>\n",
       "      <th>Life.Expectancy</th>\n",
       "      <th>Freedom</th>\n",
       "      <th>Govt.Corruption</th>\n",
       "      <th>Generosity</th>\n",
       "      <th>Dystopia.Residual</th>\n",
       "      <th>Year</th>\n",
       "      <th>sqrt_HS</th>\n",
       "      <th>GDP_cat</th>\n",
       "      <th>region</th>\n",
       "    </tr>\n",
       "  </thead>\n",
       "  <tbody>\n",
       "    <tr>\n",
       "      <th>0</th>\n",
       "      <td>Switzerland</td>\n",
       "      <td>1.0</td>\n",
       "      <td>7.587</td>\n",
       "      <td>1.39651</td>\n",
       "      <td>1.34951</td>\n",
       "      <td>0.94143</td>\n",
       "      <td>0.66557</td>\n",
       "      <td>0.41978</td>\n",
       "      <td>0.29678</td>\n",
       "      <td>2.51738</td>\n",
       "      <td>2015</td>\n",
       "      <td>2.754451</td>\n",
       "      <td>med</td>\n",
       "      <td>not_SEA</td>\n",
       "    </tr>\n",
       "    <tr>\n",
       "      <th>1</th>\n",
       "      <td>Iceland</td>\n",
       "      <td>2.0</td>\n",
       "      <td>7.561</td>\n",
       "      <td>1.30232</td>\n",
       "      <td>1.40223</td>\n",
       "      <td>0.94784</td>\n",
       "      <td>0.62877</td>\n",
       "      <td>0.14145</td>\n",
       "      <td>0.43630</td>\n",
       "      <td>2.70201</td>\n",
       "      <td>2015</td>\n",
       "      <td>2.749727</td>\n",
       "      <td>med</td>\n",
       "      <td>not_SEA</td>\n",
       "    </tr>\n",
       "    <tr>\n",
       "      <th>2</th>\n",
       "      <td>Denmark</td>\n",
       "      <td>3.0</td>\n",
       "      <td>7.527</td>\n",
       "      <td>1.32548</td>\n",
       "      <td>1.36058</td>\n",
       "      <td>0.87464</td>\n",
       "      <td>0.64938</td>\n",
       "      <td>0.48357</td>\n",
       "      <td>0.34139</td>\n",
       "      <td>2.49204</td>\n",
       "      <td>2015</td>\n",
       "      <td>2.743538</td>\n",
       "      <td>med</td>\n",
       "      <td>not_SEA</td>\n",
       "    </tr>\n",
       "    <tr>\n",
       "      <th>3</th>\n",
       "      <td>Norway</td>\n",
       "      <td>4.0</td>\n",
       "      <td>7.522</td>\n",
       "      <td>1.45900</td>\n",
       "      <td>1.33095</td>\n",
       "      <td>0.88521</td>\n",
       "      <td>0.66973</td>\n",
       "      <td>0.36503</td>\n",
       "      <td>0.34699</td>\n",
       "      <td>2.46531</td>\n",
       "      <td>2015</td>\n",
       "      <td>2.742626</td>\n",
       "      <td>med</td>\n",
       "      <td>not_SEA</td>\n",
       "    </tr>\n",
       "    <tr>\n",
       "      <th>4</th>\n",
       "      <td>Canada</td>\n",
       "      <td>5.0</td>\n",
       "      <td>7.427</td>\n",
       "      <td>1.32629</td>\n",
       "      <td>1.32261</td>\n",
       "      <td>0.90563</td>\n",
       "      <td>0.63297</td>\n",
       "      <td>0.32957</td>\n",
       "      <td>0.45811</td>\n",
       "      <td>2.45176</td>\n",
       "      <td>2015</td>\n",
       "      <td>2.725252</td>\n",
       "      <td>med</td>\n",
       "      <td>not_SEA</td>\n",
       "    </tr>\n",
       "  </tbody>\n",
       "</table>\n",
       "</div>"
      ],
      "text/plain": [
       "       Country  Happiness.Rank  Happiness.Score      GDP   Family  \\\n",
       "0  Switzerland             1.0            7.587  1.39651  1.34951   \n",
       "1      Iceland             2.0            7.561  1.30232  1.40223   \n",
       "2      Denmark             3.0            7.527  1.32548  1.36058   \n",
       "3       Norway             4.0            7.522  1.45900  1.33095   \n",
       "4       Canada             5.0            7.427  1.32629  1.32261   \n",
       "\n",
       "   Life.Expectancy  Freedom  Govt.Corruption  Generosity  Dystopia.Residual  \\\n",
       "0          0.94143  0.66557          0.41978     0.29678            2.51738   \n",
       "1          0.94784  0.62877          0.14145     0.43630            2.70201   \n",
       "2          0.87464  0.64938          0.48357     0.34139            2.49204   \n",
       "3          0.88521  0.66973          0.36503     0.34699            2.46531   \n",
       "4          0.90563  0.63297          0.32957     0.45811            2.45176   \n",
       "\n",
       "   Year   sqrt_HS GDP_cat   region  \n",
       "0  2015  2.754451     med  not_SEA  \n",
       "1  2015  2.749727     med  not_SEA  \n",
       "2  2015  2.743538     med  not_SEA  \n",
       "3  2015  2.742626     med  not_SEA  \n",
       "4  2015  2.725252     med  not_SEA  "
      ]
     },
     "execution_count": 119,
     "metadata": {},
     "output_type": "execute_result"
    }
   ],
   "source": [
    "happ.head()"
   ]
  },
  {
   "cell_type": "code",
   "execution_count": 120,
   "metadata": {
    "tags": []
   },
   "outputs": [
    {
     "data": {
      "text/html": [
       "<div>\n",
       "<style scoped>\n",
       "    .dataframe tbody tr th:only-of-type {\n",
       "        vertical-align: middle;\n",
       "    }\n",
       "\n",
       "    .dataframe tbody tr th {\n",
       "        vertical-align: top;\n",
       "    }\n",
       "\n",
       "    .dataframe thead th {\n",
       "        text-align: right;\n",
       "    }\n",
       "</style>\n",
       "<table border=\"1\" class=\"dataframe\">\n",
       "  <thead>\n",
       "    <tr style=\"text-align: right;\">\n",
       "      <th></th>\n",
       "      <th>Happiness.Rank</th>\n",
       "      <th>Happiness.Score</th>\n",
       "      <th>GDP</th>\n",
       "      <th>Family</th>\n",
       "      <th>Life.Expectancy</th>\n",
       "      <th>Freedom</th>\n",
       "      <th>Govt.Corruption</th>\n",
       "      <th>Generosity</th>\n",
       "      <th>Dystopia.Residual</th>\n",
       "      <th>Year</th>\n",
       "      <th>sqrt_HS</th>\n",
       "    </tr>\n",
       "  </thead>\n",
       "  <tbody>\n",
       "    <tr>\n",
       "      <th>count</th>\n",
       "      <td>471.000000</td>\n",
       "      <td>471.000000</td>\n",
       "      <td>471.000000</td>\n",
       "      <td>471.000000</td>\n",
       "      <td>471.000000</td>\n",
       "      <td>471.000000</td>\n",
       "      <td>471.000000</td>\n",
       "      <td>471.000000</td>\n",
       "      <td>471.000000</td>\n",
       "      <td>492.000000</td>\n",
       "      <td>471.000000</td>\n",
       "    </tr>\n",
       "    <tr>\n",
       "      <th>mean</th>\n",
       "      <td>79.002123</td>\n",
       "      <td>5.368588</td>\n",
       "      <td>0.891742</td>\n",
       "      <td>1.056156</td>\n",
       "      <td>0.604288</td>\n",
       "      <td>0.422089</td>\n",
       "      <td>0.136741</td>\n",
       "      <td>0.240451</td>\n",
       "      <td>2.017120</td>\n",
       "      <td>2016.000000</td>\n",
       "      <td>2.303695</td>\n",
       "    </tr>\n",
       "    <tr>\n",
       "      <th>std</th>\n",
       "      <td>45.379933</td>\n",
       "      <td>1.138111</td>\n",
       "      <td>0.413322</td>\n",
       "      <td>0.291996</td>\n",
       "      <td>0.246127</td>\n",
       "      <td>0.150433</td>\n",
       "      <td>0.114470</td>\n",
       "      <td>0.129208</td>\n",
       "      <td>0.548021</td>\n",
       "      <td>0.817328</td>\n",
       "      <td>0.248416</td>\n",
       "    </tr>\n",
       "    <tr>\n",
       "      <th>min</th>\n",
       "      <td>1.000000</td>\n",
       "      <td>2.693000</td>\n",
       "      <td>0.000000</td>\n",
       "      <td>0.000000</td>\n",
       "      <td>0.000000</td>\n",
       "      <td>0.000000</td>\n",
       "      <td>0.000000</td>\n",
       "      <td>0.000000</td>\n",
       "      <td>0.328580</td>\n",
       "      <td>2015.000000</td>\n",
       "      <td>1.641036</td>\n",
       "    </tr>\n",
       "    <tr>\n",
       "      <th>25%</th>\n",
       "      <td>40.000000</td>\n",
       "      <td>4.517500</td>\n",
       "      <td>0.593250</td>\n",
       "      <td>0.904550</td>\n",
       "      <td>0.431752</td>\n",
       "      <td>0.319140</td>\n",
       "      <td>0.059815</td>\n",
       "      <td>0.152412</td>\n",
       "      <td>1.684842</td>\n",
       "      <td>2015.000000</td>\n",
       "      <td>2.125441</td>\n",
       "    </tr>\n",
       "    <tr>\n",
       "      <th>50%</th>\n",
       "      <td>79.000000</td>\n",
       "      <td>5.268000</td>\n",
       "      <td>0.958470</td>\n",
       "      <td>1.095620</td>\n",
       "      <td>0.650880</td>\n",
       "      <td>0.436260</td>\n",
       "      <td>0.099872</td>\n",
       "      <td>0.219000</td>\n",
       "      <td>1.978736</td>\n",
       "      <td>2016.000000</td>\n",
       "      <td>2.295212</td>\n",
       "    </tr>\n",
       "    <tr>\n",
       "      <th>75%</th>\n",
       "      <td>118.000000</td>\n",
       "      <td>6.168000</td>\n",
       "      <td>1.211830</td>\n",
       "      <td>1.265725</td>\n",
       "      <td>0.790819</td>\n",
       "      <td>0.542100</td>\n",
       "      <td>0.174220</td>\n",
       "      <td>0.318440</td>\n",
       "      <td>2.368290</td>\n",
       "      <td>2017.000000</td>\n",
       "      <td>2.483546</td>\n",
       "    </tr>\n",
       "    <tr>\n",
       "      <th>max</th>\n",
       "      <td>158.000000</td>\n",
       "      <td>7.587000</td>\n",
       "      <td>1.870766</td>\n",
       "      <td>1.610574</td>\n",
       "      <td>1.025250</td>\n",
       "      <td>0.669730</td>\n",
       "      <td>0.551910</td>\n",
       "      <td>0.838075</td>\n",
       "      <td>3.602140</td>\n",
       "      <td>2017.000000</td>\n",
       "      <td>2.754451</td>\n",
       "    </tr>\n",
       "  </tbody>\n",
       "</table>\n",
       "</div>"
      ],
      "text/plain": [
       "       Happiness.Rank  Happiness.Score         GDP      Family  \\\n",
       "count      471.000000       471.000000  471.000000  471.000000   \n",
       "mean        79.002123         5.368588    0.891742    1.056156   \n",
       "std         45.379933         1.138111    0.413322    0.291996   \n",
       "min          1.000000         2.693000    0.000000    0.000000   \n",
       "25%         40.000000         4.517500    0.593250    0.904550   \n",
       "50%         79.000000         5.268000    0.958470    1.095620   \n",
       "75%        118.000000         6.168000    1.211830    1.265725   \n",
       "max        158.000000         7.587000    1.870766    1.610574   \n",
       "\n",
       "       Life.Expectancy     Freedom  Govt.Corruption  Generosity  \\\n",
       "count       471.000000  471.000000       471.000000  471.000000   \n",
       "mean          0.604288    0.422089         0.136741    0.240451   \n",
       "std           0.246127    0.150433         0.114470    0.129208   \n",
       "min           0.000000    0.000000         0.000000    0.000000   \n",
       "25%           0.431752    0.319140         0.059815    0.152412   \n",
       "50%           0.650880    0.436260         0.099872    0.219000   \n",
       "75%           0.790819    0.542100         0.174220    0.318440   \n",
       "max           1.025250    0.669730         0.551910    0.838075   \n",
       "\n",
       "       Dystopia.Residual         Year     sqrt_HS  \n",
       "count         471.000000   492.000000  471.000000  \n",
       "mean            2.017120  2016.000000    2.303695  \n",
       "std             0.548021     0.817328    0.248416  \n",
       "min             0.328580  2015.000000    1.641036  \n",
       "25%             1.684842  2015.000000    2.125441  \n",
       "50%             1.978736  2016.000000    2.295212  \n",
       "75%             2.368290  2017.000000    2.483546  \n",
       "max             3.602140  2017.000000    2.754451  "
      ]
     },
     "execution_count": 120,
     "metadata": {},
     "output_type": "execute_result"
    }
   ],
   "source": [
    "happ.describe()"
   ]
  },
  {
   "cell_type": "code",
   "execution_count": 121,
   "metadata": {
    "tags": []
   },
   "outputs": [
    {
     "data": {
      "image/png": "[encoded data removed]",
      "text/plain": [
       "<Figure size 640x480 with 1 Axes>"
      ]
     },
     "metadata": {},
     "output_type": "display_data"
    }
   ],
   "source": [
    "happ.plot(x = 'Generosity', y = 'Life.Expectancy', kind = 'scatter');"
   ]
  },
  {
   "cell_type": "code",
   "execution_count": 122,
   "metadata": {
    "tags": []
   },
   "outputs": [
    {
     "data": {
      "text/html": [
       "<div>\n",
       "<style scoped>\n",
       "    .dataframe tbody tr th:only-of-type {\n",
       "        vertical-align: middle;\n",
       "    }\n",
       "\n",
       "    .dataframe tbody tr th {\n",
       "        vertical-align: top;\n",
       "    }\n",
       "\n",
       "    .dataframe thead th {\n",
       "        text-align: right;\n",
       "    }\n",
       "</style>\n",
       "<table border=\"1\" class=\"dataframe\">\n",
       "  <thead>\n",
       "    <tr style=\"text-align: right;\">\n",
       "      <th></th>\n",
       "      <th>Country</th>\n",
       "      <th>Happiness.Rank</th>\n",
       "      <th>Happiness.Score</th>\n",
       "      <th>GDP</th>\n",
       "      <th>Family</th>\n",
       "      <th>Life.Expectancy</th>\n",
       "      <th>Freedom</th>\n",
       "      <th>Govt.Corruption</th>\n",
       "      <th>Generosity</th>\n",
       "      <th>Dystopia.Residual</th>\n",
       "      <th>Year</th>\n",
       "      <th>sqrt_HS</th>\n",
       "      <th>GDP_cat</th>\n",
       "      <th>region</th>\n",
       "    </tr>\n",
       "  </thead>\n",
       "  <tbody>\n",
       "    <tr>\n",
       "      <th>33</th>\n",
       "      <td>Thailand</td>\n",
       "      <td>34.0</td>\n",
       "      <td>6.455</td>\n",
       "      <td>0.966900</td>\n",
       "      <td>1.265040</td>\n",
       "      <td>0.738500</td>\n",
       "      <td>0.556640</td>\n",
       "      <td>0.031870</td>\n",
       "      <td>0.576300</td>\n",
       "      <td>2.319450</td>\n",
       "      <td>2015</td>\n",
       "      <td>2.540669</td>\n",
       "      <td>med</td>\n",
       "      <td>SEA</td>\n",
       "    </tr>\n",
       "    <tr>\n",
       "      <th>128</th>\n",
       "      <td>Myanmar</td>\n",
       "      <td>129.0</td>\n",
       "      <td>4.307</td>\n",
       "      <td>0.271080</td>\n",
       "      <td>0.709050</td>\n",
       "      <td>0.482460</td>\n",
       "      <td>0.440170</td>\n",
       "      <td>0.190340</td>\n",
       "      <td>0.795880</td>\n",
       "      <td>1.418050</td>\n",
       "      <td>2015</td>\n",
       "      <td>2.075331</td>\n",
       "      <td>low</td>\n",
       "      <td>SEA</td>\n",
       "    </tr>\n",
       "    <tr>\n",
       "      <th>197</th>\n",
       "      <td>Thailand</td>\n",
       "      <td>34.0</td>\n",
       "      <td>6.455</td>\n",
       "      <td>0.966900</td>\n",
       "      <td>1.265040</td>\n",
       "      <td>0.738500</td>\n",
       "      <td>0.556640</td>\n",
       "      <td>0.031870</td>\n",
       "      <td>0.576300</td>\n",
       "      <td>2.319450</td>\n",
       "      <td>2016</td>\n",
       "      <td>2.540669</td>\n",
       "      <td>med</td>\n",
       "      <td>SEA</td>\n",
       "    </tr>\n",
       "    <tr>\n",
       "      <th>292</th>\n",
       "      <td>Myanmar</td>\n",
       "      <td>129.0</td>\n",
       "      <td>4.307</td>\n",
       "      <td>0.271080</td>\n",
       "      <td>0.709050</td>\n",
       "      <td>0.482460</td>\n",
       "      <td>0.440170</td>\n",
       "      <td>0.190340</td>\n",
       "      <td>0.795880</td>\n",
       "      <td>1.418050</td>\n",
       "      <td>2016</td>\n",
       "      <td>2.075331</td>\n",
       "      <td>low</td>\n",
       "      <td>SEA</td>\n",
       "    </tr>\n",
       "    <tr>\n",
       "      <th>354</th>\n",
       "      <td>Malta</td>\n",
       "      <td>27.0</td>\n",
       "      <td>6.527</td>\n",
       "      <td>1.343280</td>\n",
       "      <td>1.488412</td>\n",
       "      <td>0.821944</td>\n",
       "      <td>0.588767</td>\n",
       "      <td>0.153066</td>\n",
       "      <td>0.574731</td>\n",
       "      <td>1.556863</td>\n",
       "      <td>2017</td>\n",
       "      <td>2.554799</td>\n",
       "      <td>med</td>\n",
       "      <td>not_SEA</td>\n",
       "    </tr>\n",
       "    <tr>\n",
       "      <th>359</th>\n",
       "      <td>Thailand</td>\n",
       "      <td>32.0</td>\n",
       "      <td>6.424</td>\n",
       "      <td>1.127869</td>\n",
       "      <td>1.425792</td>\n",
       "      <td>0.647239</td>\n",
       "      <td>0.580201</td>\n",
       "      <td>0.031613</td>\n",
       "      <td>0.572123</td>\n",
       "      <td>2.039508</td>\n",
       "      <td>2017</td>\n",
       "      <td>2.534561</td>\n",
       "      <td>med</td>\n",
       "      <td>SEA</td>\n",
       "    </tr>\n",
       "    <tr>\n",
       "      <th>408</th>\n",
       "      <td>Indonesia</td>\n",
       "      <td>81.0</td>\n",
       "      <td>5.262</td>\n",
       "      <td>0.995539</td>\n",
       "      <td>1.274445</td>\n",
       "      <td>0.492346</td>\n",
       "      <td>0.443323</td>\n",
       "      <td>0.015317</td>\n",
       "      <td>0.611705</td>\n",
       "      <td>1.429477</td>\n",
       "      <td>2017</td>\n",
       "      <td>2.293905</td>\n",
       "      <td>med</td>\n",
       "      <td>SEA</td>\n",
       "    </tr>\n",
       "    <tr>\n",
       "      <th>441</th>\n",
       "      <td>Myanmar</td>\n",
       "      <td>114.0</td>\n",
       "      <td>4.545</td>\n",
       "      <td>0.367111</td>\n",
       "      <td>1.123236</td>\n",
       "      <td>0.397523</td>\n",
       "      <td>0.514492</td>\n",
       "      <td>0.188816</td>\n",
       "      <td>0.838075</td>\n",
       "      <td>1.115290</td>\n",
       "      <td>2017</td>\n",
       "      <td>2.131901</td>\n",
       "      <td>low</td>\n",
       "      <td>SEA</td>\n",
       "    </tr>\n",
       "  </tbody>\n",
       "</table>\n",
       "</div>"
      ],
      "text/plain": [
       "       Country  Happiness.Rank  Happiness.Score       GDP    Family  \\\n",
       "33    Thailand            34.0            6.455  0.966900  1.265040   \n",
       "128    Myanmar           129.0            4.307  0.271080  0.709050   \n",
       "197   Thailand            34.0            6.455  0.966900  1.265040   \n",
       "292    Myanmar           129.0            4.307  0.271080  0.709050   \n",
       "354      Malta            27.0            6.527  1.343280  1.488412   \n",
       "359   Thailand            32.0            6.424  1.127869  1.425792   \n",
       "408  Indonesia            81.0            5.262  0.995539  1.274445   \n",
       "441    Myanmar           114.0            4.545  0.367111  1.123236   \n",
       "\n",
       "     Life.Expectancy   Freedom  Govt.Corruption  Generosity  \\\n",
       "33          0.738500  0.556640         0.031870    0.576300   \n",
       "128         0.482460  0.440170         0.190340    0.795880   \n",
       "197         0.738500  0.556640         0.031870    0.576300   \n",
       "292         0.482460  0.440170         0.190340    0.795880   \n",
       "354         0.821944  0.588767         0.153066    0.574731   \n",
       "359         0.647239  0.580201         0.031613    0.572123   \n",
       "408         0.492346  0.443323         0.015317    0.611705   \n",
       "441         0.397523  0.514492         0.188816    0.838075   \n",
       "\n",
       "     Dystopia.Residual  Year   sqrt_HS GDP_cat   region  \n",
       "33            2.319450  2015  2.540669     med      SEA  \n",
       "128           1.418050  2015  2.075331     low      SEA  \n",
       "197           2.319450  2016  2.540669     med      SEA  \n",
       "292           1.418050  2016  2.075331     low      SEA  \n",
       "354           1.556863  2017  2.554799     med  not_SEA  \n",
       "359           2.039508  2017  2.534561     med      SEA  \n",
       "408           1.429477  2017  2.293905     med      SEA  \n",
       "441           1.115290  2017  2.131901     low      SEA  "
      ]
     },
     "execution_count": 122,
     "metadata": {},
     "output_type": "execute_result"
    }
   ],
   "source": [
    "happ[happ.Generosity > 0.55]"
   ]
  },
  {
   "cell_type": "code",
   "execution_count": 123,
   "metadata": {
    "tags": []
   },
   "outputs": [
    {
     "data": {
      "image/png": "[encoded data removed]",
      "text/plain": [
       "<Figure size 640x480 with 1 Axes>"
      ]
     },
     "metadata": {},
     "output_type": "display_data"
    }
   ],
   "source": [
    "happ.Generosity.plot(kind = 'box');"
   ]
  },
  {
   "cell_type": "markdown",
   "metadata": {},
   "source": [
    "<a id='multiple'></a>\n",
    "##  Working with Multiple DataFrames\n",
    "\n",
    "The following two datasets contain information on the matches played at the 2018 FIFA world cup:\n",
    "\n",
    "* `match_schedule.xlsx` - contains the schedule of all 64 matches and their outcomes.\n",
    "* `weatherTable.xlsx` - contains information on the weather at the venue of each match."
   ]
  },
  {
   "cell_type": "code",
   "execution_count": 126,
   "metadata": {
    "tags": []
   },
   "outputs": [],
   "source": [
    "weather = pd.read_excel('../data/weatherTable.xlsx')\n",
    "schedule = pd.read_excel('../data/match_schedule.xlsx')\n",
    "# You may need to install openpyxl (at command prompt, run pip install openpyxl)."
   ]
  },
  {
   "cell_type": "code",
   "execution_count": 127,
   "metadata": {
    "tags": []
   },
   "outputs": [
    {
     "data": {
      "text/html": [
       "<div>\n",
       "<style scoped>\n",
       "    .dataframe tbody tr th:only-of-type {\n",
       "        vertical-align: middle;\n",
       "    }\n",
       "\n",
       "    .dataframe tbody tr th {\n",
       "        vertical-align: top;\n",
       "    }\n",
       "\n",
       "    .dataframe thead th {\n",
       "        text-align: right;\n",
       "    }\n",
       "</style>\n",
       "<table border=\"1\" class=\"dataframe\">\n",
       "  <thead>\n",
       "    <tr style=\"text-align: right;\">\n",
       "      <th></th>\n",
       "      <th>description</th>\n",
       "      <th>temperature</th>\n",
       "      <th>wind_speed</th>\n",
       "      <th>humid</th>\n",
       "      <th>match_id</th>\n",
       "    </tr>\n",
       "  </thead>\n",
       "  <tbody>\n",
       "    <tr>\n",
       "      <th>0</th>\n",
       "      <td>Clear Night</td>\n",
       "      <td>17</td>\n",
       "      <td>15</td>\n",
       "      <td>49</td>\n",
       "      <td>300331513</td>\n",
       "    </tr>\n",
       "    <tr>\n",
       "      <th>1</th>\n",
       "      <td>Sunny</td>\n",
       "      <td>32</td>\n",
       "      <td>2</td>\n",
       "      <td>19</td>\n",
       "      <td>300331497</td>\n",
       "    </tr>\n",
       "    <tr>\n",
       "      <th>2</th>\n",
       "      <td>Clear Night</td>\n",
       "      <td>24</td>\n",
       "      <td>7</td>\n",
       "      <td>17</td>\n",
       "      <td>300331554</td>\n",
       "    </tr>\n",
       "    <tr>\n",
       "      <th>3</th>\n",
       "      <td>Sunny</td>\n",
       "      <td>32</td>\n",
       "      <td>10</td>\n",
       "      <td>26</td>\n",
       "      <td>300331530</td>\n",
       "    </tr>\n",
       "    <tr>\n",
       "      <th>4</th>\n",
       "      <td>Sunny</td>\n",
       "      <td>27</td>\n",
       "      <td>12</td>\n",
       "      <td>38</td>\n",
       "      <td>300331550</td>\n",
       "    </tr>\n",
       "  </tbody>\n",
       "</table>\n",
       "</div>"
      ],
      "text/plain": [
       "   description  temperature  wind_speed  humid   match_id\n",
       "0  Clear Night           17          15     49  300331513\n",
       "1        Sunny           32           2     19  300331497\n",
       "2  Clear Night           24           7     17  300331554\n",
       "3        Sunny           32          10     26  300331530\n",
       "4        Sunny           27          12     38  300331550"
      ]
     },
     "execution_count": 127,
     "metadata": {},
     "output_type": "execute_result"
    }
   ],
   "source": [
    "weather.head()"
   ]
  },
  {
   "cell_type": "code",
   "execution_count": 128,
   "metadata": {
    "tags": []
   },
   "outputs": [
    {
     "data": {
      "text/html": [
       "<div>\n",
       "<style scoped>\n",
       "    .dataframe tbody tr th:only-of-type {\n",
       "        vertical-align: middle;\n",
       "    }\n",
       "\n",
       "    .dataframe tbody tr th {\n",
       "        vertical-align: top;\n",
       "    }\n",
       "\n",
       "    .dataframe thead th {\n",
       "        text-align: right;\n",
       "    }\n",
       "</style>\n",
       "<table border=\"1\" class=\"dataframe\">\n",
       "  <thead>\n",
       "    <tr style=\"text-align: right;\">\n",
       "      <th></th>\n",
       "      <th>match_id</th>\n",
       "      <th>date_time</th>\n",
       "      <th>stadium</th>\n",
       "      <th>venue</th>\n",
       "      <th>match_info</th>\n",
       "      <th>home_team</th>\n",
       "      <th>away_team</th>\n",
       "      <th>HT</th>\n",
       "      <th>FT</th>\n",
       "      <th>2ET</th>\n",
       "      <th>PEN</th>\n",
       "    </tr>\n",
       "  </thead>\n",
       "  <tbody>\n",
       "    <tr>\n",
       "      <th>0</th>\n",
       "      <td>300331495</td>\n",
       "      <td>19 Jun 2018 - 21:00</td>\n",
       "      <td>Saint Petersburg Stadium</td>\n",
       "      <td>St. Petersburg</td>\n",
       "      <td>Group A</td>\n",
       "      <td>RUS</td>\n",
       "      <td>EGY</td>\n",
       "      <td>0-0</td>\n",
       "      <td>3-1</td>\n",
       "      <td>NaN</td>\n",
       "      <td>NaN</td>\n",
       "    </tr>\n",
       "    <tr>\n",
       "      <th>1</th>\n",
       "      <td>300331496</td>\n",
       "      <td>20 Jun 2018 - 21:00</td>\n",
       "      <td>Kazan Arena</td>\n",
       "      <td>Kazan</td>\n",
       "      <td>Group B</td>\n",
       "      <td>IRN</td>\n",
       "      <td>ESP</td>\n",
       "      <td>0-0</td>\n",
       "      <td>0-1</td>\n",
       "      <td>NaN</td>\n",
       "      <td>NaN</td>\n",
       "    </tr>\n",
       "    <tr>\n",
       "      <th>2</th>\n",
       "      <td>300331497</td>\n",
       "      <td>22 Jun 2018 - 18:00</td>\n",
       "      <td>Volgograd Arena</td>\n",
       "      <td>Volgograd</td>\n",
       "      <td>Group D</td>\n",
       "      <td>NGA</td>\n",
       "      <td>ISL</td>\n",
       "      <td>0-0</td>\n",
       "      <td>2-0</td>\n",
       "      <td>NaN</td>\n",
       "      <td>NaN</td>\n",
       "    </tr>\n",
       "    <tr>\n",
       "      <th>3</th>\n",
       "      <td>300331498</td>\n",
       "      <td>01 Jul 2018 - 21:00</td>\n",
       "      <td>Nizhny Novgorod Stadium</td>\n",
       "      <td>Nizhny Novgorod</td>\n",
       "      <td>Round of 16</td>\n",
       "      <td>CRO</td>\n",
       "      <td>DEN</td>\n",
       "      <td>1-1</td>\n",
       "      <td>1-1</td>\n",
       "      <td>1-1</td>\n",
       "      <td>3-2</td>\n",
       "    </tr>\n",
       "    <tr>\n",
       "      <th>4</th>\n",
       "      <td>300331499</td>\n",
       "      <td>18 Jun 2018 - 15:00</td>\n",
       "      <td>Nizhny Novgorod Stadium</td>\n",
       "      <td>Nizhny Novgorod</td>\n",
       "      <td>Group F</td>\n",
       "      <td>SWE</td>\n",
       "      <td>KOR</td>\n",
       "      <td>0-0</td>\n",
       "      <td>1-0</td>\n",
       "      <td>NaN</td>\n",
       "      <td>NaN</td>\n",
       "    </tr>\n",
       "  </tbody>\n",
       "</table>\n",
       "</div>"
      ],
      "text/plain": [
       "    match_id            date_time                   stadium            venue  \\\n",
       "0  300331495  19 Jun 2018 - 21:00  Saint Petersburg Stadium   St. Petersburg   \n",
       "1  300331496  20 Jun 2018 - 21:00               Kazan Arena            Kazan   \n",
       "2  300331497  22 Jun 2018 - 18:00           Volgograd Arena        Volgograd   \n",
       "3  300331498  01 Jul 2018 - 21:00   Nizhny Novgorod Stadium  Nizhny Novgorod   \n",
       "4  300331499  18 Jun 2018 - 15:00   Nizhny Novgorod Stadium  Nizhny Novgorod   \n",
       "\n",
       "    match_info home_team away_team   HT   FT  2ET  PEN  \n",
       "0      Group A       RUS       EGY  0-0  3-1  NaN  NaN  \n",
       "1      Group B       IRN       ESP  0-0  0-1  NaN  NaN  \n",
       "2      Group D       NGA       ISL  0-0  2-0  NaN  NaN  \n",
       "3  Round of 16       CRO       DEN  1-1  1-1  1-1  3-2  \n",
       "4      Group F       SWE       KOR  0-0  1-0  NaN  NaN  "
      ]
     },
     "execution_count": 128,
     "metadata": {},
     "output_type": "execute_result"
    }
   ],
   "source": [
    "schedule.head()"
   ]
  },
  {
   "cell_type": "markdown",
   "metadata": {},
   "source": [
    "Both dataframes have a match id column. When we want to merge two dataframes, they have to have common column(s). There are two main types of joins: inner and outer joins. Outer joins are left, right or full joins. "
   ]
  },
  {
   "cell_type": "markdown",
   "metadata": {},
   "source": [
    "<img src=\"../figs/join-outer.png\" style=\"width: 450px;\"/>"
   ]
  },
  {
   "cell_type": "markdown",
   "metadata": {},
   "source": [
    "Inner joins keep only the rows that are present in **both** dataframes."
   ]
  },
  {
   "cell_type": "markdown",
   "metadata": {},
   "source": [
    "<img src=\"../figs/join-inner.png\" style=\"width: 450px;\"/>"
   ]
  },
  {
   "cell_type": "markdown",
   "metadata": {},
   "source": [
    "With pandas, things  get an additional layer of complication. Instead of merging on the column, one can merge based on the index. This will only be appropriate if both indices are of the same type."
   ]
  },
  {
   "cell_type": "code",
   "execution_count": 129,
   "metadata": {
    "tags": []
   },
   "outputs": [],
   "source": [
    "sched_weather = pd.merge(schedule, weather, on = 'match_id')"
   ]
  },
  {
   "cell_type": "code",
   "execution_count": 130,
   "metadata": {
    "tags": []
   },
   "outputs": [
    {
     "data": {
      "text/html": [
       "<div>\n",
       "<style scoped>\n",
       "    .dataframe tbody tr th:only-of-type {\n",
       "        vertical-align: middle;\n",
       "    }\n",
       "\n",
       "    .dataframe tbody tr th {\n",
       "        vertical-align: top;\n",
       "    }\n",
       "\n",
       "    .dataframe thead th {\n",
       "        text-align: right;\n",
       "    }\n",
       "</style>\n",
       "<table border=\"1\" class=\"dataframe\">\n",
       "  <thead>\n",
       "    <tr style=\"text-align: right;\">\n",
       "      <th></th>\n",
       "      <th>match_id</th>\n",
       "      <th>date_time</th>\n",
       "      <th>stadium</th>\n",
       "      <th>venue</th>\n",
       "      <th>match_info</th>\n",
       "      <th>home_team</th>\n",
       "      <th>away_team</th>\n",
       "      <th>HT</th>\n",
       "      <th>FT</th>\n",
       "      <th>2ET</th>\n",
       "      <th>PEN</th>\n",
       "      <th>description</th>\n",
       "      <th>temperature</th>\n",
       "      <th>wind_speed</th>\n",
       "      <th>humid</th>\n",
       "    </tr>\n",
       "  </thead>\n",
       "  <tbody>\n",
       "    <tr>\n",
       "      <th>0</th>\n",
       "      <td>300331495</td>\n",
       "      <td>19 Jun 2018 - 21:00</td>\n",
       "      <td>Saint Petersburg Stadium</td>\n",
       "      <td>St. Petersburg</td>\n",
       "      <td>Group A</td>\n",
       "      <td>RUS</td>\n",
       "      <td>EGY</td>\n",
       "      <td>0-0</td>\n",
       "      <td>3-1</td>\n",
       "      <td>NaN</td>\n",
       "      <td>NaN</td>\n",
       "      <td>Cloudy</td>\n",
       "      <td>15</td>\n",
       "      <td>14</td>\n",
       "      <td>83</td>\n",
       "    </tr>\n",
       "    <tr>\n",
       "      <th>1</th>\n",
       "      <td>300331496</td>\n",
       "      <td>20 Jun 2018 - 21:00</td>\n",
       "      <td>Kazan Arena</td>\n",
       "      <td>Kazan</td>\n",
       "      <td>Group B</td>\n",
       "      <td>IRN</td>\n",
       "      <td>ESP</td>\n",
       "      <td>0-0</td>\n",
       "      <td>0-1</td>\n",
       "      <td>NaN</td>\n",
       "      <td>NaN</td>\n",
       "      <td>Clear Night</td>\n",
       "      <td>18</td>\n",
       "      <td>26</td>\n",
       "      <td>48</td>\n",
       "    </tr>\n",
       "    <tr>\n",
       "      <th>2</th>\n",
       "      <td>300331497</td>\n",
       "      <td>22 Jun 2018 - 18:00</td>\n",
       "      <td>Volgograd Arena</td>\n",
       "      <td>Volgograd</td>\n",
       "      <td>Group D</td>\n",
       "      <td>NGA</td>\n",
       "      <td>ISL</td>\n",
       "      <td>0-0</td>\n",
       "      <td>2-0</td>\n",
       "      <td>NaN</td>\n",
       "      <td>NaN</td>\n",
       "      <td>Sunny</td>\n",
       "      <td>32</td>\n",
       "      <td>2</td>\n",
       "      <td>19</td>\n",
       "    </tr>\n",
       "    <tr>\n",
       "      <th>3</th>\n",
       "      <td>300331498</td>\n",
       "      <td>01 Jul 2018 - 21:00</td>\n",
       "      <td>Nizhny Novgorod Stadium</td>\n",
       "      <td>Nizhny Novgorod</td>\n",
       "      <td>Round of 16</td>\n",
       "      <td>CRO</td>\n",
       "      <td>DEN</td>\n",
       "      <td>1-1</td>\n",
       "      <td>1-1</td>\n",
       "      <td>1-1</td>\n",
       "      <td>3-2</td>\n",
       "      <td>Partly Cloudy Night</td>\n",
       "      <td>25</td>\n",
       "      <td>15</td>\n",
       "      <td>48</td>\n",
       "    </tr>\n",
       "    <tr>\n",
       "      <th>4</th>\n",
       "      <td>300331499</td>\n",
       "      <td>18 Jun 2018 - 15:00</td>\n",
       "      <td>Nizhny Novgorod Stadium</td>\n",
       "      <td>Nizhny Novgorod</td>\n",
       "      <td>Group F</td>\n",
       "      <td>SWE</td>\n",
       "      <td>KOR</td>\n",
       "      <td>0-0</td>\n",
       "      <td>1-0</td>\n",
       "      <td>NaN</td>\n",
       "      <td>NaN</td>\n",
       "      <td>Partly Cloudy</td>\n",
       "      <td>25</td>\n",
       "      <td>9</td>\n",
       "      <td>36</td>\n",
       "    </tr>\n",
       "    <tr>\n",
       "      <th>...</th>\n",
       "      <td>...</td>\n",
       "      <td>...</td>\n",
       "      <td>...</td>\n",
       "      <td>...</td>\n",
       "      <td>...</td>\n",
       "      <td>...</td>\n",
       "      <td>...</td>\n",
       "      <td>...</td>\n",
       "      <td>...</td>\n",
       "      <td>...</td>\n",
       "      <td>...</td>\n",
       "      <td>...</td>\n",
       "      <td>...</td>\n",
       "      <td>...</td>\n",
       "      <td>...</td>\n",
       "    </tr>\n",
       "    <tr>\n",
       "      <th>59</th>\n",
       "      <td>300331554</td>\n",
       "      <td>18 Jun 2018 - 21:00</td>\n",
       "      <td>Volgograd Arena</td>\n",
       "      <td>Volgograd</td>\n",
       "      <td>Group G</td>\n",
       "      <td>TUN</td>\n",
       "      <td>ENG</td>\n",
       "      <td>1-1</td>\n",
       "      <td>1-2</td>\n",
       "      <td>NaN</td>\n",
       "      <td>NaN</td>\n",
       "      <td>Clear Night</td>\n",
       "      <td>24</td>\n",
       "      <td>7</td>\n",
       "      <td>17</td>\n",
       "    </tr>\n",
       "    <tr>\n",
       "      <th>60</th>\n",
       "      <td>300340182</td>\n",
       "      <td>28 Jun 2018 - 20:00</td>\n",
       "      <td>Kaliningrad Stadium</td>\n",
       "      <td>Kaliningrad</td>\n",
       "      <td>Group G</td>\n",
       "      <td>ENG</td>\n",
       "      <td>BEL</td>\n",
       "      <td>0-0</td>\n",
       "      <td>0-1</td>\n",
       "      <td>NaN</td>\n",
       "      <td>NaN</td>\n",
       "      <td>Sunny</td>\n",
       "      <td>21</td>\n",
       "      <td>11</td>\n",
       "      <td>61</td>\n",
       "    </tr>\n",
       "    <tr>\n",
       "      <th>61</th>\n",
       "      <td>300340183</td>\n",
       "      <td>22 Jun 2018 - 20:00</td>\n",
       "      <td>Kaliningrad Stadium</td>\n",
       "      <td>Kaliningrad</td>\n",
       "      <td>Group E</td>\n",
       "      <td>SRB</td>\n",
       "      <td>SUI</td>\n",
       "      <td>1-0</td>\n",
       "      <td>1-2</td>\n",
       "      <td>NaN</td>\n",
       "      <td>NaN</td>\n",
       "      <td>Sunny</td>\n",
       "      <td>15</td>\n",
       "      <td>11</td>\n",
       "      <td>55</td>\n",
       "    </tr>\n",
       "    <tr>\n",
       "      <th>62</th>\n",
       "      <td>300340184</td>\n",
       "      <td>25 Jun 2018 - 20:00</td>\n",
       "      <td>Kaliningrad Stadium</td>\n",
       "      <td>Kaliningrad</td>\n",
       "      <td>Group B</td>\n",
       "      <td>ESP</td>\n",
       "      <td>MAR</td>\n",
       "      <td>1-1</td>\n",
       "      <td>2-2</td>\n",
       "      <td>NaN</td>\n",
       "      <td>NaN</td>\n",
       "      <td>Partly Cloudy Night</td>\n",
       "      <td>15</td>\n",
       "      <td>13</td>\n",
       "      <td>70</td>\n",
       "    </tr>\n",
       "    <tr>\n",
       "      <th>63</th>\n",
       "      <td>300353632</td>\n",
       "      <td>15 Jun 2018 - 17:00</td>\n",
       "      <td>Ekaterinburg Arena</td>\n",
       "      <td>Ekaterinburg</td>\n",
       "      <td>Group A</td>\n",
       "      <td>EGY</td>\n",
       "      <td>URU</td>\n",
       "      <td>0-0</td>\n",
       "      <td>0-1</td>\n",
       "      <td>NaN</td>\n",
       "      <td>NaN</td>\n",
       "      <td>Partly Cloudy</td>\n",
       "      <td>14</td>\n",
       "      <td>29</td>\n",
       "      <td>42</td>\n",
       "    </tr>\n",
       "  </tbody>\n",
       "</table>\n",
       "<p>64 rows × 15 columns</p>\n",
       "</div>"
      ],
      "text/plain": [
       "     match_id            date_time                   stadium            venue  \\\n",
       "0   300331495  19 Jun 2018 - 21:00  Saint Petersburg Stadium   St. Petersburg   \n",
       "1   300331496  20 Jun 2018 - 21:00               Kazan Arena            Kazan   \n",
       "2   300331497  22 Jun 2018 - 18:00           Volgograd Arena        Volgograd   \n",
       "3   300331498  01 Jul 2018 - 21:00   Nizhny Novgorod Stadium  Nizhny Novgorod   \n",
       "4   300331499  18 Jun 2018 - 15:00   Nizhny Novgorod Stadium  Nizhny Novgorod   \n",
       "..        ...                  ...                       ...              ...   \n",
       "59  300331554  18 Jun 2018 - 21:00           Volgograd Arena        Volgograd   \n",
       "60  300340182  28 Jun 2018 - 20:00       Kaliningrad Stadium      Kaliningrad   \n",
       "61  300340183  22 Jun 2018 - 20:00       Kaliningrad Stadium      Kaliningrad   \n",
       "62  300340184  25 Jun 2018 - 20:00       Kaliningrad Stadium      Kaliningrad   \n",
       "63  300353632  15 Jun 2018 - 17:00        Ekaterinburg Arena     Ekaterinburg   \n",
       "\n",
       "     match_info home_team away_team   HT   FT  2ET  PEN          description  \\\n",
       "0       Group A       RUS       EGY  0-0  3-1  NaN  NaN               Cloudy   \n",
       "1       Group B       IRN       ESP  0-0  0-1  NaN  NaN          Clear Night   \n",
       "2       Group D       NGA       ISL  0-0  2-0  NaN  NaN                Sunny   \n",
       "3   Round of 16       CRO       DEN  1-1  1-1  1-1  3-2  Partly Cloudy Night   \n",
       "4       Group F       SWE       KOR  0-0  1-0  NaN  NaN        Partly Cloudy   \n",
       "..          ...       ...       ...  ...  ...  ...  ...                  ...   \n",
       "59      Group G       TUN       ENG  1-1  1-2  NaN  NaN          Clear Night   \n",
       "60      Group G       ENG       BEL  0-0  0-1  NaN  NaN                Sunny   \n",
       "61      Group E       SRB       SUI  1-0  1-2  NaN  NaN                Sunny   \n",
       "62      Group B       ESP       MAR  1-1  2-2  NaN  NaN  Partly Cloudy Night   \n",
       "63      Group A       EGY       URU  0-0  0-1  NaN  NaN        Partly Cloudy   \n",
       "\n",
       "    temperature  wind_speed  humid  \n",
       "0            15          14     83  \n",
       "1            18          26     48  \n",
       "2            32           2     19  \n",
       "3            25          15     48  \n",
       "4            25           9     36  \n",
       "..          ...         ...    ...  \n",
       "59           24           7     17  \n",
       "60           21          11     61  \n",
       "61           15          11     55  \n",
       "62           15          13     70  \n",
       "63           14          29     42  \n",
       "\n",
       "[64 rows x 15 columns]"
      ]
     },
     "execution_count": 130,
     "metadata": {},
     "output_type": "execute_result"
    }
   ],
   "source": [
    "sched_weather"
   ]
  },
  {
   "cell_type": "code",
   "execution_count": 131,
   "metadata": {
    "tags": []
   },
   "outputs": [
    {
     "data": {
      "text/plain": [
       "count    64.000000\n",
       "mean     23.750000\n",
       "std       5.312459\n",
       "min      12.000000\n",
       "25%      20.000000\n",
       "50%      24.000000\n",
       "75%      27.000000\n",
       "max      36.000000\n",
       "Name: temperature, dtype: float64"
      ]
     },
     "execution_count": 131,
     "metadata": {},
     "output_type": "execute_result"
    }
   ],
   "source": [
    "sched_weather.temperature.describe()"
   ]
  },
  {
   "cell_type": "code",
   "execution_count": 132,
   "metadata": {
    "tags": []
   },
   "outputs": [
    {
     "data": {
      "text/html": [
       "<div>\n",
       "<style scoped>\n",
       "    .dataframe tbody tr th:only-of-type {\n",
       "        vertical-align: middle;\n",
       "    }\n",
       "\n",
       "    .dataframe tbody tr th {\n",
       "        vertical-align: top;\n",
       "    }\n",
       "\n",
       "    .dataframe thead th {\n",
       "        text-align: right;\n",
       "    }\n",
       "</style>\n",
       "<table border=\"1\" class=\"dataframe\">\n",
       "  <thead>\n",
       "    <tr style=\"text-align: right;\">\n",
       "      <th></th>\n",
       "      <th>count</th>\n",
       "      <th>mean</th>\n",
       "      <th>std</th>\n",
       "      <th>min</th>\n",
       "      <th>25%</th>\n",
       "      <th>50%</th>\n",
       "      <th>75%</th>\n",
       "      <th>max</th>\n",
       "    </tr>\n",
       "    <tr>\n",
       "      <th>venue</th>\n",
       "      <th></th>\n",
       "      <th></th>\n",
       "      <th></th>\n",
       "      <th></th>\n",
       "      <th></th>\n",
       "      <th></th>\n",
       "      <th></th>\n",
       "      <th></th>\n",
       "    </tr>\n",
       "  </thead>\n",
       "  <tbody>\n",
       "    <tr>\n",
       "      <th>Ekaterinburg</th>\n",
       "      <td>4.0</td>\n",
       "      <td>19.500000</td>\n",
       "      <td>7.593857</td>\n",
       "      <td>12.0</td>\n",
       "      <td>13.50</td>\n",
       "      <td>19.5</td>\n",
       "      <td>25.50</td>\n",
       "      <td>27.0</td>\n",
       "    </tr>\n",
       "    <tr>\n",
       "      <th>Kaliningrad</th>\n",
       "      <td>4.0</td>\n",
       "      <td>17.750000</td>\n",
       "      <td>3.201562</td>\n",
       "      <td>15.0</td>\n",
       "      <td>15.00</td>\n",
       "      <td>17.5</td>\n",
       "      <td>20.25</td>\n",
       "      <td>21.0</td>\n",
       "    </tr>\n",
       "    <tr>\n",
       "      <th>Kazan</th>\n",
       "      <td>6.0</td>\n",
       "      <td>23.166667</td>\n",
       "      <td>4.665476</td>\n",
       "      <td>18.0</td>\n",
       "      <td>19.25</td>\n",
       "      <td>23.0</td>\n",
       "      <td>27.50</td>\n",
       "      <td>28.0</td>\n",
       "    </tr>\n",
       "    <tr>\n",
       "      <th>Moscow</th>\n",
       "      <td>12.0</td>\n",
       "      <td>22.916667</td>\n",
       "      <td>3.502164</td>\n",
       "      <td>17.0</td>\n",
       "      <td>20.75</td>\n",
       "      <td>23.5</td>\n",
       "      <td>24.75</td>\n",
       "      <td>28.0</td>\n",
       "    </tr>\n",
       "    <tr>\n",
       "      <th>Nizhny Novgorod</th>\n",
       "      <td>6.0</td>\n",
       "      <td>23.166667</td>\n",
       "      <td>4.535049</td>\n",
       "      <td>17.0</td>\n",
       "      <td>20.50</td>\n",
       "      <td>23.5</td>\n",
       "      <td>25.00</td>\n",
       "      <td>30.0</td>\n",
       "    </tr>\n",
       "    <tr>\n",
       "      <th>Rostov-On-Don</th>\n",
       "      <td>5.0</td>\n",
       "      <td>29.000000</td>\n",
       "      <td>3.807887</td>\n",
       "      <td>25.0</td>\n",
       "      <td>25.00</td>\n",
       "      <td>30.0</td>\n",
       "      <td>32.00</td>\n",
       "      <td>33.0</td>\n",
       "    </tr>\n",
       "    <tr>\n",
       "      <th>Samara</th>\n",
       "      <td>6.0</td>\n",
       "      <td>27.333333</td>\n",
       "      <td>4.366539</td>\n",
       "      <td>22.0</td>\n",
       "      <td>24.50</td>\n",
       "      <td>26.5</td>\n",
       "      <td>30.75</td>\n",
       "      <td>33.0</td>\n",
       "    </tr>\n",
       "    <tr>\n",
       "      <th>Saransk</th>\n",
       "      <td>4.0</td>\n",
       "      <td>22.000000</td>\n",
       "      <td>3.915780</td>\n",
       "      <td>18.0</td>\n",
       "      <td>19.50</td>\n",
       "      <td>21.5</td>\n",
       "      <td>24.00</td>\n",
       "      <td>27.0</td>\n",
       "    </tr>\n",
       "    <tr>\n",
       "      <th>Sochi</th>\n",
       "      <td>6.0</td>\n",
       "      <td>25.166667</td>\n",
       "      <td>2.857738</td>\n",
       "      <td>22.0</td>\n",
       "      <td>24.00</td>\n",
       "      <td>24.0</td>\n",
       "      <td>26.25</td>\n",
       "      <td>30.0</td>\n",
       "    </tr>\n",
       "    <tr>\n",
       "      <th>St. Petersburg</th>\n",
       "      <td>7.0</td>\n",
       "      <td>20.428571</td>\n",
       "      <td>4.035556</td>\n",
       "      <td>15.0</td>\n",
       "      <td>18.00</td>\n",
       "      <td>19.0</td>\n",
       "      <td>23.50</td>\n",
       "      <td>26.0</td>\n",
       "    </tr>\n",
       "    <tr>\n",
       "      <th>Volgograd</th>\n",
       "      <td>4.0</td>\n",
       "      <td>31.750000</td>\n",
       "      <td>5.439056</td>\n",
       "      <td>24.0</td>\n",
       "      <td>30.00</td>\n",
       "      <td>33.5</td>\n",
       "      <td>35.25</td>\n",
       "      <td>36.0</td>\n",
       "    </tr>\n",
       "  </tbody>\n",
       "</table>\n",
       "</div>"
      ],
      "text/plain": [
       "                 count       mean       std   min    25%   50%    75%   max\n",
       "venue                                                                      \n",
       "Ekaterinburg       4.0  19.500000  7.593857  12.0  13.50  19.5  25.50  27.0\n",
       "Kaliningrad        4.0  17.750000  3.201562  15.0  15.00  17.5  20.25  21.0\n",
       "Kazan              6.0  23.166667  4.665476  18.0  19.25  23.0  27.50  28.0\n",
       "Moscow            12.0  22.916667  3.502164  17.0  20.75  23.5  24.75  28.0\n",
       "Nizhny Novgorod    6.0  23.166667  4.535049  17.0  20.50  23.5  25.00  30.0\n",
       "Rostov-On-Don      5.0  29.000000  3.807887  25.0  25.00  30.0  32.00  33.0\n",
       "Samara             6.0  27.333333  4.366539  22.0  24.50  26.5  30.75  33.0\n",
       "Saransk            4.0  22.000000  3.915780  18.0  19.50  21.5  24.00  27.0\n",
       "Sochi              6.0  25.166667  2.857738  22.0  24.00  24.0  26.25  30.0\n",
       "St. Petersburg     7.0  20.428571  4.035556  15.0  18.00  19.0  23.50  26.0\n",
       "Volgograd          4.0  31.750000  5.439056  24.0  30.00  33.5  35.25  36.0"
      ]
     },
     "execution_count": 132,
     "metadata": {},
     "output_type": "execute_result"
    }
   ],
   "source": [
    "sched_weather.groupby('venue').temperature.describe()"
   ]
  },
  {
   "cell_type": "code",
   "execution_count": 133,
   "metadata": {
    "tags": []
   },
   "outputs": [
    {
     "data": {
      "text/html": [
       "<div>\n",
       "<style scoped>\n",
       "    .dataframe tbody tr th:only-of-type {\n",
       "        vertical-align: middle;\n",
       "    }\n",
       "\n",
       "    .dataframe tbody tr th {\n",
       "        vertical-align: top;\n",
       "    }\n",
       "\n",
       "    .dataframe thead tr th {\n",
       "        text-align: left;\n",
       "    }\n",
       "\n",
       "    .dataframe thead tr:last-of-type th {\n",
       "        text-align: right;\n",
       "    }\n",
       "</style>\n",
       "<table border=\"1\" class=\"dataframe\">\n",
       "  <thead>\n",
       "    <tr>\n",
       "      <th></th>\n",
       "      <th colspan=\"8\" halign=\"left\">temperature</th>\n",
       "      <th colspan=\"8\" halign=\"left\">wind_speed</th>\n",
       "    </tr>\n",
       "    <tr>\n",
       "      <th></th>\n",
       "      <th>count</th>\n",
       "      <th>mean</th>\n",
       "      <th>std</th>\n",
       "      <th>min</th>\n",
       "      <th>25%</th>\n",
       "      <th>50%</th>\n",
       "      <th>75%</th>\n",
       "      <th>max</th>\n",
       "      <th>count</th>\n",
       "      <th>mean</th>\n",
       "      <th>std</th>\n",
       "      <th>min</th>\n",
       "      <th>25%</th>\n",
       "      <th>50%</th>\n",
       "      <th>75%</th>\n",
       "      <th>max</th>\n",
       "    </tr>\n",
       "    <tr>\n",
       "      <th>venue</th>\n",
       "      <th></th>\n",
       "      <th></th>\n",
       "      <th></th>\n",
       "      <th></th>\n",
       "      <th></th>\n",
       "      <th></th>\n",
       "      <th></th>\n",
       "      <th></th>\n",
       "      <th></th>\n",
       "      <th></th>\n",
       "      <th></th>\n",
       "      <th></th>\n",
       "      <th></th>\n",
       "      <th></th>\n",
       "      <th></th>\n",
       "      <th></th>\n",
       "    </tr>\n",
       "  </thead>\n",
       "  <tbody>\n",
       "    <tr>\n",
       "      <th>Ekaterinburg</th>\n",
       "      <td>4.0</td>\n",
       "      <td>19.500000</td>\n",
       "      <td>7.593857</td>\n",
       "      <td>12.0</td>\n",
       "      <td>13.50</td>\n",
       "      <td>19.5</td>\n",
       "      <td>25.50</td>\n",
       "      <td>27.0</td>\n",
       "      <td>4.0</td>\n",
       "      <td>23.500000</td>\n",
       "      <td>4.932883</td>\n",
       "      <td>18.0</td>\n",
       "      <td>20.25</td>\n",
       "      <td>23.5</td>\n",
       "      <td>26.75</td>\n",
       "      <td>29.0</td>\n",
       "    </tr>\n",
       "    <tr>\n",
       "      <th>Kaliningrad</th>\n",
       "      <td>4.0</td>\n",
       "      <td>17.750000</td>\n",
       "      <td>3.201562</td>\n",
       "      <td>15.0</td>\n",
       "      <td>15.00</td>\n",
       "      <td>17.5</td>\n",
       "      <td>20.25</td>\n",
       "      <td>21.0</td>\n",
       "      <td>4.0</td>\n",
       "      <td>10.500000</td>\n",
       "      <td>2.516611</td>\n",
       "      <td>7.0</td>\n",
       "      <td>10.00</td>\n",
       "      <td>11.0</td>\n",
       "      <td>11.50</td>\n",
       "      <td>13.0</td>\n",
       "    </tr>\n",
       "    <tr>\n",
       "      <th>Kazan</th>\n",
       "      <td>6.0</td>\n",
       "      <td>23.166667</td>\n",
       "      <td>4.665476</td>\n",
       "      <td>18.0</td>\n",
       "      <td>19.25</td>\n",
       "      <td>23.0</td>\n",
       "      <td>27.50</td>\n",
       "      <td>28.0</td>\n",
       "      <td>6.0</td>\n",
       "      <td>15.333333</td>\n",
       "      <td>6.918574</td>\n",
       "      <td>8.0</td>\n",
       "      <td>9.75</td>\n",
       "      <td>15.0</td>\n",
       "      <td>18.75</td>\n",
       "      <td>26.0</td>\n",
       "    </tr>\n",
       "    <tr>\n",
       "      <th>Moscow</th>\n",
       "      <td>12.0</td>\n",
       "      <td>22.916667</td>\n",
       "      <td>3.502164</td>\n",
       "      <td>17.0</td>\n",
       "      <td>20.75</td>\n",
       "      <td>23.5</td>\n",
       "      <td>24.75</td>\n",
       "      <td>28.0</td>\n",
       "      <td>12.0</td>\n",
       "      <td>11.250000</td>\n",
       "      <td>5.785955</td>\n",
       "      <td>3.0</td>\n",
       "      <td>6.75</td>\n",
       "      <td>11.0</td>\n",
       "      <td>12.25</td>\n",
       "      <td>24.0</td>\n",
       "    </tr>\n",
       "    <tr>\n",
       "      <th>Nizhny Novgorod</th>\n",
       "      <td>6.0</td>\n",
       "      <td>23.166667</td>\n",
       "      <td>4.535049</td>\n",
       "      <td>17.0</td>\n",
       "      <td>20.50</td>\n",
       "      <td>23.5</td>\n",
       "      <td>25.00</td>\n",
       "      <td>30.0</td>\n",
       "      <td>6.0</td>\n",
       "      <td>13.333333</td>\n",
       "      <td>2.338090</td>\n",
       "      <td>9.0</td>\n",
       "      <td>13.00</td>\n",
       "      <td>14.0</td>\n",
       "      <td>15.00</td>\n",
       "      <td>15.0</td>\n",
       "    </tr>\n",
       "    <tr>\n",
       "      <th>Rostov-On-Don</th>\n",
       "      <td>5.0</td>\n",
       "      <td>29.000000</td>\n",
       "      <td>3.807887</td>\n",
       "      <td>25.0</td>\n",
       "      <td>25.00</td>\n",
       "      <td>30.0</td>\n",
       "      <td>32.00</td>\n",
       "      <td>33.0</td>\n",
       "      <td>5.0</td>\n",
       "      <td>13.400000</td>\n",
       "      <td>5.029911</td>\n",
       "      <td>9.0</td>\n",
       "      <td>10.00</td>\n",
       "      <td>11.0</td>\n",
       "      <td>16.00</td>\n",
       "      <td>21.0</td>\n",
       "    </tr>\n",
       "    <tr>\n",
       "      <th>Samara</th>\n",
       "      <td>6.0</td>\n",
       "      <td>27.333333</td>\n",
       "      <td>4.366539</td>\n",
       "      <td>22.0</td>\n",
       "      <td>24.50</td>\n",
       "      <td>26.5</td>\n",
       "      <td>30.75</td>\n",
       "      <td>33.0</td>\n",
       "      <td>6.0</td>\n",
       "      <td>15.166667</td>\n",
       "      <td>7.626707</td>\n",
       "      <td>6.0</td>\n",
       "      <td>8.75</td>\n",
       "      <td>16.0</td>\n",
       "      <td>20.25</td>\n",
       "      <td>25.0</td>\n",
       "    </tr>\n",
       "    <tr>\n",
       "      <th>Saransk</th>\n",
       "      <td>4.0</td>\n",
       "      <td>22.000000</td>\n",
       "      <td>3.915780</td>\n",
       "      <td>18.0</td>\n",
       "      <td>19.50</td>\n",
       "      <td>21.5</td>\n",
       "      <td>24.00</td>\n",
       "      <td>27.0</td>\n",
       "      <td>4.0</td>\n",
       "      <td>10.000000</td>\n",
       "      <td>2.449490</td>\n",
       "      <td>7.0</td>\n",
       "      <td>8.50</td>\n",
       "      <td>10.5</td>\n",
       "      <td>12.00</td>\n",
       "      <td>12.0</td>\n",
       "    </tr>\n",
       "    <tr>\n",
       "      <th>Sochi</th>\n",
       "      <td>6.0</td>\n",
       "      <td>25.166667</td>\n",
       "      <td>2.857738</td>\n",
       "      <td>22.0</td>\n",
       "      <td>24.00</td>\n",
       "      <td>24.0</td>\n",
       "      <td>26.25</td>\n",
       "      <td>30.0</td>\n",
       "      <td>6.0</td>\n",
       "      <td>11.000000</td>\n",
       "      <td>0.894427</td>\n",
       "      <td>10.0</td>\n",
       "      <td>10.25</td>\n",
       "      <td>11.0</td>\n",
       "      <td>11.75</td>\n",
       "      <td>12.0</td>\n",
       "    </tr>\n",
       "    <tr>\n",
       "      <th>St. Petersburg</th>\n",
       "      <td>7.0</td>\n",
       "      <td>20.428571</td>\n",
       "      <td>4.035556</td>\n",
       "      <td>15.0</td>\n",
       "      <td>18.00</td>\n",
       "      <td>19.0</td>\n",
       "      <td>23.50</td>\n",
       "      <td>26.0</td>\n",
       "      <td>7.0</td>\n",
       "      <td>13.571429</td>\n",
       "      <td>3.690399</td>\n",
       "      <td>10.0</td>\n",
       "      <td>10.50</td>\n",
       "      <td>13.0</td>\n",
       "      <td>16.00</td>\n",
       "      <td>19.0</td>\n",
       "    </tr>\n",
       "    <tr>\n",
       "      <th>Volgograd</th>\n",
       "      <td>4.0</td>\n",
       "      <td>31.750000</td>\n",
       "      <td>5.439056</td>\n",
       "      <td>24.0</td>\n",
       "      <td>30.00</td>\n",
       "      <td>33.5</td>\n",
       "      <td>35.25</td>\n",
       "      <td>36.0</td>\n",
       "      <td>4.0</td>\n",
       "      <td>8.000000</td>\n",
       "      <td>4.690416</td>\n",
       "      <td>2.0</td>\n",
       "      <td>5.75</td>\n",
       "      <td>8.5</td>\n",
       "      <td>10.75</td>\n",
       "      <td>13.0</td>\n",
       "    </tr>\n",
       "  </tbody>\n",
       "</table>\n",
       "</div>"
      ],
      "text/plain": [
       "                temperature                                                 \\\n",
       "                      count       mean       std   min    25%   50%    75%   \n",
       "venue                                                                        \n",
       "Ekaterinburg            4.0  19.500000  7.593857  12.0  13.50  19.5  25.50   \n",
       "Kaliningrad             4.0  17.750000  3.201562  15.0  15.00  17.5  20.25   \n",
       "Kazan                   6.0  23.166667  4.665476  18.0  19.25  23.0  27.50   \n",
       "Moscow                 12.0  22.916667  3.502164  17.0  20.75  23.5  24.75   \n",
       "Nizhny Novgorod         6.0  23.166667  4.535049  17.0  20.50  23.5  25.00   \n",
       "Rostov-On-Don           5.0  29.000000  3.807887  25.0  25.00  30.0  32.00   \n",
       "Samara                  6.0  27.333333  4.366539  22.0  24.50  26.5  30.75   \n",
       "Saransk                 4.0  22.000000  3.915780  18.0  19.50  21.5  24.00   \n",
       "Sochi                   6.0  25.166667  2.857738  22.0  24.00  24.0  26.25   \n",
       "St. Petersburg          7.0  20.428571  4.035556  15.0  18.00  19.0  23.50   \n",
       "Volgograd               4.0  31.750000  5.439056  24.0  30.00  33.5  35.25   \n",
       "\n",
       "                      wind_speed                                          \\\n",
       "                  max      count       mean       std   min    25%   50%   \n",
       "venue                                                                      \n",
       "Ekaterinburg     27.0        4.0  23.500000  4.932883  18.0  20.25  23.5   \n",
       "Kaliningrad      21.0        4.0  10.500000  2.516611   7.0  10.00  11.0   \n",
       "Kazan            28.0        6.0  15.333333  6.918574   8.0   9.75  15.0   \n",
       "Moscow           28.0       12.0  11.250000  5.785955   3.0   6.75  11.0   \n",
       "Nizhny Novgorod  30.0        6.0  13.333333  2.338090   9.0  13.00  14.0   \n",
       "Rostov-On-Don    33.0        5.0  13.400000  5.029911   9.0  10.00  11.0   \n",
       "Samara           33.0        6.0  15.166667  7.626707   6.0   8.75  16.0   \n",
       "Saransk          27.0        4.0  10.000000  2.449490   7.0   8.50  10.5   \n",
       "Sochi            30.0        6.0  11.000000  0.894427  10.0  10.25  11.0   \n",
       "St. Petersburg   26.0        7.0  13.571429  3.690399  10.0  10.50  13.0   \n",
       "Volgograd        36.0        4.0   8.000000  4.690416   2.0   5.75   8.5   \n",
       "\n",
       "                              \n",
       "                   75%   max  \n",
       "venue                         \n",
       "Ekaterinburg     26.75  29.0  \n",
       "Kaliningrad      11.50  13.0  \n",
       "Kazan            18.75  26.0  \n",
       "Moscow           12.25  24.0  \n",
       "Nizhny Novgorod  15.00  15.0  \n",
       "Rostov-On-Don    16.00  21.0  \n",
       "Samara           20.25  25.0  \n",
       "Saransk          12.00  12.0  \n",
       "Sochi            11.75  12.0  \n",
       "St. Petersburg   16.00  19.0  \n",
       "Volgograd        10.75  13.0  "
      ]
     },
     "execution_count": 133,
     "metadata": {},
     "output_type": "execute_result"
    }
   ],
   "source": [
    "sched_weather.groupby('venue')[['temperature', 'wind_speed']].describe()"
   ]
  },
  {
   "cell_type": "markdown",
   "metadata": {},
   "source": [
    "The other pandas functions for joining datasets that you should be aware of is `pd.concat`. This is appropriate when you are adding new rows to a dataframe (ingore the index) or new columns (may need to ignore index)."
   ]
  },
  {
   "cell_type": "markdown",
   "metadata": {
    "slideshow": {
     "slide_type": "slide"
    }
   },
   "source": [
    "<a id='ref'></a>\n",
    "# 3. References and Links\n",
    "<a href=#top>(back to top)</a>\n",
    "\n",
    "1. [Numpy user manual](https://numpy.org/doc/stable/user/index.html)\n",
    "2. [10-minutes to Pandas](https://pandas.pydata.org/pandas-docs/stable/user_guide/10min.html) User manuals and references can be found through here.\n",
    "3. [Selection with Pandas](https://pandas.pydata.org/pandas-docs/stable/user_guide/indexing.html) Using .loc and .iloc.\n",
    "4. [World Happiness Report](https://worldhappiness.report/ed/2017/)"
   ]
  }
 ],
 "metadata": {
  "kernelspec": {
   "display_name": "Python [conda env:nus_i4_gen]",
   "language": "python",
   "name": "conda-env-nus_i4_gen-py"
  },
  "language_info": {
   "codemirror_mode": {
    "name": "ipython",
    "version": 3
   },
   "file_extension": ".py",
   "mimetype": "text/x-python",
   "name": "python",
   "nbconvert_exporter": "python",
   "pygments_lexer": "ipython3",
   "version": "3.11.5"
  }
 },
 "nbformat": 4,
 "nbformat_minor": 4
}
