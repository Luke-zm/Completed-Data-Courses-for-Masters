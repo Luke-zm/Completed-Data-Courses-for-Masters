{
 "cells": [
  {
   "cell_type": "markdown",
   "metadata": {
    "tags": []
   },
   "source": [
    "# Introduction\n",
    "\n",
    "This is a markdown cell. In edit mode, we use plain text to describe how we want the material to be presented. If we want bullets, we use asterisks or numbers:\n",
    "\n",
    "* first items\n",
    "* second item\n",
    "* and so on.\n",
    "\n",
    "When we \"run\" this cell, the formatted output is displayed on the web-page."
   ]
  },
  {
   "cell_type": "markdown",
   "metadata": {},
   "source": [
    "### Interactive Computing\n",
    "\n",
    "Now let's take a look at how we work with Python within this environment."
   ]
  },
  {
   "cell_type": "code",
   "execution_count": 2,
   "metadata": {
    "tags": []
   },
   "outputs": [
    {
     "name": "stdout",
     "output_type": "stream",
     "text": [
      "Be careful not to fall off!\n"
     ]
    }
   ],
   "source": [
    "the_world_is_flat = True\n",
    "\n",
    "if the_world_is_flat:\n",
    "    print(\"Be careful not to fall off!\")"
   ]
  },
  {
   "cell_type": "code",
   "execution_count": 3,
   "metadata": {
    "tags": []
   },
   "outputs": [
    {
     "data": {
      "text/plain": [
       "4"
      ]
     },
     "execution_count": 3,
     "metadata": {},
     "output_type": "execute_result"
    }
   ],
   "source": [
    "2 + 2"
   ]
  },
  {
   "cell_type": "code",
   "execution_count": 4,
   "metadata": {
    "tags": []
   },
   "outputs": [
    {
     "data": {
      "text/plain": [
       "5.666666666666667"
      ]
     },
     "execution_count": 4,
     "metadata": {},
     "output_type": "execute_result"
    }
   ],
   "source": [
    "17 / 3"
   ]
  },
  {
   "cell_type": "code",
   "execution_count": 5,
   "metadata": {
    "tags": []
   },
   "outputs": [],
   "source": [
    "w = 4.0\n",
    "h = w * 2.3"
   ]
  },
  {
   "cell_type": "markdown",
   "metadata": {},
   "source": [
    "There are \"magic\" commands in a notebook, that allow you to perform useful actions. For instance, the following command tells you what objects you have created in this session."
   ]
  },
  {
   "cell_type": "code",
   "execution_count": 6,
   "metadata": {
    "scrolled": true,
    "tags": []
   },
   "outputs": [
    {
     "name": "stdout",
     "output_type": "stream",
     "text": [
      "Variable            Type     Data/Info\n",
      "--------------------------------------\n",
      "h                   float    9.2\n",
      "the_world_is_flat   bool     True\n",
      "w                   float    4.0\n"
     ]
    }
   ],
   "source": [
    "%whos"
   ]
  },
  {
   "cell_type": "markdown",
   "metadata": {},
   "source": []
  },
  {
   "cell_type": "markdown",
   "metadata": {},
   "source": [
    "You can explore other useful magic commands using the following command:"
   ]
  },
  {
   "cell_type": "code",
   "execution_count": null,
   "metadata": {
    "tags": []
   },
   "outputs": [],
   "source": [
    "%quickref"
   ]
  },
  {
   "cell_type": "code",
   "execution_count": null,
   "metadata": {
    "tags": []
   },
   "outputs": [],
   "source": [
    "%hist"
   ]
  },
  {
   "cell_type": "code",
   "execution_count": null,
   "metadata": {},
   "outputs": [],
   "source": [
    "%rerun"
   ]
  },
  {
   "cell_type": "code",
   "execution_count": null,
   "metadata": {},
   "outputs": [],
   "source": [
    "%recall"
   ]
  },
  {
   "cell_type": "code",
   "execution_count": null,
   "metadata": {},
   "outputs": [],
   "source": [
    "5.666666666666667"
   ]
  },
  {
   "cell_type": "code",
   "execution_count": null,
   "metadata": {},
   "outputs": [],
   "source": [
    "5.666666666666667"
   ]
  },
  {
   "cell_type": "code",
   "execution_count": null,
   "metadata": {},
   "outputs": [],
   "source": [
    "113.09733552923255"
   ]
  },
  {
   "cell_type": "markdown",
   "metadata": {},
   "source": [
    "This markdown cell contains latex code\n",
    "\\begin{equation}\n",
    "x = 1\n",
    "\\end{equation}"
   ]
  },
  {
   "cell_type": "code",
   "execution_count": null,
   "metadata": {},
   "outputs": [],
   "source": [
    "%%latex\n",
    "\n",
    "\\[\n",
    "1 = \\frac{1}{2} + \\frac{1}{2} = \\frac{3}{4} + \\frac{1}{4}\n",
    "\\]"
   ]
  },
  {
   "cell_type": "markdown",
   "metadata": {},
   "source": [
    "## Python Data Structures"
   ]
  },
  {
   "cell_type": "markdown",
   "metadata": {},
   "source": [
    "### Slice Operator\n",
    "\n",
    "The `:` operator is known as the *slice* operator. It useful in extracting sequences from list-like objects.\n",
    "\n",
    "In Python, strings like the one below are like \"lists\" of individual characters."
   ]
  },
  {
   "cell_type": "code",
   "execution_count": null,
   "metadata": {},
   "outputs": [],
   "source": [
    "word = 'Python'\n",
    "word[0] # first element"
   ]
  },
  {
   "cell_type": "code",
   "execution_count": null,
   "metadata": {},
   "outputs": [],
   "source": [
    "word[-1] # last element (useful when you do not know the total number of elements)"
   ]
  },
  {
   "cell_type": "code",
   "execution_count": null,
   "metadata": {},
   "outputs": [],
   "source": [
    "len(word)"
   ]
  },
  {
   "cell_type": "code",
   "execution_count": null,
   "metadata": {},
   "outputs": [],
   "source": [
    "word[0::2] # starting from the first element till the last element, every 2nd position"
   ]
  },
  {
   "attachments": {
    "python_slice.png": {
     "image/png": "[encoded data removed]"
    }
   },
   "cell_type": "markdown",
   "metadata": {},
   "source": [
    "Here is a pictorial representation of how slices should be envisioned:\n",
    "\n",
    "![python_slice.png](attachment:python_slice.png)\n",
    "\n",
    "The negative indices on the second row are an alternate, right-to-left way we can index strings."
   ]
  },
  {
   "cell_type": "markdown",
   "metadata": {},
   "source": [
    "### Lists, Tuples and Dictionaries\n",
    "\n",
    "The main types of containers in Python are \n",
    "* lists, which are defined with `[ ]`. Lists are mutable.\n",
    "* tuples, which are defined with `( )`. Tuples are immutable.\n",
    "* dictionaries, which are defined with `{ }`. Dictionaries have keys and items. They are also mutable."
   ]
  },
  {
   "cell_type": "markdown",
   "metadata": {},
   "source": [
    "Here's what we mean by mutable. The entries in a list (or dictionary) can be overwritten, but not those in a tuple:"
   ]
  },
  {
   "cell_type": "code",
   "execution_count": null,
   "metadata": {},
   "outputs": [],
   "source": [
    "x = [1, 3, 5, 7, 8, 9, 10]\n",
    "\n",
    "# This is OK, because \"x\" is a list.\n",
    "x[3] = 17     \n",
    "print(x)"
   ]
  },
  {
   "cell_type": "code",
   "execution_count": null,
   "metadata": {
    "scrolled": true
   },
   "outputs": [],
   "source": [
    "# This is not OK, because x_tuple is a tuple\n",
    "x_tuple = (1, 3, 5, 6, 8, 9, 10)\n",
    "x_tuple[3] = 17 "
   ]
  },
  {
   "cell_type": "markdown",
   "metadata": {},
   "source": [
    "Lists, tuples and dictionaries are *iterables*. This means that they can be *iterated over* in `for` loops. This is a convenient concept in Python."
   ]
  },
  {
   "cell_type": "code",
   "execution_count": null,
   "metadata": {},
   "outputs": [],
   "source": [
    "for ele in x:\n",
    "    print(ele)"
   ]
  },
  {
   "cell_type": "markdown",
   "metadata": {},
   "source": [
    "The `range` function allows us to create an iterable conveniently..."
   ]
  },
  {
   "cell_type": "code",
   "execution_count": null,
   "metadata": {},
   "outputs": [],
   "source": [
    "x_range = range(1, 11, 2)\n",
    "x_range"
   ]
  },
  {
   "cell_type": "code",
   "execution_count": null,
   "metadata": {},
   "outputs": [],
   "source": [
    "for ele in x_range:\n",
    "    print(ele)"
   ]
  },
  {
   "cell_type": "code",
   "execution_count": null,
   "metadata": {},
   "outputs": [],
   "source": [
    "for x in x_range:\n",
    "    print(f'{x} squared: {x ** 2}, cubed: {x ** 3}.')"
   ]
  },
  {
   "cell_type": "markdown",
   "metadata": {},
   "source": [
    "...which we can convert to a list to see all of its elements."
   ]
  },
  {
   "cell_type": "code",
   "execution_count": null,
   "metadata": {},
   "outputs": [],
   "source": [
    "list(x_range)"
   ]
  },
  {
   "cell_type": "markdown",
   "metadata": {},
   "source": [
    "In `print`, we have used an f-string (short for a formatted string literal)."
   ]
  },
  {
   "cell_type": "markdown",
   "metadata": {},
   "source": [
    "Dictionaries contain keys and their values."
   ]
  },
  {
   "cell_type": "code",
   "execution_count": null,
   "metadata": {},
   "outputs": [],
   "source": [
    "comics = {'marvel': 1, 'dc': 0}\n",
    "comics.keys()\n",
    "# list(comics.keys())"
   ]
  },
  {
   "cell_type": "code",
   "execution_count": null,
   "metadata": {},
   "outputs": [],
   "source": [
    "?comics.keys"
   ]
  },
  {
   "cell_type": "code",
   "execution_count": null,
   "metadata": {},
   "outputs": [],
   "source": [
    "comics.items()\n",
    "# list(comics.items())"
   ]
  },
  {
   "cell_type": "code",
   "execution_count": null,
   "metadata": {},
   "outputs": [],
   "source": [
    "comics.values()\n",
    "# list(comics.values())"
   ]
  },
  {
   "cell_type": "markdown",
   "metadata": {},
   "source": [
    "We slice/index a dictionary object by a key to retrieve the associated value, if it exists."
   ]
  },
  {
   "cell_type": "code",
   "execution_count": null,
   "metadata": {},
   "outputs": [],
   "source": [
    "comics['marvel']"
   ]
  },
  {
   "cell_type": "markdown",
   "metadata": {},
   "source": [
    "We then iterate over the items of a dictionary, which are 2-tuples of key-value pairs. Here, we unpack them immediately using the following code:"
   ]
  },
  {
   "cell_type": "code",
   "execution_count": null,
   "metadata": {},
   "outputs": [],
   "source": [
    "key = 'test'\n",
    "print(f'Here\\'s the {key!r}')\n",
    "print(f'Here\\'s the {key}')"
   ]
  },
  {
   "cell_type": "code",
   "execution_count": null,
   "metadata": {},
   "outputs": [],
   "source": [
    "key.__repr__()"
   ]
  },
  {
   "cell_type": "code",
   "execution_count": null,
   "metadata": {
    "scrolled": true
   },
   "outputs": [],
   "source": [
    "for key, value in comics.items():\n",
    "    # Note that we use single-quotes inside a double-quoted\n",
    "    # string. We could instead use double-quotes inside a\n",
    "    # single-quoted string.\n",
    "    print(f\"Here's the key '{key}',\")\n",
    "    print(f\"and the associated item '{value}'.\")\n",
    "    # Insert a newline.\n",
    "    print()"
   ]
  },
  {
   "cell_type": "markdown",
   "metadata": {},
   "source": [
    "Notice that splitting the item 2-tuple within the `for` statement of a loop\n",
    "is a bit more convenient than doing it in the loop's body."
   ]
  },
  {
   "cell_type": "raw",
   "metadata": {},
   "source": [
    "for item_tuple in comics.items():\n",
    "    key = item_tuple[0]\n",
    "    value = item_tuple[1]\n",
    "    print(key, value)"
   ]
  },
  {
   "cell_type": "markdown",
   "metadata": {},
   "source": [
    "## String Methods\n",
    "\n",
    "### String Formatting\n",
    "\n",
    "Text data in Python is handled with `str`-type objects. Like tuples, strings are iterable and immutable. String operations in Python are fast. There is a comprehensive suite of functions for dealing with strings -- from catenating to capitalising to searching through them."
   ]
  },
  {
   "cell_type": "code",
   "execution_count": null,
   "metadata": {},
   "outputs": [],
   "source": [
    "test_str = 'Where in the World is Carmen San Diego?'"
   ]
  },
  {
   "cell_type": "markdown",
   "metadata": {},
   "source": [
    "Remember that a string is immutable so this will not work:"
   ]
  },
  {
   "cell_type": "code",
   "execution_count": null,
   "metadata": {},
   "outputs": [],
   "source": [
    "test_str[5] = 'z'"
   ]
  },
  {
   "cell_type": "code",
   "execution_count": null,
   "metadata": {},
   "outputs": [],
   "source": [
    "count = 0\n",
    "for character in test_str:\n",
    "    if character.isupper():\n",
    "        count += 1\n",
    "print(f'There were {count} upper-case characters in the sentence.')"
   ]
  },
  {
   "cell_type": "code",
   "execution_count": null,
   "metadata": {},
   "outputs": [],
   "source": [
    "test_str.lower()"
   ]
  },
  {
   "cell_type": "markdown",
   "metadata": {},
   "source": [
    "To join strings, we can use the '+' operator, the `str.join()` method, or, if they are part of the same expression, we can just place them next to each other separated by whitespace."
   ]
  },
  {
   "cell_type": "code",
   "execution_count": null,
   "metadata": {},
   "outputs": [],
   "source": [
    "x = \"Where shall \"\n",
    "y = \"we \"\n",
    "new_str = \"Where shall \" \"we \" \"go today?\"\n",
    "print(new_str)"
   ]
  },
  {
   "cell_type": "code",
   "execution_count": null,
   "metadata": {},
   "outputs": [],
   "source": [
    "' '.join([\"Where\", \"shall\", \"we\", \"go\", \"today?\"])"
   ]
  },
  {
   "cell_type": "code",
   "execution_count": null,
   "metadata": {
    "scrolled": true
   },
   "outputs": [],
   "source": [
    "\"Where \" + \"shall\" + \" we go\" + \" today?\""
   ]
  },
  {
   "cell_type": "markdown",
   "metadata": {},
   "source": [
    "To find simple patterns, we may turn to the `find`, `replace`, `startswith` and `endswith` methods."
   ]
  },
  {
   "cell_type": "code",
   "execution_count": null,
   "metadata": {},
   "outputs": [],
   "source": [
    "test_str.find('Carmen')"
   ]
  },
  {
   "cell_type": "code",
   "execution_count": null,
   "metadata": {},
   "outputs": [],
   "source": [
    "test_str[test_str.find('Carmen'):]"
   ]
  },
  {
   "cell_type": "code",
   "execution_count": null,
   "metadata": {},
   "outputs": [],
   "source": [
    "test_str.replace('Carmen', 'John')"
   ]
  },
  {
   "cell_type": "markdown",
   "metadata": {},
   "source": [
    "For more complex patterns, we might have to turn to *regular expressions*."
   ]
  },
  {
   "cell_type": "markdown",
   "metadata": {},
   "source": [
    "### Regular Expressions\n",
    "\n",
    "Regular expressions are a mini-language for specifying a search pattern. Regex-es are not specific to Python. Similar syntax is used in Perl, Ruby, Awk, and R. They are difficult to decipher at first glance sometimes, so if you use them, I recommend you describe it in the comments, so that you will know what you were doing when you come back to it the next day.\n",
    "\n",
    "One of the best write-ups to learn about regexes is from the Python HOWTOs page. I recommend going through it \n",
    "[here](https://docs.python.org/3/howto/regex.html)."
   ]
  },
  {
   "cell_type": "code",
   "execution_count": null,
   "metadata": {},
   "outputs": [],
   "source": [
    "# The re library allows us to execute common regex\n",
    "# operations in Python.\n",
    "import re\n",
    "\n",
    "p = re.compile('a[bcd]*b')"
   ]
  },
  {
   "cell_type": "markdown",
   "metadata": {},
   "source": [
    "The following are meta-characters when creating regular expressions:"
   ]
  },
  {
   "cell_type": "markdown",
   "metadata": {},
   "source": [
    ". ^ $ * + ? { } [ ] \\ | ( )"
   ]
  },
  {
   "cell_type": "markdown",
   "metadata": {},
   "source": [
    "If you look back above, here's what we mean in that expression: the square brackets denote a character class (one of these must match), while the asterisk denotes the number of repeats to look for. The asterisk is a greedy matcher - it tries to match as much or as many times as possible.\n",
    "\n",
    "After we create a regular expression object, we can match it against a string:"
   ]
  },
  {
   "cell_type": "code",
   "execution_count": null,
   "metadata": {},
   "outputs": [],
   "source": [
    "out = p.match('abcbd')"
   ]
  },
  {
   "cell_type": "code",
   "execution_count": null,
   "metadata": {},
   "outputs": [],
   "source": [
    "out.span()"
   ]
  },
  {
   "cell_type": "code",
   "execution_count": null,
   "metadata": {},
   "outputs": [],
   "source": [
    "'abcbd'[0:4]"
   ]
  },
  {
   "cell_type": "code",
   "execution_count": null,
   "metadata": {},
   "outputs": [],
   "source": [
    "out.group()"
   ]
  },
  {
   "cell_type": "markdown",
   "metadata": {},
   "source": [
    "The returned object contains information about the match:\n",
    "* out.group() contains the matched string\n",
    "* out.start() and out.end() returns the start and end of the match\n",
    "* out.span() contains a tuple with the start and end indices"
   ]
  },
  {
   "cell_type": "code",
   "execution_count": null,
   "metadata": {},
   "outputs": [],
   "source": [
    "out.start()"
   ]
  },
  {
   "cell_type": "code",
   "execution_count": null,
   "metadata": {},
   "outputs": [],
   "source": [
    "out.end()"
   ]
  },
  {
   "cell_type": "markdown",
   "metadata": {},
   "source": [
    "Using `p.match` matches at the beginning of a string. If we wish to match anywhere, we use `p.search()`."
   ]
  },
  {
   "cell_type": "code",
   "execution_count": null,
   "metadata": {},
   "outputs": [],
   "source": [
    "# p.match/search/findall('abtyroiutrabb')"
   ]
  },
  {
   "cell_type": "code",
   "execution_count": null,
   "metadata": {},
   "outputs": [],
   "source": [
    "# p.match('abcbd').start()\n",
    "p.match('abcbd').group()"
   ]
  },
  {
   "cell_type": "markdown",
   "metadata": {},
   "source": [
    "`*` matches the preceding character 0 or more times, so this will also match:"
   ]
  },
  {
   "cell_type": "code",
   "execution_count": null,
   "metadata": {},
   "outputs": [],
   "source": [
    "p.match('ab').group()"
   ]
  },
  {
   "cell_type": "markdown",
   "metadata": {},
   "source": [
    "The `+` operator matches at least once. So the following match returns None."
   ]
  },
  {
   "cell_type": "code",
   "execution_count": null,
   "metadata": {},
   "outputs": [],
   "source": [
    "p2 = re.compile('a[bcd]+b')\n",
    "p2.match('ab') is None"
   ]
  },
  {
   "cell_type": "markdown",
   "metadata": {},
   "source": [
    "Suppose we have a list of email addresses and wish to find only those that are nus.edu.sg addresses:"
   ]
  },
  {
   "cell_type": "code",
   "execution_count": null,
   "metadata": {},
   "outputs": [],
   "source": [
    "email_adds = ['e1234@nus.edu.sg', 'a2305@nus.edu.sg', 'eric@gmail.com', \n",
    "              'george@yahoo.com', 'e1234@ntu.edu.sg', 'nus.edu.sg@ntu.edu.sg']\n",
    "re1 = re.compile('nus.edu.sg')"
   ]
  },
  {
   "cell_type": "code",
   "execution_count": null,
   "metadata": {},
   "outputs": [],
   "source": [
    "re1.match(email_adds[5])"
   ]
  },
  {
   "cell_type": "code",
   "execution_count": null,
   "metadata": {},
   "outputs": [],
   "source": [
    "ids = []\n",
    "for x, y in enumerate(email_adds):\n",
    "    if re1.match(y) is not None:\n",
    "        ids.append(x)\n",
    "ids"
   ]
  },
  {
   "cell_type": "markdown",
   "metadata": {},
   "source": [
    "That did not work because `match` looks for strings matching at the beginning of a string."
   ]
  },
  {
   "cell_type": "code",
   "execution_count": null,
   "metadata": {},
   "outputs": [],
   "source": [
    "re1.search(email_adds[0])"
   ]
  },
  {
   "cell_type": "code",
   "execution_count": null,
   "metadata": {},
   "outputs": [],
   "source": [
    "ids = []\n",
    "for x, y in enumerate(email_adds):\n",
    "    if re1.search(y) is not None:\n",
    "        ids.append(x)"
   ]
  },
  {
   "cell_type": "code",
   "execution_count": null,
   "metadata": {},
   "outputs": [],
   "source": [
    "ids"
   ]
  },
  {
   "cell_type": "code",
   "execution_count": null,
   "metadata": {},
   "outputs": [],
   "source": [
    "emails_that_match = []\n",
    "for x in ids:\n",
    "    emails_that_match.append(email_adds[x])"
   ]
  },
  {
   "cell_type": "code",
   "execution_count": null,
   "metadata": {},
   "outputs": [],
   "source": [
    "emails_that_match"
   ]
  },
  {
   "cell_type": "code",
   "execution_count": null,
   "metadata": {},
   "outputs": [],
   "source": [
    "[email_adds[x] for x in ids]"
   ]
  },
  {
   "cell_type": "markdown",
   "metadata": {},
   "source": [
    "That did not work because of the funny address nus.edu.sg@ntu.edu.sg. \n",
    "\n",
    "We need to pick up only those where nus.edu.sg is at the end of the string."
   ]
  },
  {
   "cell_type": "code",
   "execution_count": null,
   "metadata": {
    "scrolled": true
   },
   "outputs": [],
   "source": [
    "re2 = re.compile('nus.edu.sg$')\n",
    "ids = []\n",
    "for x, y in enumerate(email_adds):\n",
    "    if re2.search(y) is not None:\n",
    "        ids.append(x)\n",
    "[email_adds[x] for x in ids]"
   ]
  },
  {
   "cell_type": "code",
   "execution_count": null,
   "metadata": {
    "scrolled": true
   },
   "outputs": [],
   "source": [
    "[email_adds[x] for x, y in enumerate(email_adds) if re2.search(y) is not None]"
   ]
  },
  {
   "cell_type": "markdown",
   "metadata": {},
   "source": [
    "### Functions\n",
    "\n",
    "Functions encapsulate certain instructions to be carried out on inputs which can produce an output.\n",
    "To define a function in Python, we use the `def` keyword."
   ]
  },
  {
   "cell_type": "code",
   "execution_count": null,
   "metadata": {},
   "outputs": [],
   "source": [
    "def test_function(x):\n",
    "    print('You typed', x)\n",
    "    \n",
    "test_function('test')"
   ]
  },
  {
   "cell_type": "markdown",
   "metadata": {},
   "source": [
    "Sometimes, we do not need the permanence of a named, defined function. In those situations, where we just need a one-line function once, we can use a lambda function."
   ]
  },
  {
   "cell_type": "code",
   "execution_count": null,
   "metadata": {},
   "outputs": [],
   "source": [
    "y = ['a', 'b', 'd']\n",
    "\n",
    "# Here, we apply the lambda function to \"y\", without\n",
    "# storing it in memory after the map operation has completed.\n",
    "map(lambda x: 'You typed ' + x, y)"
   ]
  },
  {
   "cell_type": "markdown",
   "metadata": {},
   "source": [
    "The `map` function returns the output in an iterator, which we can convert to a list:"
   ]
  },
  {
   "cell_type": "code",
   "execution_count": null,
   "metadata": {},
   "outputs": [],
   "source": [
    "list(map(lambda x: 'You typed ' + x, y))"
   ]
  },
  {
   "cell_type": "markdown",
   "metadata": {},
   "source": [
    "We encourage you to avoid the use of `for` loops with the `map` function:"
   ]
  },
  {
   "cell_type": "code",
   "execution_count": null,
   "metadata": {
    "scrolled": true
   },
   "outputs": [],
   "source": [
    "list(map(re2.search, email_adds))"
   ]
  },
  {
   "cell_type": "markdown",
   "metadata": {},
   "source": [
    "Another quick way to iterate and produce output in list form is to use *list comprehension*."
   ]
  },
  {
   "cell_type": "code",
   "execution_count": null,
   "metadata": {
    "scrolled": true
   },
   "outputs": [],
   "source": [
    "['You typed ' + x for x in y]"
   ]
  },
  {
   "cell_type": "markdown",
   "metadata": {},
   "source": [
    "What if we wished to match only the userid in the string of email addresses earlier? In other words, we only wished to match until the `@` symbol in the list?\n",
    "\n",
    "Let's do it in two ways: Using the `split()` method, and then using a look-ahead assertion."
   ]
  },
  {
   "cell_type": "code",
   "execution_count": null,
   "metadata": {},
   "outputs": [],
   "source": [
    "import pprint"
   ]
  },
  {
   "cell_type": "code",
   "execution_count": null,
   "metadata": {},
   "outputs": [],
   "source": [
    "pp = pprint.PrettyPrinter(4)"
   ]
  },
  {
   "cell_type": "code",
   "execution_count": null,
   "metadata": {},
   "outputs": [],
   "source": [
    "pp.pprint(email_adds)"
   ]
  },
  {
   "cell_type": "code",
   "execution_count": null,
   "metadata": {},
   "outputs": [],
   "source": [
    "p1 = re.compile('@')\n",
    "userids = [p1.split(x)[0] for x in email_adds]\n",
    "#userids = [x.split('@')[0] for x in email_adds]"
   ]
  },
  {
   "cell_type": "code",
   "execution_count": null,
   "metadata": {},
   "outputs": [],
   "source": [
    "userids"
   ]
  },
  {
   "cell_type": "code",
   "execution_count": null,
   "metadata": {},
   "outputs": [],
   "source": [
    "p2 = re.compile('^.*(?=@)')\n",
    "userids = [p2.match(x).group() for x in email_adds]"
   ]
  },
  {
   "cell_type": "code",
   "execution_count": null,
   "metadata": {},
   "outputs": [],
   "source": [
    "userids"
   ]
  },
  {
   "cell_type": "markdown",
   "metadata": {},
   "source": [
    "#### Modules and Packages\n",
    "\n",
    "You may have noticed we \"imported\" the `re` package earlier. What did we mean by that?\n",
    "\n",
    "* A Python module is a file containing Python definitions (of functions and constants) and statements.\n",
    "* Instead of re-typing functions every time, we can simply load the module. We would then have access to the functions.\n",
    "* We access objects within the module using the ``dot'' notation.\n",
    "* There are several modules that ship with the default Python installation.\n",
    "* Packages are collections of modules."
   ]
  },
  {
   "cell_type": "code",
   "execution_count": null,
   "metadata": {},
   "outputs": [],
   "source": [
    "import numpy as np\n",
    "import pandas as pd"
   ]
  },
  {
   "cell_type": "code",
   "execution_count": null,
   "metadata": {},
   "outputs": [],
   "source": [
    "np.max([1, 2, 3])"
   ]
  },
  {
   "cell_type": "markdown",
   "metadata": {},
   "source": [
    "### Object-Oriented Programming"
   ]
  },
  {
   "cell_type": "markdown",
   "metadata": {},
   "source": [
    "We can create new object-types in Python, which contain their own data and methods.\n",
    "In the example below, we create the `Circle` class. This class definition is a blueprint\n",
    "that will allow us to create `Circle`-objects. These objects need to be initialized\n",
    "with a radius. After initialization, we can query how big a given `Circle`-object is."
   ]
  },
  {
   "cell_type": "code",
   "execution_count": null,
   "metadata": {},
   "outputs": [],
   "source": [
    "from math import pi\n",
    "\n",
    "class Circle:\n",
    "    \"\"\" A simple class definition \n",
    "    \n",
    "    c0 = Circle()\n",
    "    c0.radius\n",
    "    \n",
    "    \"\"\"\n",
    "    # If no radius is specified, default to 1.\n",
    "    def __init__(self, radius = 1.0):\n",
    "        self.radius = radius\n",
    "    \n",
    "    def set_radius(self, new_radius):\n",
    "        \"\"\" Set radius of circle\"\"\"\n",
    "        self.radius = new_radius\n",
    "    \n",
    "    def get_area(self):\n",
    "        \"\"\" Compute area of circle\"\"\"\n",
    "        return pi * (self.radius ** 2)"
   ]
  },
  {
   "cell_type": "code",
   "execution_count": null,
   "metadata": {},
   "outputs": [],
   "source": [
    "c1 = Circle(3.2)\n",
    "c1.get_area()"
   ]
  },
  {
   "cell_type": "code",
   "execution_count": null,
   "metadata": {},
   "outputs": [],
   "source": [
    "c1.set_radius(6)\n",
    "c1.get_area()"
   ]
  }
 ],
 "metadata": {
  "kernelspec": {
   "display_name": "Python [conda env:nus_i4_gen]",
   "language": "python",
   "name": "conda-env-nus_i4_gen-py"
  },
  "language_info": {
   "codemirror_mode": {
    "name": "ipython",
    "version": 3
   },
   "file_extension": ".py",
   "mimetype": "text/x-python",
   "name": "python",
   "nbconvert_exporter": "python",
   "pygments_lexer": "ipython3",
   "version": "3.11.4"
  }
 },
 "nbformat": 4,
 "nbformat_minor": 4
}
