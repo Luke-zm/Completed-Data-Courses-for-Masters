{
 "cells": [
  {
   "cell_type": "markdown",
   "metadata": {},
   "source": [
    "# Contents <a id='top'></a>\n",
    "\n",
    "1. <a href=#eda>Data Exploration</a>\n",
    "1. <a href=#sup>Supervised Learning</a>\n",
    "1. <a href=#skl>sklearn</a>\n",
    "1. <a href=#metrics>Classification Error Metrics</a>\n",
    "1. <a href=#app>Application</a>\n",
    "    1. <a href=#knn>k-Nearest Neighbours</a>\n",
    "    1. <a href=#hyper>Hyperparameter Search</a>\n",
    "1. <a href=#ref>References and Links</a>"
   ]
  },
  {
   "cell_type": "markdown",
   "metadata": {},
   "source": [
    "<a id='eda'></a>\n",
    "# 1. Introduction to Lending Club Data\n",
    "<a href=#top>(back to top)</a>\n",
    "\n",
    "The data set we will be using comes from the Lending Club. It is a peer-to-peer lending company. It offers loans that are funded by other people: \n",
    "\n",
    "* A borrower applies for a loan of a certain amount.\n",
    "* The company assesses the risk of lending. \n",
    "* Even if an application is accepted, the requested loan might not be fully funded by investors."
   ]
  },
  {
   "cell_type": "markdown",
   "metadata": {},
   "source": [
    "The full dataset can be obtained from the [Kaggle website](https://www.kaggle.com/wordsforthewise/lending-club). It is approximately 650MB in size. However, for our session, we are only going to work with a partial dataset, from 2007 to 2011. It is available on LumiNUS as `loans.xlsx`."
   ]
  },
  {
   "cell_type": "code",
   "execution_count": 1,
   "metadata": {
    "tags": []
   },
   "outputs": [],
   "source": [
    "import pandas as pd\n",
    "import numpy as np\n",
    "import matplotlib.pyplot as plt\n",
    "%matplotlib inline"
   ]
  },
  {
   "cell_type": "code",
   "execution_count": 2,
   "metadata": {
    "tags": []
   },
   "outputs": [],
   "source": [
    "loans = pd.read_excel('../data/loans.xlsx', index_col=0)"
   ]
  },
  {
   "cell_type": "code",
   "execution_count": 3,
   "metadata": {
    "tags": []
   },
   "outputs": [
    {
     "data": {
      "text/html": [
       "<div>\n",
       "<style scoped>\n",
       "    .dataframe tbody tr th:only-of-type {\n",
       "        vertical-align: middle;\n",
       "    }\n",
       "\n",
       "    .dataframe tbody tr th {\n",
       "        vertical-align: top;\n",
       "    }\n",
       "\n",
       "    .dataframe thead th {\n",
       "        text-align: right;\n",
       "    }\n",
       "</style>\n",
       "<table border=\"1\" class=\"dataframe\">\n",
       "  <thead>\n",
       "    <tr style=\"text-align: right;\">\n",
       "      <th></th>\n",
       "      <th>loan_amnt</th>\n",
       "      <th>funded_amnt_inv</th>\n",
       "      <th>y</th>\n",
       "    </tr>\n",
       "  </thead>\n",
       "  <tbody>\n",
       "    <tr>\n",
       "      <th>0</th>\n",
       "      <td>5000</td>\n",
       "      <td>4975.0</td>\n",
       "      <td>0</td>\n",
       "    </tr>\n",
       "    <tr>\n",
       "      <th>1</th>\n",
       "      <td>2500</td>\n",
       "      <td>2500.0</td>\n",
       "      <td>0</td>\n",
       "    </tr>\n",
       "    <tr>\n",
       "      <th>2</th>\n",
       "      <td>2400</td>\n",
       "      <td>2400.0</td>\n",
       "      <td>0</td>\n",
       "    </tr>\n",
       "    <tr>\n",
       "      <th>3</th>\n",
       "      <td>10000</td>\n",
       "      <td>10000.0</td>\n",
       "      <td>0</td>\n",
       "    </tr>\n",
       "    <tr>\n",
       "      <th>4</th>\n",
       "      <td>3000</td>\n",
       "      <td>3000.0</td>\n",
       "      <td>0</td>\n",
       "    </tr>\n",
       "  </tbody>\n",
       "</table>\n",
       "</div>"
      ],
      "text/plain": [
       "   loan_amnt  funded_amnt_inv  y\n",
       "0       5000           4975.0  0\n",
       "1       2500           2500.0  0\n",
       "2       2400           2400.0  0\n",
       "3      10000          10000.0  0\n",
       "4       3000           3000.0  0"
      ]
     },
     "execution_count": 3,
     "metadata": {},
     "output_type": "execute_result"
    }
   ],
   "source": [
    "loans[['loan_amnt', 'funded_amnt_inv', 'y']].head()"
   ]
  },
  {
   "cell_type": "markdown",
   "metadata": {},
   "source": [
    "Our version of the loans dataset consists of 42,535 rows and 76 columns. The Kaggle site contains a data dictionary that explains what each column means. Our target variable is contained in the column `y`: we wish to predict it using the remaining columns. \n",
    "\n",
    "It was computed from the existing columns as follows. First, for each loan (i.e. row), we compute the proportion of loan not funded:\n",
    "\n",
    "$$\n",
    "\\text{prop. not funded} = \\frac{(\\text{loan amnt}) - (\\text{funded amnt inv})}{\\text{loan amnt}}\n",
    "$$\n",
    "\n",
    "Our target variable takes on the value 1 if the proportion not funded is larger than 0.05:\n",
    "\n",
    "$$\n",
    "y = \\begin{cases}\n",
    "1 & \\text{if prop. not funded} \\ge 0.05 \n",
    "0 & \\text{otherwise}\n",
    "\\end{cases}\n",
    "$$"
   ]
  },
  {
   "cell_type": "code",
   "execution_count": 4,
   "metadata": {
    "tags": []
   },
   "outputs": [
    {
     "data": {
      "text/plain": [
       "0.1856588691665687"
      ]
     },
     "execution_count": 4,
     "metadata": {},
     "output_type": "execute_result"
    }
   ],
   "source": [
    "loans.y.mean()"
   ]
  },
  {
   "cell_type": "markdown",
   "metadata": {},
   "source": [
    "As we see, only about 19% of the loans were unsuccessful. This indicates a moderately unbalanced dataset, and serves as our benchmark. If we were to always predict that a loan is successful (y=0), then we would be correct approximately 81% of the time.\n",
    "\n",
    "> *Can we do better than this?*"
   ]
  },
  {
   "cell_type": "markdown",
   "metadata": {},
   "source": [
    "<a id='sup'></a>\n",
    "# 2. Supervised Learning\n",
    "<a href=#top>(back to top)</a>\n",
    "\n",
    "In supervised learning, our goal is to develop a model that can predict a quantity of interest from a set of features. In this process,\n",
    "\n",
    "* Algorithms learn from a training set of labelled examples.\n",
    "* This training set is meant to be representative of the set of all possible inputs.\n",
    "* Example algorithms include logistic regression, support vector machines, decision trees and random forests.\n",
    "\n",
    "Here are some examples:\n",
    "\n",
    "1. We wish to predict if a student will graduate from university or not, based on his/her 'A' level results.\n",
    "2. We wish to predict tomorrow's stock price based on today's price.\n",
    "\n",
    "The other main sort of learning is unsupervised learning. Here are some examples:\n",
    "\n",
    "1. We wish to identify the salient topics from a set of English documents.\n",
    "2. We wish to estimate the probability density function that a sample of observations came from.\n",
    "\n",
    "In our class, we shall focus only on *supervised* learning."
   ]
  },
  {
   "cell_type": "markdown",
   "metadata": {},
   "source": [
    "## Classification versus Regression\n",
    "\n",
    "If the answer to the question (supervised learning problem) we are facing is either YES or NO, then we have a **classification** problem.\n",
    "\n",
    "* Given the results of a clinical test, does this patient suffer from diabetes?\n",
    "* Given an MRI, is there a tumor?\n",
    "\n",
    "On the other hand, if we are trying to predict a real-valued quantity,\n",
    "then we are faced with a **regression** problem.\n",
    "\n",
    "* Given the details about an apartment, what will the rental be?\n",
    "* Given historical transactions of a customer, how much is he likely to spend on his next purchase?"
   ]
  },
  {
   "cell_type": "markdown",
   "metadata": {
    "tags": []
   },
   "source": [
    "## Supervised Learning Overview\n",
    "\n",
    "<img src=\"../figs/sup_learning.png\" style=\"width: 900px;\"/>\n",
    "\n",
    "In words:\n",
    "\n",
    "1. Split up a dataset into training and testing data. **Do not touch the test data again until the end.**\n",
    "2. Preprocess/clean the training data and store the parameters for later use on the test data.\n",
    "    * Example preprocessings are scaling, one-hot encoding, PC \n",
    "    decomposition, etc.\n",
    "3. Decide on what models you wish to try. Each model has parameters to be fit (from the data), and **hyperparameters** to be chosen by you.\n",
    "    * Example models are k-nearest neighbours (KNN) and random forests.\n",
    "    * A hyperparameter for KNN is the number of neighbours to use.\n",
    "    * A hyperparameter for random forests is the number of trees.\n",
    "    * Hyperparameters usually control the **complexity** of a \n",
    "    model. If a model is too complex, it will over-fit to the \n",
    "    training data but fare poorly on the test data.\n",
    "4. Use **cross-validation** or a set-aside validation set to decide on the hyperparameters for your chosen estimator. These procedures typically minimise a loss function or error metric.\n",
    "5. Once you are satisfied with your choices, evaluate the selected model on the test set to obtain an estimate of your generalisation error."
   ]
  },
  {
   "cell_type": "markdown",
   "metadata": {},
   "source": [
    "<a id='skl'></a>\n",
    "# 3. Scikit-learn\n",
    "<a href=#top>(back to top)</a>\n",
    "\n",
    "* Scikit-learn is a library in Python which has several useful functions used in machine learning.\n",
    "* The library has many algorithms for classification, regression, clustering and other machine learning methods.\n",
    "* It uses other libraries like NumPy and matplotlib which are also\n",
    "used in this course.\n",
    "* The website for scikit-learn is an excellent source of examples and tips on using the functions within this package:\n",
    "http://scikit-learn.org/stable/index.html"
   ]
  },
  {
   "cell_type": "markdown",
   "metadata": {},
   "source": [
    "All objects in scikit-learn have common access points. The three main \n",
    "interfaces are:\n",
    "\n",
    "1. Estimator interface - `fit()` method.\n",
    "    * This function allows us to build and fit models.\n",
    "    * Any object that can estimate some parameters based on a dataset \n",
    "    is an *estimator*.\n",
    "\t* Estimation is performed by the `fit()` method. This method \n",
    "    takes in two datasets as arguments (the input data, and the\n",
    "    corresponding output/labels).\n",
    "    \n",
    "2. Predictor interface - `predict()` method.\n",
    "    * This function allows us to make predictions.\n",
    "\t* Estimators capable of making predictions when given a \n",
    "    dataset are called *predictors*.\n",
    "\t* A predictor has a `predict()` method. It takes in a dataset \n",
    "    of new instances and returns a dataset of corresponding \n",
    "    predictions.\n",
    "    \n",
    "3. Transformer interface - `transform()` method.\n",
    "    * This function is for converting data.\n",
    "\t* Estimators which can also transform a dataset are called *transformers*.\n",
    "\t* Transformations are carried out by the `transform()` method.\n",
    "    * This method takes in the dataset to transform as a parameter and\n",
    "    returns the transformed dataset.\n",
    "    * We will not have too much time to spend on the transformer \n",
    "    interface in this course."
   ]
  },
  {
   "cell_type": "markdown",
   "metadata": {},
   "source": [
    "### Input Data Structure\n",
    "\n",
    "For supervised learning problems in scikit-learn, the input data has to be structured in NumPy-like arrays.\n",
    "\n",
    "\n",
    "The **feature matrix X**, of shape $n$ by $d$ contains features:\n",
    "* $n$ rows: the number of samples\n",
    "* $d$ columns: the number of features or distinct traits used to\n",
    "describe each item in a quantitative manner\n",
    "\n",
    "Each row in the feature matrix is referred to as a sample, example or an instance.\n",
    "\n",
    "A **label vector y** stores the target values. This vector stores the true output value for each corresponding sample (row) in\n",
    "matrix X.\n",
    "\n",
    "<img src=\"../figs/05_input_structure.png\" style=\"width: 500px;\"/>\n"
   ]
  },
  {
   "cell_type": "markdown",
   "metadata": {},
   "source": [
    "<a id='metrics'></a>\n",
    "# 4. Measures of Performance\n",
    "<a href=#top>(back to top)</a>\n",
    "\n",
    "Before we head into creating classifiers which will help us predict if a loan will be successful, let's understand what determines the usefulness of a classifier.\n",
    "\n",
    "A basic measure of performance would be the *accuracy* of predictions.\n",
    "\n",
    "$$ \\text{accuracy} = \\frac{\\text{Number of correct predictions}}{\\text{Total number of predictions}} \n",
    "$$"
   ]
  },
  {
   "cell_type": "markdown",
   "metadata": {},
   "source": [
    "When more detailed analysis is needed, partial performance metrics can be presented in a *confusion matrix*.\n",
    "\n",
    "It considers various scenarios depending on the classifier's prediction and the actual outcome.\n",
    "\n",
    "<img src=\"../figs/day_07_confusion.png\" style=\"width: 500px;\"/>\n"
   ]
  },
  {
   "cell_type": "markdown",
   "metadata": {},
   "source": [
    "### TP, FP, TN, FN\n",
    "\n",
    "In the confusion matrix, there are 4 possible cases:\n",
    "* True positives (TP)\n",
    "    * Classifier predicts sample as positive and it really is so.\n",
    "* False positives (FP)\n",
    "    * Classifier predicts sample as positive but in truth, it is \n",
    "    negative.\n",
    "    * An inaccurate prediction.\n",
    "* True negatives (TN)\n",
    "    * Classifier predicts sample as negative and it really is so.\n",
    "* False negatives (FN)\n",
    "    * Classifier predicts sample as negative but in truth, it is \n",
    "    positive.\n",
    "    * An inaccurate prediction."
   ]
  },
  {
   "cell_type": "markdown",
   "metadata": {},
   "source": [
    "### Precision and Recall\n",
    "\n",
    "With the confusion matrix, more performance metrics can be defined besides the accuracy of a classifier.\n",
    "\n",
    "* The **recall** of a classifier is the proportion of truly positives correctly\n",
    "identified:\n",
    "$$\n",
    "\\text{recall}=  \\frac{\\text{TP}}{\\text{TP + FN}} $$\n",
    "* The **precision** of a classifier is the proportion of predicted\n",
    "positives that are truly positive:\n",
    "$$\n",
    "\\text{precision} =  \\frac{\\text{TP}}{\\text{TP + FP}} $$\n",
    "* Above, we have defined recall and precision for the *positive* category outcome. There are analogous definitions for the *negative* outcome.\n",
    "* Recall is also referred to as the True Positive Rate (TPR). One\n",
    "minus the precision is also referred to as the False Positive Rate (FPR)."
   ]
  },
  {
   "cell_type": "markdown",
   "metadata": {},
   "source": [
    "### F1 score\n",
    "\n",
    "* The harmonic mean of two numbers $x_1$ and $x_2$ is \n",
    "$$\n",
    "\\left( \\frac{1/x_1 + 1/x_2}{2} \\right)^{-1}\n",
    "$$\n",
    "* We can combine precision and recall into one score using their harmonic mean:\n",
    "$$\n",
    "\\text{F1} = 2 \\times \\frac{\\text{precision} \\times \\text{recall}}{\\text{precision} +\n",
    "\\text{receall}}\n",
    "$$\n",
    "Roughly, the F1 score is a summary of how good the classifier is in terms of both precision and recall."
   ]
  },
  {
   "cell_type": "markdown",
   "metadata": {},
   "source": [
    "<a id='app'></a>\n",
    "# 4. Application to Lending Club Data\n",
    "<a href=#top>(back to top)</a>\n",
    "\n",
    "## Pre-processing Data"
   ]
  },
  {
   "cell_type": "code",
   "execution_count": 5,
   "metadata": {
    "tags": []
   },
   "outputs": [],
   "source": [
    "from sklearn import neighbors, metrics, preprocessing\n",
    "from sklearn.model_selection import GridSearchCV, train_test_split, cross_val_score, validation_curve\n",
    "from sklearn.metrics import classification_report, confusion_matrix, roc_curve, auc, f1_score, precision_recall_curve\n",
    "from sklearn.metrics import ConfusionMatrixDisplay, matthews_corrcoef\n",
    "#from sklearn.ensemble import RandomForestClassifier"
   ]
  },
  {
   "cell_type": "code",
   "execution_count": 6,
   "metadata": {
    "tags": []
   },
   "outputs": [],
   "source": [
    "loans.loc[:, 'issue_yr'] = loans.issue_d.apply(lambda x: x.year)\n",
    "loans.loc[:, 'issue_mth'] = loans.issue_d.apply(lambda x: x.month)"
   ]
  },
  {
   "cell_type": "markdown",
   "metadata": {},
   "source": [
    "First, we drop those columns that have fewer than 40000 non-missing values"
   ]
  },
  {
   "cell_type": "code",
   "execution_count": 7,
   "metadata": {
    "tags": []
   },
   "outputs": [
    {
     "data": {
      "text/plain": [
       "id                 False\n",
       "member_id          False\n",
       "loan_amnt          False\n",
       "funded_amnt        False\n",
       "funded_amnt_inv    False\n",
       "                   ...  \n",
       "total_cu_tl         True\n",
       "inq_last_12m        True\n",
       "y                  False\n",
       "issue_yr           False\n",
       "issue_mth          False\n",
       "Length: 77, dtype: bool"
      ]
     },
     "execution_count": 7,
     "metadata": {},
     "output_type": "execute_result"
    }
   ],
   "source": [
    "drop_these_columns = loans.apply(lambda x: np.sum(pd.notna(x)), axis=0) < 40000\n",
    "drop_these_columns"
   ]
  },
  {
   "cell_type": "code",
   "execution_count": 8,
   "metadata": {
    "tags": []
   },
   "outputs": [],
   "source": [
    "loans.drop(columns=loans.columns[drop_these_columns], inplace=True)"
   ]
  },
  {
   "cell_type": "code",
   "execution_count": 9,
   "metadata": {
    "tags": []
   },
   "outputs": [
    {
     "data": {
      "text/plain": [
       "(42535, 51)"
      ]
     },
     "execution_count": 9,
     "metadata": {},
     "output_type": "execute_result"
    }
   ],
   "source": [
    "loans.shape"
   ]
  },
  {
   "cell_type": "markdown",
   "metadata": {},
   "source": [
    "Next, we drop all rows that have even 1 missing value. A better way would be to impute the missing values, but we save that for another time."
   ]
  },
  {
   "cell_type": "code",
   "execution_count": 10,
   "metadata": {
    "tags": []
   },
   "outputs": [
    {
     "data": {
      "text/plain": [
       "(41135, 51)"
      ]
     },
     "execution_count": 10,
     "metadata": {},
     "output_type": "execute_result"
    }
   ],
   "source": [
    "# drop missing values rows\n",
    "no_miss = loans[pd.notna(loans).all(axis=1)].copy()\n",
    "no_miss.shape"
   ]
  },
  {
   "cell_type": "code",
   "execution_count": 11,
   "metadata": {
    "tags": []
   },
   "outputs": [
    {
     "data": {
      "text/html": [
       "<div>\n",
       "<style scoped>\n",
       "    .dataframe tbody tr th:only-of-type {\n",
       "        vertical-align: middle;\n",
       "    }\n",
       "\n",
       "    .dataframe tbody tr th {\n",
       "        vertical-align: top;\n",
       "    }\n",
       "\n",
       "    .dataframe thead th {\n",
       "        text-align: right;\n",
       "    }\n",
       "</style>\n",
       "<table border=\"1\" class=\"dataframe\">\n",
       "  <thead>\n",
       "    <tr style=\"text-align: right;\">\n",
       "      <th></th>\n",
       "      <th>id</th>\n",
       "      <th>member_id</th>\n",
       "      <th>loan_amnt</th>\n",
       "      <th>funded_amnt</th>\n",
       "      <th>funded_amnt_inv</th>\n",
       "      <th>term</th>\n",
       "      <th>int_rate</th>\n",
       "      <th>installment</th>\n",
       "      <th>grade</th>\n",
       "      <th>sub_grade</th>\n",
       "      <th>...</th>\n",
       "      <th>last_pymnt_d</th>\n",
       "      <th>last_pymnt_amnt</th>\n",
       "      <th>last_credit_pull_d</th>\n",
       "      <th>collections_12_mths_ex_med</th>\n",
       "      <th>policy_code</th>\n",
       "      <th>application_type</th>\n",
       "      <th>acc_now_delinq</th>\n",
       "      <th>y</th>\n",
       "      <th>issue_yr</th>\n",
       "      <th>issue_mth</th>\n",
       "    </tr>\n",
       "  </thead>\n",
       "  <tbody>\n",
       "    <tr>\n",
       "      <th>27959</th>\n",
       "      <td>546531</td>\n",
       "      <td>689345</td>\n",
       "      <td>14500</td>\n",
       "      <td>14500</td>\n",
       "      <td>14500.0</td>\n",
       "      <td>36 months</td>\n",
       "      <td>7.88</td>\n",
       "      <td>453.58</td>\n",
       "      <td>A</td>\n",
       "      <td>A5</td>\n",
       "      <td>...</td>\n",
       "      <td>Mar-2013</td>\n",
       "      <td>2689.40</td>\n",
       "      <td>Mar-2013</td>\n",
       "      <td>0.0</td>\n",
       "      <td>1</td>\n",
       "      <td>INDIVIDUAL</td>\n",
       "      <td>0.0</td>\n",
       "      <td>0</td>\n",
       "      <td>2010</td>\n",
       "      <td>7</td>\n",
       "    </tr>\n",
       "    <tr>\n",
       "      <th>34519</th>\n",
       "      <td>450981</td>\n",
       "      <td>555251</td>\n",
       "      <td>19750</td>\n",
       "      <td>19750</td>\n",
       "      <td>19625.0</td>\n",
       "      <td>36 months</td>\n",
       "      <td>11.14</td>\n",
       "      <td>647.87</td>\n",
       "      <td>B</td>\n",
       "      <td>B1</td>\n",
       "      <td>...</td>\n",
       "      <td>Feb-2012</td>\n",
       "      <td>6221.43</td>\n",
       "      <td>Feb-2012</td>\n",
       "      <td>0.0</td>\n",
       "      <td>1</td>\n",
       "      <td>INDIVIDUAL</td>\n",
       "      <td>0.0</td>\n",
       "      <td>0</td>\n",
       "      <td>2009</td>\n",
       "      <td>10</td>\n",
       "    </tr>\n",
       "  </tbody>\n",
       "</table>\n",
       "<p>2 rows × 51 columns</p>\n",
       "</div>"
      ],
      "text/plain": [
       "           id  member_id  loan_amnt  funded_amnt  funded_amnt_inv        term  \\\n",
       "27959  546531     689345      14500        14500          14500.0   36 months   \n",
       "34519  450981     555251      19750        19750          19625.0   36 months   \n",
       "\n",
       "       int_rate  installment grade sub_grade  ... last_pymnt_d  \\\n",
       "27959      7.88       453.58     A        A5  ...     Mar-2013   \n",
       "34519     11.14       647.87     B        B1  ...     Feb-2012   \n",
       "\n",
       "      last_pymnt_amnt  last_credit_pull_d collections_12_mths_ex_med  \\\n",
       "27959         2689.40            Mar-2013                        0.0   \n",
       "34519         6221.43            Feb-2012                        0.0   \n",
       "\n",
       "      policy_code application_type acc_now_delinq  y issue_yr issue_mth  \n",
       "27959           1       INDIVIDUAL            0.0  0     2010         7  \n",
       "34519           1       INDIVIDUAL            0.0  0     2009        10  \n",
       "\n",
       "[2 rows x 51 columns]"
      ]
     },
     "execution_count": 11,
     "metadata": {},
     "output_type": "execute_result"
    }
   ],
   "source": [
    "no_miss.sample(2)"
   ]
  },
  {
   "cell_type": "markdown",
   "metadata": {},
   "source": [
    "There are a couple of columns that contain date information in our dataset: `issue_d` and `earliest_cr_line`. Let us extract the year information from them"
   ]
  },
  {
   "cell_type": "code",
   "execution_count": 12,
   "metadata": {
    "tags": []
   },
   "outputs": [],
   "source": [
    "#no_miss.loc[:, 'issue_yr'] = no_miss.issue_d.apply(lambda x: x.year)\n",
    "#no_miss.loc[:, 'issue_mth'] = no_miss.issue_d.apply(lambda x: x.month)"
   ]
  },
  {
   "cell_type": "code",
   "execution_count": 13,
   "metadata": {
    "tags": []
   },
   "outputs": [
    {
     "data": {
      "text/html": [
       "<div>\n",
       "<style scoped>\n",
       "    .dataframe tbody tr th:only-of-type {\n",
       "        vertical-align: middle;\n",
       "    }\n",
       "\n",
       "    .dataframe tbody tr th {\n",
       "        vertical-align: top;\n",
       "    }\n",
       "\n",
       "    .dataframe thead th {\n",
       "        text-align: right;\n",
       "    }\n",
       "</style>\n",
       "<table border=\"1\" class=\"dataframe\">\n",
       "  <thead>\n",
       "    <tr style=\"text-align: right;\">\n",
       "      <th></th>\n",
       "      <th>0</th>\n",
       "      <th>1</th>\n",
       "    </tr>\n",
       "  </thead>\n",
       "  <tbody>\n",
       "    <tr>\n",
       "      <th>0</th>\n",
       "      <td>Jan</td>\n",
       "      <td>1985</td>\n",
       "    </tr>\n",
       "    <tr>\n",
       "      <th>1</th>\n",
       "      <td>Apr</td>\n",
       "      <td>1999</td>\n",
       "    </tr>\n",
       "    <tr>\n",
       "      <th>2</th>\n",
       "      <td>Nov</td>\n",
       "      <td>2001</td>\n",
       "    </tr>\n",
       "    <tr>\n",
       "      <th>3</th>\n",
       "      <td>Feb</td>\n",
       "      <td>1996</td>\n",
       "    </tr>\n",
       "    <tr>\n",
       "      <th>4</th>\n",
       "      <td>Jan</td>\n",
       "      <td>1996</td>\n",
       "    </tr>\n",
       "  </tbody>\n",
       "</table>\n",
       "</div>"
      ],
      "text/plain": [
       "     0     1\n",
       "0  Jan  1985\n",
       "1  Apr  1999\n",
       "2  Nov  2001\n",
       "3  Feb  1996\n",
       "4  Jan  1996"
      ]
     },
     "execution_count": 13,
     "metadata": {},
     "output_type": "execute_result"
    }
   ],
   "source": [
    "no_miss.earliest_cr_line.str.split('-', expand=True).head()"
   ]
  },
  {
   "cell_type": "code",
   "execution_count": 14,
   "metadata": {
    "tags": []
   },
   "outputs": [],
   "source": [
    "cr_line_cols = no_miss.earliest_cr_line.str.split('-', expand=True)\n",
    "cr_line_cols.columns = ['ecrl_mth', 'ecrl_yr']\n",
    "cr_line_cols.ecrl_yr = cr_line_cols.ecrl_yr.astype(int)"
   ]
  },
  {
   "cell_type": "code",
   "execution_count": 15,
   "metadata": {
    "tags": []
   },
   "outputs": [],
   "source": [
    "no_miss = pd.concat([no_miss, cr_line_cols],axis=1)"
   ]
  },
  {
   "cell_type": "code",
   "execution_count": 16,
   "metadata": {
    "tags": []
   },
   "outputs": [
    {
     "data": {
      "text/plain": [
       "(41135, 53)"
      ]
     },
     "execution_count": 16,
     "metadata": {},
     "output_type": "execute_result"
    }
   ],
   "source": [
    "no_miss.shape"
   ]
  },
  {
   "cell_type": "markdown",
   "metadata": {},
   "source": [
    "Now, we split the data into a training and test set before proceeding."
   ]
  },
  {
   "cell_type": "code",
   "execution_count": 17,
   "metadata": {
    "tags": []
   },
   "outputs": [],
   "source": [
    "y = no_miss.y"
   ]
  },
  {
   "cell_type": "code",
   "execution_count": 18,
   "metadata": {
    "tags": []
   },
   "outputs": [],
   "source": [
    "X_train, X_test, y_train, y_test = train_test_split(no_miss, y, test_size=0.3, random_state=41, stratify=y)"
   ]
  },
  {
   "cell_type": "code",
   "execution_count": 19,
   "metadata": {
    "tags": []
   },
   "outputs": [
    {
     "data": {
      "text/plain": [
       "0.18539826594279232"
      ]
     },
     "execution_count": 19,
     "metadata": {},
     "output_type": "execute_result"
    }
   ],
   "source": [
    "y_test.mean()"
   ]
  },
  {
   "cell_type": "code",
   "execution_count": 20,
   "metadata": {
    "tags": []
   },
   "outputs": [],
   "source": [
    "from sklearn.preprocessing import StandardScaler, OneHotEncoder\n",
    "from sklearn.compose import ColumnTransformer, make_column_selector\n",
    "from sklearn import set_config\n",
    "\n",
    "set_config(display='diagram')"
   ]
  },
  {
   "cell_type": "markdown",
   "metadata": {},
   "source": [
    "### Finding useful Features\n",
    "\n",
    "In this section, we whittle down the number of features we have in the dataset."
   ]
  },
  {
   "cell_type": "code",
   "execution_count": 21,
   "metadata": {
    "tags": []
   },
   "outputs": [],
   "source": [
    "from sklearn.feature_selection import SelectKBest, chi2, mutual_info_classif"
   ]
  },
  {
   "cell_type": "code",
   "execution_count": 22,
   "metadata": {
    "tags": []
   },
   "outputs": [],
   "source": [
    "X_num = X_train.loc[:, ['loan_amnt', 'int_rate', 'installment', \n",
    "                   'annual_inc', 'dti', 'delinq_2yrs', 'inq_last_6mths', \n",
    "                   'open_acc', 'pub_rec', 'revol_bal', 'revol_util', 'total_acc', \n",
    "                   'out_prncp', 'out_prncp_inv', 'total_pymnt', 'total_pymnt_inv', \n",
    "                   'total_rec_prncp', 'total_rec_int', 'total_rec_late_fee', 'recoveries', \n",
    "                   'collection_recovery_fee', 'collections_12_mths_ex_med',\n",
    "                   'acc_now_delinq', 'issue_yr', 'issue_mth', 'ecrl_yr']]"
   ]
  },
  {
   "cell_type": "code",
   "execution_count": 23,
   "metadata": {
    "tags": []
   },
   "outputs": [],
   "source": [
    "skb = SelectKBest(mutual_info_classif, k=8)"
   ]
  },
  {
   "cell_type": "code",
   "execution_count": 24,
   "metadata": {
    "tags": []
   },
   "outputs": [
    {
     "data": {
      "text/html": [
       "<style>#sk-container-id-1 {color: black;background-color: white;}#sk-container-id-1 pre{padding: 0;}#sk-container-id-1 div.sk-toggleable {background-color: white;}#sk-container-id-1 label.sk-toggleable__label {cursor: pointer;display: block;width: 100%;margin-bottom: 0;padding: 0.3em;box-sizing: border-box;text-align: center;}#sk-container-id-1 label.sk-toggleable__label-arrow:before {content: \"▸\";float: left;margin-right: 0.25em;color: #696969;}#sk-container-id-1 label.sk-toggleable__label-arrow:hover:before {color: black;}#sk-container-id-1 div.sk-estimator:hover label.sk-toggleable__label-arrow:before {color: black;}#sk-container-id-1 div.sk-toggleable__content {max-height: 0;max-width: 0;overflow: hidden;text-align: left;background-color: #f0f8ff;}#sk-container-id-1 div.sk-toggleable__content pre {margin: 0.2em;color: black;border-radius: 0.25em;background-color: #f0f8ff;}#sk-container-id-1 input.sk-toggleable__control:checked~div.sk-toggleable__content {max-height: 200px;max-width: 100%;overflow: auto;}#sk-container-id-1 input.sk-toggleable__control:checked~label.sk-toggleable__label-arrow:before {content: \"▾\";}#sk-container-id-1 div.sk-estimator input.sk-toggleable__control:checked~label.sk-toggleable__label {background-color: #d4ebff;}#sk-container-id-1 div.sk-label input.sk-toggleable__control:checked~label.sk-toggleable__label {background-color: #d4ebff;}#sk-container-id-1 input.sk-hidden--visually {border: 0;clip: rect(1px 1px 1px 1px);clip: rect(1px, 1px, 1px, 1px);height: 1px;margin: -1px;overflow: hidden;padding: 0;position: absolute;width: 1px;}#sk-container-id-1 div.sk-estimator {font-family: monospace;background-color: #f0f8ff;border: 1px dotted black;border-radius: 0.25em;box-sizing: border-box;margin-bottom: 0.5em;}#sk-container-id-1 div.sk-estimator:hover {background-color: #d4ebff;}#sk-container-id-1 div.sk-parallel-item::after {content: \"\";width: 100%;border-bottom: 1px solid gray;flex-grow: 1;}#sk-container-id-1 div.sk-label:hover label.sk-toggleable__label {background-color: #d4ebff;}#sk-container-id-1 div.sk-serial::before {content: \"\";position: absolute;border-left: 1px solid gray;box-sizing: border-box;top: 0;bottom: 0;left: 50%;z-index: 0;}#sk-container-id-1 div.sk-serial {display: flex;flex-direction: column;align-items: center;background-color: white;padding-right: 0.2em;padding-left: 0.2em;position: relative;}#sk-container-id-1 div.sk-item {position: relative;z-index: 1;}#sk-container-id-1 div.sk-parallel {display: flex;align-items: stretch;justify-content: center;background-color: white;position: relative;}#sk-container-id-1 div.sk-item::before, #sk-container-id-1 div.sk-parallel-item::before {content: \"\";position: absolute;border-left: 1px solid gray;box-sizing: border-box;top: 0;bottom: 0;left: 50%;z-index: -1;}#sk-container-id-1 div.sk-parallel-item {display: flex;flex-direction: column;z-index: 1;position: relative;background-color: white;}#sk-container-id-1 div.sk-parallel-item:first-child::after {align-self: flex-end;width: 50%;}#sk-container-id-1 div.sk-parallel-item:last-child::after {align-self: flex-start;width: 50%;}#sk-container-id-1 div.sk-parallel-item:only-child::after {width: 0;}#sk-container-id-1 div.sk-dashed-wrapped {border: 1px dashed gray;margin: 0 0.4em 0.5em 0.4em;box-sizing: border-box;padding-bottom: 0.4em;background-color: white;}#sk-container-id-1 div.sk-label label {font-family: monospace;font-weight: bold;display: inline-block;line-height: 1.2em;}#sk-container-id-1 div.sk-label-container {text-align: center;}#sk-container-id-1 div.sk-container {/* jupyter's `normalize.less` sets `[hidden] { display: none; }` but bootstrap.min.css set `[hidden] { display: none !important; }` so we also need the `!important` here to be able to override the default hidden behavior on the sphinx rendered scikit-learn.org. See: https://github.com/scikit-learn/scikit-learn/issues/21755 */display: inline-block !important;position: relative;}#sk-container-id-1 div.sk-text-repr-fallback {display: none;}</style><div id=\"sk-container-id-1\" class=\"sk-top-container\"><div class=\"sk-text-repr-fallback\"><pre>SelectKBest(k=8, score_func=&lt;function mutual_info_classif at 0x7f71c89d7600&gt;)</pre><b>In a Jupyter environment, please rerun this cell to show the HTML representation or trust the notebook. <br />On GitHub, the HTML representation is unable to render, please try loading this page with nbviewer.org.</b></div><div class=\"sk-container\" hidden><div class=\"sk-item\"><div class=\"sk-estimator sk-toggleable\"><input class=\"sk-toggleable__control sk-hidden--visually\" id=\"sk-estimator-id-1\" type=\"checkbox\" checked><label for=\"sk-estimator-id-1\" class=\"sk-toggleable__label sk-toggleable__label-arrow\">SelectKBest</label><div class=\"sk-toggleable__content\"><pre>SelectKBest(k=8, score_func=&lt;function mutual_info_classif at 0x7f71c89d7600&gt;)</pre></div></div></div></div></div>"
      ],
      "text/plain": [
       "SelectKBest(k=8, score_func=<function mutual_info_classif at 0x7f71c89d7600>)"
      ]
     },
     "execution_count": 24,
     "metadata": {},
     "output_type": "execute_result"
    }
   ],
   "source": [
    "skb.fit(X_num, y_train)"
   ]
  },
  {
   "cell_type": "code",
   "execution_count": 25,
   "metadata": {
    "tags": []
   },
   "outputs": [
    {
     "data": {
      "text/plain": [
       "array([0.0129, 0.1545, 0.0693, 0.0044, 0.    , 0.    , 0.008 , 0.0025,\n",
       "       0.    , 0.0009, 0.0013, 0.0026, 0.007 , 0.005 , 0.0095, 0.0395,\n",
       "       0.0195, 0.0122, 0.0007, 0.0008, 0.0008, 0.    , 0.0018, 0.1345,\n",
       "       0.0088, 0.0026])"
      ]
     },
     "execution_count": 25,
     "metadata": {},
     "output_type": "execute_result"
    }
   ],
   "source": [
    "skb.scores_.round(4)"
   ]
  },
  {
   "cell_type": "code",
   "execution_count": 26,
   "metadata": {
    "tags": []
   },
   "outputs": [
    {
     "data": {
      "text/plain": [
       "Index(['loan_amnt', 'int_rate', 'installment', 'total_pymnt',\n",
       "       'total_pymnt_inv', 'total_rec_prncp', 'total_rec_int', 'issue_yr'],\n",
       "      dtype='object')"
      ]
     },
     "execution_count": 26,
     "metadata": {},
     "output_type": "execute_result"
    }
   ],
   "source": [
    "X_num.columns[skb.scores_ >= np.sort(skb.scores_)[-8]]\n",
    "#X_num.columns[np.argsort(-skb.scores_)[:8]]"
   ]
  },
  {
   "cell_type": "code",
   "execution_count": 27,
   "metadata": {
    "tags": []
   },
   "outputs": [
    {
     "data": {
      "text/plain": [
       "(28794, 8)"
      ]
     },
     "execution_count": 27,
     "metadata": {},
     "output_type": "execute_result"
    }
   ],
   "source": [
    "skb.transform(X_num).shape"
   ]
  },
  {
   "cell_type": "code",
   "execution_count": 28,
   "metadata": {
    "tags": []
   },
   "outputs": [
    {
     "data": {
      "text/html": [
       "<div>\n",
       "<style scoped>\n",
       "    .dataframe tbody tr th:only-of-type {\n",
       "        vertical-align: middle;\n",
       "    }\n",
       "\n",
       "    .dataframe tbody tr th {\n",
       "        vertical-align: top;\n",
       "    }\n",
       "\n",
       "    .dataframe thead th {\n",
       "        text-align: right;\n",
       "    }\n",
       "</style>\n",
       "<table border=\"1\" class=\"dataframe\">\n",
       "  <thead>\n",
       "    <tr style=\"text-align: right;\">\n",
       "      <th></th>\n",
       "      <th>loan_amnt</th>\n",
       "      <th>int_rate</th>\n",
       "      <th>installment</th>\n",
       "      <th>total_pymnt</th>\n",
       "      <th>total_pymnt_inv</th>\n",
       "      <th>total_rec_prncp</th>\n",
       "      <th>total_rec_int</th>\n",
       "      <th>issue_yr</th>\n",
       "    </tr>\n",
       "  </thead>\n",
       "  <tbody>\n",
       "    <tr>\n",
       "      <th>7810</th>\n",
       "      <td>3600</td>\n",
       "      <td>7.49</td>\n",
       "      <td>111.97</td>\n",
       "      <td>3948.400000</td>\n",
       "      <td>3920.99</td>\n",
       "      <td>3600.00</td>\n",
       "      <td>348.40</td>\n",
       "      <td>2011</td>\n",
       "    </tr>\n",
       "    <tr>\n",
       "      <th>19404</th>\n",
       "      <td>12000</td>\n",
       "      <td>10.74</td>\n",
       "      <td>391.39</td>\n",
       "      <td>13113.380000</td>\n",
       "      <td>13058.73</td>\n",
       "      <td>12000.00</td>\n",
       "      <td>1113.38</td>\n",
       "      <td>2011</td>\n",
       "    </tr>\n",
       "    <tr>\n",
       "      <th>10432</th>\n",
       "      <td>12000</td>\n",
       "      <td>8.49</td>\n",
       "      <td>246.15</td>\n",
       "      <td>14592.554033</td>\n",
       "      <td>14288.49</td>\n",
       "      <td>12000.00</td>\n",
       "      <td>2592.55</td>\n",
       "      <td>2011</td>\n",
       "    </tr>\n",
       "    <tr>\n",
       "      <th>8207</th>\n",
       "      <td>14000</td>\n",
       "      <td>12.99</td>\n",
       "      <td>318.48</td>\n",
       "      <td>17072.850000</td>\n",
       "      <td>17072.85</td>\n",
       "      <td>14000.01</td>\n",
       "      <td>3072.84</td>\n",
       "      <td>2011</td>\n",
       "    </tr>\n",
       "    <tr>\n",
       "      <th>19315</th>\n",
       "      <td>6000</td>\n",
       "      <td>13.80</td>\n",
       "      <td>204.49</td>\n",
       "      <td>7358.823689</td>\n",
       "      <td>7358.82</td>\n",
       "      <td>6000.00</td>\n",
       "      <td>1358.82</td>\n",
       "      <td>2011</td>\n",
       "    </tr>\n",
       "    <tr>\n",
       "      <th>...</th>\n",
       "      <td>...</td>\n",
       "      <td>...</td>\n",
       "      <td>...</td>\n",
       "      <td>...</td>\n",
       "      <td>...</td>\n",
       "      <td>...</td>\n",
       "      <td>...</td>\n",
       "      <td>...</td>\n",
       "    </tr>\n",
       "    <tr>\n",
       "      <th>31564</th>\n",
       "      <td>12000</td>\n",
       "      <td>10.62</td>\n",
       "      <td>390.72</td>\n",
       "      <td>13248.630000</td>\n",
       "      <td>13248.63</td>\n",
       "      <td>12000.00</td>\n",
       "      <td>1248.63</td>\n",
       "      <td>2010</td>\n",
       "    </tr>\n",
       "    <tr>\n",
       "      <th>3220</th>\n",
       "      <td>9600</td>\n",
       "      <td>14.27</td>\n",
       "      <td>224.73</td>\n",
       "      <td>11935.900000</td>\n",
       "      <td>11624.90</td>\n",
       "      <td>9600.00</td>\n",
       "      <td>2335.90</td>\n",
       "      <td>2011</td>\n",
       "    </tr>\n",
       "    <tr>\n",
       "      <th>32070</th>\n",
       "      <td>10550</td>\n",
       "      <td>7.88</td>\n",
       "      <td>330.01</td>\n",
       "      <td>11879.080000</td>\n",
       "      <td>11850.93</td>\n",
       "      <td>10549.99</td>\n",
       "      <td>1329.09</td>\n",
       "      <td>2010</td>\n",
       "    </tr>\n",
       "    <tr>\n",
       "      <th>14385</th>\n",
       "      <td>25000</td>\n",
       "      <td>15.99</td>\n",
       "      <td>607.82</td>\n",
       "      <td>34451.602216</td>\n",
       "      <td>34107.10</td>\n",
       "      <td>25000.00</td>\n",
       "      <td>9451.60</td>\n",
       "      <td>2011</td>\n",
       "    </tr>\n",
       "    <tr>\n",
       "      <th>32592</th>\n",
       "      <td>8000</td>\n",
       "      <td>13.48</td>\n",
       "      <td>271.40</td>\n",
       "      <td>1673.810000</td>\n",
       "      <td>1663.35</td>\n",
       "      <td>925.01</td>\n",
       "      <td>427.04</td>\n",
       "      <td>2010</td>\n",
       "    </tr>\n",
       "  </tbody>\n",
       "</table>\n",
       "<p>28794 rows × 8 columns</p>\n",
       "</div>"
      ],
      "text/plain": [
       "       loan_amnt  int_rate  installment   total_pymnt  total_pymnt_inv  \\\n",
       "7810        3600      7.49       111.97   3948.400000          3920.99   \n",
       "19404      12000     10.74       391.39  13113.380000         13058.73   \n",
       "10432      12000      8.49       246.15  14592.554033         14288.49   \n",
       "8207       14000     12.99       318.48  17072.850000         17072.85   \n",
       "19315       6000     13.80       204.49   7358.823689          7358.82   \n",
       "...          ...       ...          ...           ...              ...   \n",
       "31564      12000     10.62       390.72  13248.630000         13248.63   \n",
       "3220        9600     14.27       224.73  11935.900000         11624.90   \n",
       "32070      10550      7.88       330.01  11879.080000         11850.93   \n",
       "14385      25000     15.99       607.82  34451.602216         34107.10   \n",
       "32592       8000     13.48       271.40   1673.810000          1663.35   \n",
       "\n",
       "       total_rec_prncp  total_rec_int  issue_yr  \n",
       "7810           3600.00         348.40      2011  \n",
       "19404         12000.00        1113.38      2011  \n",
       "10432         12000.00        2592.55      2011  \n",
       "8207          14000.01        3072.84      2011  \n",
       "19315          6000.00        1358.82      2011  \n",
       "...                ...            ...       ...  \n",
       "31564         12000.00        1248.63      2010  \n",
       "3220           9600.00        2335.90      2011  \n",
       "32070         10549.99        1329.09      2010  \n",
       "14385         25000.00        9451.60      2011  \n",
       "32592           925.01         427.04      2010  \n",
       "\n",
       "[28794 rows x 8 columns]"
      ]
     },
     "execution_count": 28,
     "metadata": {},
     "output_type": "execute_result"
    }
   ],
   "source": [
    "X_num.loc[:, X_num.columns[skb.scores_ >= np.sort(skb.scores_)[-8]]]"
   ]
  },
  {
   "cell_type": "code",
   "execution_count": 29,
   "metadata": {
    "tags": []
   },
   "outputs": [
    {
     "data": {
      "text/html": [
       "<div>\n",
       "<style scoped>\n",
       "    .dataframe tbody tr th:only-of-type {\n",
       "        vertical-align: middle;\n",
       "    }\n",
       "\n",
       "    .dataframe tbody tr th {\n",
       "        vertical-align: top;\n",
       "    }\n",
       "\n",
       "    .dataframe thead th {\n",
       "        text-align: right;\n",
       "    }\n",
       "</style>\n",
       "<table border=\"1\" class=\"dataframe\">\n",
       "  <thead>\n",
       "    <tr style=\"text-align: right;\">\n",
       "      <th></th>\n",
       "      <th>id</th>\n",
       "      <th>member_id</th>\n",
       "      <th>loan_amnt</th>\n",
       "      <th>funded_amnt</th>\n",
       "      <th>funded_amnt_inv</th>\n",
       "      <th>term</th>\n",
       "      <th>int_rate</th>\n",
       "      <th>installment</th>\n",
       "      <th>grade</th>\n",
       "      <th>sub_grade</th>\n",
       "      <th>...</th>\n",
       "      <th>last_credit_pull_d</th>\n",
       "      <th>collections_12_mths_ex_med</th>\n",
       "      <th>policy_code</th>\n",
       "      <th>application_type</th>\n",
       "      <th>acc_now_delinq</th>\n",
       "      <th>y</th>\n",
       "      <th>issue_yr</th>\n",
       "      <th>issue_mth</th>\n",
       "      <th>ecrl_mth</th>\n",
       "      <th>ecrl_yr</th>\n",
       "    </tr>\n",
       "  </thead>\n",
       "  <tbody>\n",
       "    <tr>\n",
       "      <th>7810</th>\n",
       "      <td>875769</td>\n",
       "      <td>1090283</td>\n",
       "      <td>3600</td>\n",
       "      <td>3600</td>\n",
       "      <td>3575.0</td>\n",
       "      <td>36 months</td>\n",
       "      <td>7.49</td>\n",
       "      <td>111.97</td>\n",
       "      <td>A</td>\n",
       "      <td>A4</td>\n",
       "      <td>...</td>\n",
       "      <td>Apr-2014</td>\n",
       "      <td>0.0</td>\n",
       "      <td>1</td>\n",
       "      <td>INDIVIDUAL</td>\n",
       "      <td>0.0</td>\n",
       "      <td>0</td>\n",
       "      <td>2011</td>\n",
       "      <td>9</td>\n",
       "      <td>Nov</td>\n",
       "      <td>2000</td>\n",
       "    </tr>\n",
       "    <tr>\n",
       "      <th>19404</th>\n",
       "      <td>677324</td>\n",
       "      <td>865404</td>\n",
       "      <td>12000</td>\n",
       "      <td>12000</td>\n",
       "      <td>11950.0</td>\n",
       "      <td>36 months</td>\n",
       "      <td>10.74</td>\n",
       "      <td>391.39</td>\n",
       "      <td>B</td>\n",
       "      <td>B4</td>\n",
       "      <td>...</td>\n",
       "      <td>Dec-2014</td>\n",
       "      <td>0.0</td>\n",
       "      <td>1</td>\n",
       "      <td>INDIVIDUAL</td>\n",
       "      <td>0.0</td>\n",
       "      <td>0</td>\n",
       "      <td>2011</td>\n",
       "      <td>2</td>\n",
       "      <td>Dec</td>\n",
       "      <td>1995</td>\n",
       "    </tr>\n",
       "    <tr>\n",
       "      <th>10432</th>\n",
       "      <td>833012</td>\n",
       "      <td>1042537</td>\n",
       "      <td>12000</td>\n",
       "      <td>12000</td>\n",
       "      <td>11750.0</td>\n",
       "      <td>60 months</td>\n",
       "      <td>8.49</td>\n",
       "      <td>246.15</td>\n",
       "      <td>A</td>\n",
       "      <td>A5</td>\n",
       "      <td>...</td>\n",
       "      <td>Jun-2015</td>\n",
       "      <td>0.0</td>\n",
       "      <td>1</td>\n",
       "      <td>INDIVIDUAL</td>\n",
       "      <td>0.0</td>\n",
       "      <td>0</td>\n",
       "      <td>2011</td>\n",
       "      <td>8</td>\n",
       "      <td>Aug</td>\n",
       "      <td>1997</td>\n",
       "    </tr>\n",
       "    <tr>\n",
       "      <th>8207</th>\n",
       "      <td>869188</td>\n",
       "      <td>1083003</td>\n",
       "      <td>14000</td>\n",
       "      <td>14000</td>\n",
       "      <td>14000.0</td>\n",
       "      <td>60 months</td>\n",
       "      <td>12.99</td>\n",
       "      <td>318.48</td>\n",
       "      <td>C</td>\n",
       "      <td>C1</td>\n",
       "      <td>...</td>\n",
       "      <td>Jan-2016</td>\n",
       "      <td>0.0</td>\n",
       "      <td>1</td>\n",
       "      <td>INDIVIDUAL</td>\n",
       "      <td>0.0</td>\n",
       "      <td>0</td>\n",
       "      <td>2011</td>\n",
       "      <td>9</td>\n",
       "      <td>Feb</td>\n",
       "      <td>1992</td>\n",
       "    </tr>\n",
       "    <tr>\n",
       "      <th>19315</th>\n",
       "      <td>677131</td>\n",
       "      <td>865189</td>\n",
       "      <td>6000</td>\n",
       "      <td>6000</td>\n",
       "      <td>6000.0</td>\n",
       "      <td>36 months</td>\n",
       "      <td>13.80</td>\n",
       "      <td>204.49</td>\n",
       "      <td>C</td>\n",
       "      <td>C4</td>\n",
       "      <td>...</td>\n",
       "      <td>Jan-2016</td>\n",
       "      <td>0.0</td>\n",
       "      <td>1</td>\n",
       "      <td>INDIVIDUAL</td>\n",
       "      <td>0.0</td>\n",
       "      <td>0</td>\n",
       "      <td>2011</td>\n",
       "      <td>2</td>\n",
       "      <td>May</td>\n",
       "      <td>1988</td>\n",
       "    </tr>\n",
       "    <tr>\n",
       "      <th>...</th>\n",
       "      <td>...</td>\n",
       "      <td>...</td>\n",
       "      <td>...</td>\n",
       "      <td>...</td>\n",
       "      <td>...</td>\n",
       "      <td>...</td>\n",
       "      <td>...</td>\n",
       "      <td>...</td>\n",
       "      <td>...</td>\n",
       "      <td>...</td>\n",
       "      <td>...</td>\n",
       "      <td>...</td>\n",
       "      <td>...</td>\n",
       "      <td>...</td>\n",
       "      <td>...</td>\n",
       "      <td>...</td>\n",
       "      <td>...</td>\n",
       "      <td>...</td>\n",
       "      <td>...</td>\n",
       "      <td>...</td>\n",
       "      <td>...</td>\n",
       "    </tr>\n",
       "    <tr>\n",
       "      <th>31564</th>\n",
       "      <td>494538</td>\n",
       "      <td>633162</td>\n",
       "      <td>12000</td>\n",
       "      <td>12000</td>\n",
       "      <td>12000.0</td>\n",
       "      <td>36 months</td>\n",
       "      <td>10.62</td>\n",
       "      <td>390.72</td>\n",
       "      <td>B</td>\n",
       "      <td>B3</td>\n",
       "      <td>...</td>\n",
       "      <td>Jan-2016</td>\n",
       "      <td>0.0</td>\n",
       "      <td>1</td>\n",
       "      <td>INDIVIDUAL</td>\n",
       "      <td>0.0</td>\n",
       "      <td>0</td>\n",
       "      <td>2010</td>\n",
       "      <td>3</td>\n",
       "      <td>Nov</td>\n",
       "      <td>2004</td>\n",
       "    </tr>\n",
       "    <tr>\n",
       "      <th>3220</th>\n",
       "      <td>1022929</td>\n",
       "      <td>1251942</td>\n",
       "      <td>9600</td>\n",
       "      <td>9600</td>\n",
       "      <td>9350.0</td>\n",
       "      <td>60 months</td>\n",
       "      <td>14.27</td>\n",
       "      <td>224.73</td>\n",
       "      <td>C</td>\n",
       "      <td>C2</td>\n",
       "      <td>...</td>\n",
       "      <td>Jun-2014</td>\n",
       "      <td>0.0</td>\n",
       "      <td>1</td>\n",
       "      <td>INDIVIDUAL</td>\n",
       "      <td>0.0</td>\n",
       "      <td>0</td>\n",
       "      <td>2011</td>\n",
       "      <td>11</td>\n",
       "      <td>Jul</td>\n",
       "      <td>2000</td>\n",
       "    </tr>\n",
       "    <tr>\n",
       "      <th>32070</th>\n",
       "      <td>488239</td>\n",
       "      <td>622562</td>\n",
       "      <td>10550</td>\n",
       "      <td>10550</td>\n",
       "      <td>10525.0</td>\n",
       "      <td>36 months</td>\n",
       "      <td>7.88</td>\n",
       "      <td>330.01</td>\n",
       "      <td>A</td>\n",
       "      <td>A5</td>\n",
       "      <td>...</td>\n",
       "      <td>Mar-2013</td>\n",
       "      <td>0.0</td>\n",
       "      <td>1</td>\n",
       "      <td>INDIVIDUAL</td>\n",
       "      <td>0.0</td>\n",
       "      <td>0</td>\n",
       "      <td>2010</td>\n",
       "      <td>2</td>\n",
       "      <td>May</td>\n",
       "      <td>1997</td>\n",
       "    </tr>\n",
       "    <tr>\n",
       "      <th>14385</th>\n",
       "      <td>761033</td>\n",
       "      <td>961423</td>\n",
       "      <td>25000</td>\n",
       "      <td>25000</td>\n",
       "      <td>24750.0</td>\n",
       "      <td>60 months</td>\n",
       "      <td>15.99</td>\n",
       "      <td>607.82</td>\n",
       "      <td>D</td>\n",
       "      <td>D2</td>\n",
       "      <td>...</td>\n",
       "      <td>Aug-2014</td>\n",
       "      <td>0.0</td>\n",
       "      <td>1</td>\n",
       "      <td>INDIVIDUAL</td>\n",
       "      <td>0.0</td>\n",
       "      <td>0</td>\n",
       "      <td>2011</td>\n",
       "      <td>5</td>\n",
       "      <td>Feb</td>\n",
       "      <td>2004</td>\n",
       "    </tr>\n",
       "    <tr>\n",
       "      <th>32592</th>\n",
       "      <td>481112</td>\n",
       "      <td>611803</td>\n",
       "      <td>8000</td>\n",
       "      <td>8000</td>\n",
       "      <td>7950.0</td>\n",
       "      <td>36 months</td>\n",
       "      <td>13.48</td>\n",
       "      <td>271.40</td>\n",
       "      <td>C</td>\n",
       "      <td>C3</td>\n",
       "      <td>...</td>\n",
       "      <td>Dec-2010</td>\n",
       "      <td>0.0</td>\n",
       "      <td>1</td>\n",
       "      <td>INDIVIDUAL</td>\n",
       "      <td>0.0</td>\n",
       "      <td>0</td>\n",
       "      <td>2010</td>\n",
       "      <td>2</td>\n",
       "      <td>Jul</td>\n",
       "      <td>1998</td>\n",
       "    </tr>\n",
       "  </tbody>\n",
       "</table>\n",
       "<p>28794 rows × 53 columns</p>\n",
       "</div>"
      ],
      "text/plain": [
       "            id  member_id  loan_amnt  funded_amnt  funded_amnt_inv  \\\n",
       "7810    875769    1090283       3600         3600           3575.0   \n",
       "19404   677324     865404      12000        12000          11950.0   \n",
       "10432   833012    1042537      12000        12000          11750.0   \n",
       "8207    869188    1083003      14000        14000          14000.0   \n",
       "19315   677131     865189       6000         6000           6000.0   \n",
       "...        ...        ...        ...          ...              ...   \n",
       "31564   494538     633162      12000        12000          12000.0   \n",
       "3220   1022929    1251942       9600         9600           9350.0   \n",
       "32070   488239     622562      10550        10550          10525.0   \n",
       "14385   761033     961423      25000        25000          24750.0   \n",
       "32592   481112     611803       8000         8000           7950.0   \n",
       "\n",
       "             term  int_rate  installment grade sub_grade  ...  \\\n",
       "7810    36 months      7.49       111.97     A        A4  ...   \n",
       "19404   36 months     10.74       391.39     B        B4  ...   \n",
       "10432   60 months      8.49       246.15     A        A5  ...   \n",
       "8207    60 months     12.99       318.48     C        C1  ...   \n",
       "19315   36 months     13.80       204.49     C        C4  ...   \n",
       "...           ...       ...          ...   ...       ...  ...   \n",
       "31564   36 months     10.62       390.72     B        B3  ...   \n",
       "3220    60 months     14.27       224.73     C        C2  ...   \n",
       "32070   36 months      7.88       330.01     A        A5  ...   \n",
       "14385   60 months     15.99       607.82     D        D2  ...   \n",
       "32592   36 months     13.48       271.40     C        C3  ...   \n",
       "\n",
       "      last_credit_pull_d collections_12_mths_ex_med  policy_code  \\\n",
       "7810            Apr-2014                        0.0            1   \n",
       "19404           Dec-2014                        0.0            1   \n",
       "10432           Jun-2015                        0.0            1   \n",
       "8207            Jan-2016                        0.0            1   \n",
       "19315           Jan-2016                        0.0            1   \n",
       "...                  ...                        ...          ...   \n",
       "31564           Jan-2016                        0.0            1   \n",
       "3220            Jun-2014                        0.0            1   \n",
       "32070           Mar-2013                        0.0            1   \n",
       "14385           Aug-2014                        0.0            1   \n",
       "32592           Dec-2010                        0.0            1   \n",
       "\n",
       "      application_type acc_now_delinq  y issue_yr issue_mth ecrl_mth ecrl_yr  \n",
       "7810        INDIVIDUAL            0.0  0     2011         9      Nov    2000  \n",
       "19404       INDIVIDUAL            0.0  0     2011         2      Dec    1995  \n",
       "10432       INDIVIDUAL            0.0  0     2011         8      Aug    1997  \n",
       "8207        INDIVIDUAL            0.0  0     2011         9      Feb    1992  \n",
       "19315       INDIVIDUAL            0.0  0     2011         2      May    1988  \n",
       "...                ...            ... ..      ...       ...      ...     ...  \n",
       "31564       INDIVIDUAL            0.0  0     2010         3      Nov    2004  \n",
       "3220        INDIVIDUAL            0.0  0     2011        11      Jul    2000  \n",
       "32070       INDIVIDUAL            0.0  0     2010         2      May    1997  \n",
       "14385       INDIVIDUAL            0.0  0     2011         5      Feb    2004  \n",
       "32592       INDIVIDUAL            0.0  0     2010         2      Jul    1998  \n",
       "\n",
       "[28794 rows x 53 columns]"
      ]
     },
     "execution_count": 29,
     "metadata": {},
     "output_type": "execute_result"
    }
   ],
   "source": [
    "X_train"
   ]
  },
  {
   "cell_type": "code",
   "execution_count": 30,
   "metadata": {
    "tags": []
   },
   "outputs": [
    {
     "data": {
      "text/plain": [
       "(28794, 26)"
      ]
     },
     "execution_count": 30,
     "metadata": {},
     "output_type": "execute_result"
    }
   ],
   "source": [
    "X_num.shape"
   ]
  },
  {
   "cell_type": "markdown",
   "metadata": {},
   "source": [
    "We can do a similar thing for the categorical columns, using the following code. None of them were clear, so I kept all of them."
   ]
  },
  {
   "cell_type": "code",
   "execution_count": 31,
   "metadata": {
    "tags": []
   },
   "outputs": [],
   "source": [
    "from sklearn.preprocessing import OneHotEncoder, OrdinalEncoder"
   ]
  },
  {
   "cell_type": "code",
   "execution_count": 32,
   "metadata": {
    "tags": []
   },
   "outputs": [],
   "source": [
    "X_cat_df = X_train.loc[:,['term', 'grade', 'sub_grade', 'emp_length',\n",
    "       'home_ownership', 'verification_status', \n",
    "       'loan_status', 'purpose', 'zip_code', 'addr_state'] ]\n",
    "X_cat_df = X_cat_df.astype('str')"
   ]
  },
  {
   "cell_type": "code",
   "execution_count": 33,
   "metadata": {
    "tags": []
   },
   "outputs": [
    {
     "data": {
      "text/html": [
       "<div>\n",
       "<style scoped>\n",
       "    .dataframe tbody tr th:only-of-type {\n",
       "        vertical-align: middle;\n",
       "    }\n",
       "\n",
       "    .dataframe tbody tr th {\n",
       "        vertical-align: top;\n",
       "    }\n",
       "\n",
       "    .dataframe thead th {\n",
       "        text-align: right;\n",
       "    }\n",
       "</style>\n",
       "<table border=\"1\" class=\"dataframe\">\n",
       "  <thead>\n",
       "    <tr style=\"text-align: right;\">\n",
       "      <th></th>\n",
       "      <th>term</th>\n",
       "      <th>grade</th>\n",
       "      <th>sub_grade</th>\n",
       "      <th>emp_length</th>\n",
       "      <th>home_ownership</th>\n",
       "      <th>verification_status</th>\n",
       "      <th>loan_status</th>\n",
       "      <th>purpose</th>\n",
       "      <th>zip_code</th>\n",
       "      <th>addr_state</th>\n",
       "    </tr>\n",
       "  </thead>\n",
       "  <tbody>\n",
       "    <tr>\n",
       "      <th>7810</th>\n",
       "      <td>36 months</td>\n",
       "      <td>A</td>\n",
       "      <td>A4</td>\n",
       "      <td>&lt; 1 year</td>\n",
       "      <td>MORTGAGE</td>\n",
       "      <td>Source Verified</td>\n",
       "      <td>Fully Paid</td>\n",
       "      <td>other</td>\n",
       "      <td>567xx</td>\n",
       "      <td>MN</td>\n",
       "    </tr>\n",
       "    <tr>\n",
       "      <th>19404</th>\n",
       "      <td>36 months</td>\n",
       "      <td>B</td>\n",
       "      <td>B4</td>\n",
       "      <td>9 years</td>\n",
       "      <td>MORTGAGE</td>\n",
       "      <td>Verified</td>\n",
       "      <td>Fully Paid</td>\n",
       "      <td>small_business</td>\n",
       "      <td>336xx</td>\n",
       "      <td>FL</td>\n",
       "    </tr>\n",
       "    <tr>\n",
       "      <th>10432</th>\n",
       "      <td>60 months</td>\n",
       "      <td>A</td>\n",
       "      <td>A5</td>\n",
       "      <td>10+ years</td>\n",
       "      <td>MORTGAGE</td>\n",
       "      <td>Source Verified</td>\n",
       "      <td>Fully Paid</td>\n",
       "      <td>vacation</td>\n",
       "      <td>925xx</td>\n",
       "      <td>CA</td>\n",
       "    </tr>\n",
       "    <tr>\n",
       "      <th>8207</th>\n",
       "      <td>60 months</td>\n",
       "      <td>C</td>\n",
       "      <td>C1</td>\n",
       "      <td>10+ years</td>\n",
       "      <td>MORTGAGE</td>\n",
       "      <td>Source Verified</td>\n",
       "      <td>Fully Paid</td>\n",
       "      <td>debt_consolidation</td>\n",
       "      <td>227xx</td>\n",
       "      <td>VA</td>\n",
       "    </tr>\n",
       "    <tr>\n",
       "      <th>19315</th>\n",
       "      <td>36 months</td>\n",
       "      <td>C</td>\n",
       "      <td>C4</td>\n",
       "      <td>&lt; 1 year</td>\n",
       "      <td>RENT</td>\n",
       "      <td>Verified</td>\n",
       "      <td>Fully Paid</td>\n",
       "      <td>debt_consolidation</td>\n",
       "      <td>100xx</td>\n",
       "      <td>NY</td>\n",
       "    </tr>\n",
       "  </tbody>\n",
       "</table>\n",
       "</div>"
      ],
      "text/plain": [
       "             term grade sub_grade emp_length home_ownership  \\\n",
       "7810    36 months     A        A4   < 1 year       MORTGAGE   \n",
       "19404   36 months     B        B4    9 years       MORTGAGE   \n",
       "10432   60 months     A        A5  10+ years       MORTGAGE   \n",
       "8207    60 months     C        C1  10+ years       MORTGAGE   \n",
       "19315   36 months     C        C4   < 1 year           RENT   \n",
       "\n",
       "      verification_status loan_status             purpose zip_code addr_state  \n",
       "7810      Source Verified  Fully Paid               other    567xx         MN  \n",
       "19404            Verified  Fully Paid      small_business    336xx         FL  \n",
       "10432     Source Verified  Fully Paid            vacation    925xx         CA  \n",
       "8207      Source Verified  Fully Paid  debt_consolidation    227xx         VA  \n",
       "19315            Verified  Fully Paid  debt_consolidation    100xx         NY  "
      ]
     },
     "execution_count": 33,
     "metadata": {},
     "output_type": "execute_result"
    }
   ],
   "source": [
    "X_cat_df.head()"
   ]
  },
  {
   "cell_type": "code",
   "execution_count": 34,
   "metadata": {
    "tags": []
   },
   "outputs": [
    {
     "data": {
      "text/html": [
       "<style>#sk-container-id-2 {color: black;background-color: white;}#sk-container-id-2 pre{padding: 0;}#sk-container-id-2 div.sk-toggleable {background-color: white;}#sk-container-id-2 label.sk-toggleable__label {cursor: pointer;display: block;width: 100%;margin-bottom: 0;padding: 0.3em;box-sizing: border-box;text-align: center;}#sk-container-id-2 label.sk-toggleable__label-arrow:before {content: \"▸\";float: left;margin-right: 0.25em;color: #696969;}#sk-container-id-2 label.sk-toggleable__label-arrow:hover:before {color: black;}#sk-container-id-2 div.sk-estimator:hover label.sk-toggleable__label-arrow:before {color: black;}#sk-container-id-2 div.sk-toggleable__content {max-height: 0;max-width: 0;overflow: hidden;text-align: left;background-color: #f0f8ff;}#sk-container-id-2 div.sk-toggleable__content pre {margin: 0.2em;color: black;border-radius: 0.25em;background-color: #f0f8ff;}#sk-container-id-2 input.sk-toggleable__control:checked~div.sk-toggleable__content {max-height: 200px;max-width: 100%;overflow: auto;}#sk-container-id-2 input.sk-toggleable__control:checked~label.sk-toggleable__label-arrow:before {content: \"▾\";}#sk-container-id-2 div.sk-estimator input.sk-toggleable__control:checked~label.sk-toggleable__label {background-color: #d4ebff;}#sk-container-id-2 div.sk-label input.sk-toggleable__control:checked~label.sk-toggleable__label {background-color: #d4ebff;}#sk-container-id-2 input.sk-hidden--visually {border: 0;clip: rect(1px 1px 1px 1px);clip: rect(1px, 1px, 1px, 1px);height: 1px;margin: -1px;overflow: hidden;padding: 0;position: absolute;width: 1px;}#sk-container-id-2 div.sk-estimator {font-family: monospace;background-color: #f0f8ff;border: 1px dotted black;border-radius: 0.25em;box-sizing: border-box;margin-bottom: 0.5em;}#sk-container-id-2 div.sk-estimator:hover {background-color: #d4ebff;}#sk-container-id-2 div.sk-parallel-item::after {content: \"\";width: 100%;border-bottom: 1px solid gray;flex-grow: 1;}#sk-container-id-2 div.sk-label:hover label.sk-toggleable__label {background-color: #d4ebff;}#sk-container-id-2 div.sk-serial::before {content: \"\";position: absolute;border-left: 1px solid gray;box-sizing: border-box;top: 0;bottom: 0;left: 50%;z-index: 0;}#sk-container-id-2 div.sk-serial {display: flex;flex-direction: column;align-items: center;background-color: white;padding-right: 0.2em;padding-left: 0.2em;position: relative;}#sk-container-id-2 div.sk-item {position: relative;z-index: 1;}#sk-container-id-2 div.sk-parallel {display: flex;align-items: stretch;justify-content: center;background-color: white;position: relative;}#sk-container-id-2 div.sk-item::before, #sk-container-id-2 div.sk-parallel-item::before {content: \"\";position: absolute;border-left: 1px solid gray;box-sizing: border-box;top: 0;bottom: 0;left: 50%;z-index: -1;}#sk-container-id-2 div.sk-parallel-item {display: flex;flex-direction: column;z-index: 1;position: relative;background-color: white;}#sk-container-id-2 div.sk-parallel-item:first-child::after {align-self: flex-end;width: 50%;}#sk-container-id-2 div.sk-parallel-item:last-child::after {align-self: flex-start;width: 50%;}#sk-container-id-2 div.sk-parallel-item:only-child::after {width: 0;}#sk-container-id-2 div.sk-dashed-wrapped {border: 1px dashed gray;margin: 0 0.4em 0.5em 0.4em;box-sizing: border-box;padding-bottom: 0.4em;background-color: white;}#sk-container-id-2 div.sk-label label {font-family: monospace;font-weight: bold;display: inline-block;line-height: 1.2em;}#sk-container-id-2 div.sk-label-container {text-align: center;}#sk-container-id-2 div.sk-container {/* jupyter's `normalize.less` sets `[hidden] { display: none; }` but bootstrap.min.css set `[hidden] { display: none !important; }` so we also need the `!important` here to be able to override the default hidden behavior on the sphinx rendered scikit-learn.org. See: https://github.com/scikit-learn/scikit-learn/issues/21755 */display: inline-block !important;position: relative;}#sk-container-id-2 div.sk-text-repr-fallback {display: none;}</style><div id=\"sk-container-id-2\" class=\"sk-top-container\"><div class=\"sk-text-repr-fallback\"><pre>OrdinalEncoder()</pre><b>In a Jupyter environment, please rerun this cell to show the HTML representation or trust the notebook. <br />On GitHub, the HTML representation is unable to render, please try loading this page with nbviewer.org.</b></div><div class=\"sk-container\" hidden><div class=\"sk-item\"><div class=\"sk-estimator sk-toggleable\"><input class=\"sk-toggleable__control sk-hidden--visually\" id=\"sk-estimator-id-2\" type=\"checkbox\" checked><label for=\"sk-estimator-id-2\" class=\"sk-toggleable__label sk-toggleable__label-arrow\">OrdinalEncoder</label><div class=\"sk-toggleable__content\"><pre>OrdinalEncoder()</pre></div></div></div></div></div>"
      ],
      "text/plain": [
       "OrdinalEncoder()"
      ]
     },
     "execution_count": 34,
     "metadata": {},
     "output_type": "execute_result"
    }
   ],
   "source": [
    "oe1 = OrdinalEncoder()\n",
    "oe1.fit(X_cat_df)"
   ]
  },
  {
   "cell_type": "code",
   "execution_count": 35,
   "metadata": {
    "tags": []
   },
   "outputs": [],
   "source": [
    "X_cat = oe1.transform(X_cat_df)"
   ]
  },
  {
   "cell_type": "code",
   "execution_count": 36,
   "metadata": {
    "tags": []
   },
   "outputs": [
    {
     "data": {
      "text/plain": [
       "array([[  0.,   0.,   3.,  10.,   0.,   1.,   5.,   9., 474.,  23.],\n",
       "       [  0.,   1.,   8.,   9.,   0.,   2.,   5.,  11., 302.,   9.],\n",
       "       [  1.,   0.,   4.,   1.,   0.,   1.,   5.,  12., 746.,   4.],\n",
       "       [  1.,   2.,  10.,   1.,   0.,   1.,   5.,   2., 196.,  44.],\n",
       "       [  0.,   2.,  13.,  10.,   4.,   2.,   5.,   2.,  74.,  33.]])"
      ]
     },
     "execution_count": 36,
     "metadata": {},
     "output_type": "execute_result"
    }
   ],
   "source": [
    "X_cat[0:5, :]"
   ]
  },
  {
   "cell_type": "code",
   "execution_count": 37,
   "metadata": {
    "tags": []
   },
   "outputs": [
    {
     "data": {
      "text/plain": [
       "array([[' 36 months', 'A', 'A4', '< 1 year', 'MORTGAGE',\n",
       "        'Source Verified', 'Fully Paid', 'other', '567xx', 'MN'],\n",
       "       [' 36 months', 'B', 'B4', '9 years', 'MORTGAGE', 'Verified',\n",
       "        'Fully Paid', 'small_business', '336xx', 'FL']], dtype=object)"
      ]
     },
     "execution_count": 37,
     "metadata": {},
     "output_type": "execute_result"
    }
   ],
   "source": [
    "oe1.inverse_transform(X_cat[:2,])"
   ]
  },
  {
   "cell_type": "code",
   "execution_count": 38,
   "metadata": {
    "tags": []
   },
   "outputs": [
    {
     "data": {
      "text/plain": [
       "array(['AK', 'AL', 'AR', 'AZ', 'CA', 'CO', 'CT', 'DC', 'DE', 'FL', 'GA',\n",
       "       'HI', 'IA', 'ID', 'IL', 'IN', 'KS', 'KY', 'LA', 'MA', 'MD', 'ME',\n",
       "       'MI', 'MN', 'MO', 'MS', 'MT', 'NC', 'NE', 'NH', 'NJ', 'NM', 'NV',\n",
       "       'NY', 'OH', 'OK', 'OR', 'PA', 'RI', 'SC', 'SD', 'TN', 'TX', 'UT',\n",
       "       'VA', 'VT', 'WA', 'WI', 'WV', 'WY'], dtype=object)"
      ]
     },
     "execution_count": 38,
     "metadata": {},
     "output_type": "execute_result"
    }
   ],
   "source": [
    "oe1.categories_[9]"
   ]
  },
  {
   "cell_type": "code",
   "execution_count": 39,
   "metadata": {
    "tags": []
   },
   "outputs": [
    {
     "data": {
      "text/plain": [
       "Index(['term', 'purpose', 'zip_code', 'verification_status', 'emp_length',\n",
       "       'home_ownership', 'addr_state', 'grade', 'sub_grade', 'loan_status'],\n",
       "      dtype='object')"
      ]
     },
     "execution_count": 39,
     "metadata": {},
     "output_type": "execute_result"
    }
   ],
   "source": [
    "skb2 = SelectKBest(mutual_info_classif, k=10)\n",
    "#skb2a = SelectKBest(chi2, k = 10)\n",
    "\n",
    "skb2.fit(X_cat, y_train)\n",
    "#skb2a.fit(X_cat, y_train)\n",
    "\n",
    "#X_cat_df.columns[np.argsort(skb2a.scores_)]\n",
    "X_cat_df.columns[np.argsort(skb2.scores_)]"
   ]
  },
  {
   "cell_type": "markdown",
   "metadata": {},
   "source": [
    "With the following chosen numerical and categorical features, we scale the numerical and one-hot encode the categorical."
   ]
  },
  {
   "cell_type": "code",
   "execution_count": 40,
   "metadata": {
    "tags": []
   },
   "outputs": [],
   "source": [
    "num_features = ['loan_amnt', 'int_rate', 'installment', 'total_pymnt', \n",
    "                'total_pymnt_inv', 'total_rec_prncp', 'issue_yr']\n",
    "cat_features = ['term', 'grade', 'emp_length', 'home_ownership', \n",
    "                'loan_status', 'purpose', 'addr_state']"
   ]
  },
  {
   "cell_type": "code",
   "execution_count": 41,
   "metadata": {
    "tags": []
   },
   "outputs": [],
   "source": [
    "all_features = num_features + cat_features"
   ]
  },
  {
   "cell_type": "code",
   "execution_count": 42,
   "metadata": {
    "tags": []
   },
   "outputs": [],
   "source": [
    "X_train = X_train.loc[:, all_features]\n",
    "X_test = X_test.loc[:, all_features]"
   ]
  },
  {
   "cell_type": "markdown",
   "metadata": {},
   "source": [
    "To do the scaling and encoding at one go, and because we need to store the fitted parameters for later use on the test set, we use a pipeline of transformers."
   ]
  },
  {
   "cell_type": "code",
   "execution_count": 43,
   "metadata": {
    "tags": []
   },
   "outputs": [],
   "source": [
    "ct = ColumnTransformer([\n",
    "      ('scale', StandardScaler(),\n",
    "      make_column_selector(dtype_include=np.number)),\n",
    "      ('onehot', OneHotEncoder(),\n",
    "      make_column_selector(dtype_include=object))])"
   ]
  },
  {
   "cell_type": "code",
   "execution_count": 44,
   "metadata": {
    "tags": []
   },
   "outputs": [
    {
     "data": {
      "text/plain": [
       "\u001b[0;31mInit signature:\u001b[0m\n",
       "\u001b[0mmake_column_selector\u001b[0m\u001b[0;34m(\u001b[0m\u001b[0;34m\u001b[0m\n",
       "\u001b[0;34m\u001b[0m    \u001b[0mpattern\u001b[0m\u001b[0;34m=\u001b[0m\u001b[0;32mNone\u001b[0m\u001b[0;34m,\u001b[0m\u001b[0;34m\u001b[0m\n",
       "\u001b[0;34m\u001b[0m    \u001b[0;34m*\u001b[0m\u001b[0;34m,\u001b[0m\u001b[0;34m\u001b[0m\n",
       "\u001b[0;34m\u001b[0m    \u001b[0mdtype_include\u001b[0m\u001b[0;34m=\u001b[0m\u001b[0;32mNone\u001b[0m\u001b[0;34m,\u001b[0m\u001b[0;34m\u001b[0m\n",
       "\u001b[0;34m\u001b[0m    \u001b[0mdtype_exclude\u001b[0m\u001b[0;34m=\u001b[0m\u001b[0;32mNone\u001b[0m\u001b[0;34m,\u001b[0m\u001b[0;34m\u001b[0m\n",
       "\u001b[0;34m\u001b[0m\u001b[0;34m)\u001b[0m\u001b[0;34m\u001b[0m\u001b[0;34m\u001b[0m\u001b[0m\n",
       "\u001b[0;31mDocstring:\u001b[0m     \n",
       "Create a callable to select columns to be used with\n",
       ":class:`ColumnTransformer`.\n",
       "\n",
       ":func:`make_column_selector` can select columns based on datatype or the\n",
       "columns name with a regex. When using multiple selection criteria, **all**\n",
       "criteria must match for a column to be selected.\n",
       "\n",
       "Parameters\n",
       "----------\n",
       "pattern : str, default=None\n",
       "    Name of columns containing this regex pattern will be included. If\n",
       "    None, column selection will not be selected based on pattern.\n",
       "\n",
       "dtype_include : column dtype or list of column dtypes, default=None\n",
       "    A selection of dtypes to include. For more details, see\n",
       "    :meth:`pandas.DataFrame.select_dtypes`.\n",
       "\n",
       "dtype_exclude : column dtype or list of column dtypes, default=None\n",
       "    A selection of dtypes to exclude. For more details, see\n",
       "    :meth:`pandas.DataFrame.select_dtypes`.\n",
       "\n",
       "Returns\n",
       "-------\n",
       "selector : callable\n",
       "    Callable for column selection to be used by a\n",
       "    :class:`ColumnTransformer`.\n",
       "\n",
       "See Also\n",
       "--------\n",
       "ColumnTransformer : Class that allows combining the\n",
       "    outputs of multiple transformer objects used on column subsets\n",
       "    of the data into a single feature space.\n",
       "\n",
       "Examples\n",
       "--------\n",
       ">>> from sklearn.preprocessing import StandardScaler, OneHotEncoder\n",
       ">>> from sklearn.compose import make_column_transformer\n",
       ">>> from sklearn.compose import make_column_selector\n",
       ">>> import numpy as np\n",
       ">>> import pandas as pd  # doctest: +SKIP\n",
       ">>> X = pd.DataFrame({'city': ['London', 'London', 'Paris', 'Sallisaw'],\n",
       "...                   'rating': [5, 3, 4, 5]})  # doctest: +SKIP\n",
       ">>> ct = make_column_transformer(\n",
       "...       (StandardScaler(),\n",
       "...        make_column_selector(dtype_include=np.number)),  # rating\n",
       "...       (OneHotEncoder(),\n",
       "...        make_column_selector(dtype_include=object)))  # city\n",
       ">>> ct.fit_transform(X)  # doctest: +SKIP\n",
       "array([[ 0.90453403,  1.        ,  0.        ,  0.        ],\n",
       "       [-1.50755672,  1.        ,  0.        ,  0.        ],\n",
       "       [-0.30151134,  0.        ,  1.        ,  0.        ],\n",
       "       [ 0.90453403,  0.        ,  0.        ,  1.        ]])\n",
       "\u001b[0;31mFile:\u001b[0m           ~/miniconda3/envs/nus_i4_gen/lib/python3.11/site-packages/sklearn/compose/_column_transformer.py\n",
       "\u001b[0;31mType:\u001b[0m           type\n",
       "\u001b[0;31mSubclasses:\u001b[0m     "
      ]
     },
     "metadata": {},
     "output_type": "display_data"
    }
   ],
   "source": [
    "make_column_selector?"
   ]
  },
  {
   "cell_type": "code",
   "execution_count": 45,
   "metadata": {
    "tags": []
   },
   "outputs": [
    {
     "data": {
      "text/html": [
       "<style>#sk-container-id-3 {color: black;background-color: white;}#sk-container-id-3 pre{padding: 0;}#sk-container-id-3 div.sk-toggleable {background-color: white;}#sk-container-id-3 label.sk-toggleable__label {cursor: pointer;display: block;width: 100%;margin-bottom: 0;padding: 0.3em;box-sizing: border-box;text-align: center;}#sk-container-id-3 label.sk-toggleable__label-arrow:before {content: \"▸\";float: left;margin-right: 0.25em;color: #696969;}#sk-container-id-3 label.sk-toggleable__label-arrow:hover:before {color: black;}#sk-container-id-3 div.sk-estimator:hover label.sk-toggleable__label-arrow:before {color: black;}#sk-container-id-3 div.sk-toggleable__content {max-height: 0;max-width: 0;overflow: hidden;text-align: left;background-color: #f0f8ff;}#sk-container-id-3 div.sk-toggleable__content pre {margin: 0.2em;color: black;border-radius: 0.25em;background-color: #f0f8ff;}#sk-container-id-3 input.sk-toggleable__control:checked~div.sk-toggleable__content {max-height: 200px;max-width: 100%;overflow: auto;}#sk-container-id-3 input.sk-toggleable__control:checked~label.sk-toggleable__label-arrow:before {content: \"▾\";}#sk-container-id-3 div.sk-estimator input.sk-toggleable__control:checked~label.sk-toggleable__label {background-color: #d4ebff;}#sk-container-id-3 div.sk-label input.sk-toggleable__control:checked~label.sk-toggleable__label {background-color: #d4ebff;}#sk-container-id-3 input.sk-hidden--visually {border: 0;clip: rect(1px 1px 1px 1px);clip: rect(1px, 1px, 1px, 1px);height: 1px;margin: -1px;overflow: hidden;padding: 0;position: absolute;width: 1px;}#sk-container-id-3 div.sk-estimator {font-family: monospace;background-color: #f0f8ff;border: 1px dotted black;border-radius: 0.25em;box-sizing: border-box;margin-bottom: 0.5em;}#sk-container-id-3 div.sk-estimator:hover {background-color: #d4ebff;}#sk-container-id-3 div.sk-parallel-item::after {content: \"\";width: 100%;border-bottom: 1px solid gray;flex-grow: 1;}#sk-container-id-3 div.sk-label:hover label.sk-toggleable__label {background-color: #d4ebff;}#sk-container-id-3 div.sk-serial::before {content: \"\";position: absolute;border-left: 1px solid gray;box-sizing: border-box;top: 0;bottom: 0;left: 50%;z-index: 0;}#sk-container-id-3 div.sk-serial {display: flex;flex-direction: column;align-items: center;background-color: white;padding-right: 0.2em;padding-left: 0.2em;position: relative;}#sk-container-id-3 div.sk-item {position: relative;z-index: 1;}#sk-container-id-3 div.sk-parallel {display: flex;align-items: stretch;justify-content: center;background-color: white;position: relative;}#sk-container-id-3 div.sk-item::before, #sk-container-id-3 div.sk-parallel-item::before {content: \"\";position: absolute;border-left: 1px solid gray;box-sizing: border-box;top: 0;bottom: 0;left: 50%;z-index: -1;}#sk-container-id-3 div.sk-parallel-item {display: flex;flex-direction: column;z-index: 1;position: relative;background-color: white;}#sk-container-id-3 div.sk-parallel-item:first-child::after {align-self: flex-end;width: 50%;}#sk-container-id-3 div.sk-parallel-item:last-child::after {align-self: flex-start;width: 50%;}#sk-container-id-3 div.sk-parallel-item:only-child::after {width: 0;}#sk-container-id-3 div.sk-dashed-wrapped {border: 1px dashed gray;margin: 0 0.4em 0.5em 0.4em;box-sizing: border-box;padding-bottom: 0.4em;background-color: white;}#sk-container-id-3 div.sk-label label {font-family: monospace;font-weight: bold;display: inline-block;line-height: 1.2em;}#sk-container-id-3 div.sk-label-container {text-align: center;}#sk-container-id-3 div.sk-container {/* jupyter's `normalize.less` sets `[hidden] { display: none; }` but bootstrap.min.css set `[hidden] { display: none !important; }` so we also need the `!important` here to be able to override the default hidden behavior on the sphinx rendered scikit-learn.org. See: https://github.com/scikit-learn/scikit-learn/issues/21755 */display: inline-block !important;position: relative;}#sk-container-id-3 div.sk-text-repr-fallback {display: none;}</style><div id=\"sk-container-id-3\" class=\"sk-top-container\"><div class=\"sk-text-repr-fallback\"><pre>ColumnTransformer(transformers=[(&#x27;scale&#x27;, StandardScaler(),\n",
       "                                 &lt;sklearn.compose._column_transformer.make_column_selector object at 0x7f71c8d1b1d0&gt;),\n",
       "                                (&#x27;onehot&#x27;, OneHotEncoder(),\n",
       "                                 &lt;sklearn.compose._column_transformer.make_column_selector object at 0x7f71c620fd90&gt;)])</pre><b>In a Jupyter environment, please rerun this cell to show the HTML representation or trust the notebook. <br />On GitHub, the HTML representation is unable to render, please try loading this page with nbviewer.org.</b></div><div class=\"sk-container\" hidden><div class=\"sk-item sk-dashed-wrapped\"><div class=\"sk-label-container\"><div class=\"sk-label sk-toggleable\"><input class=\"sk-toggleable__control sk-hidden--visually\" id=\"sk-estimator-id-3\" type=\"checkbox\" ><label for=\"sk-estimator-id-3\" class=\"sk-toggleable__label sk-toggleable__label-arrow\">ColumnTransformer</label><div class=\"sk-toggleable__content\"><pre>ColumnTransformer(transformers=[(&#x27;scale&#x27;, StandardScaler(),\n",
       "                                 &lt;sklearn.compose._column_transformer.make_column_selector object at 0x7f71c8d1b1d0&gt;),\n",
       "                                (&#x27;onehot&#x27;, OneHotEncoder(),\n",
       "                                 &lt;sklearn.compose._column_transformer.make_column_selector object at 0x7f71c620fd90&gt;)])</pre></div></div></div><div class=\"sk-parallel\"><div class=\"sk-parallel-item\"><div class=\"sk-item\"><div class=\"sk-label-container\"><div class=\"sk-label sk-toggleable\"><input class=\"sk-toggleable__control sk-hidden--visually\" id=\"sk-estimator-id-4\" type=\"checkbox\" ><label for=\"sk-estimator-id-4\" class=\"sk-toggleable__label sk-toggleable__label-arrow\">scale</label><div class=\"sk-toggleable__content\"><pre>&lt;sklearn.compose._column_transformer.make_column_selector object at 0x7f71c8d1b1d0&gt;</pre></div></div></div><div class=\"sk-serial\"><div class=\"sk-item\"><div class=\"sk-estimator sk-toggleable\"><input class=\"sk-toggleable__control sk-hidden--visually\" id=\"sk-estimator-id-5\" type=\"checkbox\" ><label for=\"sk-estimator-id-5\" class=\"sk-toggleable__label sk-toggleable__label-arrow\">StandardScaler</label><div class=\"sk-toggleable__content\"><pre>StandardScaler()</pre></div></div></div></div></div></div><div class=\"sk-parallel-item\"><div class=\"sk-item\"><div class=\"sk-label-container\"><div class=\"sk-label sk-toggleable\"><input class=\"sk-toggleable__control sk-hidden--visually\" id=\"sk-estimator-id-6\" type=\"checkbox\" ><label for=\"sk-estimator-id-6\" class=\"sk-toggleable__label sk-toggleable__label-arrow\">onehot</label><div class=\"sk-toggleable__content\"><pre>&lt;sklearn.compose._column_transformer.make_column_selector object at 0x7f71c620fd90&gt;</pre></div></div></div><div class=\"sk-serial\"><div class=\"sk-item\"><div class=\"sk-estimator sk-toggleable\"><input class=\"sk-toggleable__control sk-hidden--visually\" id=\"sk-estimator-id-7\" type=\"checkbox\" ><label for=\"sk-estimator-id-7\" class=\"sk-toggleable__label sk-toggleable__label-arrow\">OneHotEncoder</label><div class=\"sk-toggleable__content\"><pre>OneHotEncoder()</pre></div></div></div></div></div></div></div></div></div></div>"
      ],
      "text/plain": [
       "ColumnTransformer(transformers=[('scale', StandardScaler(),\n",
       "                                 <sklearn.compose._column_transformer.make_column_selector object at 0x7f71c8d1b1d0>),\n",
       "                                ('onehot', OneHotEncoder(),\n",
       "                                 <sklearn.compose._column_transformer.make_column_selector object at 0x7f71c620fd90>)])"
      ]
     },
     "execution_count": 45,
     "metadata": {},
     "output_type": "execute_result"
    }
   ],
   "source": [
    "ct.fit(X_train)"
   ]
  },
  {
   "cell_type": "code",
   "execution_count": 46,
   "metadata": {
    "tags": []
   },
   "outputs": [],
   "source": [
    "X_ttrain = ct.transform(X_train)\n",
    "X_ttest = ct.transform(X_test)"
   ]
  },
  {
   "cell_type": "code",
   "execution_count": 47,
   "metadata": {
    "tags": []
   },
   "outputs": [
    {
     "data": {
      "text/html": [
       "<div>\n",
       "<style scoped>\n",
       "    .dataframe tbody tr th:only-of-type {\n",
       "        vertical-align: middle;\n",
       "    }\n",
       "\n",
       "    .dataframe tbody tr th {\n",
       "        vertical-align: top;\n",
       "    }\n",
       "\n",
       "    .dataframe thead th {\n",
       "        text-align: right;\n",
       "    }\n",
       "</style>\n",
       "<table border=\"1\" class=\"dataframe\">\n",
       "  <thead>\n",
       "    <tr style=\"text-align: right;\">\n",
       "      <th></th>\n",
       "      <th>loan_amnt</th>\n",
       "      <th>int_rate</th>\n",
       "      <th>installment</th>\n",
       "      <th>total_pymnt</th>\n",
       "      <th>total_pymnt_inv</th>\n",
       "      <th>total_rec_prncp</th>\n",
       "      <th>issue_yr</th>\n",
       "    </tr>\n",
       "  </thead>\n",
       "  <tbody>\n",
       "    <tr>\n",
       "      <th>7810</th>\n",
       "      <td>3600</td>\n",
       "      <td>7.49</td>\n",
       "      <td>111.97</td>\n",
       "      <td>3948.400000</td>\n",
       "      <td>3920.99</td>\n",
       "      <td>3600.00</td>\n",
       "      <td>2011</td>\n",
       "    </tr>\n",
       "    <tr>\n",
       "      <th>19404</th>\n",
       "      <td>12000</td>\n",
       "      <td>10.74</td>\n",
       "      <td>391.39</td>\n",
       "      <td>13113.380000</td>\n",
       "      <td>13058.73</td>\n",
       "      <td>12000.00</td>\n",
       "      <td>2011</td>\n",
       "    </tr>\n",
       "    <tr>\n",
       "      <th>10432</th>\n",
       "      <td>12000</td>\n",
       "      <td>8.49</td>\n",
       "      <td>246.15</td>\n",
       "      <td>14592.554033</td>\n",
       "      <td>14288.49</td>\n",
       "      <td>12000.00</td>\n",
       "      <td>2011</td>\n",
       "    </tr>\n",
       "    <tr>\n",
       "      <th>8207</th>\n",
       "      <td>14000</td>\n",
       "      <td>12.99</td>\n",
       "      <td>318.48</td>\n",
       "      <td>17072.850000</td>\n",
       "      <td>17072.85</td>\n",
       "      <td>14000.01</td>\n",
       "      <td>2011</td>\n",
       "    </tr>\n",
       "    <tr>\n",
       "      <th>19315</th>\n",
       "      <td>6000</td>\n",
       "      <td>13.80</td>\n",
       "      <td>204.49</td>\n",
       "      <td>7358.823689</td>\n",
       "      <td>7358.82</td>\n",
       "      <td>6000.00</td>\n",
       "      <td>2011</td>\n",
       "    </tr>\n",
       "    <tr>\n",
       "      <th>17638</th>\n",
       "      <td>6000</td>\n",
       "      <td>7.29</td>\n",
       "      <td>119.63</td>\n",
       "      <td>6271.140000</td>\n",
       "      <td>6271.14</td>\n",
       "      <td>6000.00</td>\n",
       "      <td>2011</td>\n",
       "    </tr>\n",
       "    <tr>\n",
       "      <th>31091</th>\n",
       "      <td>10000</td>\n",
       "      <td>11.36</td>\n",
       "      <td>329.12</td>\n",
       "      <td>10915.470000</td>\n",
       "      <td>10779.03</td>\n",
       "      <td>10000.00</td>\n",
       "      <td>2010</td>\n",
       "    </tr>\n",
       "    <tr>\n",
       "      <th>23044</th>\n",
       "      <td>5000</td>\n",
       "      <td>13.35</td>\n",
       "      <td>169.32</td>\n",
       "      <td>5761.420000</td>\n",
       "      <td>5703.79</td>\n",
       "      <td>5000.00</td>\n",
       "      <td>2010</td>\n",
       "    </tr>\n",
       "    <tr>\n",
       "      <th>34940</th>\n",
       "      <td>12000</td>\n",
       "      <td>11.83</td>\n",
       "      <td>397.61</td>\n",
       "      <td>13511.480000</td>\n",
       "      <td>13398.74</td>\n",
       "      <td>10702.68</td>\n",
       "      <td>2009</td>\n",
       "    </tr>\n",
       "    <tr>\n",
       "      <th>36872</th>\n",
       "      <td>12000</td>\n",
       "      <td>13.47</td>\n",
       "      <td>165.38</td>\n",
       "      <td>5743.950000</td>\n",
       "      <td>1516.80</td>\n",
       "      <td>4875.00</td>\n",
       "      <td>2009</td>\n",
       "    </tr>\n",
       "  </tbody>\n",
       "</table>\n",
       "</div>"
      ],
      "text/plain": [
       "       loan_amnt  int_rate  installment   total_pymnt  total_pymnt_inv  \\\n",
       "7810        3600      7.49       111.97   3948.400000          3920.99   \n",
       "19404      12000     10.74       391.39  13113.380000         13058.73   \n",
       "10432      12000      8.49       246.15  14592.554033         14288.49   \n",
       "8207       14000     12.99       318.48  17072.850000         17072.85   \n",
       "19315       6000     13.80       204.49   7358.823689          7358.82   \n",
       "17638       6000      7.29       119.63   6271.140000          6271.14   \n",
       "31091      10000     11.36       329.12  10915.470000         10779.03   \n",
       "23044       5000     13.35       169.32   5761.420000          5703.79   \n",
       "34940      12000     11.83       397.61  13511.480000         13398.74   \n",
       "36872      12000     13.47       165.38   5743.950000          1516.80   \n",
       "\n",
       "       total_rec_prncp  issue_yr  \n",
       "7810           3600.00      2011  \n",
       "19404         12000.00      2011  \n",
       "10432         12000.00      2011  \n",
       "8207          14000.01      2011  \n",
       "19315          6000.00      2011  \n",
       "17638          6000.00      2011  \n",
       "31091         10000.00      2010  \n",
       "23044          5000.00      2010  \n",
       "34940         10702.68      2009  \n",
       "36872          4875.00      2009  "
      ]
     },
     "execution_count": 47,
     "metadata": {},
     "output_type": "execute_result"
    }
   ],
   "source": [
    "X_train.iloc[:10, :7]"
   ]
  },
  {
   "cell_type": "code",
   "execution_count": 48,
   "metadata": {
    "tags": []
   },
   "outputs": [
    {
     "data": {
      "text/plain": [
       "array([[-1.02091, -1.2695 , -1.0178 , -0.90922, -0.83888, -0.87113,\n",
       "         0.80281],\n",
       "       [ 0.10636, -0.39084,  0.31161,  0.12204,  0.19729,  0.33504,\n",
       "         0.80281],\n",
       "       [ 0.10636, -0.99915, -0.3794 ,  0.28848,  0.33674,  0.33504,\n",
       "         0.80281],\n",
       "       [ 0.37476,  0.21746, -0.03528,  0.56757,  0.65247,  0.62222,\n",
       "         0.80281],\n",
       "       [-0.69883,  0.43645, -0.57761, -0.52547, -0.44905, -0.52651,\n",
       "         0.80281],\n",
       "       [-0.69883, -1.32357, -0.98135, -0.64786, -0.57239, -0.52651,\n",
       "         0.80281],\n",
       "       [-0.16203, -0.22322,  0.01534, -0.12527, -0.06122,  0.04786,\n",
       "        -0.24716],\n",
       "       [-0.83303,  0.31479, -0.74494, -0.70522, -0.63672, -0.6701 ,\n",
       "        -0.24716],\n",
       "       [ 0.10636, -0.09616,  0.3412 ,  0.16684,  0.23584,  0.14876,\n",
       "        -1.29713],\n",
       "       [ 0.10636,  0.34723, -0.76369, -0.70718, -1.1115 , -0.68805,\n",
       "        -1.29713]])"
      ]
     },
     "execution_count": 48,
     "metadata": {},
     "output_type": "execute_result"
    }
   ],
   "source": [
    "X_ttrain[:10, :7].toarray().round(5)"
   ]
  },
  {
   "cell_type": "code",
   "execution_count": 49,
   "metadata": {
    "tags": []
   },
   "outputs": [
    {
     "data": {
      "text/html": [
       "<div>\n",
       "<style scoped>\n",
       "    .dataframe tbody tr th:only-of-type {\n",
       "        vertical-align: middle;\n",
       "    }\n",
       "\n",
       "    .dataframe tbody tr th {\n",
       "        vertical-align: top;\n",
       "    }\n",
       "\n",
       "    .dataframe thead th {\n",
       "        text-align: right;\n",
       "    }\n",
       "</style>\n",
       "<table border=\"1\" class=\"dataframe\">\n",
       "  <thead>\n",
       "    <tr style=\"text-align: right;\">\n",
       "      <th></th>\n",
       "      <th>term</th>\n",
       "      <th>grade</th>\n",
       "    </tr>\n",
       "  </thead>\n",
       "  <tbody>\n",
       "    <tr>\n",
       "      <th>7810</th>\n",
       "      <td>36 months</td>\n",
       "      <td>A</td>\n",
       "    </tr>\n",
       "    <tr>\n",
       "      <th>19404</th>\n",
       "      <td>36 months</td>\n",
       "      <td>B</td>\n",
       "    </tr>\n",
       "    <tr>\n",
       "      <th>10432</th>\n",
       "      <td>60 months</td>\n",
       "      <td>A</td>\n",
       "    </tr>\n",
       "    <tr>\n",
       "      <th>8207</th>\n",
       "      <td>60 months</td>\n",
       "      <td>C</td>\n",
       "    </tr>\n",
       "    <tr>\n",
       "      <th>19315</th>\n",
       "      <td>36 months</td>\n",
       "      <td>C</td>\n",
       "    </tr>\n",
       "    <tr>\n",
       "      <th>17638</th>\n",
       "      <td>60 months</td>\n",
       "      <td>A</td>\n",
       "    </tr>\n",
       "    <tr>\n",
       "      <th>31091</th>\n",
       "      <td>36 months</td>\n",
       "      <td>B</td>\n",
       "    </tr>\n",
       "    <tr>\n",
       "      <th>23044</th>\n",
       "      <td>36 months</td>\n",
       "      <td>C</td>\n",
       "    </tr>\n",
       "    <tr>\n",
       "      <th>34940</th>\n",
       "      <td>36 months</td>\n",
       "      <td>B</td>\n",
       "    </tr>\n",
       "    <tr>\n",
       "      <th>36872</th>\n",
       "      <td>36 months</td>\n",
       "      <td>C</td>\n",
       "    </tr>\n",
       "  </tbody>\n",
       "</table>\n",
       "</div>"
      ],
      "text/plain": [
       "             term grade\n",
       "7810    36 months     A\n",
       "19404   36 months     B\n",
       "10432   60 months     A\n",
       "8207    60 months     C\n",
       "19315   36 months     C\n",
       "17638   60 months     A\n",
       "31091   36 months     B\n",
       "23044   36 months     C\n",
       "34940   36 months     B\n",
       "36872   36 months     C"
      ]
     },
     "execution_count": 49,
     "metadata": {},
     "output_type": "execute_result"
    }
   ],
   "source": [
    "X_train.iloc[:10, 7:9]"
   ]
  },
  {
   "cell_type": "code",
   "execution_count": 50,
   "metadata": {
    "tags": []
   },
   "outputs": [
    {
     "data": {
      "text/plain": [
       "array([[1., 0., 1., 0., 0.],\n",
       "       [1., 0., 0., 1., 0.],\n",
       "       [0., 1., 1., 0., 0.],\n",
       "       [0., 1., 0., 0., 1.],\n",
       "       [1., 0., 0., 0., 1.],\n",
       "       [0., 1., 1., 0., 0.],\n",
       "       [1., 0., 0., 1., 0.],\n",
       "       [1., 0., 0., 0., 1.],\n",
       "       [1., 0., 0., 1., 0.],\n",
       "       [1., 0., 0., 0., 1.]])"
      ]
     },
     "execution_count": 50,
     "metadata": {},
     "output_type": "execute_result"
    }
   ],
   "source": [
    "X_ttrain[:10, 7:12].toarray()"
   ]
  },
  {
   "cell_type": "markdown",
   "metadata": {},
   "source": [
    "<a id='knn'></a>\n",
    "## k-Nearest Neighbours\n",
    "\n",
    "k-Nearest Neighbours (KNN) is a simple model that tries to classify a set of data points into groups.\n",
    "\n",
    "* The *k* in KNN refers to the number of nearest data points the algorithm should include before classifying them into a group (i.e. number of neighbours).\n",
    "    * This a parameter you get to set when using `KNeighborsClassifiers()`\n",
    "* We start with a single data point in the picture. Each time a new data point is added, its *k* closest neighbours (data points) are identified.\n",
    "* Note that the definition of 'nearest' is subjective; we can choose the metric appropriate for the situation.\n",
    "* Since its neighbours have already been classified into different groups, the new data point will be added to the group which the majority of the neighbours are in.\n"
   ]
  },
  {
   "cell_type": "markdown",
   "metadata": {},
   "source": [
    "If we added a new data point *c* with *k = 3*, it is grouped into *b*, since two out of three points in the neighbourhood belong to *b*.\n",
    "\n",
    "<img src=\"../figs/05_knn.png\" style=\"width: 500px;\"/>\n"
   ]
  },
  {
   "cell_type": "code",
   "execution_count": 51,
   "metadata": {
    "tags": []
   },
   "outputs": [],
   "source": [
    "nn10 = neighbors.KNeighborsClassifier(n_neighbors=10, n_jobs=8)"
   ]
  },
  {
   "cell_type": "code",
   "execution_count": 52,
   "metadata": {
    "tags": []
   },
   "outputs": [
    {
     "data": {
      "text/html": [
       "<style>#sk-container-id-4 {color: black;background-color: white;}#sk-container-id-4 pre{padding: 0;}#sk-container-id-4 div.sk-toggleable {background-color: white;}#sk-container-id-4 label.sk-toggleable__label {cursor: pointer;display: block;width: 100%;margin-bottom: 0;padding: 0.3em;box-sizing: border-box;text-align: center;}#sk-container-id-4 label.sk-toggleable__label-arrow:before {content: \"▸\";float: left;margin-right: 0.25em;color: #696969;}#sk-container-id-4 label.sk-toggleable__label-arrow:hover:before {color: black;}#sk-container-id-4 div.sk-estimator:hover label.sk-toggleable__label-arrow:before {color: black;}#sk-container-id-4 div.sk-toggleable__content {max-height: 0;max-width: 0;overflow: hidden;text-align: left;background-color: #f0f8ff;}#sk-container-id-4 div.sk-toggleable__content pre {margin: 0.2em;color: black;border-radius: 0.25em;background-color: #f0f8ff;}#sk-container-id-4 input.sk-toggleable__control:checked~div.sk-toggleable__content {max-height: 200px;max-width: 100%;overflow: auto;}#sk-container-id-4 input.sk-toggleable__control:checked~label.sk-toggleable__label-arrow:before {content: \"▾\";}#sk-container-id-4 div.sk-estimator input.sk-toggleable__control:checked~label.sk-toggleable__label {background-color: #d4ebff;}#sk-container-id-4 div.sk-label input.sk-toggleable__control:checked~label.sk-toggleable__label {background-color: #d4ebff;}#sk-container-id-4 input.sk-hidden--visually {border: 0;clip: rect(1px 1px 1px 1px);clip: rect(1px, 1px, 1px, 1px);height: 1px;margin: -1px;overflow: hidden;padding: 0;position: absolute;width: 1px;}#sk-container-id-4 div.sk-estimator {font-family: monospace;background-color: #f0f8ff;border: 1px dotted black;border-radius: 0.25em;box-sizing: border-box;margin-bottom: 0.5em;}#sk-container-id-4 div.sk-estimator:hover {background-color: #d4ebff;}#sk-container-id-4 div.sk-parallel-item::after {content: \"\";width: 100%;border-bottom: 1px solid gray;flex-grow: 1;}#sk-container-id-4 div.sk-label:hover label.sk-toggleable__label {background-color: #d4ebff;}#sk-container-id-4 div.sk-serial::before {content: \"\";position: absolute;border-left: 1px solid gray;box-sizing: border-box;top: 0;bottom: 0;left: 50%;z-index: 0;}#sk-container-id-4 div.sk-serial {display: flex;flex-direction: column;align-items: center;background-color: white;padding-right: 0.2em;padding-left: 0.2em;position: relative;}#sk-container-id-4 div.sk-item {position: relative;z-index: 1;}#sk-container-id-4 div.sk-parallel {display: flex;align-items: stretch;justify-content: center;background-color: white;position: relative;}#sk-container-id-4 div.sk-item::before, #sk-container-id-4 div.sk-parallel-item::before {content: \"\";position: absolute;border-left: 1px solid gray;box-sizing: border-box;top: 0;bottom: 0;left: 50%;z-index: -1;}#sk-container-id-4 div.sk-parallel-item {display: flex;flex-direction: column;z-index: 1;position: relative;background-color: white;}#sk-container-id-4 div.sk-parallel-item:first-child::after {align-self: flex-end;width: 50%;}#sk-container-id-4 div.sk-parallel-item:last-child::after {align-self: flex-start;width: 50%;}#sk-container-id-4 div.sk-parallel-item:only-child::after {width: 0;}#sk-container-id-4 div.sk-dashed-wrapped {border: 1px dashed gray;margin: 0 0.4em 0.5em 0.4em;box-sizing: border-box;padding-bottom: 0.4em;background-color: white;}#sk-container-id-4 div.sk-label label {font-family: monospace;font-weight: bold;display: inline-block;line-height: 1.2em;}#sk-container-id-4 div.sk-label-container {text-align: center;}#sk-container-id-4 div.sk-container {/* jupyter's `normalize.less` sets `[hidden] { display: none; }` but bootstrap.min.css set `[hidden] { display: none !important; }` so we also need the `!important` here to be able to override the default hidden behavior on the sphinx rendered scikit-learn.org. See: https://github.com/scikit-learn/scikit-learn/issues/21755 */display: inline-block !important;position: relative;}#sk-container-id-4 div.sk-text-repr-fallback {display: none;}</style><div id=\"sk-container-id-4\" class=\"sk-top-container\"><div class=\"sk-text-repr-fallback\"><pre>KNeighborsClassifier(n_jobs=8, n_neighbors=10)</pre><b>In a Jupyter environment, please rerun this cell to show the HTML representation or trust the notebook. <br />On GitHub, the HTML representation is unable to render, please try loading this page with nbviewer.org.</b></div><div class=\"sk-container\" hidden><div class=\"sk-item\"><div class=\"sk-estimator sk-toggleable\"><input class=\"sk-toggleable__control sk-hidden--visually\" id=\"sk-estimator-id-8\" type=\"checkbox\" checked><label for=\"sk-estimator-id-8\" class=\"sk-toggleable__label sk-toggleable__label-arrow\">KNeighborsClassifier</label><div class=\"sk-toggleable__content\"><pre>KNeighborsClassifier(n_jobs=8, n_neighbors=10)</pre></div></div></div></div></div>"
      ],
      "text/plain": [
       "KNeighborsClassifier(n_jobs=8, n_neighbors=10)"
      ]
     },
     "execution_count": 52,
     "metadata": {},
     "output_type": "execute_result"
    }
   ],
   "source": [
    "nn10.fit(X_ttrain, y_train,)"
   ]
  },
  {
   "cell_type": "code",
   "execution_count": 53,
   "metadata": {
    "tags": []
   },
   "outputs": [],
   "source": [
    "y_train_pred = nn10.predict(X_ttrain)"
   ]
  },
  {
   "cell_type": "code",
   "execution_count": 54,
   "metadata": {
    "tags": []
   },
   "outputs": [
    {
     "data": {
      "image/png": "[encoded data removed]",
      "text/plain": [
       "<Figure size 640x480 with 2 Axes>"
      ]
     },
     "metadata": {},
     "output_type": "display_data"
    }
   ],
   "source": [
    "ConfusionMatrixDisplay(confusion_matrix(y_train, y_train_pred), display_labels=nn10.classes_).plot();"
   ]
  },
  {
   "cell_type": "code",
   "execution_count": 55,
   "metadata": {
    "tags": []
   },
   "outputs": [
    {
     "name": "stdout",
     "output_type": "stream",
     "text": [
      "              precision    recall  f1-score   support\n",
      "\n",
      "           0       0.89      1.00      0.94     23457\n",
      "           1       0.96      0.45      0.61      5337\n",
      "\n",
      "    accuracy                           0.89     28794\n",
      "   macro avg       0.92      0.72      0.77     28794\n",
      "weighted avg       0.90      0.89      0.88     28794\n",
      "\n"
     ]
    }
   ],
   "source": [
    "print(classification_report(y_train, y_train_pred))"
   ]
  },
  {
   "cell_type": "markdown",
   "metadata": {},
   "source": [
    "See https://scikit-learn.org/stable/modules/model_evaluation.html#multiclass-and-multilabel-classification."
   ]
  },
  {
   "cell_type": "code",
   "execution_count": 56,
   "metadata": {
    "tags": []
   },
   "outputs": [
    {
     "data": {
      "text/plain": [
       "0.814634739273125"
      ]
     },
     "execution_count": 56,
     "metadata": {},
     "output_type": "execute_result"
    }
   ],
   "source": [
    "1 - y.mean()"
   ]
  },
  {
   "cell_type": "code",
   "execution_count": 57,
   "metadata": {
    "tags": []
   },
   "outputs": [
    {
     "name": "stdout",
     "output_type": "stream",
     "text": [
      "              precision    recall  f1-score   support\n",
      "\n",
      "           0       0.81      1.00      0.90     23457\n",
      "           1       0.00      0.00      0.00      5337\n",
      "\n",
      "    accuracy                           0.81     28794\n",
      "   macro avg       0.41      0.50      0.45     28794\n",
      "weighted avg       0.66      0.81      0.73     28794\n",
      "\n"
     ]
    },
    {
     "name": "stderr",
     "output_type": "stream",
     "text": [
      "/home/zhiming/miniconda3/envs/nus_i4_gen/lib/python3.11/site-packages/sklearn/metrics/_classification.py:1344: UndefinedMetricWarning: Precision and F-score are ill-defined and being set to 0.0 in labels with no predicted samples. Use `zero_division` parameter to control this behavior.\n",
      "  _warn_prf(average, modifier, msg_start, len(result))\n",
      "/home/zhiming/miniconda3/envs/nus_i4_gen/lib/python3.11/site-packages/sklearn/metrics/_classification.py:1344: UndefinedMetricWarning: Precision and F-score are ill-defined and being set to 0.0 in labels with no predicted samples. Use `zero_division` parameter to control this behavior.\n",
      "  _warn_prf(average, modifier, msg_start, len(result))\n",
      "/home/zhiming/miniconda3/envs/nus_i4_gen/lib/python3.11/site-packages/sklearn/metrics/_classification.py:1344: UndefinedMetricWarning: Precision and F-score are ill-defined and being set to 0.0 in labels with no predicted samples. Use `zero_division` parameter to control this behavior.\n",
      "  _warn_prf(average, modifier, msg_start, len(result))\n"
     ]
    }
   ],
   "source": [
    "y_blind = np.zeros_like(y_train)\n",
    "print(classification_report(y_train, y_blind))"
   ]
  },
  {
   "cell_type": "markdown",
   "metadata": {},
   "source": [
    "<a id='hyper'></a>\n",
    "## Grid Search for Hyperparameters"
   ]
  },
  {
   "cell_type": "code",
   "execution_count": 58,
   "metadata": {},
   "outputs": [],
   "source": [
    "#nn_range= np.arange(10, 1, -1)\n",
    "nn_range = np.arange(50, 5, -4)"
   ]
  },
  {
   "cell_type": "code",
   "execution_count": 59,
   "metadata": {},
   "outputs": [
    {
     "name": "stdout",
     "output_type": "stream",
     "text": [
      "Fitting 5 folds for each of 3 candidates, totalling 15 fits\n",
      "[CV] END .....................................n_neighbors=50; total time=   3.7s\n",
      "[CV] END .....................................n_neighbors=50; total time=   3.6s\n",
      "[CV] END .....................................n_neighbors=50; total time=   3.6s\n",
      "[CV] END .....................................n_neighbors=50; total time=   3.6s\n",
      "[CV] END .....................................n_neighbors=50; total time=   3.6s\n",
      "[CV] END .....................................n_neighbors=46; total time=   3.6s\n",
      "[CV] END .....................................n_neighbors=46; total time=   3.6s\n",
      "[CV] END .....................................n_neighbors=46; total time=   3.6s\n",
      "[CV] END .....................................n_neighbors=46; total time=   3.6s\n",
      "[CV] END .....................................n_neighbors=46; total time=   3.9s\n",
      "[CV] END .....................................n_neighbors=42; total time=   3.6s\n",
      "[CV] END .....................................n_neighbors=42; total time=   3.6s\n",
      "[CV] END .....................................n_neighbors=42; total time=   3.6s\n",
      "[CV] END .....................................n_neighbors=42; total time=   3.6s\n",
      "[CV] END .....................................n_neighbors=42; total time=   3.7s\n"
     ]
    },
    {
     "data": {
      "text/html": [
       "<style>#sk-container-id-5 {color: black;background-color: white;}#sk-container-id-5 pre{padding: 0;}#sk-container-id-5 div.sk-toggleable {background-color: white;}#sk-container-id-5 label.sk-toggleable__label {cursor: pointer;display: block;width: 100%;margin-bottom: 0;padding: 0.3em;box-sizing: border-box;text-align: center;}#sk-container-id-5 label.sk-toggleable__label-arrow:before {content: \"▸\";float: left;margin-right: 0.25em;color: #696969;}#sk-container-id-5 label.sk-toggleable__label-arrow:hover:before {color: black;}#sk-container-id-5 div.sk-estimator:hover label.sk-toggleable__label-arrow:before {color: black;}#sk-container-id-5 div.sk-toggleable__content {max-height: 0;max-width: 0;overflow: hidden;text-align: left;background-color: #f0f8ff;}#sk-container-id-5 div.sk-toggleable__content pre {margin: 0.2em;color: black;border-radius: 0.25em;background-color: #f0f8ff;}#sk-container-id-5 input.sk-toggleable__control:checked~div.sk-toggleable__content {max-height: 200px;max-width: 100%;overflow: auto;}#sk-container-id-5 input.sk-toggleable__control:checked~label.sk-toggleable__label-arrow:before {content: \"▾\";}#sk-container-id-5 div.sk-estimator input.sk-toggleable__control:checked~label.sk-toggleable__label {background-color: #d4ebff;}#sk-container-id-5 div.sk-label input.sk-toggleable__control:checked~label.sk-toggleable__label {background-color: #d4ebff;}#sk-container-id-5 input.sk-hidden--visually {border: 0;clip: rect(1px 1px 1px 1px);clip: rect(1px, 1px, 1px, 1px);height: 1px;margin: -1px;overflow: hidden;padding: 0;position: absolute;width: 1px;}#sk-container-id-5 div.sk-estimator {font-family: monospace;background-color: #f0f8ff;border: 1px dotted black;border-radius: 0.25em;box-sizing: border-box;margin-bottom: 0.5em;}#sk-container-id-5 div.sk-estimator:hover {background-color: #d4ebff;}#sk-container-id-5 div.sk-parallel-item::after {content: \"\";width: 100%;border-bottom: 1px solid gray;flex-grow: 1;}#sk-container-id-5 div.sk-label:hover label.sk-toggleable__label {background-color: #d4ebff;}#sk-container-id-5 div.sk-serial::before {content: \"\";position: absolute;border-left: 1px solid gray;box-sizing: border-box;top: 0;bottom: 0;left: 50%;z-index: 0;}#sk-container-id-5 div.sk-serial {display: flex;flex-direction: column;align-items: center;background-color: white;padding-right: 0.2em;padding-left: 0.2em;position: relative;}#sk-container-id-5 div.sk-item {position: relative;z-index: 1;}#sk-container-id-5 div.sk-parallel {display: flex;align-items: stretch;justify-content: center;background-color: white;position: relative;}#sk-container-id-5 div.sk-item::before, #sk-container-id-5 div.sk-parallel-item::before {content: \"\";position: absolute;border-left: 1px solid gray;box-sizing: border-box;top: 0;bottom: 0;left: 50%;z-index: -1;}#sk-container-id-5 div.sk-parallel-item {display: flex;flex-direction: column;z-index: 1;position: relative;background-color: white;}#sk-container-id-5 div.sk-parallel-item:first-child::after {align-self: flex-end;width: 50%;}#sk-container-id-5 div.sk-parallel-item:last-child::after {align-self: flex-start;width: 50%;}#sk-container-id-5 div.sk-parallel-item:only-child::after {width: 0;}#sk-container-id-5 div.sk-dashed-wrapped {border: 1px dashed gray;margin: 0 0.4em 0.5em 0.4em;box-sizing: border-box;padding-bottom: 0.4em;background-color: white;}#sk-container-id-5 div.sk-label label {font-family: monospace;font-weight: bold;display: inline-block;line-height: 1.2em;}#sk-container-id-5 div.sk-label-container {text-align: center;}#sk-container-id-5 div.sk-container {/* jupyter's `normalize.less` sets `[hidden] { display: none; }` but bootstrap.min.css set `[hidden] { display: none !important; }` so we also need the `!important` here to be able to override the default hidden behavior on the sphinx rendered scikit-learn.org. See: https://github.com/scikit-learn/scikit-learn/issues/21755 */display: inline-block !important;position: relative;}#sk-container-id-5 div.sk-text-repr-fallback {display: none;}</style><div id=\"sk-container-id-5\" class=\"sk-top-container\"><div class=\"sk-text-repr-fallback\"><pre>GridSearchCV(cv=5, estimator=KNeighborsClassifier(),\n",
       "             param_grid={&#x27;n_neighbors&#x27;: array([50, 46, 42])}, scoring=&#x27;f1&#x27;,\n",
       "             verbose=2)</pre><b>In a Jupyter environment, please rerun this cell to show the HTML representation or trust the notebook. <br />On GitHub, the HTML representation is unable to render, please try loading this page with nbviewer.org.</b></div><div class=\"sk-container\" hidden><div class=\"sk-item sk-dashed-wrapped\"><div class=\"sk-label-container\"><div class=\"sk-label sk-toggleable\"><input class=\"sk-toggleable__control sk-hidden--visually\" id=\"sk-estimator-id-9\" type=\"checkbox\" ><label for=\"sk-estimator-id-9\" class=\"sk-toggleable__label sk-toggleable__label-arrow\">GridSearchCV</label><div class=\"sk-toggleable__content\"><pre>GridSearchCV(cv=5, estimator=KNeighborsClassifier(),\n",
       "             param_grid={&#x27;n_neighbors&#x27;: array([50, 46, 42])}, scoring=&#x27;f1&#x27;,\n",
       "             verbose=2)</pre></div></div></div><div class=\"sk-parallel\"><div class=\"sk-parallel-item\"><div class=\"sk-item\"><div class=\"sk-label-container\"><div class=\"sk-label sk-toggleable\"><input class=\"sk-toggleable__control sk-hidden--visually\" id=\"sk-estimator-id-10\" type=\"checkbox\" ><label for=\"sk-estimator-id-10\" class=\"sk-toggleable__label sk-toggleable__label-arrow\">estimator: KNeighborsClassifier</label><div class=\"sk-toggleable__content\"><pre>KNeighborsClassifier()</pre></div></div></div><div class=\"sk-serial\"><div class=\"sk-item\"><div class=\"sk-estimator sk-toggleable\"><input class=\"sk-toggleable__control sk-hidden--visually\" id=\"sk-estimator-id-11\" type=\"checkbox\" ><label for=\"sk-estimator-id-11\" class=\"sk-toggleable__label sk-toggleable__label-arrow\">KNeighborsClassifier</label><div class=\"sk-toggleable__content\"><pre>KNeighborsClassifier()</pre></div></div></div></div></div></div></div></div></div></div>"
      ],
      "text/plain": [
       "GridSearchCV(cv=5, estimator=KNeighborsClassifier(),\n",
       "             param_grid={'n_neighbors': array([50, 46, 42])}, scoring='f1',\n",
       "             verbose=2)"
      ]
     },
     "execution_count": 59,
     "metadata": {},
     "output_type": "execute_result"
    }
   ],
   "source": [
    "from sklearn.model_selection import GridSearchCV\n",
    "\n",
    "test1 = GridSearchCV(neighbors.KNeighborsClassifier(), {'n_neighbors':nn_range[:3]}, \n",
    "                     scoring='f1', cv=5, verbose=2)\n",
    "\n",
    "test1.fit(X_ttrain, y_train)"
   ]
  },
  {
   "cell_type": "code",
   "execution_count": 60,
   "metadata": {},
   "outputs": [
    {
     "data": {
      "text/plain": [
       "{'mean_fit_time': array([0.00262547, 0.00251594, 0.00254173]),\n",
       " 'std_fit_time': array([0.00013585, 0.00010372, 0.00016528]),\n",
       " 'mean_score_time': array([3.60505505, 3.64186149, 3.6097959 ]),\n",
       " 'std_score_time': array([0.03458019, 0.12153335, 0.04278131]),\n",
       " 'param_n_neighbors': masked_array(data=[50, 46, 42],\n",
       "              mask=[False, False, False],\n",
       "        fill_value='?',\n",
       "             dtype=object),\n",
       " 'params': [{'n_neighbors': 50}, {'n_neighbors': 46}, {'n_neighbors': 42}],\n",
       " 'split0_test_score': array([0.5502008 , 0.54946524, 0.54849498]),\n",
       " 'split1_test_score': array([0.54225828, 0.54741089, 0.54875588]),\n",
       " 'split2_test_score': array([0.52897069, 0.53125   , 0.53648649]),\n",
       " 'split3_test_score': array([0.54870775, 0.54533422, 0.5464191 ]),\n",
       " 'split4_test_score': array([0.53243243, 0.53306343, 0.53494624]),\n",
       " 'mean_test_score': array([0.54051399, 0.54130476, 0.54302054]),\n",
       " 'std_test_score': array([0.00851556, 0.00760437, 0.00603825]),\n",
       " 'rank_test_score': array([3, 2, 1], dtype=int32)}"
      ]
     },
     "execution_count": 60,
     "metadata": {},
     "output_type": "execute_result"
    }
   ],
   "source": [
    "test1.cv_results_"
   ]
  },
  {
   "cell_type": "code",
   "execution_count": 61,
   "metadata": {
    "tags": []
   },
   "outputs": [
    {
     "name": "stderr",
     "output_type": "stream",
     "text": [
      "[Parallel(n_jobs=8)]: Using backend LokyBackend with 8 concurrent workers.\n",
      "[Parallel(n_jobs=8)]: Done  30 out of  60 | elapsed:  8.4min remaining:  8.4min\n",
      "[Parallel(n_jobs=8)]: Done  60 out of  60 | elapsed: 15.9min finished\n"
     ]
    }
   ],
   "source": [
    "train_scores, cv_scores = validation_curve(neighbors.KNeighborsClassifier(), X_ttrain, y_train, \n",
    "                                           param_name='n_neighbors', cv=5, n_jobs=8,\n",
    "                                           param_range=nn_range, scoring='f1', verbose=2)"
   ]
  },
  {
   "cell_type": "code",
   "execution_count": 62,
   "metadata": {},
   "outputs": [
    {
     "data": {
      "image/png": "[encoded data removed]",
      "text/plain": [
       "<Figure size 640x480 with 1 Axes>"
      ]
     },
     "metadata": {},
     "output_type": "display_data"
    }
   ],
   "source": [
    "train_means = np.mean(train_scores, axis=1)\n",
    "train_sd = np.std(train_scores, axis=1)\n",
    "\n",
    "cv_means = np.mean(cv_scores, axis=1)\n",
    "cv_sd = np.std(cv_scores, axis=1)\n",
    "\n",
    "plt.plot(1/nn_range, train_means, 'o-', label='Training', color='blue')\n",
    "plt.fill_between(1/nn_range, train_means-train_sd, train_means+train_sd, color='blue', alpha=0.2)\n",
    "\n",
    "plt.plot(1/nn_range, cv_means, 'o-', label='CV (Test)', color='red')\n",
    "plt.fill_between(1/nn_range, cv_means-cv_sd, cv_means+cv_sd, color='red', alpha=0.2)\n",
    "\n",
    "plt.legend(loc='lower right');plt.ylabel('F1-score');plt.xlabel('Complexity');plt.title('Validation Curve');"
   ]
  },
  {
   "cell_type": "code",
   "execution_count": 63,
   "metadata": {},
   "outputs": [
    {
     "data": {
      "text/plain": [
       "(28794, 105)"
      ]
     },
     "execution_count": 63,
     "metadata": {},
     "output_type": "execute_result"
    }
   ],
   "source": [
    "X_ttrain.shape"
   ]
  },
  {
   "cell_type": "markdown",
   "metadata": {},
   "source": [
    "## ROC Curves and Precision-Recall Curves"
   ]
  },
  {
   "cell_type": "markdown",
   "metadata": {},
   "source": [
    "Precision recall curve: choose how many neighbours in this case.  "
   ]
  },
  {
   "cell_type": "code",
   "execution_count": 64,
   "metadata": {},
   "outputs": [
    {
     "data": {
      "text/html": [
       "<style>#sk-container-id-6 {color: black;background-color: white;}#sk-container-id-6 pre{padding: 0;}#sk-container-id-6 div.sk-toggleable {background-color: white;}#sk-container-id-6 label.sk-toggleable__label {cursor: pointer;display: block;width: 100%;margin-bottom: 0;padding: 0.3em;box-sizing: border-box;text-align: center;}#sk-container-id-6 label.sk-toggleable__label-arrow:before {content: \"▸\";float: left;margin-right: 0.25em;color: #696969;}#sk-container-id-6 label.sk-toggleable__label-arrow:hover:before {color: black;}#sk-container-id-6 div.sk-estimator:hover label.sk-toggleable__label-arrow:before {color: black;}#sk-container-id-6 div.sk-toggleable__content {max-height: 0;max-width: 0;overflow: hidden;text-align: left;background-color: #f0f8ff;}#sk-container-id-6 div.sk-toggleable__content pre {margin: 0.2em;color: black;border-radius: 0.25em;background-color: #f0f8ff;}#sk-container-id-6 input.sk-toggleable__control:checked~div.sk-toggleable__content {max-height: 200px;max-width: 100%;overflow: auto;}#sk-container-id-6 input.sk-toggleable__control:checked~label.sk-toggleable__label-arrow:before {content: \"▾\";}#sk-container-id-6 div.sk-estimator input.sk-toggleable__control:checked~label.sk-toggleable__label {background-color: #d4ebff;}#sk-container-id-6 div.sk-label input.sk-toggleable__control:checked~label.sk-toggleable__label {background-color: #d4ebff;}#sk-container-id-6 input.sk-hidden--visually {border: 0;clip: rect(1px 1px 1px 1px);clip: rect(1px, 1px, 1px, 1px);height: 1px;margin: -1px;overflow: hidden;padding: 0;position: absolute;width: 1px;}#sk-container-id-6 div.sk-estimator {font-family: monospace;background-color: #f0f8ff;border: 1px dotted black;border-radius: 0.25em;box-sizing: border-box;margin-bottom: 0.5em;}#sk-container-id-6 div.sk-estimator:hover {background-color: #d4ebff;}#sk-container-id-6 div.sk-parallel-item::after {content: \"\";width: 100%;border-bottom: 1px solid gray;flex-grow: 1;}#sk-container-id-6 div.sk-label:hover label.sk-toggleable__label {background-color: #d4ebff;}#sk-container-id-6 div.sk-serial::before {content: \"\";position: absolute;border-left: 1px solid gray;box-sizing: border-box;top: 0;bottom: 0;left: 50%;z-index: 0;}#sk-container-id-6 div.sk-serial {display: flex;flex-direction: column;align-items: center;background-color: white;padding-right: 0.2em;padding-left: 0.2em;position: relative;}#sk-container-id-6 div.sk-item {position: relative;z-index: 1;}#sk-container-id-6 div.sk-parallel {display: flex;align-items: stretch;justify-content: center;background-color: white;position: relative;}#sk-container-id-6 div.sk-item::before, #sk-container-id-6 div.sk-parallel-item::before {content: \"\";position: absolute;border-left: 1px solid gray;box-sizing: border-box;top: 0;bottom: 0;left: 50%;z-index: -1;}#sk-container-id-6 div.sk-parallel-item {display: flex;flex-direction: column;z-index: 1;position: relative;background-color: white;}#sk-container-id-6 div.sk-parallel-item:first-child::after {align-self: flex-end;width: 50%;}#sk-container-id-6 div.sk-parallel-item:last-child::after {align-self: flex-start;width: 50%;}#sk-container-id-6 div.sk-parallel-item:only-child::after {width: 0;}#sk-container-id-6 div.sk-dashed-wrapped {border: 1px dashed gray;margin: 0 0.4em 0.5em 0.4em;box-sizing: border-box;padding-bottom: 0.4em;background-color: white;}#sk-container-id-6 div.sk-label label {font-family: monospace;font-weight: bold;display: inline-block;line-height: 1.2em;}#sk-container-id-6 div.sk-label-container {text-align: center;}#sk-container-id-6 div.sk-container {/* jupyter's `normalize.less` sets `[hidden] { display: none; }` but bootstrap.min.css set `[hidden] { display: none !important; }` so we also need the `!important` here to be able to override the default hidden behavior on the sphinx rendered scikit-learn.org. See: https://github.com/scikit-learn/scikit-learn/issues/21755 */display: inline-block !important;position: relative;}#sk-container-id-6 div.sk-text-repr-fallback {display: none;}</style><div id=\"sk-container-id-6\" class=\"sk-top-container\"><div class=\"sk-text-repr-fallback\"><pre>KNeighborsClassifier(n_jobs=8, n_neighbors=20)</pre><b>In a Jupyter environment, please rerun this cell to show the HTML representation or trust the notebook. <br />On GitHub, the HTML representation is unable to render, please try loading this page with nbviewer.org.</b></div><div class=\"sk-container\" hidden><div class=\"sk-item\"><div class=\"sk-estimator sk-toggleable\"><input class=\"sk-toggleable__control sk-hidden--visually\" id=\"sk-estimator-id-12\" type=\"checkbox\" checked><label for=\"sk-estimator-id-12\" class=\"sk-toggleable__label sk-toggleable__label-arrow\">KNeighborsClassifier</label><div class=\"sk-toggleable__content\"><pre>KNeighborsClassifier(n_jobs=8, n_neighbors=20)</pre></div></div></div></div></div>"
      ],
      "text/plain": [
       "KNeighborsClassifier(n_jobs=8, n_neighbors=20)"
      ]
     },
     "execution_count": 64,
     "metadata": {},
     "output_type": "execute_result"
    }
   ],
   "source": [
    "nn20 = neighbors.KNeighborsClassifier(n_neighbors=20, n_jobs=8)\n",
    "nn20.fit(X_ttrain, y_train)"
   ]
  },
  {
   "cell_type": "markdown",
   "metadata": {},
   "source": [
    "Prediction comes from finding the nearest neighbours  \n",
    "Predict proba is to find the probability used to do prediction.   \n",
    "See how many neighbours is near the pt we are looking at.   \n",
    "[grp1_neighbour_%, grp2_neighbour_%]  \n",
    "Nearest neighbours try to choose odd number, to avoid tie break.  "
   ]
  },
  {
   "cell_type": "code",
   "execution_count": 65,
   "metadata": {},
   "outputs": [],
   "source": [
    "y_test_probs = nn20.predict_proba(X_ttest)"
   ]
  },
  {
   "cell_type": "code",
   "execution_count": 66,
   "metadata": {},
   "outputs": [
    {
     "data": {
      "text/plain": [
       "array([[0.85, 0.15],\n",
       "       [0.9 , 0.1 ],\n",
       "       [0.85, 0.15],\n",
       "       ...,\n",
       "       [0.6 , 0.4 ],\n",
       "       [0.8 , 0.2 ],\n",
       "       [0.65, 0.35]])"
      ]
     },
     "execution_count": 66,
     "metadata": {},
     "output_type": "execute_result"
    }
   ],
   "source": [
    "y_test_probs"
   ]
  },
  {
   "cell_type": "code",
   "execution_count": 67,
   "metadata": {},
   "outputs": [],
   "source": [
    "y_test_pred = nn20.predict(X_ttest)"
   ]
  },
  {
   "cell_type": "markdown",
   "metadata": {},
   "source": [
    "Here, predict will be give result of predict_proba()"
   ]
  },
  {
   "cell_type": "code",
   "execution_count": 68,
   "metadata": {},
   "outputs": [
    {
     "data": {
      "text/plain": [
       "array([0, 0, 0, ..., 0, 0, 0])"
      ]
     },
     "execution_count": 68,
     "metadata": {},
     "output_type": "execute_result"
    }
   ],
   "source": [
    "y_test_pred"
   ]
  },
  {
   "cell_type": "code",
   "execution_count": 69,
   "metadata": {},
   "outputs": [
    {
     "name": "stdout",
     "output_type": "stream",
     "text": [
      "              precision    recall  f1-score   support\n",
      "\n",
      "           0       0.88      0.99      0.94     10053\n",
      "           1       0.94      0.42      0.58      2288\n",
      "\n",
      "    accuracy                           0.89     12341\n",
      "   macro avg       0.91      0.71      0.76     12341\n",
      "weighted avg       0.89      0.89      0.87     12341\n",
      "\n"
     ]
    }
   ],
   "source": [
    "print(classification_report(y_test, y_test_pred))"
   ]
  },
  {
   "cell_type": "code",
   "execution_count": 70,
   "metadata": {},
   "outputs": [
    {
     "data": {
      "image/png": "[encoded data removed]",
      "text/plain": [
       "<Figure size 640x480 with 1 Axes>"
      ]
     },
     "metadata": {},
     "output_type": "display_data"
    }
   ],
   "source": [
    "fpr, tpr, threshold = roc_curve(y_test, y_test_probs[:, 1])\n",
    "\n",
    "plt.plot(fpr, tpr,'b-');\n",
    "plt.title('ROC Curve')\n",
    "plt.xlabel('FPR');plt.ylabel('TPR');"
   ]
  },
  {
   "cell_type": "code",
   "execution_count": 79,
   "metadata": {
    "tags": []
   },
   "outputs": [
    {
     "data": {
      "text/plain": [
       "array([2.  , 1.  , 0.95, 0.9 , 0.85, 0.8 , 0.75, 0.7 , 0.65, 0.6 , 0.55,\n",
       "       0.5 , 0.45, 0.4 , 0.35, 0.3 , 0.25, 0.2 , 0.15, 0.1 , 0.05, 0.  ])"
      ]
     },
     "execution_count": 79,
     "metadata": {},
     "output_type": "execute_result"
    },
    {
     "name": "stdout",
     "output_type": "stream",
     "text": [
      "[CV] END .....................................n_neighbors=26; total time=  25.6s\n",
      "[CV] END .....................................n_neighbors=10; total time=  24.7s\n",
      "[CV] END .....................................n_neighbors=30; total time=  25.3s\n",
      "[CV] END .....................................n_neighbors=46; total time=  25.2s\n",
      "[CV] END .....................................n_neighbors=14; total time=  25.4s\n",
      "[CV] END .....................................n_neighbors=30; total time=  25.5s\n",
      "[CV] END .....................................n_neighbors=46; total time=  25.6s\n",
      "[CV] END .....................................n_neighbors=14; total time=  20.0s\n",
      "[CV] END .....................................n_neighbors=42; total time=  25.7s\n",
      "[CV] END ......................................n_neighbors=6; total time=  25.0s\n",
      "[CV] END .....................................n_neighbors=22; total time=  25.1s\n",
      "[CV] END .....................................n_neighbors=34; total time=  24.7s\n",
      "[CV] END ......................................n_neighbors=6; total time=  25.1s\n",
      "[CV] END .....................................n_neighbors=22; total time=  25.1s\n",
      "[CV] END .....................................n_neighbors=38; total time=  25.1s\n",
      "[CV] END ......................................n_neighbors=6; total time=  18.7s\n",
      "[CV] END .....................................n_neighbors=30; total time=  25.3s\n",
      "[CV] END .....................................n_neighbors=18; total time=  24.3s\n",
      "[CV] END .....................................n_neighbors=34; total time=  25.5s\n",
      "[CV] END .....................................n_neighbors=50; total time=  25.4s\n",
      "[CV] END .....................................n_neighbors=18; total time=  25.7s\n",
      "[CV] END .....................................n_neighbors=34; total time=  25.5s\n",
      "[CV] END .....................................n_neighbors=50; total time=  25.5s\n",
      "[CV] END .....................................n_neighbors=18; total time=  19.3s\n",
      "[CV] END .....................................n_neighbors=38; total time=  25.3s\n",
      "[CV] END .....................................n_neighbors=46; total time=  24.6s\n",
      "[CV] END .....................................n_neighbors=18; total time=  24.8s\n",
      "[CV] END .....................................n_neighbors=42; total time=  24.7s\n",
      "[CV] END .....................................n_neighbors=10; total time=  25.2s\n",
      "[CV] END .....................................n_neighbors=26; total time=  24.9s\n",
      "[CV] END .....................................n_neighbors=42; total time=  25.2s\n",
      "[CV] END .....................................n_neighbors=10; total time=  20.0s\n"
     ]
    }
   ],
   "source": [
    "threshold"
   ]
  },
  {
   "cell_type": "code",
   "execution_count": 71,
   "metadata": {},
   "outputs": [
    {
     "name": "stdout",
     "output_type": "stream",
     "text": [
      "The area under the AUC is 0.878.\n"
     ]
    }
   ],
   "source": [
    "print(f'The area under the AUC is {auc(fpr, tpr):.3f}.')"
   ]
  },
  {
   "cell_type": "code",
   "execution_count": 72,
   "metadata": {},
   "outputs": [],
   "source": [
    "nn_precision, nn_recall, thresholds = precision_recall_curve(y_test, y_test_probs[:, 1])"
   ]
  },
  {
   "cell_type": "code",
   "execution_count": 75,
   "metadata": {
    "tags": []
   },
   "outputs": [
    {
     "data": {
      "text/plain": [
       "array([0.18539827, 0.23700224, 0.31214135, 0.40644753, 0.51325371,\n",
       "       0.61662818, 0.73123123, 0.81076179, 0.87027798, 0.90755627,\n",
       "       0.92658908, 0.94140625, 0.94871795, 0.95591647, 0.96153846,\n",
       "       0.96709585, 0.97553018, 0.98440546, 0.99017199, 0.99656357,\n",
       "       1.        , 1.        ])"
      ]
     },
     "execution_count": 75,
     "metadata": {},
     "output_type": "execute_result"
    }
   ],
   "source": [
    "nn_precision"
   ]
  },
  {
   "cell_type": "code",
   "execution_count": 76,
   "metadata": {
    "tags": []
   },
   "outputs": [
    {
     "data": {
      "text/plain": [
       "array([1.        , 0.97027972, 0.90340909, 0.84309441, 0.7701049 ,\n",
       "       0.70017483, 0.63854895, 0.5861014 , 0.53365385, 0.49344406,\n",
       "       0.45236014, 0.42132867, 0.38811189, 0.36013986, 0.3277972 ,\n",
       "       0.29545455, 0.26136364, 0.22071678, 0.17613636, 0.12674825,\n",
       "       0.07036713, 0.        ])"
      ]
     },
     "execution_count": 76,
     "metadata": {},
     "output_type": "execute_result"
    }
   ],
   "source": [
    "nn_recall"
   ]
  },
  {
   "cell_type": "code",
   "execution_count": 78,
   "metadata": {
    "tags": []
   },
   "outputs": [
    {
     "data": {
      "text/plain": [
       "array([0.  , 0.05, 0.1 , 0.15, 0.2 , 0.25, 0.3 , 0.35, 0.4 , 0.45, 0.5 ,\n",
       "       0.55, 0.6 , 0.65, 0.7 , 0.75, 0.8 , 0.85, 0.9 , 0.95, 1.  ])"
      ]
     },
     "execution_count": 78,
     "metadata": {},
     "output_type": "execute_result"
    }
   ],
   "source": [
    "thresholds"
   ]
  },
  {
   "cell_type": "code",
   "execution_count": 77,
   "metadata": {
    "tags": []
   },
   "outputs": [
    {
     "data": {
      "image/png": "[encoded data removed]",
      "text/plain": [
       "<Figure size 640x480 with 1 Axes>"
      ]
     },
     "metadata": {},
     "output_type": "display_data"
    },
    {
     "name": "stdout",
     "output_type": "stream",
     "text": [
      "[CV] END .....................................n_neighbors=22; total time=  25.4s\n",
      "[CV] END .....................................n_neighbors=42; total time=  25.0s\n",
      "[CV] END .....................................n_neighbors=10; total time=  24.9s\n",
      "[CV] END .....................................n_neighbors=26; total time=  25.0s\n",
      "[CV] END .....................................n_neighbors=42; total time=  25.1s\n",
      "[CV] END .....................................n_neighbors=10; total time=  25.1s\n",
      "[CV] END .....................................n_neighbors=34; total time=  25.1s\n",
      "[CV] END .....................................n_neighbors=50; total time=  25.2s\n",
      "[CV] END .....................................n_neighbors=38; total time=  24.8s\n",
      "[CV] END .....................................n_neighbors=14; total time=  24.9s\n",
      "[CV] END .....................................n_neighbors=30; total time=  24.4s\n",
      "[CV] END .....................................n_neighbors=50; total time=  25.2s\n",
      "[CV] END .....................................n_neighbors=18; total time=  25.0s\n",
      "[CV] END .....................................n_neighbors=30; total time=  25.3s\n",
      "[CV] END .....................................n_neighbors=46; total time=  25.4s\n",
      "[CV] END .....................................n_neighbors=14; total time=  24.6s\n",
      "[CV] END .....................................n_neighbors=26; total time=  25.4s\n",
      "[CV] END .....................................n_neighbors=38; total time=  25.0s\n",
      "[CV] END .....................................n_neighbors=46; total time=  25.0s\n",
      "[CV] END .....................................n_neighbors=14; total time=  25.2s\n",
      "[CV] END .....................................n_neighbors=26; total time=  25.1s\n",
      "[CV] END .....................................n_neighbors=34; total time=  25.0s\n",
      "[CV] END .....................................n_neighbors=50; total time=  25.2s\n",
      "[CV] END ......................................n_neighbors=6; total time=  25.1s\n",
      "[CV] END .....................................n_neighbors=22; total time=  24.6s\n",
      "[CV] END .....................................n_neighbors=38; total time=  25.1s\n",
      "[CV] END ......................................n_neighbors=6; total time=  25.0s\n",
      "[CV] END .....................................n_neighbors=22; total time=  25.3s\n"
     ]
    }
   ],
   "source": [
    "plt.plot(nn_recall, nn_precision,'b-');\n",
    "plt.title('Precision-Recall Curve')\n",
    "plt.xlabel('Recall');plt.ylabel('Precision');\n",
    "plt.grid()\n",
    "plt.plot([0.0, 1.0], [0.0, 1.0], color='red', linestyle=\"--\");"
   ]
  },
  {
   "cell_type": "markdown",
   "metadata": {},
   "source": [
    "We want sweet spot in the middle of prediction and recall.  "
   ]
  },
  {
   "cell_type": "code",
   "execution_count": 74,
   "metadata": {},
   "outputs": [
    {
     "data": {
      "text/html": [
       "<div>\n",
       "<style scoped>\n",
       "    .dataframe tbody tr th:only-of-type {\n",
       "        vertical-align: middle;\n",
       "    }\n",
       "\n",
       "    .dataframe tbody tr th {\n",
       "        vertical-align: top;\n",
       "    }\n",
       "\n",
       "    .dataframe thead th {\n",
       "        text-align: right;\n",
       "    }\n",
       "</style>\n",
       "<table border=\"1\" class=\"dataframe\">\n",
       "  <thead>\n",
       "    <tr style=\"text-align: right;\">\n",
       "      <th></th>\n",
       "      <th>prec</th>\n",
       "      <th>rec</th>\n",
       "      <th>thresh</th>\n",
       "    </tr>\n",
       "  </thead>\n",
       "  <tbody>\n",
       "    <tr>\n",
       "      <th>0</th>\n",
       "      <td>0.237002</td>\n",
       "      <td>0.970280</td>\n",
       "      <td>0.00</td>\n",
       "    </tr>\n",
       "    <tr>\n",
       "      <th>1</th>\n",
       "      <td>0.312141</td>\n",
       "      <td>0.903409</td>\n",
       "      <td>0.05</td>\n",
       "    </tr>\n",
       "    <tr>\n",
       "      <th>2</th>\n",
       "      <td>0.406448</td>\n",
       "      <td>0.843094</td>\n",
       "      <td>0.10</td>\n",
       "    </tr>\n",
       "    <tr>\n",
       "      <th>3</th>\n",
       "      <td>0.513254</td>\n",
       "      <td>0.770105</td>\n",
       "      <td>0.15</td>\n",
       "    </tr>\n",
       "    <tr>\n",
       "      <th>4</th>\n",
       "      <td>0.616628</td>\n",
       "      <td>0.700175</td>\n",
       "      <td>0.20</td>\n",
       "    </tr>\n",
       "    <tr>\n",
       "      <th>5</th>\n",
       "      <td>0.731231</td>\n",
       "      <td>0.638549</td>\n",
       "      <td>0.25</td>\n",
       "    </tr>\n",
       "    <tr>\n",
       "      <th>6</th>\n",
       "      <td>0.810762</td>\n",
       "      <td>0.586101</td>\n",
       "      <td>0.30</td>\n",
       "    </tr>\n",
       "    <tr>\n",
       "      <th>7</th>\n",
       "      <td>0.870278</td>\n",
       "      <td>0.533654</td>\n",
       "      <td>0.35</td>\n",
       "    </tr>\n",
       "    <tr>\n",
       "      <th>8</th>\n",
       "      <td>0.907556</td>\n",
       "      <td>0.493444</td>\n",
       "      <td>0.40</td>\n",
       "    </tr>\n",
       "    <tr>\n",
       "      <th>9</th>\n",
       "      <td>0.926589</td>\n",
       "      <td>0.452360</td>\n",
       "      <td>0.45</td>\n",
       "    </tr>\n",
       "    <tr>\n",
       "      <th>10</th>\n",
       "      <td>0.941406</td>\n",
       "      <td>0.421329</td>\n",
       "      <td>0.50</td>\n",
       "    </tr>\n",
       "    <tr>\n",
       "      <th>11</th>\n",
       "      <td>0.948718</td>\n",
       "      <td>0.388112</td>\n",
       "      <td>0.55</td>\n",
       "    </tr>\n",
       "    <tr>\n",
       "      <th>12</th>\n",
       "      <td>0.955916</td>\n",
       "      <td>0.360140</td>\n",
       "      <td>0.60</td>\n",
       "    </tr>\n",
       "    <tr>\n",
       "      <th>13</th>\n",
       "      <td>0.961538</td>\n",
       "      <td>0.327797</td>\n",
       "      <td>0.65</td>\n",
       "    </tr>\n",
       "    <tr>\n",
       "      <th>14</th>\n",
       "      <td>0.967096</td>\n",
       "      <td>0.295455</td>\n",
       "      <td>0.70</td>\n",
       "    </tr>\n",
       "    <tr>\n",
       "      <th>15</th>\n",
       "      <td>0.975530</td>\n",
       "      <td>0.261364</td>\n",
       "      <td>0.75</td>\n",
       "    </tr>\n",
       "    <tr>\n",
       "      <th>16</th>\n",
       "      <td>0.984405</td>\n",
       "      <td>0.220717</td>\n",
       "      <td>0.80</td>\n",
       "    </tr>\n",
       "    <tr>\n",
       "      <th>17</th>\n",
       "      <td>0.990172</td>\n",
       "      <td>0.176136</td>\n",
       "      <td>0.85</td>\n",
       "    </tr>\n",
       "    <tr>\n",
       "      <th>18</th>\n",
       "      <td>0.996564</td>\n",
       "      <td>0.126748</td>\n",
       "      <td>0.90</td>\n",
       "    </tr>\n",
       "    <tr>\n",
       "      <th>19</th>\n",
       "      <td>1.000000</td>\n",
       "      <td>0.070367</td>\n",
       "      <td>0.95</td>\n",
       "    </tr>\n",
       "    <tr>\n",
       "      <th>20</th>\n",
       "      <td>1.000000</td>\n",
       "      <td>0.000000</td>\n",
       "      <td>1.00</td>\n",
       "    </tr>\n",
       "  </tbody>\n",
       "</table>\n",
       "</div>"
      ],
      "text/plain": [
       "        prec       rec  thresh\n",
       "0   0.237002  0.970280    0.00\n",
       "1   0.312141  0.903409    0.05\n",
       "2   0.406448  0.843094    0.10\n",
       "3   0.513254  0.770105    0.15\n",
       "4   0.616628  0.700175    0.20\n",
       "5   0.731231  0.638549    0.25\n",
       "6   0.810762  0.586101    0.30\n",
       "7   0.870278  0.533654    0.35\n",
       "8   0.907556  0.493444    0.40\n",
       "9   0.926589  0.452360    0.45\n",
       "10  0.941406  0.421329    0.50\n",
       "11  0.948718  0.388112    0.55\n",
       "12  0.955916  0.360140    0.60\n",
       "13  0.961538  0.327797    0.65\n",
       "14  0.967096  0.295455    0.70\n",
       "15  0.975530  0.261364    0.75\n",
       "16  0.984405  0.220717    0.80\n",
       "17  0.990172  0.176136    0.85\n",
       "18  0.996564  0.126748    0.90\n",
       "19  1.000000  0.070367    0.95\n",
       "20  1.000000  0.000000    1.00"
      ]
     },
     "execution_count": 74,
     "metadata": {},
     "output_type": "execute_result"
    }
   ],
   "source": [
    "pd.DataFrame({'prec':nn_precision[1:], 'rec':nn_recall[1:], 'thresh':thresholds})"
   ]
  },
  {
   "cell_type": "markdown",
   "metadata": {},
   "source": [
    "<a id='ref'></a>\n",
    "# 6. References\n",
    "<a href=#top>(back to top)</a>\n",
    "\n",
    "1. [Introduction to statistical learning](https://www.statlearning.com/) This is one of the most complete introductory books on the topic.\n",
    "2. [scikit-learn docs](https://scikit-learn.org/stable/user_guide.html)\n",
    "3. Hands-On Machine Learning with Scikit-Learn and TensorFlow: Concepts, Tools, and Techniques to Build Intelligent Systems By Aurélien Géron (electronic copy available at NUS libraries)\n",
    "4. Introduction to Data Science A Python Approach to Concepts, Techniques and Applications by Laura Igual (electronic version available at NUS libraries)"
   ]
  }
 ],
 "metadata": {
  "kernelspec": {
   "display_name": "Python [conda env:nus_i4_gen]",
   "language": "python",
   "name": "conda-env-nus_i4_gen-py"
  },
  "language_info": {
   "codemirror_mode": {
    "name": "ipython",
    "version": 3
   },
   "file_extension": ".py",
   "mimetype": "text/x-python",
   "name": "python",
   "nbconvert_exporter": "python",
   "pygments_lexer": "ipython3",
   "version": "3.11.5"
  }
 },
 "nbformat": 4,
 "nbformat_minor": 4
}
