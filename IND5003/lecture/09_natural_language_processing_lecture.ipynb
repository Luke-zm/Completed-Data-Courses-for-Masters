{
 "cells": [
  {
   "cell_type": "markdown",
   "metadata": {},
   "source": [
    "# Contents <a id='top'></a>\n",
    "\n",
    "1. <a href=#intro>Introduction</a>\n",
    "1. <a href=#pre-proc>NLP Pre-processing</a>\n",
    "1. <a href=#bow>Bag of Words Model</a>\n",
    "1. <a href=#lda>Topic Modeling</a>\n",
    "1. <a href=#senti>Sentiment Analysis</a>\n",
    "1. <a href=#ref>References and Links</a>"
   ]
  },
  {
   "cell_type": "markdown",
   "metadata": {},
   "source": [
    "<a id='intro'></a>\n",
    "# 1. Introduction\n",
    "<a href=#top>(back to top)</a>\n",
    "\n",
    "In our world, Natural Language Processing (NLP) is used in several scenarios. For example, \n",
    "\n",
    "    * phones and handheld computers support predictive text and handwriting recognition; \n",
    "    * web search engines give access to information locked up in unstructured text; \n",
    "    * machine translation allows us to understand texts written in languages that we do not know; \n",
    "    * text analysis enables us to detect sentiment in tweets and blogs.\n",
    "\n",
    "But as we begin to explore Natural Language, we realise that it is an extremely difficult subject. Here are some specific points to note:\n",
    "\n",
    "1. Some words mean different things in different contexts, but us humans know which meaning is being used.\n",
    "    * He **served** the **dish**.\n",
    "1. In the following two sentences, the word \"by\" has different meanings:\n",
    "    * The lost children were found by the lake.\n",
    "    * The lost children were found by the search party.\n",
    "1. In the following cases, we (humans) can resolve what \"they\" is referring to, but it is not easy to generate a simple rule that a computer can follow.\n",
    "    * The thieves stole the paintings. They were subsequently recovered.\n",
    "    * The thieves stole the paintings. They were subsequently arrested.\n",
    "1. How can we get a computer to understand the following tweet?:\n",
    "    * \"Wow. Great job st@rbuck's. Best cup of coffee ever.\""
   ]
  },
  {
   "cell_type": "markdown",
   "metadata": {},
   "source": [
    "## Definitions\n",
    "\n",
    "Before we go on, it would be useful to establish some terminology.\n",
    "\n",
    "A *document* is a string of text. It could contain an essay on a particular topic, a paragraph, a single sentence, or even just a tweet of 140 characters. \n",
    "\n",
    "A *text corpus* is a large collection of text documents. The plural of corpus is *corpora*. \n",
    "\n",
    "Each document is typically split into *tokens* before the actual NLP is done. Consider the sentence"
   ]
  },
  {
   "cell_type": "raw",
   "metadata": {},
   "source": [
    "I am watching television."
   ]
  },
  {
   "cell_type": "markdown",
   "metadata": {},
   "source": [
    "A typical *tokenisation* would be "
   ]
  },
  {
   "cell_type": "raw",
   "metadata": {},
   "source": [
    "'I',  'am',  'watching', 'television', '.'"
   ]
  },
  {
   "cell_type": "markdown",
   "metadata": {},
   "source": [
    "How we tokenize and pre-process things will affect our final results. We shall discuss this more in a minute."
   ]
  },
  {
   "cell_type": "markdown",
   "metadata": {},
   "source": [
    "## Goals of NLP\n",
    "\n",
    "Corpora could come in different formats and have different structures.\n",
    "\n",
    "![text-corpus-structure](../figs/text-corpus-structure_nlp.png)\n",
    "\n",
    "Sometimes, the format or relationships between the documents in a corpus restrict or direct us toward certain types of analyses. In general, the goals of NLP can be varied. Here are some of the use-cases that we shall discuss:\n",
    "\n",
    "1. *Computing similarities between new documents and existing ones in a corpus*. This is an unsupervised approach. If the new document can be considered a \"query\", then this can be used to retrieve and prioritise documents that are relevant to the query.\n",
    "2. *Identifying \"topics\" within a corpus*. This is also an unsupervised technique, and allows us to identify the salient topics of a new document automatically. This could be useful in a customer feedback setting, because it would allow quick allocation or prioritisation of resources. This approach requires one to decide on the number of topics. It typically also requires some study of the topics in order to interpret and verify them.\n",
    "3. *Identifying the overarching sentiment of a document*. Using a lexicon of words and their tagged sentiments, we can assess whether the sentiment in a document is mostly positive or negative.\n",
    "\n",
    "There are some other applications and ideas that we may not have time to cover:\n",
    "\n",
    "1. *Named Entity Recognition* If we can identify the particular real-world entities that a query is referring to, we would be able to provide more accurate answers from the corpus. This concept is utilised in chatbots.\n",
    "2. *Word Embeddings*. This procedure provides a vector representation of a word, in the context of its semantic usage. With this, we can study the context of a word in this corpus, and understand what it means here."
   ]
  },
  {
   "cell_type": "markdown",
   "metadata": {},
   "source": [
    "# Wine Reviews Dataset\n",
    "\n",
    "A dataset containing wine reviews is accessible from [Kaggle](https://www.kaggle.com/zynicide/wine-reviews). We shall work with one of the csv files. It contains 130,000 rows. "
   ]
  },
  {
   "cell_type": "code",
   "execution_count": 1,
   "metadata": {
    "tags": []
   },
   "outputs": [],
   "source": [
    "import numpy as np\n",
    "import pandas as pd"
   ]
  },
  {
   "cell_type": "code",
   "execution_count": 2,
   "metadata": {
    "tags": []
   },
   "outputs": [],
   "source": [
    "wine_reviews = pd.read_csv(\"../data/winemag-data-130k-v2.csv\", index_col=0)"
   ]
  },
  {
   "cell_type": "code",
   "execution_count": 3,
   "metadata": {
    "tags": []
   },
   "outputs": [
    {
     "data": {
      "text/html": [
       "<div>\n",
       "<style scoped>\n",
       "    .dataframe tbody tr th:only-of-type {\n",
       "        vertical-align: middle;\n",
       "    }\n",
       "\n",
       "    .dataframe tbody tr th {\n",
       "        vertical-align: top;\n",
       "    }\n",
       "\n",
       "    .dataframe thead th {\n",
       "        text-align: right;\n",
       "    }\n",
       "</style>\n",
       "<table border=\"1\" class=\"dataframe\">\n",
       "  <thead>\n",
       "    <tr style=\"text-align: right;\">\n",
       "      <th></th>\n",
       "      <th>country</th>\n",
       "      <th>description</th>\n",
       "      <th>designation</th>\n",
       "      <th>points</th>\n",
       "      <th>price</th>\n",
       "      <th>province</th>\n",
       "      <th>region_1</th>\n",
       "      <th>region_2</th>\n",
       "      <th>taster_name</th>\n",
       "      <th>taster_twitter_handle</th>\n",
       "      <th>title</th>\n",
       "      <th>variety</th>\n",
       "      <th>winery</th>\n",
       "    </tr>\n",
       "  </thead>\n",
       "  <tbody>\n",
       "    <tr>\n",
       "      <th>0</th>\n",
       "      <td>Italy</td>\n",
       "      <td>Aromas include tropical fruit, broom, brimston...</td>\n",
       "      <td>Vulkà Bianco</td>\n",
       "      <td>87</td>\n",
       "      <td>NaN</td>\n",
       "      <td>Sicily &amp; Sardinia</td>\n",
       "      <td>Etna</td>\n",
       "      <td>NaN</td>\n",
       "      <td>Kerin O’Keefe</td>\n",
       "      <td>@kerinokeefe</td>\n",
       "      <td>Nicosia 2013 Vulkà Bianco  (Etna)</td>\n",
       "      <td>White Blend</td>\n",
       "      <td>Nicosia</td>\n",
       "    </tr>\n",
       "    <tr>\n",
       "      <th>1</th>\n",
       "      <td>Portugal</td>\n",
       "      <td>This is ripe and fruity, a wine that is smooth...</td>\n",
       "      <td>Avidagos</td>\n",
       "      <td>87</td>\n",
       "      <td>15.0</td>\n",
       "      <td>Douro</td>\n",
       "      <td>NaN</td>\n",
       "      <td>NaN</td>\n",
       "      <td>Roger Voss</td>\n",
       "      <td>@vossroger</td>\n",
       "      <td>Quinta dos Avidagos 2011 Avidagos Red (Douro)</td>\n",
       "      <td>Portuguese Red</td>\n",
       "      <td>Quinta dos Avidagos</td>\n",
       "    </tr>\n",
       "    <tr>\n",
       "      <th>2</th>\n",
       "      <td>US</td>\n",
       "      <td>Tart and snappy, the flavors of lime flesh and...</td>\n",
       "      <td>NaN</td>\n",
       "      <td>87</td>\n",
       "      <td>14.0</td>\n",
       "      <td>Oregon</td>\n",
       "      <td>Willamette Valley</td>\n",
       "      <td>Willamette Valley</td>\n",
       "      <td>Paul Gregutt</td>\n",
       "      <td>@paulgwine</td>\n",
       "      <td>Rainstorm 2013 Pinot Gris (Willamette Valley)</td>\n",
       "      <td>Pinot Gris</td>\n",
       "      <td>Rainstorm</td>\n",
       "    </tr>\n",
       "    <tr>\n",
       "      <th>3</th>\n",
       "      <td>US</td>\n",
       "      <td>Pineapple rind, lemon pith and orange blossom ...</td>\n",
       "      <td>Reserve Late Harvest</td>\n",
       "      <td>87</td>\n",
       "      <td>13.0</td>\n",
       "      <td>Michigan</td>\n",
       "      <td>Lake Michigan Shore</td>\n",
       "      <td>NaN</td>\n",
       "      <td>Alexander Peartree</td>\n",
       "      <td>NaN</td>\n",
       "      <td>St. Julian 2013 Reserve Late Harvest Riesling ...</td>\n",
       "      <td>Riesling</td>\n",
       "      <td>St. Julian</td>\n",
       "    </tr>\n",
       "    <tr>\n",
       "      <th>4</th>\n",
       "      <td>US</td>\n",
       "      <td>Much like the regular bottling from 2012, this...</td>\n",
       "      <td>Vintner's Reserve Wild Child Block</td>\n",
       "      <td>87</td>\n",
       "      <td>65.0</td>\n",
       "      <td>Oregon</td>\n",
       "      <td>Willamette Valley</td>\n",
       "      <td>Willamette Valley</td>\n",
       "      <td>Paul Gregutt</td>\n",
       "      <td>@paulgwine</td>\n",
       "      <td>Sweet Cheeks 2012 Vintner's Reserve Wild Child...</td>\n",
       "      <td>Pinot Noir</td>\n",
       "      <td>Sweet Cheeks</td>\n",
       "    </tr>\n",
       "    <tr>\n",
       "      <th>...</th>\n",
       "      <td>...</td>\n",
       "      <td>...</td>\n",
       "      <td>...</td>\n",
       "      <td>...</td>\n",
       "      <td>...</td>\n",
       "      <td>...</td>\n",
       "      <td>...</td>\n",
       "      <td>...</td>\n",
       "      <td>...</td>\n",
       "      <td>...</td>\n",
       "      <td>...</td>\n",
       "      <td>...</td>\n",
       "      <td>...</td>\n",
       "    </tr>\n",
       "    <tr>\n",
       "      <th>129966</th>\n",
       "      <td>Germany</td>\n",
       "      <td>Notes of honeysuckle and cantaloupe sweeten th...</td>\n",
       "      <td>Brauneberger Juffer-Sonnenuhr Spätlese</td>\n",
       "      <td>90</td>\n",
       "      <td>28.0</td>\n",
       "      <td>Mosel</td>\n",
       "      <td>NaN</td>\n",
       "      <td>NaN</td>\n",
       "      <td>Anna Lee C. Iijima</td>\n",
       "      <td>NaN</td>\n",
       "      <td>Dr. H. Thanisch (Erben Müller-Burggraef) 2013 ...</td>\n",
       "      <td>Riesling</td>\n",
       "      <td>Dr. H. Thanisch (Erben Müller-Burggraef)</td>\n",
       "    </tr>\n",
       "    <tr>\n",
       "      <th>129967</th>\n",
       "      <td>US</td>\n",
       "      <td>Citation is given as much as a decade of bottl...</td>\n",
       "      <td>NaN</td>\n",
       "      <td>90</td>\n",
       "      <td>75.0</td>\n",
       "      <td>Oregon</td>\n",
       "      <td>Oregon</td>\n",
       "      <td>Oregon Other</td>\n",
       "      <td>Paul Gregutt</td>\n",
       "      <td>@paulgwine</td>\n",
       "      <td>Citation 2004 Pinot Noir (Oregon)</td>\n",
       "      <td>Pinot Noir</td>\n",
       "      <td>Citation</td>\n",
       "    </tr>\n",
       "    <tr>\n",
       "      <th>129968</th>\n",
       "      <td>France</td>\n",
       "      <td>Well-drained gravel soil gives this wine its c...</td>\n",
       "      <td>Kritt</td>\n",
       "      <td>90</td>\n",
       "      <td>30.0</td>\n",
       "      <td>Alsace</td>\n",
       "      <td>Alsace</td>\n",
       "      <td>NaN</td>\n",
       "      <td>Roger Voss</td>\n",
       "      <td>@vossroger</td>\n",
       "      <td>Domaine Gresser 2013 Kritt Gewurztraminer (Als...</td>\n",
       "      <td>Gewürztraminer</td>\n",
       "      <td>Domaine Gresser</td>\n",
       "    </tr>\n",
       "    <tr>\n",
       "      <th>129969</th>\n",
       "      <td>France</td>\n",
       "      <td>A dry style of Pinot Gris, this is crisp with ...</td>\n",
       "      <td>NaN</td>\n",
       "      <td>90</td>\n",
       "      <td>32.0</td>\n",
       "      <td>Alsace</td>\n",
       "      <td>Alsace</td>\n",
       "      <td>NaN</td>\n",
       "      <td>Roger Voss</td>\n",
       "      <td>@vossroger</td>\n",
       "      <td>Domaine Marcel Deiss 2012 Pinot Gris (Alsace)</td>\n",
       "      <td>Pinot Gris</td>\n",
       "      <td>Domaine Marcel Deiss</td>\n",
       "    </tr>\n",
       "    <tr>\n",
       "      <th>129970</th>\n",
       "      <td>France</td>\n",
       "      <td>Big, rich and off-dry, this is powered by inte...</td>\n",
       "      <td>Lieu-dit Harth Cuvée Caroline</td>\n",
       "      <td>90</td>\n",
       "      <td>21.0</td>\n",
       "      <td>Alsace</td>\n",
       "      <td>Alsace</td>\n",
       "      <td>NaN</td>\n",
       "      <td>Roger Voss</td>\n",
       "      <td>@vossroger</td>\n",
       "      <td>Domaine Schoffit 2012 Lieu-dit Harth Cuvée Car...</td>\n",
       "      <td>Gewürztraminer</td>\n",
       "      <td>Domaine Schoffit</td>\n",
       "    </tr>\n",
       "  </tbody>\n",
       "</table>\n",
       "<p>129971 rows × 13 columns</p>\n",
       "</div>"
      ],
      "text/plain": [
       "         country                                        description  \\\n",
       "0          Italy  Aromas include tropical fruit, broom, brimston...   \n",
       "1       Portugal  This is ripe and fruity, a wine that is smooth...   \n",
       "2             US  Tart and snappy, the flavors of lime flesh and...   \n",
       "3             US  Pineapple rind, lemon pith and orange blossom ...   \n",
       "4             US  Much like the regular bottling from 2012, this...   \n",
       "...          ...                                                ...   \n",
       "129966   Germany  Notes of honeysuckle and cantaloupe sweeten th...   \n",
       "129967        US  Citation is given as much as a decade of bottl...   \n",
       "129968    France  Well-drained gravel soil gives this wine its c...   \n",
       "129969    France  A dry style of Pinot Gris, this is crisp with ...   \n",
       "129970    France  Big, rich and off-dry, this is powered by inte...   \n",
       "\n",
       "                                   designation  points  price  \\\n",
       "0                                 Vulkà Bianco      87    NaN   \n",
       "1                                     Avidagos      87   15.0   \n",
       "2                                          NaN      87   14.0   \n",
       "3                         Reserve Late Harvest      87   13.0   \n",
       "4           Vintner's Reserve Wild Child Block      87   65.0   \n",
       "...                                        ...     ...    ...   \n",
       "129966  Brauneberger Juffer-Sonnenuhr Spätlese      90   28.0   \n",
       "129967                                     NaN      90   75.0   \n",
       "129968                                   Kritt      90   30.0   \n",
       "129969                                     NaN      90   32.0   \n",
       "129970           Lieu-dit Harth Cuvée Caroline      90   21.0   \n",
       "\n",
       "                 province             region_1           region_2  \\\n",
       "0       Sicily & Sardinia                 Etna                NaN   \n",
       "1                   Douro                  NaN                NaN   \n",
       "2                  Oregon    Willamette Valley  Willamette Valley   \n",
       "3                Michigan  Lake Michigan Shore                NaN   \n",
       "4                  Oregon    Willamette Valley  Willamette Valley   \n",
       "...                   ...                  ...                ...   \n",
       "129966              Mosel                  NaN                NaN   \n",
       "129967             Oregon               Oregon       Oregon Other   \n",
       "129968             Alsace               Alsace                NaN   \n",
       "129969             Alsace               Alsace                NaN   \n",
       "129970             Alsace               Alsace                NaN   \n",
       "\n",
       "               taster_name taster_twitter_handle  \\\n",
       "0            Kerin O’Keefe          @kerinokeefe   \n",
       "1               Roger Voss            @vossroger   \n",
       "2             Paul Gregutt           @paulgwine    \n",
       "3       Alexander Peartree                   NaN   \n",
       "4             Paul Gregutt           @paulgwine    \n",
       "...                    ...                   ...   \n",
       "129966  Anna Lee C. Iijima                   NaN   \n",
       "129967        Paul Gregutt           @paulgwine    \n",
       "129968          Roger Voss            @vossroger   \n",
       "129969          Roger Voss            @vossroger   \n",
       "129970          Roger Voss            @vossroger   \n",
       "\n",
       "                                                    title         variety  \\\n",
       "0                       Nicosia 2013 Vulkà Bianco  (Etna)     White Blend   \n",
       "1           Quinta dos Avidagos 2011 Avidagos Red (Douro)  Portuguese Red   \n",
       "2           Rainstorm 2013 Pinot Gris (Willamette Valley)      Pinot Gris   \n",
       "3       St. Julian 2013 Reserve Late Harvest Riesling ...        Riesling   \n",
       "4       Sweet Cheeks 2012 Vintner's Reserve Wild Child...      Pinot Noir   \n",
       "...                                                   ...             ...   \n",
       "129966  Dr. H. Thanisch (Erben Müller-Burggraef) 2013 ...        Riesling   \n",
       "129967                  Citation 2004 Pinot Noir (Oregon)      Pinot Noir   \n",
       "129968  Domaine Gresser 2013 Kritt Gewurztraminer (Als...  Gewürztraminer   \n",
       "129969      Domaine Marcel Deiss 2012 Pinot Gris (Alsace)      Pinot Gris   \n",
       "129970  Domaine Schoffit 2012 Lieu-dit Harth Cuvée Car...  Gewürztraminer   \n",
       "\n",
       "                                          winery  \n",
       "0                                        Nicosia  \n",
       "1                            Quinta dos Avidagos  \n",
       "2                                      Rainstorm  \n",
       "3                                     St. Julian  \n",
       "4                                   Sweet Cheeks  \n",
       "...                                          ...  \n",
       "129966  Dr. H. Thanisch (Erben Müller-Burggraef)  \n",
       "129967                                  Citation  \n",
       "129968                           Domaine Gresser  \n",
       "129969                      Domaine Marcel Deiss  \n",
       "129970                          Domaine Schoffit  \n",
       "\n",
       "[129971 rows x 13 columns]"
      ]
     },
     "execution_count": 3,
     "metadata": {},
     "output_type": "execute_result"
    }
   ],
   "source": [
    "wine_reviews"
   ]
  },
  {
   "cell_type": "markdown",
   "metadata": {},
   "source": [
    "Index of first occurance. "
   ]
  },
  {
   "cell_type": "code",
   "execution_count": 4,
   "metadata": {
    "tags": []
   },
   "outputs": [
    {
     "data": {
      "text/plain": [
       "(array([     9,     10,     11, ..., 126999, 127000, 127001]),)"
      ]
     },
     "execution_count": 4,
     "metadata": {},
     "output_type": "execute_result"
    }
   ],
   "source": [
    "np.where(wine_reviews.duplicated(subset=None, keep='last') == True)"
   ]
  },
  {
   "cell_type": "markdown",
   "metadata": {},
   "source": [
    "Index of lase occurance."
   ]
  },
  {
   "cell_type": "code",
   "execution_count": 5,
   "metadata": {
    "tags": []
   },
   "outputs": [
    {
     "data": {
      "text/plain": [
       "(array([  2408,   2409,   2410, ..., 129881, 129882, 129913]),)"
      ]
     },
     "execution_count": 5,
     "metadata": {},
     "output_type": "execute_result"
    }
   ],
   "source": [
    "np.where(wine_reviews.duplicated(subset=None, keep='first') == True)"
   ]
  },
  {
   "cell_type": "code",
   "execution_count": 6,
   "metadata": {
    "tags": []
   },
   "outputs": [
    {
     "data": {
      "text/html": [
       "<div>\n",
       "<style scoped>\n",
       "    .dataframe tbody tr th:only-of-type {\n",
       "        vertical-align: middle;\n",
       "    }\n",
       "\n",
       "    .dataframe tbody tr th {\n",
       "        vertical-align: top;\n",
       "    }\n",
       "\n",
       "    .dataframe thead th {\n",
       "        text-align: right;\n",
       "    }\n",
       "</style>\n",
       "<table border=\"1\" class=\"dataframe\">\n",
       "  <thead>\n",
       "    <tr style=\"text-align: right;\">\n",
       "      <th></th>\n",
       "      <th>country</th>\n",
       "      <th>description</th>\n",
       "      <th>designation</th>\n",
       "      <th>points</th>\n",
       "      <th>price</th>\n",
       "      <th>province</th>\n",
       "      <th>region_1</th>\n",
       "      <th>region_2</th>\n",
       "      <th>taster_name</th>\n",
       "      <th>taster_twitter_handle</th>\n",
       "      <th>title</th>\n",
       "      <th>variety</th>\n",
       "      <th>winery</th>\n",
       "    </tr>\n",
       "  </thead>\n",
       "  <tbody>\n",
       "    <tr>\n",
       "      <th>56</th>\n",
       "      <td>US</td>\n",
       "      <td>This is weighty, creamy and medium to full in ...</td>\n",
       "      <td>NaN</td>\n",
       "      <td>85</td>\n",
       "      <td>14.0</td>\n",
       "      <td>California</td>\n",
       "      <td>North Coast</td>\n",
       "      <td>North Coast</td>\n",
       "      <td>Virginie Boone</td>\n",
       "      <td>@vboone</td>\n",
       "      <td>Souverain 2010 Chardonnay (North Coast)</td>\n",
       "      <td>Chardonnay</td>\n",
       "      <td>Souverain</td>\n",
       "    </tr>\n",
       "    <tr>\n",
       "      <th>2408</th>\n",
       "      <td>US</td>\n",
       "      <td>This is weighty, creamy and medium to full in ...</td>\n",
       "      <td>NaN</td>\n",
       "      <td>85</td>\n",
       "      <td>14.0</td>\n",
       "      <td>California</td>\n",
       "      <td>North Coast</td>\n",
       "      <td>North Coast</td>\n",
       "      <td>Virginie Boone</td>\n",
       "      <td>@vboone</td>\n",
       "      <td>Souverain 2010 Chardonnay (North Coast)</td>\n",
       "      <td>Chardonnay</td>\n",
       "      <td>Souverain</td>\n",
       "    </tr>\n",
       "  </tbody>\n",
       "</table>\n",
       "</div>"
      ],
      "text/plain": [
       "     country                                        description designation  \\\n",
       "56        US  This is weighty, creamy and medium to full in ...         NaN   \n",
       "2408      US  This is weighty, creamy and medium to full in ...         NaN   \n",
       "\n",
       "      points  price    province     region_1     region_2     taster_name  \\\n",
       "56        85   14.0  California  North Coast  North Coast  Virginie Boone   \n",
       "2408      85   14.0  California  North Coast  North Coast  Virginie Boone   \n",
       "\n",
       "     taster_twitter_handle                                    title  \\\n",
       "56                 @vboone  Souverain 2010 Chardonnay (North Coast)   \n",
       "2408               @vboone  Souverain 2010 Chardonnay (North Coast)   \n",
       "\n",
       "         variety     winery  \n",
       "56    Chardonnay  Souverain  \n",
       "2408  Chardonnay  Souverain  "
      ]
     },
     "execution_count": 6,
     "metadata": {},
     "output_type": "execute_result"
    }
   ],
   "source": [
    "wine_reviews[wine_reviews.description == wine_reviews.description[2408]]"
   ]
  },
  {
   "cell_type": "markdown",
   "metadata": {},
   "source": [
    "Check number of rows that's duplicated."
   ]
  },
  {
   "cell_type": "code",
   "execution_count": 7,
   "metadata": {
    "tags": []
   },
   "outputs": [
    {
     "data": {
      "text/plain": [
       "9983"
      ]
     },
     "execution_count": 7,
     "metadata": {},
     "output_type": "execute_result"
    }
   ],
   "source": [
    "np.sum(wine_reviews.duplicated())"
   ]
  },
  {
   "cell_type": "code",
   "execution_count": 8,
   "metadata": {
    "tags": []
   },
   "outputs": [],
   "source": [
    "wine_reviews.drop_duplicates(inplace=True)"
   ]
  },
  {
   "cell_type": "markdown",
   "metadata": {},
   "source": [
    "Number of reviews left over."
   ]
  },
  {
   "cell_type": "code",
   "execution_count": 9,
   "metadata": {
    "tags": []
   },
   "outputs": [
    {
     "data": {
      "text/plain": [
       "(119988, 13)"
      ]
     },
     "execution_count": 9,
     "metadata": {},
     "output_type": "execute_result"
    }
   ],
   "source": [
    "wine_reviews.shape"
   ]
  },
  {
   "cell_type": "code",
   "execution_count": 10,
   "metadata": {
    "tags": []
   },
   "outputs": [
    {
     "data": {
      "image/png": "[encoded data removed]",
      "text/plain": [
       "<Figure size 640x480 with 1 Axes>"
      ]
     },
     "metadata": {},
     "output_type": "display_data"
    }
   ],
   "source": [
    "wine_reviews.points.hist();"
   ]
  },
  {
   "cell_type": "code",
   "execution_count": 11,
   "metadata": {
    "tags": []
   },
   "outputs": [
    {
     "data": {
      "text/plain": [
       "array([\"Aromas include tropical fruit, broom, brimstone and dried herb. The palate isn't overly expressive, offering unripened apple, citrus and dried sage alongside brisk acidity.\",\n",
       "       \"This is ripe and fruity, a wine that is smooth while still structured. Firm tannins are filled out with juicy red berry fruits and freshened with acidity. It's  already drinkable, although it will certainly be better from 2016.\",\n",
       "       'Tart and snappy, the flavors of lime flesh and rind dominate. Some green pineapple pokes through, with crisp acidity underscoring the flavors. The wine was all stainless-steel fermented.',\n",
       "       'Pineapple rind, lemon pith and orange blossom start off the aromas. The palate is a bit more opulent, with notes of honey-drizzled guava and mango giving way to a slightly astringent, semidry finish.',\n",
       "       \"Much like the regular bottling from 2012, this comes across as rather rough and tannic, with rustic, earthy, herbal characteristics. Nonetheless, if you think of it as a pleasantly unfussy country wine, it's a good companion to a hearty winter stew.\"],\n",
       "      dtype=object)"
      ]
     },
     "execution_count": 11,
     "metadata": {},
     "output_type": "execute_result"
    }
   ],
   "source": [
    "wine_reviews.description.values[:5]"
   ]
  },
  {
   "cell_type": "markdown",
   "metadata": {},
   "source": [
    "The \"descriptions\" column contains the review for a particular wine by a user, whose name and twitter handle are provided. Also included is information such as the price, originating county, region of the wine, and so on. In our activity, we are going to apply NLP techniques to the wine reviews."
   ]
  },
  {
   "cell_type": "markdown",
   "metadata": {},
   "source": [
    "<a id='pre-proc'></a>\n",
    "# 2. NLP Pre-Processing\n",
    "<a href=#top>(back to top)</a>\n",
    "\n",
    "Text documents consist of sentences of varying lengths. Usually, the first step to analysing a document is to break it up into pieces. This process is known as **tokenizing**. When tokenizing a document, we can do it at several levels of resolution: at the sentence, line, word or even punctuation level.\n",
    "\n",
    "For today, we are going to to simply tokenize each document by whitespace. This is easily done using `.split()` within built-in Python. But after that, we need to further pre-process the tokens."
   ]
  },
  {
   "cell_type": "code",
   "execution_count": 12,
   "metadata": {
    "tags": []
   },
   "outputs": [],
   "source": [
    "from gensim.parsing.preprocessing import *\n",
    "from gensim import models, corpora, similarities\n",
    "from gensim.models.coherencemodel import CoherenceModel\n",
    "import pprint\n",
    "\n",
    "pp = pprint.PrettyPrinter(indent=4, compact=True,)"
   ]
  },
  {
   "cell_type": "markdown",
   "metadata": {},
   "source": [
    "The `gensim` package includes a module for pre-processing text strings. Here is a list of some of the functions there:\n",
    "\n",
    "* `strip_multiple_whitespaces`\n",
    "* `strip_non_alphanum`\n",
    "* `strip_numeric`\n",
    "* `strip_punctuation`\n",
    "* `strip_short`"
   ]
  },
  {
   "cell_type": "markdown",
   "metadata": {},
   "source": [
    "Remove frequently occuring \"noise\" so \"signal\" will not be drowned out."
   ]
  },
  {
   "cell_type": "code",
   "execution_count": 13,
   "metadata": {
    "tags": []
   },
   "outputs": [],
   "source": [
    "r1 = wine_reviews.description.values[0]"
   ]
  },
  {
   "cell_type": "code",
   "execution_count": 14,
   "metadata": {
    "tags": []
   },
   "outputs": [
    {
     "name": "stdout",
     "output_type": "stream",
     "text": [
      "[   'aromas', 'include', 'tropical', 'fruit,', 'broom,', 'brimstone', 'and',\n",
      "    'dried', 'herb.', 'the', 'palate', \"isn't\", 'overly', 'expressive,',\n",
      "    'offering', 'unripened', 'apple,', 'citrus', 'and', 'dried', 'sage',\n",
      "    'alongside', 'brisk', 'acidity.']\n"
     ]
    }
   ],
   "source": [
    "pp.pprint(r1.lower().split())"
   ]
  },
  {
   "cell_type": "code",
   "execution_count": 15,
   "metadata": {
    "tags": []
   },
   "outputs": [
    {
     "name": "stdout",
     "output_type": "stream",
     "text": [
      "[   'aromas', 'include', 'tropical', 'fruit', 'broom', 'brimstone', 'and',\n",
      "    'dried', 'herb', 'the', 'palate', 'isn', 't', 'overly', 'expressive',\n",
      "    'offering', 'unripened', 'apple', 'citrus', 'and', 'dried', 'sage',\n",
      "    'alongside', 'brisk', 'acidity']\n"
     ]
    }
   ],
   "source": [
    "pp.pprint(strip_punctuation(r1.lower()).split())"
   ]
  },
  {
   "cell_type": "code",
   "execution_count": 16,
   "metadata": {
    "tags": []
   },
   "outputs": [],
   "source": [
    "sent1 = 'This contains a number 144.'"
   ]
  },
  {
   "cell_type": "code",
   "execution_count": 17,
   "metadata": {
    "tags": []
   },
   "outputs": [
    {
     "name": "stdout",
     "output_type": "stream",
     "text": [
      "['this', 'contains', 'a', 'number', '.']\n"
     ]
    }
   ],
   "source": [
    "pp.pprint(strip_numeric(sent1.lower()).split())"
   ]
  },
  {
   "cell_type": "markdown",
   "metadata": {},
   "source": [
    "Since what we are about to do in the initial part of our activity is based on frequency counts of tokens, apart from some of the above steps, we are also going to remove common \"filler\" words that could end up skewing the eventual probability distributions of counts. These filler words are known as *stop words*. Linguists came up with them. They vary from model to model, from Python package to package, and of course, from language to language.\n",
    "\n",
    "It depends on your particular application if stop-word removal is meaningful or not. At times, it is only done in order to speed up the training of a model. However, it is possible to change the entire meaning of a sentence by removing stop-words."
   ]
  },
  {
   "cell_type": "code",
   "execution_count": 18,
   "metadata": {
    "tags": []
   },
   "outputs": [],
   "source": [
    "s1 = 'I do not like eating ice cream.'"
   ]
  },
  {
   "cell_type": "code",
   "execution_count": 19,
   "metadata": {
    "tags": []
   },
   "outputs": [
    {
     "data": {
      "text/plain": [
       "['I', 'like', 'eating', 'ice', 'cream.']"
      ]
     },
     "execution_count": 19,
     "metadata": {},
     "output_type": "execute_result"
    }
   ],
   "source": [
    "remove_stopwords(s1).split()"
   ]
  },
  {
   "cell_type": "code",
   "execution_count": 20,
   "metadata": {
    "tags": []
   },
   "outputs": [],
   "source": [
    "#pp.pprint(STOPWORDS)"
   ]
  },
  {
   "cell_type": "markdown",
   "metadata": {},
   "source": [
    "For us, we are going to apply this list of filters to each review:\n",
    "\n",
    "1. strip_punctuation(),\n",
    "2. strip_multiple_whitespaces(),\n",
    "3. strip_numeric(),\n",
    "4. remove_stopwords(),\n",
    "5. strip_short(),\n",
    "6. lemmatize"
   ]
  },
  {
   "cell_type": "markdown",
   "metadata": {},
   "source": [
    "Lemmatizing a word is to reduce it to its root word. You will come across stemming whenever you read about lemmatizing. In both cases, we wish to reduce a word to its root word so that we do not have to deal with multiple variations of a token, such as ate, eating, and eats.\n",
    "\n",
    "When we stem a word, the prefix and/or suffix will be removed according to a set of rules. Since it is primarily rule-based, the resulting word may not be an actual English word.\n",
    "\n",
    "Like stemming, lemmatizing also aims to reduce a word to its root form. However, it differs from stemming in that the final word must be a proper English language word. For this purpose, the algorithm has to be supplied with a lexicon or dictionary, along with the text to be lemmatized.\n",
    "\n",
    "Here is an example that demonstrates the differences."
   ]
  },
  {
   "cell_type": "code",
   "execution_count": 21,
   "metadata": {
    "tags": []
   },
   "outputs": [],
   "source": [
    "from nltk.stem import PorterStemmer, WordNetLemmatizer\n",
    "porter = PorterStemmer()\n",
    "wn = WordNetLemmatizer()\n",
    "\n",
    "demo_sentence = 'Cats and ponies have a meeting'.split()"
   ]
  },
  {
   "cell_type": "code",
   "execution_count": 22,
   "metadata": {
    "tags": []
   },
   "outputs": [
    {
     "data": {
      "text/plain": [
       "['Cats', 'and', 'ponies', 'have', 'a', 'meeting']"
      ]
     },
     "execution_count": 22,
     "metadata": {},
     "output_type": "execute_result"
    }
   ],
   "source": [
    "demo_sentence"
   ]
  },
  {
   "cell_type": "code",
   "execution_count": 23,
   "metadata": {
    "tags": []
   },
   "outputs": [
    {
     "data": {
      "text/plain": [
       "['cat', 'and', 'poni', 'have', 'a', 'meet']"
      ]
     },
     "execution_count": 23,
     "metadata": {},
     "output_type": "execute_result"
    }
   ],
   "source": [
    "[porter.stem(x) for x in demo_sentence]"
   ]
  },
  {
   "cell_type": "code",
   "execution_count": 24,
   "metadata": {
    "tags": []
   },
   "outputs": [
    {
     "data": {
      "text/plain": [
       "['Cats', 'and', 'pony', 'have', 'a', 'meeting']"
      ]
     },
     "execution_count": 24,
     "metadata": {},
     "output_type": "execute_result"
    }
   ],
   "source": [
    "# import nltk\n",
    "# nltk.download('omw-1.4')\n",
    "# nltk.download('wordnet')\n",
    "[wn.lemmatize(x) for x in demo_sentence]"
   ]
  },
  {
   "cell_type": "markdown",
   "metadata": {},
   "source": [
    "Now let us go ahead and perform the pre-processing on the wine reviews."
   ]
  },
  {
   "cell_type": "code",
   "execution_count": 25,
   "metadata": {
    "tags": []
   },
   "outputs": [],
   "source": [
    "CUSTOM_FILTER = [lambda x: x.lower(), strip_punctuation, \n",
    "                 strip_multiple_whitespaces, strip_numeric, \n",
    "                 remove_stopwords, strip_short]"
   ]
  },
  {
   "cell_type": "code",
   "execution_count": 26,
   "metadata": {
    "tags": []
   },
   "outputs": [],
   "source": [
    "all_review_strings = wine_reviews.description.values"
   ]
  },
  {
   "cell_type": "code",
   "execution_count": 27,
   "metadata": {
    "tags": []
   },
   "outputs": [],
   "source": [
    "all_strings_tokenized = [preprocess_string(x, CUSTOM_FILTER) for x in all_review_strings]"
   ]
  },
  {
   "cell_type": "code",
   "execution_count": 28,
   "metadata": {
    "tags": []
   },
   "outputs": [
    {
     "name": "stdout",
     "output_type": "stream",
     "text": [
      "[   'ripe', 'fruity', 'wine', 'smooth', 'structured', 'firm', 'tannins',\n",
      "    'filled', 'juicy', 'red', 'berry', 'fruits', 'freshened', 'acidity',\n",
      "    'drinkable', 'certainly', 'better']\n"
     ]
    }
   ],
   "source": [
    "pp.pprint(all_strings_tokenized[1])"
   ]
  },
  {
   "cell_type": "markdown",
   "metadata": {},
   "source": [
    "We prefer lemmatization over stemming. Lemmatization gives better resultant word as it gives the root word."
   ]
  },
  {
   "cell_type": "markdown",
   "metadata": {},
   "source": [
    "At this point in time, what we have is a list of lists. Each sub-list contains the tokens for a particular wine_review. For instance, the original review for row 234 was:"
   ]
  },
  {
   "cell_type": "code",
   "execution_count": 29,
   "metadata": {
    "tags": []
   },
   "outputs": [
    {
     "name": "stdout",
     "output_type": "stream",
     "text": [
      "('There is an odd, piercing edge to the aromas, a mix of acetic acid and '\n",
      " \"pungent herb, with a hint of diesel. Somehow it's not off-putting, just \"\n",
      " 'atypical. The light, tart fruit is a mix of rhubarb and cranberry, very '\n",
      " 'earthy and tasting of dirt and bark in the finish. This could be quite '\n",
      " 'pleasant with a hearty, rustic dish such as beef Bourgogne.')\n"
     ]
    }
   ],
   "source": [
    "pp.pprint(wine_reviews.description.values[233])"
   ]
  },
  {
   "cell_type": "code",
   "execution_count": 30,
   "metadata": {
    "tags": []
   },
   "outputs": [
    {
     "name": "stdout",
     "output_type": "stream",
     "text": [
      "[   'odd', 'piercing', 'edge', 'aromas', 'mix', 'acetic', 'acid', 'pungent',\n",
      "    'herb', 'hint', 'diesel', 'putting', 'atypical', 'light', 'tart', 'fruit',\n",
      "    'mix', 'rhubarb', 'cranberry', 'earthy', 'tasting', 'dirt', 'bark',\n",
      "    'finish', 'pleasant', 'hearty', 'rustic', 'dish', 'beef', 'bourgogne']\n"
     ]
    }
   ],
   "source": [
    "pp.pprint(all_strings_tokenized[233])"
   ]
  },
  {
   "cell_type": "markdown",
   "metadata": {},
   "source": [
    "`gensim` does not have a lemmatizer, so we use the nltk lemmatizer on each token."
   ]
  },
  {
   "cell_type": "code",
   "execution_count": 31,
   "metadata": {
    "tags": []
   },
   "outputs": [],
   "source": [
    "preprocessed_corpus = [[wn.lemmatize(w) for w in dd ] for dd in all_strings_tokenized]"
   ]
  },
  {
   "cell_type": "code",
   "execution_count": 32,
   "metadata": {
    "tags": []
   },
   "outputs": [
    {
     "name": "stdout",
     "output_type": "stream",
     "text": [
      "[   'soft', 'supple', 'plum', 'envelope', 'oaky', 'structure', 'cabernet',\n",
      "    'supported', 'merlot', 'coffee', 'chocolate', 'complete', 'picture',\n",
      "    'finishing', 'strong', 'end', 'resulting', 'value', 'priced', 'wine',\n",
      "    'attractive', 'flavor', 'immediate', 'accessibility']\n"
     ]
    }
   ],
   "source": [
    "pp.pprint(preprocessed_corpus[10])"
   ]
  },
  {
   "cell_type": "code",
   "execution_count": 33,
   "metadata": {
    "tags": []
   },
   "outputs": [
    {
     "name": "stdout",
     "output_type": "stream",
     "text": [
      "[   'soft', 'supple', 'plum', 'envelopes', 'oaky', 'structure', 'cabernet',\n",
      "    'supported', 'merlot', 'coffee', 'chocolate', 'complete', 'picture',\n",
      "    'finishing', 'strong', 'end', 'resulting', 'value', 'priced', 'wine',\n",
      "    'attractive', 'flavor', 'immediate', 'accessibility']\n"
     ]
    }
   ],
   "source": [
    "pp.pprint(all_strings_tokenized[10])"
   ]
  },
  {
   "cell_type": "markdown",
   "metadata": {},
   "source": [
    "<a id='bow'></a>\n",
    "# 3. Tfidf Model (Bag-of-Words)\n",
    "<a href=#top>(back to top)</a>\n",
    "\n",
    "In order to perform machine learning on text documents, we have to convert the text content into numerical features. The first method we shall study is to use the Bag of Words (BoW) representation. Here's how it is done, starting from a corpus:\n",
    "\n",
    "1. Build a vocabulary of words from the corpus and assign a fixed integer id to each word.\n",
    "2. For each document $i$ in the collection, count the number of occurrences of word $j$ in the dictionary.\n",
    "3. Store this count in the $(i,j)$-th entry of a matrix.\n",
    "\n",
    "At this point we have a numerical representation of the corpus. Let us take a look at a simple example instead of the wine review one."
   ]
  },
  {
   "cell_type": "code",
   "execution_count": 34,
   "metadata": {
    "tags": []
   },
   "outputs": [],
   "source": [
    "raw_docs = [\"Here are some very simple basic sentences.\",\n",
    "            \"So basic that they won’t be very interesting , I’m afraid. \", \n",
    "            \"\"\"The point of these basic examples is to learn how basic text \n",
    "            counting works on *very simple* data, so that we are not afraid when \n",
    "            it comes to larger text documents. The sentences are here just to provide words.\"\"\"]"
   ]
  },
  {
   "cell_type": "code",
   "execution_count": 35,
   "metadata": {
    "tags": []
   },
   "outputs": [
    {
     "data": {
      "text/plain": [
       "'The point of these basic examples is to learn how basic text \\n            counting works on *very simple* data, so that we are not afraid when \\n            it comes to larger text documents. The sentences are here just to provide words.'"
      ]
     },
     "execution_count": 35,
     "metadata": {},
     "output_type": "execute_result"
    }
   ],
   "source": [
    "raw_docs[2]"
   ]
  },
  {
   "cell_type": "markdown",
   "metadata": {},
   "source": [
    "We apply the default pre-processing filters from gensim and inspect the tokens now."
   ]
  },
  {
   "cell_type": "code",
   "execution_count": 36,
   "metadata": {
    "tags": []
   },
   "outputs": [],
   "source": [
    "example_corpus = preprocess_documents(raw_docs)"
   ]
  },
  {
   "cell_type": "code",
   "execution_count": 37,
   "metadata": {
    "tags": []
   },
   "outputs": [
    {
     "name": "stdout",
     "output_type": "stream",
     "text": [
      "[   ['simpl', 'basic', 'sentenc'],\n",
      "    ['basic', 'won’t', 'interest', 'i’m', 'afraid'],\n",
      "    [   'point', 'basic', 'exampl', 'learn', 'basic', 'text', 'count', 'work',\n",
      "        'simpl', 'data', 'afraid', 'come', 'larger', 'text', 'document',\n",
      "        'sentenc', 'provid', 'word']]\n"
     ]
    }
   ],
   "source": [
    "pp.pprint(example_corpus)"
   ]
  },
  {
   "cell_type": "markdown",
   "metadata": {},
   "source": [
    "In what proceeds, we build a vocabulary of terms in the corpus, and convert them to the Bag of Words representation."
   ]
  },
  {
   "cell_type": "code",
   "execution_count": 38,
   "metadata": {
    "tags": []
   },
   "outputs": [],
   "source": [
    "d1 = corpora.Dictionary(example_corpus)"
   ]
  },
  {
   "cell_type": "code",
   "execution_count": 39,
   "metadata": {
    "tags": []
   },
   "outputs": [
    {
     "data": {
      "text/plain": [
       "<gensim.corpora.dictionary.Dictionary at 0x7f537edf89a0>"
      ]
     },
     "execution_count": 39,
     "metadata": {},
     "output_type": "execute_result"
    }
   ],
   "source": [
    "d1"
   ]
  },
  {
   "cell_type": "code",
   "execution_count": 40,
   "metadata": {
    "tags": []
   },
   "outputs": [
    {
     "data": {
      "text/plain": [
       "'word'"
      ]
     },
     "execution_count": 40,
     "metadata": {},
     "output_type": "execute_result"
    }
   ],
   "source": [
    "d1[17]"
   ]
  },
  {
   "cell_type": "code",
   "execution_count": 41,
   "metadata": {
    "tags": []
   },
   "outputs": [
    {
     "name": "stdout",
     "output_type": "stream",
     "text": [
      "[   (0, 'basic'), (1, 'sentenc'), (2, 'simpl'), (3, 'afraid'), (4, 'interest'),\n",
      "    (5, 'i’m'), (6, 'won’t'), (7, 'come'), (8, 'count'), (9, 'data'),\n",
      "    (10, 'document'), (11, 'exampl'), (12, 'larger'), (13, 'learn'),\n",
      "    (14, 'point'), (15, 'provid'), (16, 'text'), (17, 'word'), (18, 'work')]\n"
     ]
    }
   ],
   "source": [
    "pp.pprint(list(d1.items()))"
   ]
  },
  {
   "cell_type": "code",
   "execution_count": 42,
   "metadata": {
    "tags": []
   },
   "outputs": [
    {
     "name": "stdout",
     "output_type": "stream",
     "text": [
      "Dictionary<19 unique tokens: ['basic', 'sentenc', 'simpl', 'afraid', 'interest']...>\n"
     ]
    }
   ],
   "source": [
    "print(d1)"
   ]
  },
  {
   "cell_type": "code",
   "execution_count": 43,
   "metadata": {
    "tags": []
   },
   "outputs": [
    {
     "data": {
      "text/plain": [
       "0"
      ]
     },
     "execution_count": 43,
     "metadata": {},
     "output_type": "execute_result"
    }
   ],
   "source": [
    "d1.token2id['basic']"
   ]
  },
  {
   "cell_type": "code",
   "execution_count": 44,
   "metadata": {
    "tags": []
   },
   "outputs": [
    {
     "data": {
      "text/plain": [
       "'text'"
      ]
     },
     "execution_count": 44,
     "metadata": {},
     "output_type": "execute_result"
    }
   ],
   "source": [
    "d1.id2token[16]"
   ]
  },
  {
   "cell_type": "code",
   "execution_count": 45,
   "metadata": {
    "tags": []
   },
   "outputs": [
    {
     "name": "stdout",
     "output_type": "stream",
     "text": [
      "[   [(0, 1), (1, 1), (2, 1)], [(0, 1), (3, 1), (4, 1), (5, 1), (6, 1)],\n",
      "    [   (0, 2), (1, 1), (2, 1), (3, 1), (7, 1), (8, 1), (9, 1), (10, 1),\n",
      "        (11, 1), (12, 1), (13, 1), (14, 1), (15, 1), (16, 2), (17, 1),\n",
      "        (18, 1)]]\n"
     ]
    }
   ],
   "source": [
    "example_bow = [d1.doc2bow(x) for x in example_corpus]\n",
    "pp.pprint(example_bow)"
   ]
  },
  {
   "cell_type": "markdown",
   "metadata": {},
   "source": [
    "Now, we have a sparse representation of each document in our corpus. We can in fact convert it back to the processed corpus mode at any time.\n",
    "\n",
    "The counts indicate the number of times each feature (or words) were present in the document. As you might observe, longer documents tend to contain larger counts (see document 3, which has many more 1's and even a couple of 2's. Thus, instead of dealing with counts, \n",
    "we shall convert each row into a vector of length 1. Words that appear in all documents will be weighted down by this transformation, since these do not help to distinguish the document from others. This transformation is known as the TF-IDF transformation.\n",
    "\n",
    "Instead of the raw counts, we define:\n",
    "\n",
    "* $N$ to be the number of documents ($N=3$ in the little example above).\n",
    "* $tf_{i,j}$ to be the frequency of term $i$ in document $j$.\n",
    "* $df_{i}$ to be the frequency of term $i$ across all documents.\n",
    "* $w'_{i,j}$ to be: \n",
    "\n",
    "\\begin{equation}\n",
    "w'_{i,j} = tf_{i,j} \\times \\log_2 \\left( \\frac{N}{df_{i}} \\right)\n",
    "\\end{equation}\n",
    "\n",
    "Then the final $w_{i,j}$ for term $i$ in document $j$ is the normalised version of $w'_{i,j}$ across the terms in that document. \n",
    "\n",
    "Consider the word \"sentences\", in document id 02 (the third document).\n",
    "* $N = 3$\n",
    "* $tf_{i,j} = 1$\n",
    "* $df_{i} = 2$\n",
    "\n",
    "Thus\n",
    "\n",
    "\\begin{equation}\n",
    "w'_{ij} = 1 \\times \\log_2 ( 3/2) = 0.58\n",
    "\\end{equation}"
   ]
  },
  {
   "cell_type": "markdown",
   "metadata": {},
   "source": [
    "to be useful, need to change w'ij to wij, which is the normalised form of w'ij.    \n",
    "wij = w'ij/|sqrt(sum((w'ij)^2)|   "
   ]
  },
  {
   "cell_type": "code",
   "execution_count": 79,
   "metadata": {
    "tags": []
   },
   "outputs": [],
   "source": [
    "example_tfidf = models.TfidfModel(example_bow, normalize=False)"
   ]
  },
  {
   "cell_type": "code",
   "execution_count": 49,
   "metadata": {
    "tags": []
   },
   "outputs": [
    {
     "data": {
      "text/plain": [
       "[(0, 1), (1, 1), (2, 1)]"
      ]
     },
     "execution_count": 49,
     "metadata": {},
     "output_type": "execute_result"
    }
   ],
   "source": [
    "example_bow[0]"
   ]
  },
  {
   "cell_type": "markdown",
   "metadata": {},
   "source": [
    "## When normalising, it against the entire document collection? Or is it in that corpus only? "
   ]
  },
  {
   "cell_type": "markdown",
   "metadata": {},
   "source": [
    "return the weights for tfidf bag of word at position 0"
   ]
  },
  {
   "cell_type": "code",
   "execution_count": 50,
   "metadata": {
    "tags": []
   },
   "outputs": [
    {
     "name": "stdout",
     "output_type": "stream",
     "text": [
      "[(1, 0.5849625007211562), (2, 0.5849625007211562)]\n"
     ]
    }
   ],
   "source": [
    "pp.pprint(example_tfidf[example_bow[0]])"
   ]
  },
  {
   "cell_type": "code",
   "execution_count": 55,
   "metadata": {
    "tags": []
   },
   "outputs": [
    {
     "name": "stdout",
     "output_type": "stream",
     "text": [
      "[   (3, 0.5849625007211562), (4, 1.5849625007211563), (5, 1.5849625007211563),\n",
      "    (6, 1.5849625007211563)]\n"
     ]
    }
   ],
   "source": [
    "pp.pprint(example_tfidf[example_bow[1]])"
   ]
  },
  {
   "cell_type": "code",
   "execution_count": 56,
   "metadata": {
    "tags": []
   },
   "outputs": [
    {
     "name": "stdout",
     "output_type": "stream",
     "text": [
      "[   (1, 0.5849625007211562), (2, 0.5849625007211562), (3, 0.5849625007211562),\n",
      "    (7, 1.5849625007211563), (8, 1.5849625007211563), (9, 1.5849625007211563),\n",
      "    (10, 1.5849625007211563), (11, 1.5849625007211563),\n",
      "    (12, 1.5849625007211563), (13, 1.5849625007211563),\n",
      "    (14, 1.5849625007211563), (15, 1.5849625007211563),\n",
      "    (16, 3.1699250014423126), (17, 1.5849625007211563),\n",
      "    (18, 1.5849625007211563)]\n"
     ]
    }
   ],
   "source": [
    "pp.pprint(example_tfidf[example_bow[2]])"
   ]
  },
  {
   "cell_type": "code",
   "execution_count": 51,
   "metadata": {
    "tags": []
   },
   "outputs": [
    {
     "name": "stdout",
     "output_type": "stream",
     "text": [
      "[(0, 1), (1, 1), (2, 1)]\n"
     ]
    }
   ],
   "source": [
    "pp.pprint(example_bow[0])"
   ]
  },
  {
   "cell_type": "code",
   "execution_count": 53,
   "metadata": {
    "tags": []
   },
   "outputs": [
    {
     "data": {
      "text/plain": [
       "[(0, 1), (3, 1), (4, 1), (5, 1), (6, 1)]"
      ]
     },
     "execution_count": 53,
     "metadata": {},
     "output_type": "execute_result"
    }
   ],
   "source": [
    "example_bow[1]"
   ]
  },
  {
   "cell_type": "code",
   "execution_count": 54,
   "metadata": {
    "tags": []
   },
   "outputs": [
    {
     "data": {
      "text/plain": [
       "[(0, 2),\n",
       " (1, 1),\n",
       " (2, 1),\n",
       " (3, 1),\n",
       " (7, 1),\n",
       " (8, 1),\n",
       " (9, 1),\n",
       " (10, 1),\n",
       " (11, 1),\n",
       " (12, 1),\n",
       " (13, 1),\n",
       " (14, 1),\n",
       " (15, 1),\n",
       " (16, 2),\n",
       " (17, 1),\n",
       " (18, 1)]"
      ]
     },
     "execution_count": 54,
     "metadata": {},
     "output_type": "execute_result"
    }
   ],
   "source": [
    "example_bow[2]"
   ]
  },
  {
   "cell_type": "code",
   "execution_count": 52,
   "metadata": {
    "tags": []
   },
   "outputs": [
    {
     "name": "stdout",
     "output_type": "stream",
     "text": [
      "[(3, 0.5849625007211562), (9, 1.5849625007211563)]\n"
     ]
    }
   ],
   "source": [
    "pp.pprint(example_tfidf[d1.doc2bow(['basic', 'afraid', 'data'])])"
   ]
  },
  {
   "cell_type": "markdown",
   "metadata": {},
   "source": [
    "Now let us move back to the wine reviews and create the tfidf transform."
   ]
  },
  {
   "cell_type": "code",
   "execution_count": 57,
   "metadata": {
    "tags": []
   },
   "outputs": [],
   "source": [
    "dct = corpora.Dictionary(preprocessed_corpus)"
   ]
  },
  {
   "cell_type": "code",
   "execution_count": 58,
   "metadata": {
    "tags": []
   },
   "outputs": [
    {
     "data": {
      "text/plain": [
       "(31830, 'krause')"
      ]
     },
     "execution_count": 58,
     "metadata": {},
     "output_type": "execute_result"
    }
   ],
   "source": [
    "list(dct.items())[-1]"
   ]
  },
  {
   "cell_type": "code",
   "execution_count": 59,
   "metadata": {
    "scrolled": true,
    "tags": []
   },
   "outputs": [
    {
     "data": {
      "text/plain": [
       "1"
      ]
     },
     "execution_count": 59,
     "metadata": {},
     "output_type": "execute_result"
    }
   ],
   "source": [
    "dct.dfs[31830]"
   ]
  },
  {
   "cell_type": "code",
   "execution_count": 60,
   "metadata": {
    "tags": []
   },
   "outputs": [
    {
     "data": {
      "text/plain": [
       "1.9375037144559755"
      ]
     },
     "execution_count": 60,
     "metadata": {},
     "output_type": "execute_result"
    }
   ],
   "source": [
    "np.log2(119988/31325)"
   ]
  },
  {
   "cell_type": "code",
   "execution_count": 61,
   "metadata": {
    "tags": []
   },
   "outputs": [],
   "source": [
    "#dct.num_docs\n",
    "bow_corpus = [dct.doc2bow(text) for text in preprocessed_corpus]"
   ]
  },
  {
   "cell_type": "code",
   "execution_count": 62,
   "metadata": {
    "tags": []
   },
   "outputs": [
    {
     "name": "stdout",
     "output_type": "stream",
     "text": [
      "[   (0, 1), (1, 1), (2, 1), (3, 1), (4, 1), (5, 1), (6, 1), (7, 1), (8, 2),\n",
      "    (9, 1), (10, 1), (11, 1), (12, 1), (13, 1), (14, 1), (15, 1), (16, 1),\n",
      "    (17, 1), (18, 1), (19, 1)]\n"
     ]
    }
   ],
   "source": [
    "pp.pprint(bow_corpus[0])"
   ]
  },
  {
   "cell_type": "code",
   "execution_count": 63,
   "metadata": {
    "tags": []
   },
   "outputs": [
    {
     "name": "stdout",
     "output_type": "stream",
     "text": [
      "[   'aroma', 'include', 'tropical', 'fruit', 'broom', 'brimstone', 'dried',\n",
      "    'herb', 'palate', 'isn', 'overly', 'expressive', 'offering', 'unripened',\n",
      "    'apple', 'citrus', 'dried', 'sage', 'alongside', 'brisk', 'acidity']\n"
     ]
    }
   ],
   "source": [
    "pp.pprint(preprocessed_corpus[0])"
   ]
  },
  {
   "cell_type": "code",
   "execution_count": 64,
   "metadata": {
    "tags": []
   },
   "outputs": [],
   "source": [
    "tfidf = models.TfidfModel(dictionary=dct)"
   ]
  },
  {
   "cell_type": "markdown",
   "metadata": {},
   "source": [
    ".doc2bow ==> feed "
   ]
  },
  {
   "cell_type": "code",
   "execution_count": 65,
   "metadata": {
    "tags": []
   },
   "outputs": [
    {
     "name": "stdout",
     "output_type": "stream",
     "text": [
      "[   (0, 0.06268421784699893), (1, 0.14974508293522842), (2, 0.1052742031026895),\n",
      "    (3, 0.05486348650362946), (4, 0.35883356871086886),\n",
      "    (5, 0.19276437299529803), (6, 0.30616173997651897), (7, 0.1146637303460399),\n",
      "    (8, 0.2679070243551733), (9, 0.2496099750302706), (10, 0.03993042791710815),\n",
      "    (11, 0.11697054700080736), (12, 0.24584250178188813),\n",
      "    (13, 0.24816130465597763), (14, 0.18222341765984254),\n",
      "    (15, 0.2564656935097344), (16, 0.05825113530972409),\n",
      "    (17, 0.201809456382074), (18, 0.16626545281578367),\n",
      "    (19, 0.49459995465236584)]\n"
     ]
    }
   ],
   "source": [
    "pp.pprint(tfidf[dct.doc2bow(preprocessed_corpus[0])])\n",
    "#pp.pprint(tfidf[bow_corpus[0]])"
   ]
  },
  {
   "cell_type": "markdown",
   "metadata": {},
   "source": [
    "Vector here is unit length. (Unit vector)  \n",
    "Only none 0 term frequency is shown. "
   ]
  },
  {
   "cell_type": "code",
   "execution_count": 66,
   "metadata": {
    "tags": []
   },
   "outputs": [],
   "source": [
    "# Unspect token 19 as it is large\n",
    "# 19 is the word \"unripened\""
   ]
  },
  {
   "cell_type": "markdown",
   "metadata": {},
   "source": [
    "### Purpose ==> find similarity of new document compared with current documents"
   ]
  },
  {
   "cell_type": "markdown",
   "metadata": {},
   "source": [
    "Before we can find matching documents, we build a similarity index, so that matches are returned quicker. We try something simple at first:\n",
    "\n",
    "> Which documents/reviews are similar to the first one?"
   ]
  },
  {
   "cell_type": "code",
   "execution_count": 67,
   "metadata": {
    "tags": []
   },
   "outputs": [],
   "source": [
    "index = similarities.Similarity(None, corpus=tfidf[bow_corpus], num_features=len(dct))"
   ]
  },
  {
   "cell_type": "code",
   "execution_count": 68,
   "metadata": {
    "tags": []
   },
   "outputs": [],
   "source": [
    "sims = index[tfidf[bow_corpus[0]]]"
   ]
  },
  {
   "cell_type": "code",
   "execution_count": 70,
   "metadata": {
    "tags": []
   },
   "outputs": [
    {
     "data": {
      "text/plain": [
       "(119988,)"
      ]
     },
     "execution_count": 70,
     "metadata": {},
     "output_type": "execute_result"
    }
   ],
   "source": [
    "sims.shape"
   ]
  },
  {
   "cell_type": "code",
   "execution_count": 69,
   "metadata": {
    "tags": []
   },
   "outputs": [
    {
     "data": {
      "text/plain": [
       "array([1.0000001 , 0.00812111, 0.00441876, ..., 0.        , 0.02309647,\n",
       "       0.00208725], dtype=float32)"
      ]
     },
     "execution_count": 69,
     "metadata": {},
     "output_type": "execute_result"
    }
   ],
   "source": [
    "sims"
   ]
  },
  {
   "cell_type": "markdown",
   "metadata": {},
   "source": [
    "These are the most similar reviews to review id 0. Of course, the first review itself is there!"
   ]
  },
  {
   "cell_type": "code",
   "execution_count": 71,
   "metadata": {
    "tags": []
   },
   "outputs": [
    {
     "data": {
      "text/plain": [
       "array([     0, 108537,   2000,   9929,   9936,  28448,  35689,  49079,\n",
       "       102482,  25705])"
      ]
     },
     "execution_count": 71,
     "metadata": {},
     "output_type": "execute_result"
    }
   ],
   "source": [
    "# Find the 10 most similar documents to document 0\n",
    "np.argsort(-sims)[:10]"
   ]
  },
  {
   "cell_type": "code",
   "execution_count": 72,
   "metadata": {
    "tags": []
   },
   "outputs": [
    {
     "name": "stdout",
     "output_type": "stream",
     "text": [
      "array([\"Aromas include tropical fruit, broom, brimstone and dried herb. The palate isn't overly expressive, offering unripened apple, citrus and dried sage alongside brisk acidity.\",\n",
      "       'Densely tannic and rich, this is full of ripe chocolate and blackberry fruit. It is dark, brooding and dense—a great success for the second wine of Château du Glana.',\n",
      "       \"The nose isn't very expressive but reveals white flower and tropical fruit. The simple palate delivers pineapple and lemon zest alongside brisk acidity.\",\n",
      "       'From a top subsection of McLaren Vale, this well-crafted Shiraz features a nice balance of sweet and savory notes. Ripe blackberry and plum flavors are matched by nuances of cedar, spice and meat. This creamy-textured Shiraz seems to be already approaching maturity; drink it now through 2012.'],\n",
      "      dtype=object)\n"
     ]
    }
   ],
   "source": [
    "pp.pprint(wine_reviews.description[[0, 108537, 2000, 9929]].values)"
   ]
  },
  {
   "cell_type": "code",
   "execution_count": 73,
   "metadata": {
    "tags": []
   },
   "outputs": [
    {
     "data": {
      "text/html": [
       "<div>\n",
       "<style scoped>\n",
       "    .dataframe tbody tr th:only-of-type {\n",
       "        vertical-align: middle;\n",
       "    }\n",
       "\n",
       "    .dataframe tbody tr th {\n",
       "        vertical-align: top;\n",
       "    }\n",
       "\n",
       "    .dataframe thead th {\n",
       "        text-align: right;\n",
       "    }\n",
       "</style>\n",
       "<table border=\"1\" class=\"dataframe\">\n",
       "  <thead>\n",
       "    <tr style=\"text-align: right;\">\n",
       "      <th></th>\n",
       "      <th>country</th>\n",
       "      <th>description</th>\n",
       "      <th>designation</th>\n",
       "      <th>points</th>\n",
       "      <th>price</th>\n",
       "      <th>province</th>\n",
       "      <th>region_1</th>\n",
       "      <th>region_2</th>\n",
       "      <th>taster_name</th>\n",
       "      <th>taster_twitter_handle</th>\n",
       "      <th>title</th>\n",
       "      <th>variety</th>\n",
       "      <th>winery</th>\n",
       "    </tr>\n",
       "  </thead>\n",
       "  <tbody>\n",
       "    <tr>\n",
       "      <th>0</th>\n",
       "      <td>Italy</td>\n",
       "      <td>Aromas include tropical fruit, broom, brimston...</td>\n",
       "      <td>Vulkà Bianco</td>\n",
       "      <td>87</td>\n",
       "      <td>NaN</td>\n",
       "      <td>Sicily &amp; Sardinia</td>\n",
       "      <td>Etna</td>\n",
       "      <td>NaN</td>\n",
       "      <td>Kerin O’Keefe</td>\n",
       "      <td>@kerinokeefe</td>\n",
       "      <td>Nicosia 2013 Vulkà Bianco  (Etna)</td>\n",
       "      <td>White Blend</td>\n",
       "      <td>Nicosia</td>\n",
       "    </tr>\n",
       "    <tr>\n",
       "      <th>108537</th>\n",
       "      <td>France</td>\n",
       "      <td>Densely tannic and rich, this is full of ripe ...</td>\n",
       "      <td>Terre du Lion</td>\n",
       "      <td>90</td>\n",
       "      <td>64.0</td>\n",
       "      <td>Bordeaux</td>\n",
       "      <td>Saint-Julien</td>\n",
       "      <td>NaN</td>\n",
       "      <td>Roger Voss</td>\n",
       "      <td>@vossroger</td>\n",
       "      <td>Château du Glana 2009 Terre du Lion  (Saint-Ju...</td>\n",
       "      <td>Bordeaux-style Red Blend</td>\n",
       "      <td>Château du Glana</td>\n",
       "    </tr>\n",
       "    <tr>\n",
       "      <th>2000</th>\n",
       "      <td>Italy</td>\n",
       "      <td>The nose isn't very expressive but reveals whi...</td>\n",
       "      <td>Baglio del Sole</td>\n",
       "      <td>84</td>\n",
       "      <td>12.0</td>\n",
       "      <td>Sicily &amp; Sardinia</td>\n",
       "      <td>Sicilia</td>\n",
       "      <td>NaN</td>\n",
       "      <td>Kerin O’Keefe</td>\n",
       "      <td>@kerinokeefe</td>\n",
       "      <td>Feudi del Pisciotto 2013 Baglio del Sole Inzol...</td>\n",
       "      <td>Inzolia</td>\n",
       "      <td>Feudi del Pisciotto</td>\n",
       "    </tr>\n",
       "    <tr>\n",
       "      <th>9929</th>\n",
       "      <td>Australia</td>\n",
       "      <td>From a top subsection of McLaren Vale, this we...</td>\n",
       "      <td>Angel Gully</td>\n",
       "      <td>90</td>\n",
       "      <td>50.0</td>\n",
       "      <td>South Australia</td>\n",
       "      <td>Clarendon</td>\n",
       "      <td>NaN</td>\n",
       "      <td>Joe Czerwinski</td>\n",
       "      <td>@JoeCz</td>\n",
       "      <td>Joseph 2003 Angel Gully Shiraz (Clarendon)</td>\n",
       "      <td>Shiraz</td>\n",
       "      <td>Joseph</td>\n",
       "    </tr>\n",
       "  </tbody>\n",
       "</table>\n",
       "</div>"
      ],
      "text/plain": [
       "          country                                        description  \\\n",
       "0           Italy  Aromas include tropical fruit, broom, brimston...   \n",
       "108537     France  Densely tannic and rich, this is full of ripe ...   \n",
       "2000        Italy  The nose isn't very expressive but reveals whi...   \n",
       "9929    Australia  From a top subsection of McLaren Vale, this we...   \n",
       "\n",
       "            designation  points  price           province      region_1  \\\n",
       "0          Vulkà Bianco      87    NaN  Sicily & Sardinia          Etna   \n",
       "108537    Terre du Lion      90   64.0           Bordeaux  Saint-Julien   \n",
       "2000    Baglio del Sole      84   12.0  Sicily & Sardinia       Sicilia   \n",
       "9929        Angel Gully      90   50.0    South Australia     Clarendon   \n",
       "\n",
       "       region_2     taster_name taster_twitter_handle  \\\n",
       "0           NaN   Kerin O’Keefe          @kerinokeefe   \n",
       "108537      NaN      Roger Voss            @vossroger   \n",
       "2000        NaN   Kerin O’Keefe          @kerinokeefe   \n",
       "9929        NaN  Joe Czerwinski                @JoeCz   \n",
       "\n",
       "                                                    title  \\\n",
       "0                       Nicosia 2013 Vulkà Bianco  (Etna)   \n",
       "108537  Château du Glana 2009 Terre du Lion  (Saint-Ju...   \n",
       "2000    Feudi del Pisciotto 2013 Baglio del Sole Inzol...   \n",
       "9929           Joseph 2003 Angel Gully Shiraz (Clarendon)   \n",
       "\n",
       "                         variety               winery  \n",
       "0                    White Blend              Nicosia  \n",
       "108537  Bordeaux-style Red Blend     Château du Glana  \n",
       "2000                     Inzolia  Feudi del Pisciotto  \n",
       "9929                      Shiraz               Joseph  "
      ]
     },
     "execution_count": 73,
     "metadata": {},
     "output_type": "execute_result"
    }
   ],
   "source": [
    "wine_reviews.loc[[0, 108537, 2000, 9929], :]"
   ]
  },
  {
   "cell_type": "code",
   "execution_count": null,
   "metadata": {
    "tags": []
   },
   "outputs": [],
   "source": [
    "#sims = index[tfidf[bow_corpus[20]]]"
   ]
  },
  {
   "cell_type": "markdown",
   "metadata": {},
   "source": [
    "Now let us try an arbitrary query. Suppose we are interested in \"fruity full palate\" wines."
   ]
  },
  {
   "cell_type": "code",
   "execution_count": 74,
   "metadata": {
    "tags": []
   },
   "outputs": [
    {
     "data": {
      "text/plain": [
       "['acidic', 'oaky', 'chardonnay']"
      ]
     },
     "execution_count": 74,
     "metadata": {},
     "output_type": "execute_result"
    }
   ],
   "source": [
    "q1 = 'acidic oaky chardonnay'.split()\n",
    "q1"
   ]
  },
  {
   "cell_type": "code",
   "execution_count": 75,
   "metadata": {
    "tags": []
   },
   "outputs": [],
   "source": [
    "sims = index[tfidf[dct.doc2bow(q1)]]"
   ]
  },
  {
   "cell_type": "code",
   "execution_count": 76,
   "metadata": {
    "tags": []
   },
   "outputs": [
    {
     "data": {
      "text/plain": [
       "array([  3971,  84197,  12031,  47036,  89276, 102148,   3655,  14083,\n",
       "        66227,  84069])"
      ]
     },
     "execution_count": 76,
     "metadata": {},
     "output_type": "execute_result"
    }
   ],
   "source": [
    "q1_results = np.argsort(-sims)[:10]\n",
    "q1_results"
   ]
  },
  {
   "cell_type": "code",
   "execution_count": 77,
   "metadata": {
    "tags": []
   },
   "outputs": [
    {
     "name": "stdout",
     "output_type": "stream",
     "text": [
      "array(['A nice wine, good and dry. It has forward peach, pineapple, apricot and oaky vanilla and caramel flavors, and a finely acidic finish.',\n",
      "       'A standard Chardonnay, dry and nicely acidic, with citrus, pear, vanilla, lees and oak flavors.',\n",
      "       'Dry and acidic, this Chardonnay has a herbaceous earthiness, plus flavors of orange and pear.',\n",
      "       'A heavy, oaky Chardonnay whose tropical fruit and vanilla flavors are dull.',\n",
      "       'This is thin and acidic, with flavors of sour cherry candy and spice.',\n",
      "       'This is acidic and sweet, with a medicinal taste.',\n",
      "       \"Oaky and strong in jammy fruit, this Chardonnay has potent pineapple, tropical fruit and buttered caramel popcorn flavors. It's also quite acidic. Would benefit from greater control and nuance.\",\n",
      "       'Dry and oaky, this Chardonnay offers herb-inflected pineapple and pear flavors.',\n",
      "       \"Dry, acidic, oaky, it'also a little herbaceous. Orange and mango flavors are enhanced with plenty of oak. While it's elegant, it's not especially rich.\",\n",
      "       'A vibrantly acidic, fresh young Chardonnay, clean and oaky, with sweet, candied flavors of tangerines, vanilla, minerals and buttered toast. Could be a little more complex and challenging. Let it breathe for a while.'],\n",
      "      dtype=object)\n"
     ]
    }
   ],
   "source": [
    "pp.pprint(wine_reviews.description.values[q1_results])"
   ]
  },
  {
   "cell_type": "code",
   "execution_count": 78,
   "metadata": {
    "tags": []
   },
   "outputs": [
    {
     "data": {
      "text/html": [
       "<div>\n",
       "<style scoped>\n",
       "    .dataframe tbody tr th:only-of-type {\n",
       "        vertical-align: middle;\n",
       "    }\n",
       "\n",
       "    .dataframe tbody tr th {\n",
       "        vertical-align: top;\n",
       "    }\n",
       "\n",
       "    .dataframe thead th {\n",
       "        text-align: right;\n",
       "    }\n",
       "</style>\n",
       "<table border=\"1\" class=\"dataframe\">\n",
       "  <thead>\n",
       "    <tr style=\"text-align: right;\">\n",
       "      <th></th>\n",
       "      <th>country</th>\n",
       "      <th>description</th>\n",
       "      <th>designation</th>\n",
       "      <th>points</th>\n",
       "      <th>price</th>\n",
       "      <th>province</th>\n",
       "      <th>region_1</th>\n",
       "      <th>region_2</th>\n",
       "      <th>taster_name</th>\n",
       "      <th>taster_twitter_handle</th>\n",
       "      <th>title</th>\n",
       "      <th>variety</th>\n",
       "      <th>winery</th>\n",
       "    </tr>\n",
       "  </thead>\n",
       "  <tbody>\n",
       "    <tr>\n",
       "      <th>3981</th>\n",
       "      <td>US</td>\n",
       "      <td>A nice wine, good and dry. It has forward peac...</td>\n",
       "      <td>NaN</td>\n",
       "      <td>85</td>\n",
       "      <td>20.0</td>\n",
       "      <td>California</td>\n",
       "      <td>Russian River Valley</td>\n",
       "      <td>Sonoma</td>\n",
       "      <td>NaN</td>\n",
       "      <td>NaN</td>\n",
       "      <td>Bearboat 2004 Chardonnay (Russian River Valley)</td>\n",
       "      <td>Chardonnay</td>\n",
       "      <td>Bearboat</td>\n",
       "    </tr>\n",
       "    <tr>\n",
       "      <th>88912</th>\n",
       "      <td>US</td>\n",
       "      <td>A standard Chardonnay, dry and nicely acidic, ...</td>\n",
       "      <td>NaN</td>\n",
       "      <td>84</td>\n",
       "      <td>14.0</td>\n",
       "      <td>California</td>\n",
       "      <td>Russian River Valley</td>\n",
       "      <td>Sonoma</td>\n",
       "      <td>NaN</td>\n",
       "      <td>NaN</td>\n",
       "      <td>Adler Fels 2010 Chardonnay (Russian River Valley)</td>\n",
       "      <td>Chardonnay</td>\n",
       "      <td>Adler Fels</td>\n",
       "    </tr>\n",
       "    <tr>\n",
       "      <th>12082</th>\n",
       "      <td>US</td>\n",
       "      <td>Dry and acidic, this Chardonnay has a herbaceo...</td>\n",
       "      <td>Orchard Vineyard</td>\n",
       "      <td>86</td>\n",
       "      <td>40.0</td>\n",
       "      <td>California</td>\n",
       "      <td>Napa Valley</td>\n",
       "      <td>Napa</td>\n",
       "      <td>NaN</td>\n",
       "      <td>NaN</td>\n",
       "      <td>Shadowbox 2010 Orchard Vineyard Chardonnay (Na...</td>\n",
       "      <td>Chardonnay</td>\n",
       "      <td>Shadowbox</td>\n",
       "    </tr>\n",
       "    <tr>\n",
       "      <th>48365</th>\n",
       "      <td>US</td>\n",
       "      <td>A heavy, oaky Chardonnay whose tropical fruit ...</td>\n",
       "      <td>NaN</td>\n",
       "      <td>82</td>\n",
       "      <td>23.0</td>\n",
       "      <td>California</td>\n",
       "      <td>Santa Barbara County</td>\n",
       "      <td>Central Coast</td>\n",
       "      <td>NaN</td>\n",
       "      <td>NaN</td>\n",
       "      <td>Frisby 2009 Chardonnay (Santa Barbara County)</td>\n",
       "      <td>Chardonnay</td>\n",
       "      <td>Frisby</td>\n",
       "    </tr>\n",
       "    <tr>\n",
       "      <th>94595</th>\n",
       "      <td>US</td>\n",
       "      <td>This is thin and acidic, with flavors of sour ...</td>\n",
       "      <td>Nicky Hahn</td>\n",
       "      <td>82</td>\n",
       "      <td>14.0</td>\n",
       "      <td>California</td>\n",
       "      <td>Central Coast</td>\n",
       "      <td>Central Coast</td>\n",
       "      <td>NaN</td>\n",
       "      <td>NaN</td>\n",
       "      <td>Hahn 2011 Nicky Hahn G-S-M (Central Coast)</td>\n",
       "      <td>G-S-M</td>\n",
       "      <td>Hahn</td>\n",
       "    </tr>\n",
       "    <tr>\n",
       "      <th>109225</th>\n",
       "      <td>US</td>\n",
       "      <td>This is acidic and sweet, with a medicinal taste.</td>\n",
       "      <td>Hayley Vineyard</td>\n",
       "      <td>80</td>\n",
       "      <td>36.0</td>\n",
       "      <td>California</td>\n",
       "      <td>Anderson Valley</td>\n",
       "      <td>NaN</td>\n",
       "      <td>NaN</td>\n",
       "      <td>NaN</td>\n",
       "      <td>Bryter 2009 Hayley Vineyard Pinot Noir (Anders...</td>\n",
       "      <td>Pinot Noir</td>\n",
       "      <td>Bryter</td>\n",
       "    </tr>\n",
       "    <tr>\n",
       "      <th>3665</th>\n",
       "      <td>US</td>\n",
       "      <td>Oaky and strong in jammy fruit, this Chardonna...</td>\n",
       "      <td>NaN</td>\n",
       "      <td>84</td>\n",
       "      <td>25.0</td>\n",
       "      <td>California</td>\n",
       "      <td>Sonoma Coast</td>\n",
       "      <td>Sonoma</td>\n",
       "      <td>NaN</td>\n",
       "      <td>NaN</td>\n",
       "      <td>Crossbarn by Paul Hobbs 2009 Chardonnay (Sonom...</td>\n",
       "      <td>Chardonnay</td>\n",
       "      <td>Crossbarn by Paul Hobbs</td>\n",
       "    </tr>\n",
       "    <tr>\n",
       "      <th>14178</th>\n",
       "      <td>US</td>\n",
       "      <td>Dry and oaky, this Chardonnay offers herb-infl...</td>\n",
       "      <td>NaN</td>\n",
       "      <td>86</td>\n",
       "      <td>60.0</td>\n",
       "      <td>California</td>\n",
       "      <td>Napa Valley</td>\n",
       "      <td>Napa</td>\n",
       "      <td>NaN</td>\n",
       "      <td>NaN</td>\n",
       "      <td>Patland 2011 Chardonnay (Napa Valley)</td>\n",
       "      <td>Chardonnay</td>\n",
       "      <td>Patland</td>\n",
       "    </tr>\n",
       "    <tr>\n",
       "      <th>69191</th>\n",
       "      <td>US</td>\n",
       "      <td>Dry, acidic, oaky, it'also a little herbaceous...</td>\n",
       "      <td>Estate Grown</td>\n",
       "      <td>87</td>\n",
       "      <td>32.0</td>\n",
       "      <td>California</td>\n",
       "      <td>Oak Knoll District</td>\n",
       "      <td>Napa</td>\n",
       "      <td>NaN</td>\n",
       "      <td>NaN</td>\n",
       "      <td>Monticello Vineyards 2012 Estate Grown Chardon...</td>\n",
       "      <td>Chardonnay</td>\n",
       "      <td>Monticello Vineyards</td>\n",
       "    </tr>\n",
       "    <tr>\n",
       "      <th>88771</th>\n",
       "      <td>US</td>\n",
       "      <td>A vibrantly acidic, fresh young Chardonnay, cl...</td>\n",
       "      <td>NaN</td>\n",
       "      <td>87</td>\n",
       "      <td>33.0</td>\n",
       "      <td>California</td>\n",
       "      <td>Sonoma Coast</td>\n",
       "      <td>Sonoma</td>\n",
       "      <td>NaN</td>\n",
       "      <td>NaN</td>\n",
       "      <td>Bartz-Allen 2009 Chardonnay (Sonoma Coast)</td>\n",
       "      <td>Chardonnay</td>\n",
       "      <td>Bartz-Allen</td>\n",
       "    </tr>\n",
       "  </tbody>\n",
       "</table>\n",
       "</div>"
      ],
      "text/plain": [
       "       country                                        description  \\\n",
       "3981        US  A nice wine, good and dry. It has forward peac...   \n",
       "88912       US  A standard Chardonnay, dry and nicely acidic, ...   \n",
       "12082       US  Dry and acidic, this Chardonnay has a herbaceo...   \n",
       "48365       US  A heavy, oaky Chardonnay whose tropical fruit ...   \n",
       "94595       US  This is thin and acidic, with flavors of sour ...   \n",
       "109225      US  This is acidic and sweet, with a medicinal taste.   \n",
       "3665        US  Oaky and strong in jammy fruit, this Chardonna...   \n",
       "14178       US  Dry and oaky, this Chardonnay offers herb-infl...   \n",
       "69191       US  Dry, acidic, oaky, it'also a little herbaceous...   \n",
       "88771       US  A vibrantly acidic, fresh young Chardonnay, cl...   \n",
       "\n",
       "             designation  points  price    province              region_1  \\\n",
       "3981                 NaN      85   20.0  California  Russian River Valley   \n",
       "88912                NaN      84   14.0  California  Russian River Valley   \n",
       "12082   Orchard Vineyard      86   40.0  California           Napa Valley   \n",
       "48365                NaN      82   23.0  California  Santa Barbara County   \n",
       "94595         Nicky Hahn      82   14.0  California         Central Coast   \n",
       "109225   Hayley Vineyard      80   36.0  California       Anderson Valley   \n",
       "3665                 NaN      84   25.0  California          Sonoma Coast   \n",
       "14178                NaN      86   60.0  California           Napa Valley   \n",
       "69191       Estate Grown      87   32.0  California    Oak Knoll District   \n",
       "88771                NaN      87   33.0  California          Sonoma Coast   \n",
       "\n",
       "             region_2 taster_name taster_twitter_handle  \\\n",
       "3981           Sonoma         NaN                   NaN   \n",
       "88912          Sonoma         NaN                   NaN   \n",
       "12082            Napa         NaN                   NaN   \n",
       "48365   Central Coast         NaN                   NaN   \n",
       "94595   Central Coast         NaN                   NaN   \n",
       "109225            NaN         NaN                   NaN   \n",
       "3665           Sonoma         NaN                   NaN   \n",
       "14178            Napa         NaN                   NaN   \n",
       "69191            Napa         NaN                   NaN   \n",
       "88771          Sonoma         NaN                   NaN   \n",
       "\n",
       "                                                    title     variety  \\\n",
       "3981      Bearboat 2004 Chardonnay (Russian River Valley)  Chardonnay   \n",
       "88912   Adler Fels 2010 Chardonnay (Russian River Valley)  Chardonnay   \n",
       "12082   Shadowbox 2010 Orchard Vineyard Chardonnay (Na...  Chardonnay   \n",
       "48365       Frisby 2009 Chardonnay (Santa Barbara County)  Chardonnay   \n",
       "94595          Hahn 2011 Nicky Hahn G-S-M (Central Coast)       G-S-M   \n",
       "109225  Bryter 2009 Hayley Vineyard Pinot Noir (Anders...  Pinot Noir   \n",
       "3665    Crossbarn by Paul Hobbs 2009 Chardonnay (Sonom...  Chardonnay   \n",
       "14178               Patland 2011 Chardonnay (Napa Valley)  Chardonnay   \n",
       "69191   Monticello Vineyards 2012 Estate Grown Chardon...  Chardonnay   \n",
       "88771          Bartz-Allen 2009 Chardonnay (Sonoma Coast)  Chardonnay   \n",
       "\n",
       "                         winery  \n",
       "3981                   Bearboat  \n",
       "88912                Adler Fels  \n",
       "12082                 Shadowbox  \n",
       "48365                    Frisby  \n",
       "94595                      Hahn  \n",
       "109225                   Bryter  \n",
       "3665    Crossbarn by Paul Hobbs  \n",
       "14178                   Patland  \n",
       "69191      Monticello Vineyards  \n",
       "88771               Bartz-Allen  "
      ]
     },
     "execution_count": 78,
     "metadata": {},
     "output_type": "execute_result"
    }
   ],
   "source": [
    "wine_reviews.iloc[q1_results, :]"
   ]
  },
  {
   "cell_type": "markdown",
   "metadata": {},
   "source": [
    "<a id='lda'></a>\n",
    "# 4. Topic Modeling\n",
    "<a href=#top>(back to top)</a>\n",
    "\n",
    "The LDA (Latent Dirichlet Allocation) model assumes the following intuitive generative process for the documents:\n",
    "\n",
    "Thinking of topics as distribution of vocabulary.   \n",
    "each topic is a porobability distrubution of those tokens identified in bag of words.  \n",
    "Topics differ in their probability distribution.  \n",
    "---\n",
    "### Each topic should be viewed as the probability distribution on the entire vocabulary.  \n",
    "### The same word can have a different probability under different topic.\n",
    "### each document can be viewed as a probability distribution on topics.  \n",
    "### Bayes????\n",
    "---\n",
    "\n",
    "1. There is a set of $K$ topics that the documents come from. Each document contains words from several topics. There is a probability mass function on the topics for each document.\n",
    "2. For each topic, there is a probability mass function for the distribution of words in that topic. \n",
    "\n",
    "At the end of LDA topic modeling, we will be able to tell, for a particular (new or old) document: the weight combination of the topics for that document. For each topic, we would be able to tell the terms that are salient.\n",
    "\n",
    "LDA only gives us the probabilistic weights &mdash; we have to interpret them ourselves."
   ]
  },
  {
   "cell_type": "code",
   "execution_count": 80,
   "metadata": {
    "tags": []
   },
   "outputs": [],
   "source": [
    "# K is latent, we dont know how many topics are there.  \n",
    "# need to determine which number of topics are optimal.  \n",
    "# results are probablistic weights.  \n",
    "lda1 = models.LdaModel(corpus=bow_corpus, num_topics=20, id2word=dct)"
   ]
  },
  {
   "cell_type": "markdown",
   "metadata": {},
   "source": [
    "#### What is the difference between lda and clustering???"
   ]
  },
  {
   "cell_type": "markdown",
   "metadata": {},
   "source": [
    "Odering and specific words of the topic may not be the same due to the underlining algo.  \n",
    "Markov / Montecarlo"
   ]
  },
  {
   "cell_type": "code",
   "execution_count": 81,
   "metadata": {
    "tags": []
   },
   "outputs": [
    {
     "name": "stdout",
     "output_type": "stream",
     "text": [
      "[   (330, 0.074859984), (930, 0.025787452), (780, 0.024495687),\n",
      "    (34, 0.020399846), (1576, 0.018725576), (1571, 0.0179523),\n",
      "    (326, 0.016601823), (680, 0.016299827), (356, 0.0153522035),\n",
      "    (776, 0.014447377)]\n"
     ]
    }
   ],
   "source": [
    "pp.pprint(lda1.get_topic_terms(19))"
   ]
  },
  {
   "cell_type": "markdown",
   "metadata": {},
   "source": [
    "Change topic according to what you see."
   ]
  },
  {
   "cell_type": "code",
   "execution_count": 82,
   "metadata": {
    "tags": []
   },
   "outputs": [
    {
     "name": "stdout",
     "output_type": "stream",
     "text": [
      "[   'vineyard', 'valley', 'estate', 'wine', 'faint', 'mountain', 'site',\n",
      "    'grown', 'sourced', 'appellation']\n"
     ]
    }
   ],
   "source": [
    "pp.pprint([dct.id2token[x] for x in [330, 930, 780, 34, 1575, 1571, 326, 680, 356, 776]])"
   ]
  },
  {
   "cell_type": "code",
   "execution_count": 83,
   "metadata": {
    "tags": []
   },
   "outputs": [
    {
     "name": "stdout",
     "output_type": "stream",
     "text": [
      "[   (   0,\n",
      "        '0.034*\"flavor\" + 0.032*\"wine\" + 0.028*\"tannin\" + 0.027*\"blackberry\" + '\n",
      "        '0.023*\"cherry\" + 0.022*\"currant\" + 0.022*\"year\" + 0.020*\"dry\" + '\n",
      "        '0.016*\"black\" + 0.015*\"rich\"'),\n",
      "    (   1,\n",
      "        '0.046*\"fruit\" + 0.043*\"flavor\" + 0.030*\"aroma\" + 0.025*\"syrah\" + '\n",
      "        '0.025*\"spice\" + 0.024*\"blend\" + 0.019*\"grenache\" + 0.017*\"herb\" + '\n",
      "        '0.015*\"dark\" + 0.015*\"wine\"'),\n",
      "    (   2,\n",
      "        '0.045*\"bottling\" + 0.042*\"nose\" + 0.028*\"black\" + 0.026*\"dried\" + '\n",
      "        '0.020*\"cranberry\" + 0.020*\"forest\" + 0.019*\"palate\" + '\n",
      "        '0.018*\"pomegranate\" + 0.017*\"show\" + 0.016*\"touch\"'),\n",
      "    (   3,\n",
      "        '0.032*\"palate\" + 0.030*\"finish\" + 0.027*\"lemon\" + 0.026*\"flavor\" + '\n",
      "        '0.025*\"apple\" + 0.021*\"note\" + 0.019*\"lime\" + 0.018*\"nose\" + '\n",
      "        '0.017*\"acidity\" + 0.016*\"fresh\"'),\n",
      "    (   4,\n",
      "        '0.085*\"wine\" + 0.051*\"acidity\" + 0.043*\"fruit\" + 0.042*\"drink\" + '\n",
      "        '0.029*\"ripe\" + 0.026*\"crisp\" + 0.026*\"fruity\" + 0.025*\"flavor\" + '\n",
      "        '0.022*\"texture\" + 0.022*\"fresh\"'),\n",
      "    (   5,\n",
      "        '0.079*\"wine\" + 0.055*\"fruit\" + 0.032*\"tannin\" + 0.023*\"drink\" + '\n",
      "        '0.021*\"ripe\" + 0.019*\"rich\" + 0.019*\"black\" + 0.018*\"wood\" + '\n",
      "        '0.017*\"year\" + 0.016*\"aging\"'),\n",
      "    (   6,\n",
      "        '0.099*\"cabernet\" + 0.072*\"blend\" + 0.069*\"sauvignon\" + 0.060*\"merlot\" '\n",
      "        '+ 0.032*\"franc\" + 0.021*\"petit\" + 0.020*\"verdot\" + 0.017*\"fruit\" + '\n",
      "        '0.017*\"malbec\" + 0.017*\"syrah\"'),\n",
      "    (   7,\n",
      "        '0.040*\"flavor\" + 0.027*\"finish\" + 0.026*\"wine\" + 0.025*\"cherry\" + '\n",
      "        '0.024*\"red\" + 0.023*\"fruit\" + 0.019*\"like\" + 0.017*\"taste\" + '\n",
      "        '0.015*\"tannin\" + 0.014*\"aroma\"'),\n",
      "    (   8,\n",
      "        '0.084*\"pinot\" + 0.056*\"cherry\" + 0.043*\"raspberry\" + 0.039*\"noir\" + '\n",
      "        '0.038*\"flavor\" + 0.032*\"silky\" + 0.023*\"cola\" + 0.017*\"dry\" + '\n",
      "        '0.014*\"acidity\" + 0.012*\"light\"'),\n",
      "    (   9,\n",
      "        '0.032*\"finish\" + 0.032*\"wine\" + 0.026*\"bodied\" + 0.024*\"black\" + '\n",
      "        '0.023*\"flavor\" + 0.019*\"cherry\" + 0.018*\"blackberry\" + 0.017*\"meat\" + '\n",
      "        '0.017*\"note\" + 0.017*\"medium\"'),\n",
      "    (   10,\n",
      "        '0.057*\"oak\" + 0.037*\"vanilla\" + 0.032*\"flavor\" + 0.031*\"toast\" + '\n",
      "        '0.031*\"chardonnay\" + 0.022*\"new\" + 0.020*\"barrel\" + 0.018*\"wine\" + '\n",
      "        '0.017*\"caramel\" + 0.016*\"rich\"'),\n",
      "    (   11,\n",
      "        '0.050*\"flavor\" + 0.043*\"finish\" + 0.039*\"aroma\" + 0.034*\"green\" + '\n",
      "        '0.024*\"fruit\" + 0.023*\"feel\" + 0.023*\"palate\" + 0.016*\"citrus\" + '\n",
      "        '0.012*\"melon\" + 0.012*\"apple\"'),\n",
      "    (   12,\n",
      "        '0.044*\"white\" + 0.034*\"palate\" + 0.032*\"aroma\" + 0.026*\"fruit\" + '\n",
      "        '0.024*\"flower\" + 0.023*\"acidity\" + 0.021*\"apple\" + 0.021*\"citrus\" + '\n",
      "        '0.020*\"offer\" + 0.018*\"peach\"'),\n",
      "    (   13,\n",
      "        '0.041*\"wine\" + 0.024*\"food\" + 0.022*\"grape\" + 0.013*\"acidity\" + '\n",
      "        '0.012*\"producer\" + 0.012*\"line\" + 0.010*\"friendly\" + 0.010*\"everyday\" '\n",
      "        '+ 0.010*\"style\" + 0.010*\"extra\"'),\n",
      "    (   14,\n",
      "        '0.043*\"wine\" + 0.033*\"aroma\" + 0.025*\"fruit\" + 0.022*\"almond\" + '\n",
      "        '0.022*\"bright\" + 0.016*\"expression\" + 0.015*\"open\" + 0.015*\"offer\" + '\n",
      "        '0.014*\"mouthfeel\" + 0.013*\"close\"'),\n",
      "    (   15,\n",
      "        '0.051*\"flavor\" + 0.042*\"finish\" + 0.040*\"aroma\" + 0.035*\"berry\" + '\n",
      "        '0.029*\"plum\" + 0.026*\"palate\" + 0.021*\"herbal\" + 0.020*\"fruit\" + '\n",
      "        '0.019*\"feel\" + 0.017*\"note\"'),\n",
      "    (   16,\n",
      "        '0.049*\"flavor\" + 0.038*\"wine\" + 0.035*\"sweet\" + 0.022*\"fruit\" + '\n",
      "        '0.015*\"acidity\" + 0.015*\"like\" + 0.013*\"pineapple\" + 0.012*\"blanc\" + '\n",
      "        '0.012*\"easy\" + 0.012*\"dry\"'),\n",
      "    (   17,\n",
      "        '0.043*\"red\" + 0.041*\"cherry\" + 0.038*\"palate\" + 0.026*\"berry\" + '\n",
      "        '0.022*\"aroma\" + 0.021*\"raspberry\" + 0.020*\"tannin\" + 0.019*\"spice\" + '\n",
      "        '0.019*\"acidity\" + 0.016*\"wild\"'),\n",
      "    (   18,\n",
      "        '0.048*\"black\" + 0.041*\"tannin\" + 0.036*\"aroma\" + 0.036*\"palate\" + '\n",
      "        '0.031*\"cherry\" + 0.018*\"leather\" + 0.018*\"licorice\" + 0.017*\"note\" + '\n",
      "        '0.017*\"offer\" + 0.017*\"drink\"'),\n",
      "    (   19,\n",
      "        '0.075*\"vineyard\" + 0.026*\"valley\" + 0.024*\"estate\" + 0.020*\"wine\" + '\n",
      "        '0.019*\"highlight\" + 0.018*\"mountain\" + 0.017*\"site\" + 0.016*\"grown\" + '\n",
      "        '0.015*\"sourced\" + 0.014*\"appellation\"')]\n"
     ]
    }
   ],
   "source": [
    "pp.pprint(lda1.show_topics(num_topics = 20, num_words=10))"
   ]
  },
  {
   "cell_type": "markdown",
   "metadata": {},
   "source": [
    "Topics are prob on vocab    \n",
    "docs are prob on topic   "
   ]
  },
  {
   "cell_type": "code",
   "execution_count": 84,
   "metadata": {
    "tags": []
   },
   "outputs": [
    {
     "name": "stdout",
     "output_type": "stream",
     "text": [
      "[(12, 0.5273303), (14, 0.42980823)]\n"
     ]
    }
   ],
   "source": [
    "pp.pprint(lda1.get_document_topics(bow_corpus[0]))"
   ]
  },
  {
   "cell_type": "code",
   "execution_count": 85,
   "metadata": {
    "tags": []
   },
   "outputs": [
    {
     "name": "stdout",
     "output_type": "stream",
     "text": [
      "[   'aroma', 'include', 'tropical', 'fruit', 'broom', 'brimstone', 'dried',\n",
      "    'herb', 'palate', 'isn', 'overly', 'expressive', 'offering', 'unripened',\n",
      "    'apple', 'citrus', 'dried', 'sage', 'alongside', 'brisk', 'acidity']\n"
     ]
    }
   ],
   "source": [
    "pp.pprint(preprocessed_corpus[0])"
   ]
  },
  {
   "cell_type": "code",
   "execution_count": null,
   "metadata": {},
   "outputs": [],
   "source": [
    "# input is topic distribution for a particular document, e.g.\n",
    "# output of lda1.get_document_topics(bow_corpus[0])\n",
    "#\n",
    "# output is True if that document has more than threshold probability for topic_num\n",
    "def check_for_topic(topic_pmf, topic_num, threshold):\n",
    "    for topic, prob in topic_pmf:\n",
    "        if (topic == topic_num) & (prob > threshold):\n",
    "            return True\n",
    "    return False"
   ]
  },
  {
   "cell_type": "code",
   "execution_count": null,
   "metadata": {},
   "outputs": [],
   "source": [
    "tf_list = [check_for_topic(lda1.get_document_topics(x), 3, 0.8) for x in bow_corpus]"
   ]
  },
  {
   "cell_type": "code",
   "execution_count": null,
   "metadata": {},
   "outputs": [],
   "source": [
    "wine_reviews.description.values[np.where(tf_list)[0][:10]]"
   ]
  },
  {
   "cell_type": "code",
   "execution_count": null,
   "metadata": {},
   "outputs": [],
   "source": [
    "pp.pprint(lda1.get_document_topics(bow_corpus[8]))"
   ]
  },
  {
   "cell_type": "code",
   "execution_count": null,
   "metadata": {},
   "outputs": [],
   "source": [
    "lda1.get_topic_terms(13, 8)"
   ]
  },
  {
   "cell_type": "code",
   "execution_count": null,
   "metadata": {},
   "outputs": [],
   "source": [
    "[dct.id2token[x] for x in [16, 2, 58, 54, 38, 41, 254, 0]]"
   ]
  },
  {
   "cell_type": "code",
   "execution_count": null,
   "metadata": {},
   "outputs": [],
   "source": [
    "pp.pprint([dct.id2token[x] for x in [125, 114, 10, 3, 0, 2, 16, 133]])"
   ]
  },
  {
   "cell_type": "code",
   "execution_count": null,
   "metadata": {},
   "outputs": [],
   "source": [
    "lda1.log_perplexity(bow_corpus)"
   ]
  },
  {
   "cell_type": "markdown",
   "metadata": {},
   "source": [
    "coherence need to be given lda model, each topic is a probability distribution  \n",
    "give it a corpus and a selection of how coherence is computed   \n"
   ]
  },
  {
   "cell_type": "code",
   "execution_count": 86,
   "metadata": {
    "tags": []
   },
   "outputs": [
    {
     "data": {
      "text/plain": [
       "[-2.160883884754366,\n",
       " -2.3808649247859814,\n",
       " -3.0480134672358346,\n",
       " -2.128440058423705,\n",
       " -2.2541326796828525,\n",
       " -2.0760638125389916,\n",
       " -2.123414585357495,\n",
       " -2.953641585072332,\n",
       " -2.5129980115842327,\n",
       " -1.9271558593745595,\n",
       " -2.7131537876362537,\n",
       " -2.886117367780876,\n",
       " -2.1449939905974915,\n",
       " -3.8171102598247155,\n",
       " -2.658955663775402,\n",
       " -2.184866609766825,\n",
       " -2.7252114827427714,\n",
       " -2.335667209078582,\n",
       " -1.9992080889587411,\n",
       " -3.504405526719766]"
      ]
     },
     "execution_count": 86,
     "metadata": {},
     "output_type": "execute_result"
    }
   ],
   "source": [
    "coh = CoherenceModel(model=lda1, corpus=bow_corpus, coherence='u_mass')\n",
    "\n",
    "coh.get_coherence_per_topic()"
   ]
  },
  {
   "cell_type": "markdown",
   "metadata": {},
   "source": [
    "The numbers tells us how coherent each topic is.  \n",
    "We want coherences that are higher.   \n",
    "Lower coherences are less useful as a topic.  "
   ]
  },
  {
   "cell_type": "code",
   "execution_count": null,
   "metadata": {},
   "outputs": [],
   "source": [
    "lda1.print_topic(4)"
   ]
  },
  {
   "cell_type": "code",
   "execution_count": null,
   "metadata": {},
   "outputs": [],
   "source": [
    "lda1.print_topic(0)"
   ]
  },
  {
   "cell_type": "markdown",
   "metadata": {},
   "source": [
    "Each topic is a vector in the toekn space.  \n",
    "It is only visualused in 2D.  \n",
    "Multi dimensional scaling is used to do dimension reduction.  \n",
    "Distances are being preserved.  \n",
    "#### Similar to dendrogram??? \n",
    "Axis dont mean anything   \n",
    "red bar fill up entire blue bar ==> topics occur exclusively "
   ]
  },
  {
   "cell_type": "code",
   "execution_count": 88,
   "metadata": {
    "tags": []
   },
   "outputs": [],
   "source": [
    "import pyLDAvis.gensim_models\n",
    "\n",
    "pyLDAvis.enable_notebook()"
   ]
  },
  {
   "cell_type": "code",
   "execution_count": 89,
   "metadata": {
    "tags": []
   },
   "outputs": [],
   "source": [
    "vis = pyLDAvis.gensim_models.prepare(lda1, bow_corpus, dictionary=lda1.id2word)"
   ]
  },
  {
   "cell_type": "code",
   "execution_count": 90,
   "metadata": {
    "tags": []
   },
   "outputs": [],
   "source": [
    "#vis\n",
    "pyLDAvis.save_html(vis, 'vis.html')"
   ]
  },
  {
   "cell_type": "markdown",
   "metadata": {},
   "source": [
    "<a id='senti'></a>\n",
    "# 5. Sentiment Analysis\n",
    "<a href=#top>(back to top)</a>\n"
   ]
  },
  {
   "cell_type": "code",
   "execution_count": 91,
   "metadata": {
    "tags": []
   },
   "outputs": [],
   "source": [
    "from nltk.sentiment.vader import SentiText, SentimentIntensityAnalyzer"
   ]
  },
  {
   "cell_type": "code",
   "execution_count": 92,
   "metadata": {
    "tags": []
   },
   "outputs": [
    {
     "name": "stderr",
     "output_type": "stream",
     "text": [
      "[nltk_data] Downloading package vader_lexicon to\n",
      "[nltk_data]     /home/zhiming/nltk_data...\n"
     ]
    },
    {
     "data": {
      "text/plain": [
       "True"
      ]
     },
     "execution_count": 92,
     "metadata": {},
     "output_type": "execute_result"
    }
   ],
   "source": [
    "import nltk\n",
    "nltk.download('vader_lexicon')"
   ]
  },
  {
   "cell_type": "code",
   "execution_count": null,
   "metadata": {
    "scrolled": true
   },
   "outputs": [],
   "source": [
    "ss = SentimentIntensityAnalyzer()"
   ]
  },
  {
   "cell_type": "code",
   "execution_count": null,
   "metadata": {
    "tags": []
   },
   "outputs": [],
   "source": [
    "ss.polarity_scores('I really hate this class!! :-(')"
   ]
  },
  {
   "cell_type": "code",
   "execution_count": null,
   "metadata": {},
   "outputs": [],
   "source": [
    "ss.polarity_scores('I really hate this class!! :-D')"
   ]
  },
  {
   "cell_type": "code",
   "execution_count": null,
   "metadata": {},
   "outputs": [],
   "source": [
    "wine_reviews['sentiment'] = wine_reviews.description.apply(lambda x: ss.polarity_scores(x)['compound'])"
   ]
  },
  {
   "cell_type": "code",
   "execution_count": null,
   "metadata": {},
   "outputs": [],
   "source": [
    "wine_reviews.sentiment.describe()"
   ]
  },
  {
   "cell_type": "code",
   "execution_count": null,
   "metadata": {},
   "outputs": [],
   "source": [
    "wine_reviews.sentiment.hist();"
   ]
  },
  {
   "cell_type": "code",
   "execution_count": null,
   "metadata": {},
   "outputs": [],
   "source": [
    "pp.pprint(wine_reviews[wine_reviews.sentiment < -0.5].sample(10).description.values)"
   ]
  },
  {
   "cell_type": "markdown",
   "metadata": {},
   "source": [
    "<a id='ref'></a>\n",
    "# 6. References\n",
    "<a href=#top>(back to top)</a>\n",
    "\n",
    "1. [nltk](https://www.nltk.org/) This site contains the documentation for the nltk and a book on NLP. The book is a little on the old side (no deep-learning based techniques) but still very useful.\n",
    "2. [gensim documentation](https://radimrehurek.com/gensim/auto_examples/index.html)\n",
    "3. There are a few DataCamp courses on NLP that you can continue with when you have time. Here are their titles:\n",
    "    * Introduction to Natural Language Processing in Python.\n",
    "    * Advanced NLP with spaCy"
   ]
  }
 ],
 "metadata": {
  "kernelspec": {
   "display_name": "Python [conda env:dsi-sg-dl]",
   "language": "python",
   "name": "conda-env-dsi-sg-dl-py"
  },
  "language_info": {
   "codemirror_mode": {
    "name": "ipython",
    "version": 3
   },
   "file_extension": ".py",
   "mimetype": "text/x-python",
   "name": "python",
   "nbconvert_exporter": "python",
   "pygments_lexer": "ipython3",
   "version": "3.10.13"
  }
 },
 "nbformat": 4,
 "nbformat_minor": 4
}
